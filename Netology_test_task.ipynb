{
  "nbformat": 4,
  "nbformat_minor": 0,
  "metadata": {
    "colab": {
      "name": "Netology-test-task.ipynb",
      "provenance": [],
      "collapsed_sections": [],
      "toc_visible": true,
      "authorship_tag": "ABX9TyN0zuQQdXDsbuatai7s8JdU",
      "include_colab_link": true
    },
    "kernelspec": {
      "name": "python3",
      "display_name": "Python 3"
    },
    "language_info": {
      "name": "python"
    }
  },
  "cells": [
    {
      "cell_type": "markdown",
      "metadata": {
        "id": "view-in-github",
        "colab_type": "text"
      },
      "source": [
        "<a href=\"https://colab.research.google.com/github/Griznt/colab_test_tasks/blob/main/Netology_test_task.ipynb\" target=\"_parent\"><img src=\"https://colab.research.google.com/assets/colab-badge.svg\" alt=\"Open In Colab\"/></a>"
      ]
    },
    {
      "cell_type": "markdown",
      "metadata": {
        "id": "dNBlGAJ5U6Ld"
      },
      "source": [
        "#Задача 1\n",
        "\n",
        "Составить sql запрос по задаче:\n",
        "Сделать выгрузку по терминалам, в которых в течение короткого периода времени (временного окна) провели оплаты несколько клиентов\n",
        "\n",
        "**Входные данные:**\n",
        "\n",
        "* Период выгрузки с сентября 2019 по конец января 2020\n",
        "* Временное окно операций - 2 часа\n",
        "* Кол-во уникальных клиентов, которые совершили операции в «окне» - 3 и более клиентов\n",
        "\n",
        "**Какие поля содержит рабочая таблица (operations):**\n",
        "\n",
        "`id` - индекс (номер операции), тип int\n",
        "\n",
        "`amount` - сумма операции, тип float\n",
        "\n",
        "`user_id` - номер клиента, тип int\n",
        "\n",
        "`term_id` - номер банкомата, тип int\n",
        "\n",
        "`created_at` - дата операции, тип time stamp\n",
        "\n",
        "На выходе должна получиться таблица со списком терминалов и операций, удовлетворяющих условию.\n",
        "\n"
      ]
    },
    {
      "cell_type": "markdown",
      "metadata": {
        "id": "ckp7gmoyJt10"
      },
      "source": [
        "Задачу плохо понял. Если надо сделать на чистом SQL ни разу такое не делал, максимум - генерировал даты. Могу сделать только на Python."
      ]
    },
    {
      "cell_type": "code",
      "metadata": {
        "id": "O-XIMlBvZP3H"
      },
      "source": [
        "import sqlite3\n",
        "import pandas as pd\n",
        "import numpy as np\n",
        "import requests\n",
        "import os\n",
        "import json\n",
        "import urllib\n",
        "from datetime import datetime, timedelta, date"
      ],
      "execution_count": null,
      "outputs": []
    },
    {
      "cell_type": "code",
      "metadata": {
        "id": "E18KBRb7ZY2G"
      },
      "source": [
        "con = sqlite3.connect('db')"
      ],
      "execution_count": null,
      "outputs": []
    },
    {
      "cell_type": "code",
      "metadata": {
        "id": "h4lhtYi5b0z4"
      },
      "source": [
        "def select(sql):\n",
        "  return pd.read_sql(sql, con)"
      ],
      "execution_count": null,
      "outputs": []
    },
    {
      "cell_type": "markdown",
      "metadata": {
        "id": "6tC6iNYDnALQ"
      },
      "source": [
        "попробуем решить задачу на python.\n"
      ]
    },
    {
      "cell_type": "markdown",
      "metadata": {
        "id": "eWh-9LFwotmE"
      },
      "source": [
        "Создадим диапазон дат. Наполним каждую дату временем так, чтобы в каждом окне 2ч было не менее 3х временных промежутков."
      ]
    },
    {
      "cell_type": "code",
      "metadata": {
        "colab": {
          "base_uri": "https://localhost:8080/"
        },
        "id": "hg7OlttCtDcK",
        "outputId": "91f1b4c5-1624-43d8-947b-6c50cee981dd"
      },
      "source": [
        "24/2 \n"
      ],
      "execution_count": null,
      "outputs": [
        {
          "output_type": "execute_result",
          "data": {
            "text/plain": [
              "12.0"
            ]
          },
          "metadata": {
            "tags": []
          },
          "execution_count": 26
        }
      ]
    },
    {
      "cell_type": "markdown",
      "metadata": {
        "id": "warJPXO2tFmV"
      },
      "source": [
        "всего 12 промежутков"
      ]
    },
    {
      "cell_type": "code",
      "metadata": {
        "colab": {
          "base_uri": "https://localhost:8080/"
        },
        "id": "33Uk-FeWtH9t",
        "outputId": "de72183f-7eaf-4caf-acb4-33fa9b6292d2"
      },
      "source": [
        "120/3\n"
      ],
      "execution_count": null,
      "outputs": [
        {
          "output_type": "execute_result",
          "data": {
            "text/plain": [
              "40.0"
            ]
          },
          "metadata": {
            "tags": []
          },
          "execution_count": 27
        }
      ]
    },
    {
      "cell_type": "markdown",
      "metadata": {
        "id": "3GjJOK0itPvM"
      },
      "source": [
        "в одном окне в 2ч должно быть не менее 3х транзакций.\n",
        "\n",
        "Значит каждые 2 ч с периодичностью <= 40 минут.\n",
        "\n",
        "Сделаем промежуток 24 минуты."
      ]
    },
    {
      "cell_type": "code",
      "metadata": {
        "colab": {
          "base_uri": "https://localhost:8080/",
          "height": 283
        },
        "id": "o6W_exp1o49T",
        "outputId": "1b71a26a-dba7-44a1-f98e-fcf478cb3fd0"
      },
      "source": [
        "df = pd.DataFrame({'created_at': pd.date_range('2019-09-01T00:00:01Z', '2020-01-31T23:59:59Z', freq='24T') })\n",
        "df.describe()"
      ],
      "execution_count": null,
      "outputs": [
        {
          "output_type": "stream",
          "text": [
            "/usr/local/lib/python3.7/dist-packages/ipykernel_launcher.py:2: FutureWarning: Treating datetime data as categorical rather than numeric in `.describe` is deprecated and will be removed in a future version of pandas. Specify `datetime_is_numeric=True` to silence this warning and adopt the future behavior now.\n",
            "  \n"
          ],
          "name": "stderr"
        },
        {
          "output_type": "execute_result",
          "data": {
            "text/html": [
              "<div>\n",
              "<style scoped>\n",
              "    .dataframe tbody tr th:only-of-type {\n",
              "        vertical-align: middle;\n",
              "    }\n",
              "\n",
              "    .dataframe tbody tr th {\n",
              "        vertical-align: top;\n",
              "    }\n",
              "\n",
              "    .dataframe thead th {\n",
              "        text-align: right;\n",
              "    }\n",
              "</style>\n",
              "<table border=\"1\" class=\"dataframe\">\n",
              "  <thead>\n",
              "    <tr style=\"text-align: right;\">\n",
              "      <th></th>\n",
              "      <th>created_at</th>\n",
              "    </tr>\n",
              "  </thead>\n",
              "  <tbody>\n",
              "    <tr>\n",
              "      <th>count</th>\n",
              "      <td>9180</td>\n",
              "    </tr>\n",
              "    <tr>\n",
              "      <th>unique</th>\n",
              "      <td>9180</td>\n",
              "    </tr>\n",
              "    <tr>\n",
              "      <th>top</th>\n",
              "      <td>2020-01-06 15:12:01+00:00</td>\n",
              "    </tr>\n",
              "    <tr>\n",
              "      <th>freq</th>\n",
              "      <td>1</td>\n",
              "    </tr>\n",
              "    <tr>\n",
              "      <th>first</th>\n",
              "      <td>2019-09-01 00:00:01+00:00</td>\n",
              "    </tr>\n",
              "    <tr>\n",
              "      <th>last</th>\n",
              "      <td>2020-01-31 23:36:01+00:00</td>\n",
              "    </tr>\n",
              "  </tbody>\n",
              "</table>\n",
              "</div>"
            ],
            "text/plain": [
              "                       created_at\n",
              "count                        9180\n",
              "unique                       9180\n",
              "top     2020-01-06 15:12:01+00:00\n",
              "freq                            1\n",
              "first   2019-09-01 00:00:01+00:00\n",
              "last    2020-01-31 23:36:01+00:00"
            ]
          },
          "metadata": {
            "tags": []
          },
          "execution_count": 179
        }
      ]
    },
    {
      "cell_type": "markdown",
      "metadata": {
        "id": "V9K3_6wXtub9"
      },
      "source": [
        "Теперь заполним остальное. Важно, что в одном окне должно быть не менее **3х уникальных клиентов**!\n",
        "\n",
        "Для этого разобьем наши интервалы на диапазоны и в каждом диапазоне создадим уникальных клиентов"
      ]
    },
    {
      "cell_type": "code",
      "metadata": {
        "colab": {
          "base_uri": "https://localhost:8080/"
        },
        "id": "is25AnZtvA9e",
        "outputId": "e18d90c5-9d33-4ad3-e4ad-3162288b437f"
      },
      "source": [
        "120/15"
      ],
      "execution_count": null,
      "outputs": [
        {
          "output_type": "execute_result",
          "data": {
            "text/plain": [
              "8.0"
            ]
          },
          "metadata": {
            "tags": []
          },
          "execution_count": 204
        }
      ]
    },
    {
      "cell_type": "markdown",
      "metadata": {
        "id": "t5XSpCw1vC7c"
      },
      "source": [
        "С частотой 15 минут, у нас около 8 промежутков внутри 2х часового окна."
      ]
    },
    {
      "cell_type": "markdown",
      "metadata": {
        "id": "61dHPy2extBW"
      },
      "source": [
        "Теперь заполним уникальными user_id для каждых 8 значений записей в рамках одной сессии\n",
        "\n",
        "Создадим новый столбец user_id\n",
        " "
      ]
    },
    {
      "cell_type": "code",
      "metadata": {
        "id": "q_0kVO0STOqO"
      },
      "source": [
        "df.insert(len(df.columns),'user_id', '')"
      ],
      "execution_count": null,
      "outputs": []
    },
    {
      "cell_type": "code",
      "metadata": {
        "colab": {
          "base_uri": "https://localhost:8080/",
          "height": 197
        },
        "id": "uzZ2eCcKeDPy",
        "outputId": "de5b68a3-8f8b-4197-d862-82d535f2f18e"
      },
      "source": [
        "df.head()"
      ],
      "execution_count": null,
      "outputs": [
        {
          "output_type": "execute_result",
          "data": {
            "text/html": [
              "<div>\n",
              "<style scoped>\n",
              "    .dataframe tbody tr th:only-of-type {\n",
              "        vertical-align: middle;\n",
              "    }\n",
              "\n",
              "    .dataframe tbody tr th {\n",
              "        vertical-align: top;\n",
              "    }\n",
              "\n",
              "    .dataframe thead th {\n",
              "        text-align: right;\n",
              "    }\n",
              "</style>\n",
              "<table border=\"1\" class=\"dataframe\">\n",
              "  <thead>\n",
              "    <tr style=\"text-align: right;\">\n",
              "      <th></th>\n",
              "      <th>created_at</th>\n",
              "      <th>user_id</th>\n",
              "    </tr>\n",
              "  </thead>\n",
              "  <tbody>\n",
              "    <tr>\n",
              "      <th>0</th>\n",
              "      <td>2019-09-01 00:00:01+00:00</td>\n",
              "      <td></td>\n",
              "    </tr>\n",
              "    <tr>\n",
              "      <th>1</th>\n",
              "      <td>2019-09-01 00:24:01+00:00</td>\n",
              "      <td></td>\n",
              "    </tr>\n",
              "    <tr>\n",
              "      <th>2</th>\n",
              "      <td>2019-09-01 00:48:01+00:00</td>\n",
              "      <td></td>\n",
              "    </tr>\n",
              "    <tr>\n",
              "      <th>3</th>\n",
              "      <td>2019-09-01 01:12:01+00:00</td>\n",
              "      <td></td>\n",
              "    </tr>\n",
              "    <tr>\n",
              "      <th>4</th>\n",
              "      <td>2019-09-01 01:36:01+00:00</td>\n",
              "      <td></td>\n",
              "    </tr>\n",
              "  </tbody>\n",
              "</table>\n",
              "</div>"
            ],
            "text/plain": [
              "                 created_at user_id\n",
              "0 2019-09-01 00:00:01+00:00        \n",
              "1 2019-09-01 00:24:01+00:00        \n",
              "2 2019-09-01 00:48:01+00:00        \n",
              "3 2019-09-01 01:12:01+00:00        \n",
              "4 2019-09-01 01:36:01+00:00        "
            ]
          },
          "metadata": {
            "tags": []
          },
          "execution_count": 181
        }
      ]
    },
    {
      "cell_type": "code",
      "metadata": {
        "id": "Wxskmm9SyGMx"
      },
      "source": [
        "import random\n",
        "def get_unique_ids():\n",
        "  return random.sample(range(1000, 2000), 1000)"
      ],
      "execution_count": null,
      "outputs": []
    },
    {
      "cell_type": "markdown",
      "metadata": {
        "id": "TbYaDqLPZ5E1"
      },
      "source": [
        "В цикле пройдемся по элементам датасета. Для каждых 8 значений будем брать уникальные id из диапазона 1000...2000. \n",
        "\n",
        "Пусть всего возможно 1000 уникальных user_id."
      ]
    },
    {
      "cell_type": "code",
      "metadata": {
        "id": "F2a1sGNPaFyo"
      },
      "source": [
        "unique_ids = get_unique_ids()\n",
        "part = 8\n",
        "for ind in df.index:\n",
        "  if ind == 0:\n",
        "    df['user_id'][ind] = unique_ids[part]\n",
        "  elif ind < part:\n",
        "    df['user_id'][ind] = unique_ids[part - ind]\n",
        "  elif ind == part:\n",
        "    df['user_id'][ind] = unique_ids[part - ind]\n",
        "    part = part + 8\n",
        "    unique_ids = get_unique_ids()"
      ],
      "execution_count": null,
      "outputs": []
    },
    {
      "cell_type": "markdown",
      "metadata": {
        "id": "Upw2guOjaLCL"
      },
      "source": [
        "Проверим, что получилось"
      ]
    },
    {
      "cell_type": "code",
      "metadata": {
        "colab": {
          "base_uri": "https://localhost:8080/",
          "height": 283
        },
        "id": "2ZZr2nIgWkvT",
        "outputId": "9e413ec2-bc8c-4554-c8a9-dec325e27d54"
      },
      "source": [
        "df.describe()"
      ],
      "execution_count": null,
      "outputs": [
        {
          "output_type": "stream",
          "text": [
            "/usr/local/lib/python3.7/dist-packages/ipykernel_launcher.py:1: FutureWarning: Treating datetime data as categorical rather than numeric in `.describe` is deprecated and will be removed in a future version of pandas. Specify `datetime_is_numeric=True` to silence this warning and adopt the future behavior now.\n",
            "  \"\"\"Entry point for launching an IPython kernel.\n"
          ],
          "name": "stderr"
        },
        {
          "output_type": "execute_result",
          "data": {
            "text/html": [
              "<div>\n",
              "<style scoped>\n",
              "    .dataframe tbody tr th:only-of-type {\n",
              "        vertical-align: middle;\n",
              "    }\n",
              "\n",
              "    .dataframe tbody tr th {\n",
              "        vertical-align: top;\n",
              "    }\n",
              "\n",
              "    .dataframe thead th {\n",
              "        text-align: right;\n",
              "    }\n",
              "</style>\n",
              "<table border=\"1\" class=\"dataframe\">\n",
              "  <thead>\n",
              "    <tr style=\"text-align: right;\">\n",
              "      <th></th>\n",
              "      <th>created_at</th>\n",
              "      <th>user_id</th>\n",
              "    </tr>\n",
              "  </thead>\n",
              "  <tbody>\n",
              "    <tr>\n",
              "      <th>count</th>\n",
              "      <td>9180</td>\n",
              "      <td>9180.0</td>\n",
              "    </tr>\n",
              "    <tr>\n",
              "      <th>unique</th>\n",
              "      <td>9180</td>\n",
              "      <td>1000.0</td>\n",
              "    </tr>\n",
              "    <tr>\n",
              "      <th>top</th>\n",
              "      <td>2020-01-06 15:12:01+00:00</td>\n",
              "      <td>1244.0</td>\n",
              "    </tr>\n",
              "    <tr>\n",
              "      <th>freq</th>\n",
              "      <td>1</td>\n",
              "      <td>23.0</td>\n",
              "    </tr>\n",
              "    <tr>\n",
              "      <th>first</th>\n",
              "      <td>2019-09-01 00:00:01+00:00</td>\n",
              "      <td>NaN</td>\n",
              "    </tr>\n",
              "    <tr>\n",
              "      <th>last</th>\n",
              "      <td>2020-01-31 23:36:01+00:00</td>\n",
              "      <td>NaN</td>\n",
              "    </tr>\n",
              "  </tbody>\n",
              "</table>\n",
              "</div>"
            ],
            "text/plain": [
              "                       created_at  user_id\n",
              "count                        9180   9180.0\n",
              "unique                       9180   1000.0\n",
              "top     2020-01-06 15:12:01+00:00   1244.0\n",
              "freq                            1     23.0\n",
              "first   2019-09-01 00:00:01+00:00      NaN\n",
              "last    2020-01-31 23:36:01+00:00      NaN"
            ]
          },
          "metadata": {
            "tags": []
          },
          "execution_count": 186
        }
      ]
    },
    {
      "cell_type": "markdown",
      "metadata": {
        "id": "mw1j76daaSoe"
      },
      "source": [
        "9180 записей, где 1000 уникальных id"
      ]
    },
    {
      "cell_type": "markdown",
      "metadata": {
        "id": "h6-dCiBeaejG"
      },
      "source": [
        "Теперь оставлось создать другие данные"
      ]
    },
    {
      "cell_type": "code",
      "metadata": {
        "colab": {
          "base_uri": "https://localhost:8080/",
          "height": 197
        },
        "id": "FSCNO6Bsagx2",
        "outputId": "b9ef8c1b-bef9-4195-8b47-4d21bc886a68"
      },
      "source": [
        "df.insert(len(df.columns), 'term_id', range(880, 880 + len(df)))\n",
        "df.head()"
      ],
      "execution_count": null,
      "outputs": [
        {
          "output_type": "execute_result",
          "data": {
            "text/html": [
              "<div>\n",
              "<style scoped>\n",
              "    .dataframe tbody tr th:only-of-type {\n",
              "        vertical-align: middle;\n",
              "    }\n",
              "\n",
              "    .dataframe tbody tr th {\n",
              "        vertical-align: top;\n",
              "    }\n",
              "\n",
              "    .dataframe thead th {\n",
              "        text-align: right;\n",
              "    }\n",
              "</style>\n",
              "<table border=\"1\" class=\"dataframe\">\n",
              "  <thead>\n",
              "    <tr style=\"text-align: right;\">\n",
              "      <th></th>\n",
              "      <th>created_at</th>\n",
              "      <th>user_id</th>\n",
              "      <th>term_id</th>\n",
              "    </tr>\n",
              "  </thead>\n",
              "  <tbody>\n",
              "    <tr>\n",
              "      <th>0</th>\n",
              "      <td>2019-09-01 00:00:01+00:00</td>\n",
              "      <td>1257</td>\n",
              "      <td>880</td>\n",
              "    </tr>\n",
              "    <tr>\n",
              "      <th>1</th>\n",
              "      <td>2019-09-01 00:24:01+00:00</td>\n",
              "      <td>1236</td>\n",
              "      <td>881</td>\n",
              "    </tr>\n",
              "    <tr>\n",
              "      <th>2</th>\n",
              "      <td>2019-09-01 00:48:01+00:00</td>\n",
              "      <td>1460</td>\n",
              "      <td>882</td>\n",
              "    </tr>\n",
              "    <tr>\n",
              "      <th>3</th>\n",
              "      <td>2019-09-01 01:12:01+00:00</td>\n",
              "      <td>1629</td>\n",
              "      <td>883</td>\n",
              "    </tr>\n",
              "    <tr>\n",
              "      <th>4</th>\n",
              "      <td>2019-09-01 01:36:01+00:00</td>\n",
              "      <td>1799</td>\n",
              "      <td>884</td>\n",
              "    </tr>\n",
              "  </tbody>\n",
              "</table>\n",
              "</div>"
            ],
            "text/plain": [
              "                 created_at user_id  term_id\n",
              "0 2019-09-01 00:00:01+00:00    1257      880\n",
              "1 2019-09-01 00:24:01+00:00    1236      881\n",
              "2 2019-09-01 00:48:01+00:00    1460      882\n",
              "3 2019-09-01 01:12:01+00:00    1629      883\n",
              "4 2019-09-01 01:36:01+00:00    1799      884"
            ]
          },
          "metadata": {
            "tags": []
          },
          "execution_count": 187
        }
      ]
    },
    {
      "cell_type": "code",
      "metadata": {
        "colab": {
          "base_uri": "https://localhost:8080/",
          "height": 197
        },
        "id": "bwotA1QqcbiU",
        "outputId": "f6207648-aa79-41d7-fa0d-e90ca2c61de5"
      },
      "source": [
        "df.insert(len(df.columns), 'amount', random.sample(range(20, 20000), len(df)))\n",
        "df.head()"
      ],
      "execution_count": null,
      "outputs": [
        {
          "output_type": "execute_result",
          "data": {
            "text/html": [
              "<div>\n",
              "<style scoped>\n",
              "    .dataframe tbody tr th:only-of-type {\n",
              "        vertical-align: middle;\n",
              "    }\n",
              "\n",
              "    .dataframe tbody tr th {\n",
              "        vertical-align: top;\n",
              "    }\n",
              "\n",
              "    .dataframe thead th {\n",
              "        text-align: right;\n",
              "    }\n",
              "</style>\n",
              "<table border=\"1\" class=\"dataframe\">\n",
              "  <thead>\n",
              "    <tr style=\"text-align: right;\">\n",
              "      <th></th>\n",
              "      <th>created_at</th>\n",
              "      <th>user_id</th>\n",
              "      <th>term_id</th>\n",
              "      <th>amount</th>\n",
              "    </tr>\n",
              "  </thead>\n",
              "  <tbody>\n",
              "    <tr>\n",
              "      <th>0</th>\n",
              "      <td>2019-09-01 00:00:01+00:00</td>\n",
              "      <td>1257</td>\n",
              "      <td>880</td>\n",
              "      <td>3839</td>\n",
              "    </tr>\n",
              "    <tr>\n",
              "      <th>1</th>\n",
              "      <td>2019-09-01 00:24:01+00:00</td>\n",
              "      <td>1236</td>\n",
              "      <td>881</td>\n",
              "      <td>11266</td>\n",
              "    </tr>\n",
              "    <tr>\n",
              "      <th>2</th>\n",
              "      <td>2019-09-01 00:48:01+00:00</td>\n",
              "      <td>1460</td>\n",
              "      <td>882</td>\n",
              "      <td>11929</td>\n",
              "    </tr>\n",
              "    <tr>\n",
              "      <th>3</th>\n",
              "      <td>2019-09-01 01:12:01+00:00</td>\n",
              "      <td>1629</td>\n",
              "      <td>883</td>\n",
              "      <td>18227</td>\n",
              "    </tr>\n",
              "    <tr>\n",
              "      <th>4</th>\n",
              "      <td>2019-09-01 01:36:01+00:00</td>\n",
              "      <td>1799</td>\n",
              "      <td>884</td>\n",
              "      <td>16129</td>\n",
              "    </tr>\n",
              "  </tbody>\n",
              "</table>\n",
              "</div>"
            ],
            "text/plain": [
              "                 created_at user_id  term_id  amount\n",
              "0 2019-09-01 00:00:01+00:00    1257      880    3839\n",
              "1 2019-09-01 00:24:01+00:00    1236      881   11266\n",
              "2 2019-09-01 00:48:01+00:00    1460      882   11929\n",
              "3 2019-09-01 01:12:01+00:00    1629      883   18227\n",
              "4 2019-09-01 01:36:01+00:00    1799      884   16129"
            ]
          },
          "metadata": {
            "tags": []
          },
          "execution_count": 188
        }
      ]
    },
    {
      "cell_type": "code",
      "metadata": {
        "colab": {
          "base_uri": "https://localhost:8080/",
          "height": 197
        },
        "id": "y68KGe7Ic_oS",
        "outputId": "78e62e4d-3fe4-4ea1-8afc-a0214e03f6ac"
      },
      "source": [
        "df.insert(len(df.columns), 'id', range(0, len(df)))\n",
        "df.head()"
      ],
      "execution_count": null,
      "outputs": [
        {
          "output_type": "execute_result",
          "data": {
            "text/html": [
              "<div>\n",
              "<style scoped>\n",
              "    .dataframe tbody tr th:only-of-type {\n",
              "        vertical-align: middle;\n",
              "    }\n",
              "\n",
              "    .dataframe tbody tr th {\n",
              "        vertical-align: top;\n",
              "    }\n",
              "\n",
              "    .dataframe thead th {\n",
              "        text-align: right;\n",
              "    }\n",
              "</style>\n",
              "<table border=\"1\" class=\"dataframe\">\n",
              "  <thead>\n",
              "    <tr style=\"text-align: right;\">\n",
              "      <th></th>\n",
              "      <th>created_at</th>\n",
              "      <th>user_id</th>\n",
              "      <th>term_id</th>\n",
              "      <th>amount</th>\n",
              "      <th>id</th>\n",
              "    </tr>\n",
              "  </thead>\n",
              "  <tbody>\n",
              "    <tr>\n",
              "      <th>0</th>\n",
              "      <td>2019-09-01 00:00:01+00:00</td>\n",
              "      <td>1257</td>\n",
              "      <td>880</td>\n",
              "      <td>3839</td>\n",
              "      <td>0</td>\n",
              "    </tr>\n",
              "    <tr>\n",
              "      <th>1</th>\n",
              "      <td>2019-09-01 00:24:01+00:00</td>\n",
              "      <td>1236</td>\n",
              "      <td>881</td>\n",
              "      <td>11266</td>\n",
              "      <td>1</td>\n",
              "    </tr>\n",
              "    <tr>\n",
              "      <th>2</th>\n",
              "      <td>2019-09-01 00:48:01+00:00</td>\n",
              "      <td>1460</td>\n",
              "      <td>882</td>\n",
              "      <td>11929</td>\n",
              "      <td>2</td>\n",
              "    </tr>\n",
              "    <tr>\n",
              "      <th>3</th>\n",
              "      <td>2019-09-01 01:12:01+00:00</td>\n",
              "      <td>1629</td>\n",
              "      <td>883</td>\n",
              "      <td>18227</td>\n",
              "      <td>3</td>\n",
              "    </tr>\n",
              "    <tr>\n",
              "      <th>4</th>\n",
              "      <td>2019-09-01 01:36:01+00:00</td>\n",
              "      <td>1799</td>\n",
              "      <td>884</td>\n",
              "      <td>16129</td>\n",
              "      <td>4</td>\n",
              "    </tr>\n",
              "  </tbody>\n",
              "</table>\n",
              "</div>"
            ],
            "text/plain": [
              "                 created_at user_id  term_id  amount  id\n",
              "0 2019-09-01 00:00:01+00:00    1257      880    3839   0\n",
              "1 2019-09-01 00:24:01+00:00    1236      881   11266   1\n",
              "2 2019-09-01 00:48:01+00:00    1460      882   11929   2\n",
              "3 2019-09-01 01:12:01+00:00    1629      883   18227   3\n",
              "4 2019-09-01 01:36:01+00:00    1799      884   16129   4"
            ]
          },
          "metadata": {
            "tags": []
          },
          "execution_count": 189
        }
      ]
    },
    {
      "cell_type": "markdown",
      "metadata": {
        "id": "0kIBQyD6dKKt"
      },
      "source": [
        "готово! Теперь запишем это в БД"
      ]
    },
    {
      "cell_type": "code",
      "metadata": {
        "id": "9cOo_YNpdW7A"
      },
      "source": [
        "df.to_sql('operations',con,if_exists='replace',index=False)"
      ],
      "execution_count": null,
      "outputs": []
    },
    {
      "cell_type": "markdown",
      "metadata": {
        "id": "j9_yloMafVV2"
      },
      "source": [
        "Проверим, что получилось:"
      ]
    },
    {
      "cell_type": "code",
      "metadata": {
        "id": "IDBCTI8dfUTU"
      },
      "source": [
        "sql = '''select o.* from operations o limit 10'''"
      ],
      "execution_count": null,
      "outputs": []
    },
    {
      "cell_type": "code",
      "metadata": {
        "colab": {
          "base_uri": "https://localhost:8080/",
          "height": 347
        },
        "id": "BZaxj73gfbFx",
        "outputId": "8b1d23d1-ce2c-45c1-8dd5-9d6e7350fd7d"
      },
      "source": [
        "select(sql)"
      ],
      "execution_count": null,
      "outputs": [
        {
          "output_type": "execute_result",
          "data": {
            "text/html": [
              "<div>\n",
              "<style scoped>\n",
              "    .dataframe tbody tr th:only-of-type {\n",
              "        vertical-align: middle;\n",
              "    }\n",
              "\n",
              "    .dataframe tbody tr th {\n",
              "        vertical-align: top;\n",
              "    }\n",
              "\n",
              "    .dataframe thead th {\n",
              "        text-align: right;\n",
              "    }\n",
              "</style>\n",
              "<table border=\"1\" class=\"dataframe\">\n",
              "  <thead>\n",
              "    <tr style=\"text-align: right;\">\n",
              "      <th></th>\n",
              "      <th>created_at</th>\n",
              "      <th>user_id</th>\n",
              "      <th>term_id</th>\n",
              "      <th>amount</th>\n",
              "      <th>id</th>\n",
              "    </tr>\n",
              "  </thead>\n",
              "  <tbody>\n",
              "    <tr>\n",
              "      <th>0</th>\n",
              "      <td>2019-09-01 00:00:01+00:00</td>\n",
              "      <td>1257</td>\n",
              "      <td>880</td>\n",
              "      <td>3839</td>\n",
              "      <td>0</td>\n",
              "    </tr>\n",
              "    <tr>\n",
              "      <th>1</th>\n",
              "      <td>2019-09-01 00:24:01+00:00</td>\n",
              "      <td>1236</td>\n",
              "      <td>881</td>\n",
              "      <td>11266</td>\n",
              "      <td>1</td>\n",
              "    </tr>\n",
              "    <tr>\n",
              "      <th>2</th>\n",
              "      <td>2019-09-01 00:48:01+00:00</td>\n",
              "      <td>1460</td>\n",
              "      <td>882</td>\n",
              "      <td>11929</td>\n",
              "      <td>2</td>\n",
              "    </tr>\n",
              "    <tr>\n",
              "      <th>3</th>\n",
              "      <td>2019-09-01 01:12:01+00:00</td>\n",
              "      <td>1629</td>\n",
              "      <td>883</td>\n",
              "      <td>18227</td>\n",
              "      <td>3</td>\n",
              "    </tr>\n",
              "    <tr>\n",
              "      <th>4</th>\n",
              "      <td>2019-09-01 01:36:01+00:00</td>\n",
              "      <td>1799</td>\n",
              "      <td>884</td>\n",
              "      <td>16129</td>\n",
              "      <td>4</td>\n",
              "    </tr>\n",
              "    <tr>\n",
              "      <th>5</th>\n",
              "      <td>2019-09-01 02:00:01+00:00</td>\n",
              "      <td>1650</td>\n",
              "      <td>885</td>\n",
              "      <td>2261</td>\n",
              "      <td>5</td>\n",
              "    </tr>\n",
              "    <tr>\n",
              "      <th>6</th>\n",
              "      <td>2019-09-01 02:24:01+00:00</td>\n",
              "      <td>1703</td>\n",
              "      <td>886</td>\n",
              "      <td>11659</td>\n",
              "      <td>6</td>\n",
              "    </tr>\n",
              "    <tr>\n",
              "      <th>7</th>\n",
              "      <td>2019-09-01 02:48:01+00:00</td>\n",
              "      <td>1555</td>\n",
              "      <td>887</td>\n",
              "      <td>5305</td>\n",
              "      <td>7</td>\n",
              "    </tr>\n",
              "    <tr>\n",
              "      <th>8</th>\n",
              "      <td>2019-09-01 03:12:01+00:00</td>\n",
              "      <td>1593</td>\n",
              "      <td>888</td>\n",
              "      <td>3016</td>\n",
              "      <td>8</td>\n",
              "    </tr>\n",
              "    <tr>\n",
              "      <th>9</th>\n",
              "      <td>2019-09-01 03:36:01+00:00</td>\n",
              "      <td>1473</td>\n",
              "      <td>889</td>\n",
              "      <td>4108</td>\n",
              "      <td>9</td>\n",
              "    </tr>\n",
              "  </tbody>\n",
              "</table>\n",
              "</div>"
            ],
            "text/plain": [
              "                  created_at  user_id  term_id  amount  id\n",
              "0  2019-09-01 00:00:01+00:00     1257      880    3839   0\n",
              "1  2019-09-01 00:24:01+00:00     1236      881   11266   1\n",
              "2  2019-09-01 00:48:01+00:00     1460      882   11929   2\n",
              "3  2019-09-01 01:12:01+00:00     1629      883   18227   3\n",
              "4  2019-09-01 01:36:01+00:00     1799      884   16129   4\n",
              "5  2019-09-01 02:00:01+00:00     1650      885    2261   5\n",
              "6  2019-09-01 02:24:01+00:00     1703      886   11659   6\n",
              "7  2019-09-01 02:48:01+00:00     1555      887    5305   7\n",
              "8  2019-09-01 03:12:01+00:00     1593      888    3016   8\n",
              "9  2019-09-01 03:36:01+00:00     1473      889    4108   9"
            ]
          },
          "metadata": {
            "tags": []
          },
          "execution_count": 203
        }
      ]
    },
    {
      "cell_type": "markdown",
      "metadata": {
        "id": "LiUQqpEkgGNh"
      },
      "source": [
        "Готово!"
      ]
    },
    {
      "cell_type": "markdown",
      "metadata": {
        "id": "dMD8Bu1fvUUO"
      },
      "source": [
        "#Задача 3\n",
        "\n",
        "Используя язык программирования Python автоматизировать выгрузку данных из API системы трекинга мобильных установок.\n"
      ]
    },
    {
      "cell_type": "markdown",
      "metadata": {
        "id": "nu0rJ4VcvcFD"
      },
      "source": [
        "Входные данные:\n",
        "токен = 65196fe7aafb\n",
        "временной диапазон - за последние 60 дней, но со вчерашнего дня\n",
        "поля для выгрузки - attributed_touch_time, install_time, media_source, campaign, customer_user_id, appsflyer_id\n",
        "ссылка для выгрузки данных - 'https://hq.appsflyer.com/export/ru.foxford.foxfordtextbook/installs_report/v5?api_token=&from=&to=&fields='\n",
        "\n",
        "Сырые данные нужно обогатить полями:\n",
        "Неделя установки\n",
        "Месяц установки\n",
        "Год установки\n",
        "CTIT - в секундах, считается как разница между временем установки и кликом на рекламное размещение\n",
        "CTIT type - группировка по критериям: меньше 10 сек, от 10 до 30 сек, и более 30 сек.\n",
        "\n",
        "Первично собранный набор данных нужно записать в БД и при повторной реализации скрипта в таблицу должны записываться только новые данные.\n",
        "Токен не рабочий, поэтому при выполнении запроса будет выдаваться ошибка\n",
        "\n"
      ]
    },
    {
      "cell_type": "markdown",
      "metadata": {
        "id": "PflCbjdZAMF1"
      },
      "source": [
        "Напишем функцию, которая будет осуществлять запрос.\n",
        "\n",
        "Т.к. единственный параметр который настраивается это api_key - вынесем его в параметры функции."
      ]
    },
    {
      "cell_type": "code",
      "metadata": {
        "id": "6ACKlihvxdHA"
      },
      "source": [
        "def previous_60_days_export(api_token):\n",
        "\n",
        "  api_endpoint = 'https://hq.appsflyer.com/export/'\n",
        "  app_id = 'ru.foxford.foxfordtextbook'\n",
        "  report_name = 'installs_report'\n",
        "\n",
        "  to_dt = datetime.now() - timedelta(1)\n",
        "  from_dt = datetime.now() - timedelta(61)\n",
        "\n",
        "  fileds = ['attributed_touch_time',\n",
        "            'install_time',\n",
        "            'media_source',\n",
        "            'campaign',\n",
        "            'customer_user_id',\n",
        "            'appsflyer_id']\n",
        "\n",
        "  query_params = {\n",
        "    'api_token': api_token,\n",
        "    'from': str(from_dt.strftime('%Y-%m-%d')),\n",
        "    'to': str(to_dt.strftime('%Y-%m-%d')),\n",
        "    'fields': ','.join(fileds)\n",
        "    }\n",
        "\n",
        "  query_string = urllib.parse.urlencode(query_params)\n",
        "\n",
        "  request_url = api_endpoint + app_id + '/' + report_name + '/v5?' + query_string\n",
        "\n",
        "  print(request_url)\n",
        "\n",
        "  response = 0\n",
        "  try:\n",
        "    response = requests.get(request_url)\n",
        "  except requests.exceptions.RequestException as e:\n",
        "    print(e.message)\n",
        "\n",
        "  if response:\n",
        "    return response.json()\n",
        "  else:\n",
        "    return  pd.DataFrame(columns=[])"
      ],
      "execution_count": null,
      "outputs": []
    },
    {
      "cell_type": "markdown",
      "metadata": {
        "id": "PvD-LBnfAkAg"
      },
      "source": [
        "сейчас объявим token и сделаем вызов функции"
      ]
    },
    {
      "cell_type": "code",
      "metadata": {
        "colab": {
          "base_uri": "https://localhost:8080/"
        },
        "id": "FAlqB0XzzYGj",
        "outputId": "890ded66-2b4c-45b1-83f5-b988a7418d86"
      },
      "source": [
        "api_token = '65196fe7aafb'\n",
        "\n",
        "df = pd.DataFrame.from_dict(previous_60_days_export(api_token), orient='index')"
      ],
      "execution_count": null,
      "outputs": [
        {
          "output_type": "stream",
          "text": [
            "https://hq.appsflyer.com/export/ru.foxford.foxfordtextbook/installs_report/v5?api_token=65196fe7aafb&from=2021-03-23&to=2021-05-22&fields=attributed_touch_time%2Cinstall_time%2Cmedia_source%2Ccampaign%2Ccustomer_user_id%2Cappsflyer_id\n"
          ],
          "name": "stdout"
        }
      ]
    },
    {
      "cell_type": "code",
      "metadata": {
        "colab": {
          "base_uri": "https://localhost:8080/",
          "height": 32
        },
        "id": "xm6-p94bE1Rg",
        "outputId": "71723e4f-dc6d-4093-d1b5-28bfc8919e2e"
      },
      "source": [
        "df.head()"
      ],
      "execution_count": null,
      "outputs": [
        {
          "output_type": "execute_result",
          "data": {
            "text/html": [
              "<div>\n",
              "<style scoped>\n",
              "    .dataframe tbody tr th:only-of-type {\n",
              "        vertical-align: middle;\n",
              "    }\n",
              "\n",
              "    .dataframe tbody tr th {\n",
              "        vertical-align: top;\n",
              "    }\n",
              "\n",
              "    .dataframe thead th {\n",
              "        text-align: right;\n",
              "    }\n",
              "</style>\n",
              "<table border=\"1\" class=\"dataframe\">\n",
              "  <thead>\n",
              "    <tr style=\"text-align: right;\">\n",
              "      <th></th>\n",
              "    </tr>\n",
              "  </thead>\n",
              "  <tbody>\n",
              "  </tbody>\n",
              "</table>\n",
              "</div>"
            ],
            "text/plain": [
              "Empty DataFrame\n",
              "Columns: []\n",
              "Index: []"
            ]
          },
          "metadata": {
            "tags": []
          },
          "execution_count": 318
        }
      ]
    },
    {
      "cell_type": "markdown",
      "metadata": {
        "id": "lnjSedwVAwVr"
      },
      "source": [
        "Добавим недостающие поля:"
      ]
    },
    {
      "cell_type": "code",
      "metadata": {
        "id": "7n0KzmHzAuQn"
      },
      "source": [
        "df['install_week'] = pd.DatetimeIndex(df['install_time']).week\n",
        "df['install_month'] = pd.DatetimeIndex(df['install_time']).month\n",
        "df['install_year'] = pd.DatetimeIndex(df['install_time']).year\n"
      ],
      "execution_count": null,
      "outputs": []
    },
    {
      "cell_type": "markdown",
      "metadata": {
        "id": "Ow5mSZK9Jd3L"
      },
      "source": [
        "в соответствии с [документацией](https://support.appsflyer.com/hc/ru/articles/208387843-%D0%A1%D0%BB%D0%BE%D0%B2%D0%B0%D1%80%D1%8C-%D0%BF%D0%BE%D0%BB%D0%B5%D0%B9-%D0%B2-%D0%BE%D1%82%D1%87%D0%B5%D1%82%D0%B0%D1%85-%D0%BF%D0%BE-%D1%81%D1%8B%D1%80%D1%8B%D0%BC-%D0%B4%D0%B0%D0%BD%D0%BD%D1%8B%D0%BC-V5-) AppsFlyer - считаю событие attributed_touch_time за время клика на рекламное размещение\n",
        "\n",
        "Я заметил, что разбивка CTIT_type требуется по интервалам 0 до 10, от 10 до 30 (вкл), и более 30, но с ходу знаю как будет лучше. Вряд ли мой вариант лучше стандартного `cut`"
      ]
    },
    {
      "cell_type": "code",
      "metadata": {
        "id": "_PQR_GgIJhsf"
      },
      "source": [
        "df['CTIT'] = pd.Timedelta(df['install_time'] - df['attributed_touch_time']).seconds\n",
        "df['CTIT_type'] = [[]] * len(df)\n",
        "for ind in df.index:\n",
        "  if df['CTIT'][ind] < 10: \n",
        "    df['CTIT_type'][ind] = '[0:10)' \n",
        "  elif df['CTIT'][ind] > 30:\n",
        "    df['CTIT_type'][ind] = '(30:inf)'\n",
        "  else:\n",
        "    df['CTIT_type'][ind] = '[10:30]'\n",
        "\n",
        "# df['CTIT_type'] = pd.cut(df['CTIT'], [0,10,30, np.inf],include_lowest=True,right=False])"
      ],
      "execution_count": null,
      "outputs": []
    },
    {
      "cell_type": "markdown",
      "metadata": {
        "id": "aynhvFCT9Obp"
      },
      "source": [
        "Достанем уже имеющиеся данные, отфильтруем то, что пришло и запишем новую порцию данных в бд."
      ]
    },
    {
      "cell_type": "code",
      "metadata": {
        "id": "lpDm4SDs_6Sn"
      },
      "source": [
        "sql = '''select r.* from report r'''"
      ],
      "execution_count": null,
      "outputs": []
    },
    {
      "cell_type": "markdown",
      "metadata": {
        "id": "rxUQ_8wAA0d5"
      },
      "source": [
        "Сделаем обработку ошибки, когда таблица еще не существует. Если ее нет, то просто запишем все в бд из датасета."
      ]
    },
    {
      "cell_type": "code",
      "metadata": {
        "id": "xOsQpRE6__YX"
      },
      "source": [
        "try:\n",
        "  select(sql)\n",
        "except Exception as e:\n",
        "  print(e, 'Creating table from dataset')\n",
        "  df.to_sql('report', con,if_exists='append', index=False)"
      ],
      "execution_count": null,
      "outputs": []
    },
    {
      "cell_type": "code",
      "metadata": {
        "id": "x5l7XuSA9RFp"
      },
      "source": [
        "df.to_sql('report', con,if_exists='append', index=False)\n"
      ],
      "execution_count": null,
      "outputs": []
    },
    {
      "cell_type": "code",
      "metadata": {
        "id": "nQ3pxpNg-fvq"
      },
      "source": [
        "sql = '''select r.* from report r'''"
      ],
      "execution_count": null,
      "outputs": []
    },
    {
      "cell_type": "code",
      "metadata": {
        "id": "nDv8cja2-jRr"
      },
      "source": [
        "stored_data = select(sql)\n",
        "stored_data.head()"
      ],
      "execution_count": null,
      "outputs": []
    },
    {
      "cell_type": "markdown",
      "metadata": {
        "id": "iE1HTl_cDH8n"
      },
      "source": [
        "Если данные в БД есть, то нужно сравнить данные и удалить из датасета те, которые уже в БД имеются. То, что останется - залить в бд.\n",
        "\n",
        "Я рассчитываю, что связка `appsflyer_id, customer_user_id, attributed_touch_time, install_time` является уникальной.\n",
        "Сложно делать что-то, не видя данных. Из доки AppsFlyer не понятно."
      ]
    },
    {
      "cell_type": "code",
      "metadata": {
        "id": "0gj5mM-aDFCr"
      },
      "source": [
        "df['equal'] = np.where(\n",
        "  df['appsflyer_id'] == stored_data['appsflyer_id'] and\n",
        "  df['customer_user_id'] == stored_data['customer_user_id'] and\n",
        "  df['attributed_touch_time'] == stored_data['attributed_touch_time'] and\n",
        "  df['install_time'] == stored_data['install_time']\n",
        "  , 1, 0)"
      ],
      "execution_count": null,
      "outputs": []
    },
    {
      "cell_type": "markdown",
      "metadata": {
        "id": "T1lmIde0JKck"
      },
      "source": [
        "Теперь уберем все записи, имеющие метку `equal` и запишем новое в бд"
      ]
    },
    {
      "cell_type": "code",
      "metadata": {
        "id": "GeOqSTmtJJ4C"
      },
      "source": [
        "df[df['equal'] < 1]\n",
        "if len(df) > 0\n",
        "  df.to_sql('report', con,if_exists='append', index=False)"
      ],
      "execution_count": null,
      "outputs": []
    },
    {
      "cell_type": "markdown",
      "metadata": {
        "id": "tYOcNN-0izR0"
      },
      "source": [
        "Конец"
      ]
    }
  ]
}