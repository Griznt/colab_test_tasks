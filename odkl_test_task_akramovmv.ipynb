{
  "nbformat": 4,
  "nbformat_minor": 0,
  "metadata": {
    "colab": {
      "name": "odkl_test_task_akramovmv.ipynb",
      "provenance": [],
      "collapsed_sections": [
        "cynczOIleKrp",
        "2xtUR8VcPKxc",
        "nbtmzflN-9x7",
        "dEu4Jql5qd9j",
        "1N9y20DM-51L",
        "3EEOmJT-_WCr",
        "eQVhV-fRCrIY"
      ],
      "toc_visible": true,
      "authorship_tag": "ABX9TyMKmRJWhuHFSANnTpuenZo5",
      "include_colab_link": true
    },
    "kernelspec": {
      "name": "python3",
      "display_name": "Python 3"
    },
    "language_info": {
      "name": "python"
    }
  },
  "cells": [
    {
      "cell_type": "markdown",
      "metadata": {
        "id": "view-in-github",
        "colab_type": "text"
      },
      "source": [
        "<a href=\"https://colab.research.google.com/github/Griznt/colab_test_tasks/blob/main/odkl_test_task_akramovmv.ipynb\" target=\"_parent\"><img src=\"https://colab.research.google.com/assets/colab-badge.svg\" alt=\"Open In Colab\"/></a>"
      ]
    },
    {
      "cell_type": "markdown",
      "metadata": {
        "id": "KLkjqmjoVKco"
      },
      "source": [
        "#Тестовое задание. Акрамов Михаил"
      ]
    },
    {
      "cell_type": "markdown",
      "metadata": {
        "id": "sbgigK4xcb_w"
      },
      "source": [
        "# Типичная задача продуктового аналитика:\n",
        "Представь, что ты продуктовый аналитик в Instagram и отвечаешь за\n",
        "аналитику продукта Истории (Stories). Спустя несколько месяцев после его\n",
        "запуска тебя попросили собрать продуктовый дашборд про успешность\n",
        "запуска, первые результаты работы этого продукта и его влияния на весь\n",
        "продукт Instagram.\n",
        "\n",
        "Напиши, пожалуйста, метрики, которые бы ты отобразил на этом дашборде в\n",
        "порядке убывания важности (здорово если построишь пирамиду/иерархию\n",
        "метрик)\n"
      ]
    },
    {
      "cell_type": "markdown",
      "metadata": {
        "id": "gEGiyUloOvyZ"
      },
      "source": [
        "### Решение"
      ]
    },
    {
      "cell_type": "markdown",
      "metadata": {
        "id": "vneZux_LOzhO"
      },
      "source": [
        "Истории - это очень важная часть приложения Instagram, т.к. пользователи, которые создают контент, привлекают пользователей, которые его потребляют. Так называемая, петля роста.\n",
        "И важнее тут именно создание Stories. Так как если их не будет, нечего будет и смотреть.\n",
        "1. Количество создаваемых stories\n",
        "  * Сколько всего создано Stories и как менялась динамика по дням\n",
        "  * Количество Stories создаваемых одним пользователем\n",
        "2. Количество просмотров Stories\n",
        "  * сколько всего просмотров и динамика по дням\n",
        "    * разбивка по категориям - с видео, с фото, с опросами, репост другого поста/другой истории\n",
        "  * продолжительность просмотров\n",
        "  * в какую сторону переключали Stories - swipe вперед, swipe назад, выход из Stories и тп.\n",
        "3. количество рекламных постов в Stories (Stories from business profiles \n",
        "  * сколько всего постов\n",
        "  * сколько было просмотрено\n",
        "  * соотношение рекламных и пользовательсих постов\n",
        "  * рекламная аналитика\n",
        "    * количество переходов по рекламе\n",
        "    * взаимодействий (комментарии, поделились и тп)\n",
        "    * просмотр insights и тп (не знаю что там содержится, не пользовался бизнес-профилем)\n",
        "4. Количество просмотров статистики истории:\n",
        "  * кто уже смотрел твою историю\n",
        "  * изменение количества подписчиков <-> количество созданных Stories\n",
        "5. Количество Stories которые получили реакции: \n",
        "  * ответы\n",
        "  * репосты\n",
        "  * sharing\n",
        "6. Количество Stories которые:\n",
        "  * были сохранены в актуальное\n",
        "  * были архивированы\n",
        "  * удалены\n",
        "  * которыми поделились\n",
        "  * сохранены и неопубликованы\n",
        "  * были созданы с использованием: \n",
        "    * фильтров\n",
        "      * какие фильтры чаще используются\n",
        "    * фото с камеры\n",
        "    * загруженного фото\n",
        "    * загруженного видео\n",
        "    * другого пользовательского контента\n",
        "    * были ограничены политикой конфиденциальности (только для друзей)\n",
        "    * содержат упоминания других пользователей\n",
        "7. Количество переходов из веб версии в mobile app\n",
        "\n",
        "Чтобы оценить влияние Stories на весь продукт в целом, нужно оценить:\n",
        "1. **время**, которое проводят пользователи в приложении: среднее, медианное. Посмотреть динамику. Сравнить когорту новых пользователей до запуска Stories и после. Или запустить A/B тест вместе с запуском Stories: сравнивать поведение пользователей в двух группах. \n",
        "2. **выручка** приложения от рекламы. Здесь важно, чтобы новая функциональность не нарушила работы всего приложения и пользователи не переключили внимание с другого функционала, который приносил прибыль\n",
        "  * количество просмотров\n",
        "  * средний чек\n",
        "  * количество рекламодателей\n",
        "3. DAU | WAU | MAU не должны просесть\n",
        "  * **Retention** пользователей должен быть не хуже того, который был, а лучше выше - разных когорт и старых и новых, т.к. этот функционал способен увеличить проводимое время в приложении, создать новую активность и тп. - пользователи могут начать ползоваться приложением чаще - это надо отследить.\n",
        "  * **Churn Rate** - сколько пользователей отваливается. Как эта метрика ведет себя со временем (до введения, после)?\n"
      ]
    },
    {
      "cell_type": "markdown",
      "metadata": {
        "id": "A9pNjSuccj7e"
      },
      "source": [
        "# Типичный А/В тест продуктового аналитика:\n",
        "На сайте запущен А/В тест с целью увеличить доход. В приложенном excel\n",
        "файле ты найдешь сырые данные по результатам эксперимента (user_id), тип\n",
        "выборки (variant_name) и доход, принесенный пользователем (revenue).\n",
        "Проанализируй результаты эксперимента и напиши свои рекомендации\n",
        "менеджеру.\n",
        "(приложи скрипт с помощью которого анализировал данные, желательно\n",
        "файл .ipynb на python)"
      ]
    },
    {
      "cell_type": "markdown",
      "metadata": {
        "id": "GOrVAAdqejGz"
      },
      "source": [
        "### Решение"
      ]
    },
    {
      "cell_type": "markdown",
      "metadata": {
        "id": "svFNzjmDt7il"
      },
      "source": [
        "#### Заливка данных\n",
        "Загрузим в локальную папку проекта файл с гугл диска"
      ]
    },
    {
      "cell_type": "markdown",
      "metadata": {
        "id": "lndT-4lYt7Vf"
      },
      "source": [
        "https://docs.google.com/spreadsheets/d/1tZ-zxT2C2DII0GIMQZGEJvdFNLcmfKTh/edit?usp=sharing&ouid=101542582788016542255"
      ]
    },
    {
      "cell_type": "code",
      "metadata": {
        "colab": {
          "base_uri": "https://localhost:8080/"
        },
        "id": "tq6rHROdxQjm",
        "outputId": "616237a1-1556-4af2-9a42-ea2982aa6cf1"
      },
      "source": [
        "file_id = \"1tZ-zxT2C2DII0GIMQZGEJvdFNLcmfKTh\"\n",
        "!gdown https://drive.google.com/uc?id={file_id}"
      ],
      "execution_count": 1,
      "outputs": [
        {
          "output_type": "stream",
          "name": "stdout",
          "text": [
            "Downloading...\n",
            "From: https://drive.google.com/uc?id=1tZ-zxT2C2DII0GIMQZGEJvdFNLcmfKTh\n",
            "To: /content/AB_Test_Results(odkl).xlsx\n",
            "\r  0% 0.00/189k [00:00<?, ?B/s]\r100% 189k/189k [00:00<00:00, 70.8MB/s]\n"
          ]
        }
      ]
    },
    {
      "cell_type": "code",
      "metadata": {
        "id": "lRIicxz1x3cA"
      },
      "source": [
        "import pandas as pd\n",
        "import numpy as np"
      ],
      "execution_count": 2,
      "outputs": []
    },
    {
      "cell_type": "code",
      "metadata": {
        "id": "j4M2iOcFx4ne"
      },
      "source": [
        "df = pd.read_excel('/content/AB_Test_Results(odkl).xlsx')"
      ],
      "execution_count": 89,
      "outputs": []
    },
    {
      "cell_type": "code",
      "metadata": {
        "colab": {
          "base_uri": "https://localhost:8080/",
          "height": 206
        },
        "id": "487wH5wyyLsd",
        "outputId": "f08c84b1-bd85-47a2-d204-4061b1bbe479"
      },
      "source": [
        "df.head()"
      ],
      "execution_count": 90,
      "outputs": [
        {
          "output_type": "execute_result",
          "data": {
            "text/html": [
              "<div>\n",
              "<style scoped>\n",
              "    .dataframe tbody tr th:only-of-type {\n",
              "        vertical-align: middle;\n",
              "    }\n",
              "\n",
              "    .dataframe tbody tr th {\n",
              "        vertical-align: top;\n",
              "    }\n",
              "\n",
              "    .dataframe thead th {\n",
              "        text-align: right;\n",
              "    }\n",
              "</style>\n",
              "<table border=\"1\" class=\"dataframe\">\n",
              "  <thead>\n",
              "    <tr style=\"text-align: right;\">\n",
              "      <th></th>\n",
              "      <th>USER_ID</th>\n",
              "      <th>VARIANT_NAME</th>\n",
              "      <th>REVENUE</th>\n",
              "    </tr>\n",
              "  </thead>\n",
              "  <tbody>\n",
              "    <tr>\n",
              "      <th>0</th>\n",
              "      <td>737</td>\n",
              "      <td>variant</td>\n",
              "      <td>0.0</td>\n",
              "    </tr>\n",
              "    <tr>\n",
              "      <th>1</th>\n",
              "      <td>2423</td>\n",
              "      <td>control</td>\n",
              "      <td>0.0</td>\n",
              "    </tr>\n",
              "    <tr>\n",
              "      <th>2</th>\n",
              "      <td>9411</td>\n",
              "      <td>control</td>\n",
              "      <td>0.0</td>\n",
              "    </tr>\n",
              "    <tr>\n",
              "      <th>3</th>\n",
              "      <td>7311</td>\n",
              "      <td>control</td>\n",
              "      <td>0.0</td>\n",
              "    </tr>\n",
              "    <tr>\n",
              "      <th>4</th>\n",
              "      <td>6174</td>\n",
              "      <td>variant</td>\n",
              "      <td>0.0</td>\n",
              "    </tr>\n",
              "  </tbody>\n",
              "</table>\n",
              "</div>"
            ],
            "text/plain": [
              "   USER_ID VARIANT_NAME  REVENUE\n",
              "0      737      variant      0.0\n",
              "1     2423      control      0.0\n",
              "2     9411      control      0.0\n",
              "3     7311      control      0.0\n",
              "4     6174      variant      0.0"
            ]
          },
          "metadata": {},
          "execution_count": 90
        }
      ]
    },
    {
      "cell_type": "code",
      "metadata": {
        "id": "x7mBZp4m8Loy"
      },
      "source": [
        "df.columns = df.columns.str.lower()"
      ],
      "execution_count": 91,
      "outputs": []
    },
    {
      "cell_type": "markdown",
      "metadata": {
        "id": "3gY1k5GUzIGB"
      },
      "source": [
        "#### Анализ A/B теста"
      ]
    },
    {
      "cell_type": "markdown",
      "metadata": {
        "id": "AvYYOYfn5bb2"
      },
      "source": [
        "Оценим датасет"
      ]
    },
    {
      "cell_type": "code",
      "metadata": {
        "colab": {
          "base_uri": "https://localhost:8080/",
          "height": 300
        },
        "id": "UFMZE0cvzFJ_",
        "outputId": "9615abb3-b0d3-4075-8401-f0af2ed7ac4f"
      },
      "source": [
        "df.describe()"
      ],
      "execution_count": 92,
      "outputs": [
        {
          "output_type": "execute_result",
          "data": {
            "text/html": [
              "<div>\n",
              "<style scoped>\n",
              "    .dataframe tbody tr th:only-of-type {\n",
              "        vertical-align: middle;\n",
              "    }\n",
              "\n",
              "    .dataframe tbody tr th {\n",
              "        vertical-align: top;\n",
              "    }\n",
              "\n",
              "    .dataframe thead th {\n",
              "        text-align: right;\n",
              "    }\n",
              "</style>\n",
              "<table border=\"1\" class=\"dataframe\">\n",
              "  <thead>\n",
              "    <tr style=\"text-align: right;\">\n",
              "      <th></th>\n",
              "      <th>user_id</th>\n",
              "      <th>revenue</th>\n",
              "    </tr>\n",
              "  </thead>\n",
              "  <tbody>\n",
              "    <tr>\n",
              "      <th>count</th>\n",
              "      <td>10000.000000</td>\n",
              "      <td>10000.000000</td>\n",
              "    </tr>\n",
              "    <tr>\n",
              "      <th>mean</th>\n",
              "      <td>4981.080200</td>\n",
              "      <td>0.099447</td>\n",
              "    </tr>\n",
              "    <tr>\n",
              "      <th>std</th>\n",
              "      <td>2890.590115</td>\n",
              "      <td>2.318529</td>\n",
              "    </tr>\n",
              "    <tr>\n",
              "      <th>min</th>\n",
              "      <td>2.000000</td>\n",
              "      <td>0.000000</td>\n",
              "    </tr>\n",
              "    <tr>\n",
              "      <th>25%</th>\n",
              "      <td>2468.750000</td>\n",
              "      <td>0.000000</td>\n",
              "    </tr>\n",
              "    <tr>\n",
              "      <th>50%</th>\n",
              "      <td>4962.000000</td>\n",
              "      <td>0.000000</td>\n",
              "    </tr>\n",
              "    <tr>\n",
              "      <th>75%</th>\n",
              "      <td>7511.500000</td>\n",
              "      <td>0.000000</td>\n",
              "    </tr>\n",
              "    <tr>\n",
              "      <th>max</th>\n",
              "      <td>10000.000000</td>\n",
              "      <td>196.010000</td>\n",
              "    </tr>\n",
              "  </tbody>\n",
              "</table>\n",
              "</div>"
            ],
            "text/plain": [
              "            user_id       revenue\n",
              "count  10000.000000  10000.000000\n",
              "mean    4981.080200      0.099447\n",
              "std     2890.590115      2.318529\n",
              "min        2.000000      0.000000\n",
              "25%     2468.750000      0.000000\n",
              "50%     4962.000000      0.000000\n",
              "75%     7511.500000      0.000000\n",
              "max    10000.000000    196.010000"
            ]
          },
          "metadata": {},
          "execution_count": 92
        }
      ]
    },
    {
      "cell_type": "markdown",
      "metadata": {
        "id": "eENCxQqA7MBQ"
      },
      "source": [
        ""
      ]
    },
    {
      "cell_type": "code",
      "metadata": {
        "colab": {
          "base_uri": "https://localhost:8080/"
        },
        "id": "XBYHKka0zcI-",
        "outputId": "1e7a491a-6d18-444f-e808-264a555ffd35"
      },
      "source": [
        "df.nunique()"
      ],
      "execution_count": 93,
      "outputs": [
        {
          "output_type": "execute_result",
          "data": {
            "text/plain": [
              "user_id         6324\n",
              "variant_name       2\n",
              "revenue          101\n",
              "dtype: int64"
            ]
          },
          "metadata": {},
          "execution_count": 93
        }
      ]
    },
    {
      "cell_type": "markdown",
      "metadata": {
        "id": "aobRmlcp6w5i"
      },
      "source": [
        "Отсутствует описание эксперимента: \n",
        "* нет описания\n",
        " * вносимых изменений в исходную версию\n",
        " * порогового значения метрик, при которых мы сможем сказать - полученное изменение это хорошо или плохо (например: метрика X улучшена на 0.2%. Это хорошо или плохо? Стоит катить эксперимент или нет?)\n",
        "* нет информации о сроках проведения эксперимента. Отсюда следует, что невозможно знать, было ли влияние внешних факторов (праздники, сезонность и тп)\n",
        "* нет информации о составе пользователей в группах: подсегменты в разбивке по платформам/устройствам/полу/возрасту должны быть сопоставимы"
      ]
    },
    {
      "cell_type": "markdown",
      "metadata": {
        "id": "pgRyHebI5p6q"
      },
      "source": [
        "Оценим распределение по группам\n"
      ]
    },
    {
      "cell_type": "code",
      "metadata": {
        "colab": {
          "base_uri": "https://localhost:8080/"
        },
        "id": "Qt93NgPT5tkh",
        "outputId": "d7324e95-e6af-4b93-a95b-190e6ac8d83b"
      },
      "source": [
        "df['variant_name'].value_counts()"
      ],
      "execution_count": 94,
      "outputs": [
        {
          "output_type": "execute_result",
          "data": {
            "text/plain": [
              "variant    5016\n",
              "control    4984\n",
              "Name: variant_name, dtype: int64"
            ]
          },
          "metadata": {},
          "execution_count": 94
        }
      ]
    },
    {
      "cell_type": "markdown",
      "metadata": {
        "id": "Szsqs2475111"
      },
      "source": [
        "Пользователи распределены в группы равномерно.\n",
        "\n",
        "Посмотрим, нет ли пользователей, которые определены в обе группы сразу.\n"
      ]
    },
    {
      "cell_type": "code",
      "metadata": {
        "id": "EH5M8_y85_HK"
      },
      "source": [
        "intersect_users = set(df[df['variant_name'] == 'variant']['user_id'])\\\n",
        "  .intersection(set(df[df['variant_name'] == \"control\"]['user_id']))\n"
      ],
      "execution_count": 95,
      "outputs": []
    },
    {
      "cell_type": "code",
      "metadata": {
        "colab": {
          "base_uri": "https://localhost:8080/"
        },
        "id": "SCIs3jAe9Hdi",
        "outputId": "891176c0-959e-4a1c-bf05-baa083ef8766"
      },
      "source": [
        "len(intersect_users)"
      ],
      "execution_count": 96,
      "outputs": [
        {
          "output_type": "execute_result",
          "data": {
            "text/plain": [
              "1541"
            ]
          },
          "metadata": {},
          "execution_count": 96
        }
      ]
    },
    {
      "cell_type": "markdown",
      "metadata": {
        "id": "B2gNxk1C9VvH"
      },
      "source": [
        "Целых 1541 пользователь попал в обе группы. Этих пользователей нужно исключить из анализа, т.к. они могли видеть два варианта и это могло сказаться на их пользовательском опыте. Мы не знаем."
      ]
    },
    {
      "cell_type": "code",
      "metadata": {
        "id": "AjRPJjzm9VH6"
      },
      "source": [
        "df = df[~df['user_id'].isin(intersect_users)]"
      ],
      "execution_count": 97,
      "outputs": []
    },
    {
      "cell_type": "code",
      "metadata": {
        "colab": {
          "base_uri": "https://localhost:8080/",
          "height": 300
        },
        "id": "Qb6uvQQJAv5D",
        "outputId": "76b6c8f0-b600-41ae-8d50-67037dfa98c0"
      },
      "source": [
        "df.describe()"
      ],
      "execution_count": 98,
      "outputs": [
        {
          "output_type": "execute_result",
          "data": {
            "text/html": [
              "<div>\n",
              "<style scoped>\n",
              "    .dataframe tbody tr th:only-of-type {\n",
              "        vertical-align: middle;\n",
              "    }\n",
              "\n",
              "    .dataframe tbody tr th {\n",
              "        vertical-align: top;\n",
              "    }\n",
              "\n",
              "    .dataframe thead th {\n",
              "        text-align: right;\n",
              "    }\n",
              "</style>\n",
              "<table border=\"1\" class=\"dataframe\">\n",
              "  <thead>\n",
              "    <tr style=\"text-align: right;\">\n",
              "      <th></th>\n",
              "      <th>user_id</th>\n",
              "      <th>revenue</th>\n",
              "    </tr>\n",
              "  </thead>\n",
              "  <tbody>\n",
              "    <tr>\n",
              "      <th>count</th>\n",
              "      <td>6070.000000</td>\n",
              "      <td>6070.000000</td>\n",
              "    </tr>\n",
              "    <tr>\n",
              "      <th>mean</th>\n",
              "      <td>4983.664086</td>\n",
              "      <td>0.107064</td>\n",
              "    </tr>\n",
              "    <tr>\n",
              "      <th>std</th>\n",
              "      <td>2897.990118</td>\n",
              "      <td>2.673501</td>\n",
              "    </tr>\n",
              "    <tr>\n",
              "      <th>min</th>\n",
              "      <td>2.000000</td>\n",
              "      <td>0.000000</td>\n",
              "    </tr>\n",
              "    <tr>\n",
              "      <th>25%</th>\n",
              "      <td>2472.250000</td>\n",
              "      <td>0.000000</td>\n",
              "    </tr>\n",
              "    <tr>\n",
              "      <th>50%</th>\n",
              "      <td>4950.000000</td>\n",
              "      <td>0.000000</td>\n",
              "    </tr>\n",
              "    <tr>\n",
              "      <th>75%</th>\n",
              "      <td>7501.000000</td>\n",
              "      <td>0.000000</td>\n",
              "    </tr>\n",
              "    <tr>\n",
              "      <th>max</th>\n",
              "      <td>9998.000000</td>\n",
              "      <td>196.010000</td>\n",
              "    </tr>\n",
              "  </tbody>\n",
              "</table>\n",
              "</div>"
            ],
            "text/plain": [
              "           user_id      revenue\n",
              "count  6070.000000  6070.000000\n",
              "mean   4983.664086     0.107064\n",
              "std    2897.990118     2.673501\n",
              "min       2.000000     0.000000\n",
              "25%    2472.250000     0.000000\n",
              "50%    4950.000000     0.000000\n",
              "75%    7501.000000     0.000000\n",
              "max    9998.000000   196.010000"
            ]
          },
          "metadata": {},
          "execution_count": 98
        }
      ]
    },
    {
      "cell_type": "markdown",
      "metadata": {
        "id": "6Qw2zZZrBExR"
      },
      "source": [
        "Вот так вот выборка сократилась на 40%.\n",
        "\n",
        "Посмотрим как сейчас пользователи распределены в группы"
      ]
    },
    {
      "cell_type": "code",
      "metadata": {
        "colab": {
          "base_uri": "https://localhost:8080/"
        },
        "id": "gAchL3PNBNVi",
        "outputId": "e0375e1c-957b-44fd-84cd-165f17bd6472"
      },
      "source": [
        "df['variant_name'].value_counts()"
      ],
      "execution_count": 110,
      "outputs": [
        {
          "output_type": "execute_result",
          "data": {
            "text/plain": [
              "variant    3044\n",
              "control    3026\n",
              "Name: variant_name, dtype: int64"
            ]
          },
          "metadata": {},
          "execution_count": 110
        }
      ]
    },
    {
      "cell_type": "markdown",
      "metadata": {
        "id": "JLwq441UBPPl"
      },
      "source": [
        "Пользователи распределены равномерно в обе группы, пересечений нет."
      ]
    },
    {
      "cell_type": "markdown",
      "metadata": {
        "id": "rgGAl5xYVxje"
      },
      "source": [
        "Пометим платящих пользователей. Если была оплата - ставим user_id, иначе NaN"
      ]
    },
    {
      "cell_type": "code",
      "metadata": {
        "id": "iVmsRbjDt1yn"
      },
      "source": [
        "df['is_purchaser'] = np.where(df['revenue'] > 0, df['user_id'], np.NaN)"
      ],
      "execution_count": 128,
      "outputs": []
    },
    {
      "cell_type": "code",
      "metadata": {
        "colab": {
          "base_uri": "https://localhost:8080/"
        },
        "id": "qZqAHc7uTdq1",
        "outputId": "2c81fa8b-d1df-4133-aaec-9d3d5009c3b9"
      },
      "source": [
        "df.nunique()"
      ],
      "execution_count": 132,
      "outputs": [
        {
          "output_type": "execute_result",
          "data": {
            "text/plain": [
              "user_id         4783\n",
              "variant_name       2\n",
              "revenue           70\n",
              "is_purchaser      96\n",
              "dtype: int64"
            ]
          },
          "metadata": {},
          "execution_count": 132
        }
      ]
    },
    {
      "cell_type": "markdown",
      "metadata": {
        "id": "ZB19Q8C1YBbI"
      },
      "source": [
        "Можно заметить, что всего 4783 пользователя, из которых 96 платящих и всего 70 покупок."
      ]
    },
    {
      "cell_type": "code",
      "metadata": {
        "colab": {
          "base_uri": "https://localhost:8080/",
          "height": 112
        },
        "id": "fhsaHt5rIesT",
        "outputId": "7ffc3ce6-05dc-488b-dc5d-2eaab7dd810d"
      },
      "source": [
        " df[df['user_id'] == 7912]"
      ],
      "execution_count": 134,
      "outputs": [
        {
          "output_type": "execute_result",
          "data": {
            "text/html": [
              "<div>\n",
              "<style scoped>\n",
              "    .dataframe tbody tr th:only-of-type {\n",
              "        vertical-align: middle;\n",
              "    }\n",
              "\n",
              "    .dataframe tbody tr th {\n",
              "        vertical-align: top;\n",
              "    }\n",
              "\n",
              "    .dataframe thead th {\n",
              "        text-align: right;\n",
              "    }\n",
              "</style>\n",
              "<table border=\"1\" class=\"dataframe\">\n",
              "  <thead>\n",
              "    <tr style=\"text-align: right;\">\n",
              "      <th></th>\n",
              "      <th>user_id</th>\n",
              "      <th>variant_name</th>\n",
              "      <th>revenue</th>\n",
              "      <th>is_purchaser</th>\n",
              "    </tr>\n",
              "  </thead>\n",
              "  <tbody>\n",
              "    <tr>\n",
              "      <th>4575</th>\n",
              "      <td>7912</td>\n",
              "      <td>variant</td>\n",
              "      <td>2.16</td>\n",
              "      <td>7912.0</td>\n",
              "    </tr>\n",
              "    <tr>\n",
              "      <th>6344</th>\n",
              "      <td>7912</td>\n",
              "      <td>variant</td>\n",
              "      <td>1.25</td>\n",
              "      <td>7912.0</td>\n",
              "    </tr>\n",
              "  </tbody>\n",
              "</table>\n",
              "</div>"
            ],
            "text/plain": [
              "      user_id variant_name  revenue  is_purchaser\n",
              "4575     7912      variant     2.16        7912.0\n",
              "6344     7912      variant     1.25        7912.0"
            ]
          },
          "metadata": {},
          "execution_count": 134
        }
      ]
    },
    {
      "cell_type": "markdown",
      "metadata": {
        "id": "WrpU1AXkhwXK"
      },
      "source": [
        "Сгруппируем по variant_name и посчитаем всего пользователей, уникальных пользователей, количество покупок, купивших уникальных и общую выручку."
      ]
    },
    {
      "cell_type": "code",
      "metadata": {
        "id": "TJqma1VkZG2A"
      },
      "source": [
        "groups = df.groupby('variant_name').agg({\n",
        "    'user_id': ['count', 'nunique'],  \n",
        "    'is_purchaser': ['count', 'nunique'],\n",
        "    'revenue': ['sum', 'max']\n",
        "}).reset_index()"
      ],
      "execution_count": 182,
      "outputs": []
    },
    {
      "cell_type": "code",
      "metadata": {
        "colab": {
          "base_uri": "https://localhost:8080/",
          "height": 143
        },
        "id": "HN_wN0cHgpgH",
        "outputId": "c607e2d4-77ac-4de0-b0a8-359753736670"
      },
      "source": [
        "groups"
      ],
      "execution_count": 183,
      "outputs": [
        {
          "output_type": "execute_result",
          "data": {
            "text/html": [
              "<div>\n",
              "<style scoped>\n",
              "    .dataframe tbody tr th:only-of-type {\n",
              "        vertical-align: middle;\n",
              "    }\n",
              "\n",
              "    .dataframe tbody tr th {\n",
              "        vertical-align: top;\n",
              "    }\n",
              "\n",
              "    .dataframe thead tr th {\n",
              "        text-align: left;\n",
              "    }\n",
              "</style>\n",
              "<table border=\"1\" class=\"dataframe\">\n",
              "  <thead>\n",
              "    <tr>\n",
              "      <th></th>\n",
              "      <th>variant_name</th>\n",
              "      <th colspan=\"2\" halign=\"left\">user_id</th>\n",
              "      <th colspan=\"2\" halign=\"left\">is_purchaser</th>\n",
              "      <th colspan=\"2\" halign=\"left\">revenue</th>\n",
              "    </tr>\n",
              "    <tr>\n",
              "      <th></th>\n",
              "      <th></th>\n",
              "      <th>count</th>\n",
              "      <th>nunique</th>\n",
              "      <th>count</th>\n",
              "      <th>nunique</th>\n",
              "      <th>sum</th>\n",
              "      <th>max</th>\n",
              "    </tr>\n",
              "  </thead>\n",
              "  <tbody>\n",
              "    <tr>\n",
              "      <th>0</th>\n",
              "      <td>control</td>\n",
              "      <td>3026</td>\n",
              "      <td>2390</td>\n",
              "      <td>54</td>\n",
              "      <td>54</td>\n",
              "      <td>470.56</td>\n",
              "      <td>196.01</td>\n",
              "    </tr>\n",
              "    <tr>\n",
              "      <th>1</th>\n",
              "      <td>variant</td>\n",
              "      <td>3044</td>\n",
              "      <td>2393</td>\n",
              "      <td>43</td>\n",
              "      <td>42</td>\n",
              "      <td>179.32</td>\n",
              "      <td>23.04</td>\n",
              "    </tr>\n",
              "  </tbody>\n",
              "</table>\n",
              "</div>"
            ],
            "text/plain": [
              "  variant_name user_id         is_purchaser         revenue        \n",
              "                 count nunique        count nunique     sum     max\n",
              "0      control    3026    2390           54      54  470.56  196.01\n",
              "1      variant    3044    2393           43      42  179.32   23.04"
            ]
          },
          "metadata": {},
          "execution_count": 183
        }
      ]
    },
    {
      "cell_type": "code",
      "metadata": {
        "id": "T3GOyRMLMVeR"
      },
      "source": [
        "groups.columns = ['ab_group','users', 'unique_users', 'purchases_count', 'purchasers', 'total_revenue', 'max_revenue']"
      ],
      "execution_count": 186,
      "outputs": []
    },
    {
      "cell_type": "code",
      "metadata": {
        "colab": {
          "base_uri": "https://localhost:8080/",
          "height": 112
        },
        "id": "wTqC7UHRhHmV",
        "outputId": "5413fc62-c0dc-4e4a-a80b-ab7a565ecb8e"
      },
      "source": [
        "groups"
      ],
      "execution_count": 187,
      "outputs": [
        {
          "output_type": "execute_result",
          "data": {
            "text/html": [
              "<div>\n",
              "<style scoped>\n",
              "    .dataframe tbody tr th:only-of-type {\n",
              "        vertical-align: middle;\n",
              "    }\n",
              "\n",
              "    .dataframe tbody tr th {\n",
              "        vertical-align: top;\n",
              "    }\n",
              "\n",
              "    .dataframe thead th {\n",
              "        text-align: right;\n",
              "    }\n",
              "</style>\n",
              "<table border=\"1\" class=\"dataframe\">\n",
              "  <thead>\n",
              "    <tr style=\"text-align: right;\">\n",
              "      <th></th>\n",
              "      <th>ab_group</th>\n",
              "      <th>users</th>\n",
              "      <th>unique_users</th>\n",
              "      <th>purchases_count</th>\n",
              "      <th>purchasers</th>\n",
              "      <th>total_revenue</th>\n",
              "      <th>max_revenue</th>\n",
              "    </tr>\n",
              "  </thead>\n",
              "  <tbody>\n",
              "    <tr>\n",
              "      <th>0</th>\n",
              "      <td>control</td>\n",
              "      <td>3026</td>\n",
              "      <td>2390</td>\n",
              "      <td>54</td>\n",
              "      <td>54</td>\n",
              "      <td>470.56</td>\n",
              "      <td>196.01</td>\n",
              "    </tr>\n",
              "    <tr>\n",
              "      <th>1</th>\n",
              "      <td>variant</td>\n",
              "      <td>3044</td>\n",
              "      <td>2393</td>\n",
              "      <td>43</td>\n",
              "      <td>42</td>\n",
              "      <td>179.32</td>\n",
              "      <td>23.04</td>\n",
              "    </tr>\n",
              "  </tbody>\n",
              "</table>\n",
              "</div>"
            ],
            "text/plain": [
              "  ab_group  users  unique_users  ...  purchasers  total_revenue  max_revenue\n",
              "0  control   3026          2390  ...          54         470.56       196.01\n",
              "1  variant   3044          2393  ...          42         179.32        23.04\n",
              "\n",
              "[2 rows x 7 columns]"
            ]
          },
          "metadata": {},
          "execution_count": 187
        }
      ]
    },
    {
      "cell_type": "markdown",
      "metadata": {
        "id": "FiM6iW2ChtXM"
      },
      "source": [
        "Сейчас посчитаем количество покупок на одного пользователя, ARPU, ARPPU и процент платящих"
      ]
    },
    {
      "cell_type": "code",
      "metadata": {
        "id": "HxSEW0J5hKsI"
      },
      "source": [
        "groups['purchases_per_user'] = groups['purchases_count'] / groups['purchasers']"
      ],
      "execution_count": 188,
      "outputs": []
    },
    {
      "cell_type": "code",
      "metadata": {
        "id": "-ypO8CYCK19E"
      },
      "source": [
        "groups['arpu'] = groups['total_revenue'] / groups['unique_users']"
      ],
      "execution_count": 189,
      "outputs": []
    },
    {
      "cell_type": "code",
      "metadata": {
        "id": "MhjzrgNNLM7g"
      },
      "source": [
        "groups['arppu'] = groups['total_revenue'] / groups['purchasers']"
      ],
      "execution_count": 190,
      "outputs": []
    },
    {
      "cell_type": "code",
      "metadata": {
        "id": "lm5_kco_MDQa"
      },
      "source": [
        "groups['paying_share'] = groups['purchasers'] / groups['unique_users'] * 100"
      ],
      "execution_count": 191,
      "outputs": []
    },
    {
      "cell_type": "code",
      "metadata": {
        "id": "4ISKiXRDMNMr"
      },
      "source": [
        "groups['average_check'] = groups['total_revenue'] / groups['purchases_count']"
      ],
      "execution_count": 192,
      "outputs": []
    },
    {
      "cell_type": "markdown",
      "metadata": {
        "id": "L80HTRWOmjQ5"
      },
      "source": [
        "#### Выводы"
      ]
    },
    {
      "cell_type": "code",
      "metadata": {
        "colab": {
          "base_uri": "https://localhost:8080/",
          "height": 132
        },
        "id": "ZZPbOTGsli96",
        "outputId": "2f332c20-1e42-44ff-e2b2-6aac39915514"
      },
      "source": [
        "groups"
      ],
      "execution_count": 193,
      "outputs": [
        {
          "output_type": "execute_result",
          "data": {
            "text/html": [
              "<div>\n",
              "<style scoped>\n",
              "    .dataframe tbody tr th:only-of-type {\n",
              "        vertical-align: middle;\n",
              "    }\n",
              "\n",
              "    .dataframe tbody tr th {\n",
              "        vertical-align: top;\n",
              "    }\n",
              "\n",
              "    .dataframe thead th {\n",
              "        text-align: right;\n",
              "    }\n",
              "</style>\n",
              "<table border=\"1\" class=\"dataframe\">\n",
              "  <thead>\n",
              "    <tr style=\"text-align: right;\">\n",
              "      <th></th>\n",
              "      <th>ab_group</th>\n",
              "      <th>users</th>\n",
              "      <th>unique_users</th>\n",
              "      <th>purchases_count</th>\n",
              "      <th>purchasers</th>\n",
              "      <th>total_revenue</th>\n",
              "      <th>max_revenue</th>\n",
              "      <th>purchases_per_user</th>\n",
              "      <th>arpu</th>\n",
              "      <th>arppu</th>\n",
              "      <th>paying_share</th>\n",
              "      <th>average_check</th>\n",
              "    </tr>\n",
              "  </thead>\n",
              "  <tbody>\n",
              "    <tr>\n",
              "      <th>0</th>\n",
              "      <td>control</td>\n",
              "      <td>3026</td>\n",
              "      <td>2390</td>\n",
              "      <td>54</td>\n",
              "      <td>54</td>\n",
              "      <td>470.56</td>\n",
              "      <td>196.01</td>\n",
              "      <td>1.00000</td>\n",
              "      <td>0.196887</td>\n",
              "      <td>8.714074</td>\n",
              "      <td>2.259414</td>\n",
              "      <td>8.714074</td>\n",
              "    </tr>\n",
              "    <tr>\n",
              "      <th>1</th>\n",
              "      <td>variant</td>\n",
              "      <td>3044</td>\n",
              "      <td>2393</td>\n",
              "      <td>43</td>\n",
              "      <td>42</td>\n",
              "      <td>179.32</td>\n",
              "      <td>23.04</td>\n",
              "      <td>1.02381</td>\n",
              "      <td>0.074935</td>\n",
              "      <td>4.269524</td>\n",
              "      <td>1.755119</td>\n",
              "      <td>4.170233</td>\n",
              "    </tr>\n",
              "  </tbody>\n",
              "</table>\n",
              "</div>"
            ],
            "text/plain": [
              "  ab_group  users  unique_users  ...     arppu  paying_share  average_check\n",
              "0  control   3026          2390  ...  8.714074      2.259414       8.714074\n",
              "1  variant   3044          2393  ...  4.269524      1.755119       4.170233\n",
              "\n",
              "[2 rows x 12 columns]"
            ]
          },
          "metadata": {},
          "execution_count": 193
        }
      ]
    },
    {
      "cell_type": "markdown",
      "metadata": {
        "id": "61l7nyzkjx0j"
      },
      "source": [
        "Как можно заметить, в тестовой группе процент платящих ниже, чем в контрольной.\n",
        "Также выручка на одного пользователя и выручка на одного платящего выше в контрольной группе, чем в тестовой.\n",
        "Выше и средний чек в контрольной группе.\n",
        "В тестовой группе лучше только количество покупок на платящего пользователя, однако это всего один пользователь сделал повторную покупку, это может быть случайность."
      ]
    },
    {
      "cell_type": "markdown",
      "metadata": {
        "id": "HkuN0WTPmg3L"
      },
      "source": [
        "Уже, видя такие результаты, хочется сказать, что очевидно, что показатели в контрольной группе лучше, я бы оценил эксперимент как не удачный.\n",
        "\n",
        "Однако, хочу отметить **еще раз**, что я не вижу всей картины:\n",
        "1. нет дизайна эксперимента\n",
        "2. нет описания проделанного изменения\n",
        "3. нет описания того, что хотели померить и какое изменение ожидалось\n",
        "4. данные, доступные для анализа содержат только данные по сумме и id пользователя и его группе. Мы не знаем сколько длился эксперимент, в какие дни были покупки и тп. Не можем проверить распределение пользователей по полу/возрасту/типу устройства/ ОС устройства и тп.\n"
      ]
    },
    {
      "cell_type": "markdown",
      "metadata": {
        "id": "Eryixm2scpU5"
      },
      "source": [
        "# Задание #3: SQL"
      ]
    },
    {
      "cell_type": "markdown",
      "metadata": {
        "id": "wW4FN9bxcurN"
      },
      "source": [
        "##  Обычная SQL задача 1\n",
        "![image.png](data:image/png;base64,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)"
      ]
    },
    {
      "cell_type": "markdown",
      "metadata": {
        "id": "qjD-VnXndDFY"
      },
      "source": [
        "Используя таблицы выше, напиши следующие SQL запросы:\n",
        "\n",
        "a) Для каждого сотрудника найти его департамент, включая тех, у кого\n",
        "департамента нет\n",
        "\n",
        "b) Найти наибольшую зарплату по департаментам и отсортировать\n",
        "департаменты по убыванию максимальной зарплаты"
      ]
    },
    {
      "cell_type": "markdown",
      "metadata": {
        "id": "cynczOIleKrp"
      },
      "source": [
        "### Решение"
      ]
    },
    {
      "cell_type": "markdown",
      "metadata": {
        "id": "2xtUR8VcPKxc"
      },
      "source": [
        "#### Заливка данных"
      ]
    },
    {
      "cell_type": "markdown",
      "metadata": {
        "id": "IpvrCbq7PSoe"
      },
      "source": [
        "Для начала подключим sqlite (скачаем свежий образ, поддерживающий оконные функции)"
      ]
    },
    {
      "cell_type": "code",
      "metadata": {
        "colab": {
          "base_uri": "https://localhost:8080/"
        },
        "id": "l7UkCSzmew5E",
        "outputId": "ac646a7f-0c10-4aa4-b9aa-6dde1e2edbe0"
      },
      "source": [
        "!gdown --id 1BSHIKQ7rFw5BpTq5nw1UZfjPK_7Mpnbi\n",
        "!mv _sqlite3.cpython-37m-x86_64-linux-gnu.so /usr/lib/python3.7/lib-dynload/\n",
        "import os\n",
        "os.kill(os.getpid(), 9)"
      ],
      "execution_count": null,
      "outputs": [
        {
          "output_type": "stream",
          "name": "stdout",
          "text": [
            "Downloading...\n",
            "From: https://drive.google.com/uc?id=1BSHIKQ7rFw5BpTq5nw1UZfjPK_7Mpnbi\n",
            "To: /content/_sqlite3.cpython-37m-x86_64-linux-gnu.so\n",
            "\r0.00B [00:00, ?B/s]\r6.33MB [00:00, 55.4MB/s]\n"
          ]
        }
      ]
    },
    {
      "cell_type": "code",
      "metadata": {
        "id": "V3sCH9EEewJK"
      },
      "source": [
        "import sqlite3\n",
        "import pandas as pd\n",
        "import numpy as np"
      ],
      "execution_count": null,
      "outputs": []
    },
    {
      "cell_type": "code",
      "metadata": {
        "colab": {
          "base_uri": "https://localhost:8080/",
          "height": 35
        },
        "id": "RwCK7YBIe3QZ",
        "outputId": "9d62f791-adbd-4d7d-b18d-0289d51431f5"
      },
      "source": [
        "sqlite3.sqlite_version"
      ],
      "execution_count": null,
      "outputs": [
        {
          "output_type": "execute_result",
          "data": {
            "application/vnd.google.colaboratory.intrinsic+json": {
              "type": "string"
            },
            "text/plain": [
              "'3.36.0'"
            ]
          },
          "metadata": {},
          "execution_count": 2
        }
      ]
    },
    {
      "cell_type": "code",
      "metadata": {
        "id": "A_AiL-oze7pP"
      },
      "source": [
        "con = sqlite3.connect('db')"
      ],
      "execution_count": null,
      "outputs": []
    },
    {
      "cell_type": "markdown",
      "metadata": {
        "id": "lcKb5TcifjHs"
      },
      "source": [
        "Сгенерируем тестовые данные"
      ]
    },
    {
      "cell_type": "code",
      "metadata": {
        "id": "U6dHQkzIhLH_"
      },
      "source": [
        "cur = con.cursor()"
      ],
      "execution_count": null,
      "outputs": []
    },
    {
      "cell_type": "code",
      "metadata": {
        "id": "AKk-GWvyfpe-"
      },
      "source": [
        "sql = '''\n",
        "drop table if exists departments;\n",
        "\n",
        "create table departments (id integer PRIMARY KEY, name varchar(255) NOT NULL);\n",
        "\n",
        "insert into departments values\n",
        "  (1, 'Finance'), \n",
        "  (2, 'Operations'),\n",
        "  (3, 'Deployment');\n",
        "'''"
      ],
      "execution_count": null,
      "outputs": []
    },
    {
      "cell_type": "code",
      "metadata": {
        "colab": {
          "base_uri": "https://localhost:8080/"
        },
        "id": "MTKybcKNhU0C",
        "outputId": "0f96187b-92a5-4920-9506-96627e0958c4"
      },
      "source": [
        "cur.executescript(sql)"
      ],
      "execution_count": null,
      "outputs": [
        {
          "output_type": "execute_result",
          "data": {
            "text/plain": [
              "<pysqlite3.dbapi2.Cursor at 0x7fb7dc31cab0>"
            ]
          },
          "metadata": {},
          "execution_count": 6
        }
      ]
    },
    {
      "cell_type": "markdown",
      "metadata": {
        "id": "PC7eTr69fRL2"
      },
      "source": [
        "Создадим функцию выполнения запроса SQL чтобы удобно к ней обращаться"
      ]
    },
    {
      "cell_type": "code",
      "metadata": {
        "id": "D5gLrcMLil5c"
      },
      "source": [
        "def select(sql):\n",
        "  return pd.read_sql(sql, con)"
      ],
      "execution_count": null,
      "outputs": []
    },
    {
      "cell_type": "markdown",
      "metadata": {
        "id": "_wo1_XDPiMdM"
      },
      "source": [
        "Проверим, что все корректно создалось и заполнилось"
      ]
    },
    {
      "cell_type": "code",
      "metadata": {
        "id": "47dku8MGiPUP"
      },
      "source": [
        "sql = '''select t.* from departments t'''"
      ],
      "execution_count": null,
      "outputs": []
    },
    {
      "cell_type": "code",
      "metadata": {
        "colab": {
          "base_uri": "https://localhost:8080/",
          "height": 143
        },
        "id": "I57zk3fbfcg1",
        "outputId": "7acea08f-e265-4ae6-d973-b80313294349"
      },
      "source": [
        "select(sql)"
      ],
      "execution_count": null,
      "outputs": [
        {
          "output_type": "execute_result",
          "data": {
            "text/html": [
              "<div>\n",
              "<style scoped>\n",
              "    .dataframe tbody tr th:only-of-type {\n",
              "        vertical-align: middle;\n",
              "    }\n",
              "\n",
              "    .dataframe tbody tr th {\n",
              "        vertical-align: top;\n",
              "    }\n",
              "\n",
              "    .dataframe thead th {\n",
              "        text-align: right;\n",
              "    }\n",
              "</style>\n",
              "<table border=\"1\" class=\"dataframe\">\n",
              "  <thead>\n",
              "    <tr style=\"text-align: right;\">\n",
              "      <th></th>\n",
              "      <th>id</th>\n",
              "      <th>name</th>\n",
              "    </tr>\n",
              "  </thead>\n",
              "  <tbody>\n",
              "    <tr>\n",
              "      <th>0</th>\n",
              "      <td>1</td>\n",
              "      <td>Finance</td>\n",
              "    </tr>\n",
              "    <tr>\n",
              "      <th>1</th>\n",
              "      <td>2</td>\n",
              "      <td>Operations</td>\n",
              "    </tr>\n",
              "    <tr>\n",
              "      <th>2</th>\n",
              "      <td>3</td>\n",
              "      <td>Deployment</td>\n",
              "    </tr>\n",
              "  </tbody>\n",
              "</table>\n",
              "</div>"
            ],
            "text/plain": [
              "   id        name\n",
              "0   1     Finance\n",
              "1   2  Operations\n",
              "2   3  Deployment"
            ]
          },
          "metadata": {},
          "execution_count": 9
        }
      ]
    },
    {
      "cell_type": "code",
      "metadata": {
        "id": "Rof55wSKiwjP"
      },
      "source": [
        "sql = '''\n",
        "drop table if exists employees;\n",
        "create table employees (id integer PRIMARY KEY, name varchar(255) NOT NULL, dep_id integer,  manager_id integer, salary integer);\n",
        "\n",
        "insert into employees values\n",
        "(1, 'John Smith', 1, null, 2000),\n",
        "(2, 'Jack Smith', null, 1, 1500),\n",
        "(3, 'Becky Smith', 1, 2, 2000),\n",
        "(4, 'Rebecca Smith', 2, 2, 700),\n",
        "(5, 'Sonny Smith', 3, 1, 3000);\n",
        "'''"
      ],
      "execution_count": null,
      "outputs": []
    },
    {
      "cell_type": "code",
      "metadata": {
        "colab": {
          "base_uri": "https://localhost:8080/"
        },
        "id": "nd8k2OU1jupG",
        "outputId": "be813d18-c275-4b3e-8b0b-9cfe26030e91"
      },
      "source": [
        "cur.executescript(sql)"
      ],
      "execution_count": null,
      "outputs": [
        {
          "output_type": "execute_result",
          "data": {
            "text/plain": [
              "<pysqlite3.dbapi2.Cursor at 0x7fb7dc31cab0>"
            ]
          },
          "metadata": {},
          "execution_count": 11
        }
      ]
    },
    {
      "cell_type": "code",
      "metadata": {
        "id": "-6NcKEguj5GX"
      },
      "source": [
        "sql = '''select t.* from employees t'''"
      ],
      "execution_count": null,
      "outputs": []
    },
    {
      "cell_type": "code",
      "metadata": {
        "colab": {
          "base_uri": "https://localhost:8080/",
          "height": 206
        },
        "id": "dz2yO9Gaj9_u",
        "outputId": "d3be5a06-2074-4d49-965f-4102d343de8d"
      },
      "source": [
        "select(sql)"
      ],
      "execution_count": null,
      "outputs": [
        {
          "output_type": "execute_result",
          "data": {
            "text/html": [
              "<div>\n",
              "<style scoped>\n",
              "    .dataframe tbody tr th:only-of-type {\n",
              "        vertical-align: middle;\n",
              "    }\n",
              "\n",
              "    .dataframe tbody tr th {\n",
              "        vertical-align: top;\n",
              "    }\n",
              "\n",
              "    .dataframe thead th {\n",
              "        text-align: right;\n",
              "    }\n",
              "</style>\n",
              "<table border=\"1\" class=\"dataframe\">\n",
              "  <thead>\n",
              "    <tr style=\"text-align: right;\">\n",
              "      <th></th>\n",
              "      <th>id</th>\n",
              "      <th>name</th>\n",
              "      <th>dep_id</th>\n",
              "      <th>manager_id</th>\n",
              "      <th>salary</th>\n",
              "    </tr>\n",
              "  </thead>\n",
              "  <tbody>\n",
              "    <tr>\n",
              "      <th>0</th>\n",
              "      <td>1</td>\n",
              "      <td>John Smith</td>\n",
              "      <td>1.0</td>\n",
              "      <td>NaN</td>\n",
              "      <td>2000</td>\n",
              "    </tr>\n",
              "    <tr>\n",
              "      <th>1</th>\n",
              "      <td>2</td>\n",
              "      <td>Jack Smith</td>\n",
              "      <td>NaN</td>\n",
              "      <td>1.0</td>\n",
              "      <td>1500</td>\n",
              "    </tr>\n",
              "    <tr>\n",
              "      <th>2</th>\n",
              "      <td>3</td>\n",
              "      <td>Becky Smith</td>\n",
              "      <td>1.0</td>\n",
              "      <td>2.0</td>\n",
              "      <td>2000</td>\n",
              "    </tr>\n",
              "    <tr>\n",
              "      <th>3</th>\n",
              "      <td>4</td>\n",
              "      <td>Rebecca Smith</td>\n",
              "      <td>2.0</td>\n",
              "      <td>2.0</td>\n",
              "      <td>700</td>\n",
              "    </tr>\n",
              "    <tr>\n",
              "      <th>4</th>\n",
              "      <td>5</td>\n",
              "      <td>Sonny Smith</td>\n",
              "      <td>3.0</td>\n",
              "      <td>1.0</td>\n",
              "      <td>3000</td>\n",
              "    </tr>\n",
              "  </tbody>\n",
              "</table>\n",
              "</div>"
            ],
            "text/plain": [
              "   id           name  dep_id  manager_id  salary\n",
              "0   1     John Smith     1.0         NaN    2000\n",
              "1   2     Jack Smith     NaN         1.0    1500\n",
              "2   3    Becky Smith     1.0         2.0    2000\n",
              "3   4  Rebecca Smith     2.0         2.0     700\n",
              "4   5    Sonny Smith     3.0         1.0    3000"
            ]
          },
          "metadata": {},
          "execution_count": 14
        }
      ]
    },
    {
      "cell_type": "markdown",
      "metadata": {
        "id": "d3bjWU5BkAOt"
      },
      "source": [
        "Приступим к выполнению задания.\n",
        "#### а) Для каждого сотрудника найти его депаратамент, включая тех, у кого депаратамента нет\n",
        "\n",
        "Не совсем понятно из задания, что надо найти, если этого нет.\n",
        "\n",
        "А, я понял. Вероятно, имелось ввиду, если нет департамента, но общий руководитель (manager_id), скорее всего они принадлежат к одному департаменту (ну, или будут принадлежать, не будем вдаваться в проблемы этой организации)\n",
        "\n",
        "По сути, в этой задаче нам надо проставить недостающий dep_id тем, у кого имеется manager_id, а потом просто приджойнить таблицу с названиями департаментов к таблице с работниками.\n",
        "\n",
        "А перед этим восстановим недостающие manager_id тем, у кого есть  dep_id и отсутствует manager_id\n",
        "\n",
        "Для этого я проставлю минимальный manager_id (если их попадется несколько) для среди пользователей в том же депаратаменте"
      ]
    },
    {
      "cell_type": "code",
      "metadata": {
        "id": "Oc_Dut1Za2VM"
      },
      "source": [
        "sql = '''\n",
        "select \n",
        "t.*, \n",
        "min (t.manager_id) over (partition by t.dep_id) as new_manager_id \n",
        "from employees t\n",
        "order by id\n",
        "'''"
      ],
      "execution_count": null,
      "outputs": []
    },
    {
      "cell_type": "code",
      "metadata": {
        "colab": {
          "base_uri": "https://localhost:8080/",
          "height": 206
        },
        "id": "lkoOIgm6a6W2",
        "outputId": "398c3954-72d5-4243-ea1e-47f62c689e31"
      },
      "source": [
        "select(sql)"
      ],
      "execution_count": null,
      "outputs": [
        {
          "output_type": "execute_result",
          "data": {
            "text/html": [
              "<div>\n",
              "<style scoped>\n",
              "    .dataframe tbody tr th:only-of-type {\n",
              "        vertical-align: middle;\n",
              "    }\n",
              "\n",
              "    .dataframe tbody tr th {\n",
              "        vertical-align: top;\n",
              "    }\n",
              "\n",
              "    .dataframe thead th {\n",
              "        text-align: right;\n",
              "    }\n",
              "</style>\n",
              "<table border=\"1\" class=\"dataframe\">\n",
              "  <thead>\n",
              "    <tr style=\"text-align: right;\">\n",
              "      <th></th>\n",
              "      <th>id</th>\n",
              "      <th>name</th>\n",
              "      <th>dep_id</th>\n",
              "      <th>manager_id</th>\n",
              "      <th>salary</th>\n",
              "      <th>new_manager_id</th>\n",
              "    </tr>\n",
              "  </thead>\n",
              "  <tbody>\n",
              "    <tr>\n",
              "      <th>0</th>\n",
              "      <td>1</td>\n",
              "      <td>John Smith</td>\n",
              "      <td>1.0</td>\n",
              "      <td>NaN</td>\n",
              "      <td>2000</td>\n",
              "      <td>2</td>\n",
              "    </tr>\n",
              "    <tr>\n",
              "      <th>1</th>\n",
              "      <td>2</td>\n",
              "      <td>Jack Smith</td>\n",
              "      <td>NaN</td>\n",
              "      <td>1.0</td>\n",
              "      <td>1500</td>\n",
              "      <td>1</td>\n",
              "    </tr>\n",
              "    <tr>\n",
              "      <th>2</th>\n",
              "      <td>3</td>\n",
              "      <td>Becky Smith</td>\n",
              "      <td>1.0</td>\n",
              "      <td>2.0</td>\n",
              "      <td>2000</td>\n",
              "      <td>2</td>\n",
              "    </tr>\n",
              "    <tr>\n",
              "      <th>3</th>\n",
              "      <td>4</td>\n",
              "      <td>Rebecca Smith</td>\n",
              "      <td>2.0</td>\n",
              "      <td>2.0</td>\n",
              "      <td>700</td>\n",
              "      <td>2</td>\n",
              "    </tr>\n",
              "    <tr>\n",
              "      <th>4</th>\n",
              "      <td>5</td>\n",
              "      <td>Sonny Smith</td>\n",
              "      <td>3.0</td>\n",
              "      <td>1.0</td>\n",
              "      <td>3000</td>\n",
              "      <td>1</td>\n",
              "    </tr>\n",
              "  </tbody>\n",
              "</table>\n",
              "</div>"
            ],
            "text/plain": [
              "   id           name  dep_id  manager_id  salary  new_manager_id\n",
              "0   1     John Smith     1.0         NaN    2000               2\n",
              "1   2     Jack Smith     NaN         1.0    1500               1\n",
              "2   3    Becky Smith     1.0         2.0    2000               2\n",
              "3   4  Rebecca Smith     2.0         2.0     700               2\n",
              "4   5    Sonny Smith     3.0         1.0    3000               1"
            ]
          },
          "metadata": {},
          "execution_count": 43
        }
      ]
    },
    {
      "cell_type": "markdown",
      "metadata": {
        "id": "FHshFykpbfSM"
      },
      "source": [
        "Теперь проставим недостающие номера департаментов"
      ]
    },
    {
      "cell_type": "code",
      "metadata": {
        "id": "fYbnTophbnJT"
      },
      "source": [
        "sql = '''\n",
        "with updated_managers as (\n",
        "  select t.*,\n",
        "    min (t.manager_id) over (partition by t.dep_id) as new_manager_id\n",
        "from employees t)\n",
        "\n",
        "  select t.*, \n",
        "  min (t.dep_id) over (partition by t.new_manager_id) as new_dep_id\n",
        "from updated_managers t\n",
        "order by id\n",
        "'''"
      ],
      "execution_count": null,
      "outputs": []
    },
    {
      "cell_type": "code",
      "metadata": {
        "colab": {
          "base_uri": "https://localhost:8080/",
          "height": 206
        },
        "id": "vdTS0GZabrlZ",
        "outputId": "8ad95e2b-fe6c-490d-b9ec-83b266d59ad0"
      },
      "source": [
        "select(sql)"
      ],
      "execution_count": null,
      "outputs": [
        {
          "output_type": "execute_result",
          "data": {
            "text/html": [
              "<div>\n",
              "<style scoped>\n",
              "    .dataframe tbody tr th:only-of-type {\n",
              "        vertical-align: middle;\n",
              "    }\n",
              "\n",
              "    .dataframe tbody tr th {\n",
              "        vertical-align: top;\n",
              "    }\n",
              "\n",
              "    .dataframe thead th {\n",
              "        text-align: right;\n",
              "    }\n",
              "</style>\n",
              "<table border=\"1\" class=\"dataframe\">\n",
              "  <thead>\n",
              "    <tr style=\"text-align: right;\">\n",
              "      <th></th>\n",
              "      <th>id</th>\n",
              "      <th>name</th>\n",
              "      <th>dep_id</th>\n",
              "      <th>manager_id</th>\n",
              "      <th>salary</th>\n",
              "      <th>new_manager_id</th>\n",
              "      <th>new_dep_id</th>\n",
              "    </tr>\n",
              "  </thead>\n",
              "  <tbody>\n",
              "    <tr>\n",
              "      <th>0</th>\n",
              "      <td>1</td>\n",
              "      <td>John Smith</td>\n",
              "      <td>1.0</td>\n",
              "      <td>NaN</td>\n",
              "      <td>2000</td>\n",
              "      <td>2</td>\n",
              "      <td>1</td>\n",
              "    </tr>\n",
              "    <tr>\n",
              "      <th>1</th>\n",
              "      <td>2</td>\n",
              "      <td>Jack Smith</td>\n",
              "      <td>NaN</td>\n",
              "      <td>1.0</td>\n",
              "      <td>1500</td>\n",
              "      <td>1</td>\n",
              "      <td>3</td>\n",
              "    </tr>\n",
              "    <tr>\n",
              "      <th>2</th>\n",
              "      <td>3</td>\n",
              "      <td>Becky Smith</td>\n",
              "      <td>1.0</td>\n",
              "      <td>2.0</td>\n",
              "      <td>2000</td>\n",
              "      <td>2</td>\n",
              "      <td>1</td>\n",
              "    </tr>\n",
              "    <tr>\n",
              "      <th>3</th>\n",
              "      <td>4</td>\n",
              "      <td>Rebecca Smith</td>\n",
              "      <td>2.0</td>\n",
              "      <td>2.0</td>\n",
              "      <td>700</td>\n",
              "      <td>2</td>\n",
              "      <td>1</td>\n",
              "    </tr>\n",
              "    <tr>\n",
              "      <th>4</th>\n",
              "      <td>5</td>\n",
              "      <td>Sonny Smith</td>\n",
              "      <td>3.0</td>\n",
              "      <td>1.0</td>\n",
              "      <td>3000</td>\n",
              "      <td>1</td>\n",
              "      <td>3</td>\n",
              "    </tr>\n",
              "  </tbody>\n",
              "</table>\n",
              "</div>"
            ],
            "text/plain": [
              "   id           name  dep_id  manager_id  salary  new_manager_id  new_dep_id\n",
              "0   1     John Smith     1.0         NaN    2000               2           1\n",
              "1   2     Jack Smith     NaN         1.0    1500               1           3\n",
              "2   3    Becky Smith     1.0         2.0    2000               2           1\n",
              "3   4  Rebecca Smith     2.0         2.0     700               2           1\n",
              "4   5    Sonny Smith     3.0         1.0    3000               1           3"
            ]
          },
          "metadata": {},
          "execution_count": 48
        }
      ]
    },
    {
      "cell_type": "markdown",
      "metadata": {
        "id": "o4EnJlpwby_d"
      },
      "source": [
        "Так как у некоторых сотрудников в одном департаменте может быть несколько менеджеров, а я взял функцию min, то пользователям, у кого уже был dep_id проставится некорректный. Для этого напишем еще один запрос, который проставит новый dep_id только для тех, у кого изначально он отсутствовал"
      ]
    },
    {
      "cell_type": "code",
      "metadata": {
        "id": "xQwsG6Brt8qb"
      },
      "source": [
        "sql = '''\n",
        "with updated_managers as (\n",
        "  select t.*,\n",
        "    min (t.manager_id) over (partition by t.dep_id) as new_manager_id\n",
        "from employees t),\n",
        "\n",
        "updated_deps as (\n",
        "  select t.*, \n",
        "  min (t.dep_id) over (partition by t.new_manager_id) as new_dep_id\n",
        "from updated_managers t)\n",
        "\n",
        "select \n",
        "  t.id, t.name, \n",
        "  case when t.dep_id is NULL then t.new_dep_id else t.dep_id end as dep_id,\n",
        "  t.new_manager_id as manager_id,\n",
        "  t.salary\n",
        "from updated_deps t\n",
        "order by id\n",
        "'''"
      ],
      "execution_count": null,
      "outputs": []
    },
    {
      "cell_type": "code",
      "metadata": {
        "colab": {
          "base_uri": "https://localhost:8080/",
          "height": 206
        },
        "id": "bOWRvdzguIf6",
        "outputId": "9de3709d-3bc8-43f4-d315-a93c3d25036e"
      },
      "source": [
        "select(sql)"
      ],
      "execution_count": null,
      "outputs": [
        {
          "output_type": "execute_result",
          "data": {
            "text/html": [
              "<div>\n",
              "<style scoped>\n",
              "    .dataframe tbody tr th:only-of-type {\n",
              "        vertical-align: middle;\n",
              "    }\n",
              "\n",
              "    .dataframe tbody tr th {\n",
              "        vertical-align: top;\n",
              "    }\n",
              "\n",
              "    .dataframe thead th {\n",
              "        text-align: right;\n",
              "    }\n",
              "</style>\n",
              "<table border=\"1\" class=\"dataframe\">\n",
              "  <thead>\n",
              "    <tr style=\"text-align: right;\">\n",
              "      <th></th>\n",
              "      <th>id</th>\n",
              "      <th>name</th>\n",
              "      <th>dep_id</th>\n",
              "      <th>manager_id</th>\n",
              "      <th>salary</th>\n",
              "    </tr>\n",
              "  </thead>\n",
              "  <tbody>\n",
              "    <tr>\n",
              "      <th>0</th>\n",
              "      <td>1</td>\n",
              "      <td>John Smith</td>\n",
              "      <td>1</td>\n",
              "      <td>2</td>\n",
              "      <td>2000</td>\n",
              "    </tr>\n",
              "    <tr>\n",
              "      <th>1</th>\n",
              "      <td>2</td>\n",
              "      <td>Jack Smith</td>\n",
              "      <td>3</td>\n",
              "      <td>1</td>\n",
              "      <td>1500</td>\n",
              "    </tr>\n",
              "    <tr>\n",
              "      <th>2</th>\n",
              "      <td>3</td>\n",
              "      <td>Becky Smith</td>\n",
              "      <td>1</td>\n",
              "      <td>2</td>\n",
              "      <td>2000</td>\n",
              "    </tr>\n",
              "    <tr>\n",
              "      <th>3</th>\n",
              "      <td>4</td>\n",
              "      <td>Rebecca Smith</td>\n",
              "      <td>2</td>\n",
              "      <td>2</td>\n",
              "      <td>700</td>\n",
              "    </tr>\n",
              "    <tr>\n",
              "      <th>4</th>\n",
              "      <td>5</td>\n",
              "      <td>Sonny Smith</td>\n",
              "      <td>3</td>\n",
              "      <td>1</td>\n",
              "      <td>3000</td>\n",
              "    </tr>\n",
              "  </tbody>\n",
              "</table>\n",
              "</div>"
            ],
            "text/plain": [
              "   id           name  dep_id  manager_id  salary\n",
              "0   1     John Smith       1           2    2000\n",
              "1   2     Jack Smith       3           1    1500\n",
              "2   3    Becky Smith       1           2    2000\n",
              "3   4  Rebecca Smith       2           2     700\n",
              "4   5    Sonny Smith       3           1    3000"
            ]
          },
          "metadata": {},
          "execution_count": 54
        }
      ]
    },
    {
      "cell_type": "markdown",
      "metadata": {
        "id": "TjiYJPodcSXv"
      },
      "source": [
        "#### б) Найти наибольшую зарплату по департаментам и отсортировать департаменты по убыванию максимальной зарплаты\n",
        "Найдем максимальную зарплату для каждого департамента, и выведем в убывающем порядке"
      ]
    },
    {
      "cell_type": "code",
      "metadata": {
        "id": "wsSFyZKBcx23"
      },
      "source": [
        "sql = '''\n",
        "with updated_managers as (\n",
        "  select t.*,\n",
        "    min (t.manager_id) over (partition by t.dep_id) as new_manager_id\n",
        "from employees t),\n",
        "\n",
        "updated_deps as (\n",
        "  select t.*, \n",
        "  min (t.dep_id) over (partition by t.new_manager_id) as new_dep_id\n",
        "from updated_managers t),\n",
        "\n",
        "updated_employees as (select \n",
        "  t.id, t.name, \n",
        "  case when t.dep_id is NULL then t.new_dep_id else t.dep_id end as dep_id,\n",
        "  t.new_manager_id as manager_id,\n",
        "  t.salary\n",
        "from updated_deps t)\n",
        "\n",
        "select \n",
        "  t.dep_id, max(t.salary) as max_salary\n",
        "from updated_employees t\n",
        "group by 1\n",
        "order by max_salary desc\n",
        "'''"
      ],
      "execution_count": null,
      "outputs": []
    },
    {
      "cell_type": "code",
      "metadata": {
        "colab": {
          "base_uri": "https://localhost:8080/",
          "height": 143
        },
        "id": "cQ7FIJJYdaWj",
        "outputId": "b2a6057a-14eb-40a8-eaeb-c43a1941e16e"
      },
      "source": [
        "select(sql)"
      ],
      "execution_count": null,
      "outputs": [
        {
          "output_type": "execute_result",
          "data": {
            "text/html": [
              "<div>\n",
              "<style scoped>\n",
              "    .dataframe tbody tr th:only-of-type {\n",
              "        vertical-align: middle;\n",
              "    }\n",
              "\n",
              "    .dataframe tbody tr th {\n",
              "        vertical-align: top;\n",
              "    }\n",
              "\n",
              "    .dataframe thead th {\n",
              "        text-align: right;\n",
              "    }\n",
              "</style>\n",
              "<table border=\"1\" class=\"dataframe\">\n",
              "  <thead>\n",
              "    <tr style=\"text-align: right;\">\n",
              "      <th></th>\n",
              "      <th>dep_id</th>\n",
              "      <th>max_salary</th>\n",
              "    </tr>\n",
              "  </thead>\n",
              "  <tbody>\n",
              "    <tr>\n",
              "      <th>0</th>\n",
              "      <td>3</td>\n",
              "      <td>3000</td>\n",
              "    </tr>\n",
              "    <tr>\n",
              "      <th>1</th>\n",
              "      <td>1</td>\n",
              "      <td>2000</td>\n",
              "    </tr>\n",
              "    <tr>\n",
              "      <th>2</th>\n",
              "      <td>2</td>\n",
              "      <td>700</td>\n",
              "    </tr>\n",
              "  </tbody>\n",
              "</table>\n",
              "</div>"
            ],
            "text/plain": [
              "   dep_id  max_salary\n",
              "0       3        3000\n",
              "1       1        2000\n",
              "2       2         700"
            ]
          },
          "metadata": {},
          "execution_count": 79
        }
      ]
    },
    {
      "cell_type": "markdown",
      "metadata": {
        "id": "Pg88Q5ovdN9f"
      },
      "source": [
        "## Обычная SQL задача 2\n",
        "![image.png](data:image/png;base64,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)"
      ]
    },
    {
      "cell_type": "markdown",
      "metadata": {
        "id": "icj1VhhIdcVO"
      },
      "source": [
        "Используя таблицу выше, напиши следующие SQL запросы:\n",
        "\n",
        "a) Посчитай доход с женской аудитории (доход= сумма price*items)\n",
        "\n",
        "b) Сравни доход по группе мужчин и женщин\n",
        "\n",
        "c) Посчитай кол-во уникальных пользователей-мужчин, заказавших\n",
        "более чем три айтема (суммарно за все заказы)."
      ]
    },
    {
      "cell_type": "markdown",
      "metadata": {
        "id": "nbtmzflN-9x7"
      },
      "source": [
        "### Решение"
      ]
    },
    {
      "cell_type": "markdown",
      "metadata": {
        "id": "dEu4Jql5qd9j"
      },
      "source": [
        "#### Заливка данных"
      ]
    },
    {
      "cell_type": "code",
      "metadata": {
        "id": "qhdnx3a0qdtX"
      },
      "source": [
        "sql = '''\n",
        "drop table if exists purchases;\n",
        "\n",
        "create table purchases (user_id integer, user_gender varchar(10), items integer, price integer);\n",
        "\n",
        "insert into purchases values\n",
        "(101, 'f', 3, 100),\n",
        "(102, 'female', 0, 0),\n",
        "(103, 'm', 0, 0),\n",
        "(101, 'f', 2, 100),\n",
        "(105, 'male', 2, 100),\n",
        "(103, 'm', 0, 0)\n",
        "'''"
      ],
      "execution_count": null,
      "outputs": []
    },
    {
      "cell_type": "code",
      "metadata": {
        "colab": {
          "base_uri": "https://localhost:8080/"
        },
        "id": "99q5_vSzrwI-",
        "outputId": "b3fcda64-aef3-4e12-9745-2f911e64a617"
      },
      "source": [
        "cur.executescript(sql)"
      ],
      "execution_count": null,
      "outputs": [
        {
          "output_type": "execute_result",
          "data": {
            "text/plain": [
              "<pysqlite3.dbapi2.Cursor at 0x7fb7dc31cab0>"
            ]
          },
          "metadata": {},
          "execution_count": 197
        }
      ]
    },
    {
      "cell_type": "code",
      "metadata": {
        "id": "pZbAFUBxr8jw"
      },
      "source": [
        "sql = '''\n",
        "select t.* from purchases t\n",
        "'''"
      ],
      "execution_count": null,
      "outputs": []
    },
    {
      "cell_type": "code",
      "metadata": {
        "colab": {
          "base_uri": "https://localhost:8080/",
          "height": 238
        },
        "id": "HpzYI0pzsBbJ",
        "outputId": "adcff37e-9da5-42ac-96c2-dafbebe237fe"
      },
      "source": [
        "select(sql)"
      ],
      "execution_count": null,
      "outputs": [
        {
          "output_type": "execute_result",
          "data": {
            "text/html": [
              "<div>\n",
              "<style scoped>\n",
              "    .dataframe tbody tr th:only-of-type {\n",
              "        vertical-align: middle;\n",
              "    }\n",
              "\n",
              "    .dataframe tbody tr th {\n",
              "        vertical-align: top;\n",
              "    }\n",
              "\n",
              "    .dataframe thead th {\n",
              "        text-align: right;\n",
              "    }\n",
              "</style>\n",
              "<table border=\"1\" class=\"dataframe\">\n",
              "  <thead>\n",
              "    <tr style=\"text-align: right;\">\n",
              "      <th></th>\n",
              "      <th>user_id</th>\n",
              "      <th>user_gender</th>\n",
              "      <th>items</th>\n",
              "      <th>price</th>\n",
              "    </tr>\n",
              "  </thead>\n",
              "  <tbody>\n",
              "    <tr>\n",
              "      <th>0</th>\n",
              "      <td>101</td>\n",
              "      <td>f</td>\n",
              "      <td>3</td>\n",
              "      <td>100</td>\n",
              "    </tr>\n",
              "    <tr>\n",
              "      <th>1</th>\n",
              "      <td>102</td>\n",
              "      <td>female</td>\n",
              "      <td>0</td>\n",
              "      <td>0</td>\n",
              "    </tr>\n",
              "    <tr>\n",
              "      <th>2</th>\n",
              "      <td>103</td>\n",
              "      <td>m</td>\n",
              "      <td>0</td>\n",
              "      <td>0</td>\n",
              "    </tr>\n",
              "    <tr>\n",
              "      <th>3</th>\n",
              "      <td>101</td>\n",
              "      <td>f</td>\n",
              "      <td>2</td>\n",
              "      <td>100</td>\n",
              "    </tr>\n",
              "    <tr>\n",
              "      <th>4</th>\n",
              "      <td>105</td>\n",
              "      <td>male</td>\n",
              "      <td>2</td>\n",
              "      <td>100</td>\n",
              "    </tr>\n",
              "    <tr>\n",
              "      <th>5</th>\n",
              "      <td>103</td>\n",
              "      <td>m</td>\n",
              "      <td>0</td>\n",
              "      <td>0</td>\n",
              "    </tr>\n",
              "  </tbody>\n",
              "</table>\n",
              "</div>"
            ],
            "text/plain": [
              "   user_id user_gender  items  price\n",
              "0      101           f      3    100\n",
              "1      102      female      0      0\n",
              "2      103           m      0      0\n",
              "3      101           f      2    100\n",
              "4      105        male      2    100\n",
              "5      103           m      0      0"
            ]
          },
          "metadata": {},
          "execution_count": 199
        }
      ]
    },
    {
      "cell_type": "markdown",
      "metadata": {
        "id": "7xCFv3YyqYi2"
      },
      "source": [
        "#### а) Посчитай доход с женской аудитории (доход= сумма price*items)\n",
        "\n",
        "Сначала посчитаем revenue и сразу добавим новый столбец с полом в едином формате"
      ]
    },
    {
      "cell_type": "code",
      "metadata": {
        "id": "kXSoa-yTqcMg"
      },
      "source": [
        "sql = '''\n",
        "select \n",
        "  t.*,\n",
        "  (t.items * t.price) as revenue,\n",
        "  case when t.user_gender like 'f%' then 'f' else 'm' end as gender\n",
        "from purchases t\n",
        "'''"
      ],
      "execution_count": null,
      "outputs": []
    },
    {
      "cell_type": "code",
      "metadata": {
        "colab": {
          "base_uri": "https://localhost:8080/",
          "height": 238
        },
        "id": "E2ObZfQls_F2",
        "outputId": "1783f462-39c8-4677-a69a-86f98f0a3b87"
      },
      "source": [
        "select(sql)"
      ],
      "execution_count": null,
      "outputs": [
        {
          "output_type": "execute_result",
          "data": {
            "text/html": [
              "<div>\n",
              "<style scoped>\n",
              "    .dataframe tbody tr th:only-of-type {\n",
              "        vertical-align: middle;\n",
              "    }\n",
              "\n",
              "    .dataframe tbody tr th {\n",
              "        vertical-align: top;\n",
              "    }\n",
              "\n",
              "    .dataframe thead th {\n",
              "        text-align: right;\n",
              "    }\n",
              "</style>\n",
              "<table border=\"1\" class=\"dataframe\">\n",
              "  <thead>\n",
              "    <tr style=\"text-align: right;\">\n",
              "      <th></th>\n",
              "      <th>user_id</th>\n",
              "      <th>user_gender</th>\n",
              "      <th>items</th>\n",
              "      <th>price</th>\n",
              "      <th>revenue</th>\n",
              "      <th>gender</th>\n",
              "    </tr>\n",
              "  </thead>\n",
              "  <tbody>\n",
              "    <tr>\n",
              "      <th>0</th>\n",
              "      <td>101</td>\n",
              "      <td>f</td>\n",
              "      <td>3</td>\n",
              "      <td>100</td>\n",
              "      <td>300</td>\n",
              "      <td>f</td>\n",
              "    </tr>\n",
              "    <tr>\n",
              "      <th>1</th>\n",
              "      <td>102</td>\n",
              "      <td>female</td>\n",
              "      <td>0</td>\n",
              "      <td>0</td>\n",
              "      <td>0</td>\n",
              "      <td>f</td>\n",
              "    </tr>\n",
              "    <tr>\n",
              "      <th>2</th>\n",
              "      <td>103</td>\n",
              "      <td>m</td>\n",
              "      <td>0</td>\n",
              "      <td>0</td>\n",
              "      <td>0</td>\n",
              "      <td>m</td>\n",
              "    </tr>\n",
              "    <tr>\n",
              "      <th>3</th>\n",
              "      <td>101</td>\n",
              "      <td>f</td>\n",
              "      <td>2</td>\n",
              "      <td>100</td>\n",
              "      <td>200</td>\n",
              "      <td>f</td>\n",
              "    </tr>\n",
              "    <tr>\n",
              "      <th>4</th>\n",
              "      <td>105</td>\n",
              "      <td>male</td>\n",
              "      <td>2</td>\n",
              "      <td>100</td>\n",
              "      <td>200</td>\n",
              "      <td>m</td>\n",
              "    </tr>\n",
              "    <tr>\n",
              "      <th>5</th>\n",
              "      <td>103</td>\n",
              "      <td>m</td>\n",
              "      <td>0</td>\n",
              "      <td>0</td>\n",
              "      <td>0</td>\n",
              "      <td>m</td>\n",
              "    </tr>\n",
              "  </tbody>\n",
              "</table>\n",
              "</div>"
            ],
            "text/plain": [
              "   user_id user_gender  items  price  revenue gender\n",
              "0      101           f      3    100      300      f\n",
              "1      102      female      0      0        0      f\n",
              "2      103           m      0      0        0      m\n",
              "3      101           f      2    100      200      f\n",
              "4      105        male      2    100      200      m\n",
              "5      103           m      0      0        0      m"
            ]
          },
          "metadata": {},
          "execution_count": 100
        }
      ]
    },
    {
      "cell_type": "markdown",
      "metadata": {
        "id": "1zYlYjPktLym"
      },
      "source": [
        "Теперь осталось сгруппировать по полу и просуммировать revenue. Вижу, что есть разные записи у одного и того же пользователя, их нужно просто сложить, никакой обработки по каждому пользователю отдельно не требуется."
      ]
    },
    {
      "cell_type": "code",
      "metadata": {
        "id": "6qxk-BjDunn0"
      },
      "source": [
        "sql = '''\n",
        "with purchases_extended as (\n",
        "select \n",
        "  t.*,\n",
        "  (t.items * t.price) as revenue,\n",
        "  case when t.user_gender like 'f%' then 'f' else 'm' end as gender\n",
        "from purchases t\n",
        ")\n",
        "\n",
        "select \n",
        "  t.gender,\n",
        "  sum(t.revenue) as revenue\n",
        "from purchases_extended t\n",
        "  group by 1\n",
        "  having t.gender like 'f'\n",
        "'''"
      ],
      "execution_count": null,
      "outputs": []
    },
    {
      "cell_type": "code",
      "metadata": {
        "colab": {
          "base_uri": "https://localhost:8080/",
          "height": 81
        },
        "id": "M_Td5eNiupiC",
        "outputId": "594fac99-838f-448e-8de4-372312fc99ca"
      },
      "source": [
        "select(sql)"
      ],
      "execution_count": null,
      "outputs": [
        {
          "output_type": "execute_result",
          "data": {
            "text/html": [
              "<div>\n",
              "<style scoped>\n",
              "    .dataframe tbody tr th:only-of-type {\n",
              "        vertical-align: middle;\n",
              "    }\n",
              "\n",
              "    .dataframe tbody tr th {\n",
              "        vertical-align: top;\n",
              "    }\n",
              "\n",
              "    .dataframe thead th {\n",
              "        text-align: right;\n",
              "    }\n",
              "</style>\n",
              "<table border=\"1\" class=\"dataframe\">\n",
              "  <thead>\n",
              "    <tr style=\"text-align: right;\">\n",
              "      <th></th>\n",
              "      <th>gender</th>\n",
              "      <th>revenue</th>\n",
              "    </tr>\n",
              "  </thead>\n",
              "  <tbody>\n",
              "    <tr>\n",
              "      <th>0</th>\n",
              "      <td>f</td>\n",
              "      <td>500</td>\n",
              "    </tr>\n",
              "  </tbody>\n",
              "</table>\n",
              "</div>"
            ],
            "text/plain": [
              "  gender  revenue\n",
              "0      f      500"
            ]
          },
          "metadata": {},
          "execution_count": 153
        }
      ]
    },
    {
      "cell_type": "markdown",
      "metadata": {
        "id": "lgVR0jQ6u_p4"
      },
      "source": [
        "#### б) Сравни доход по группе мужчин и женщин\n",
        "\n",
        "В принципе, это получилось в предыдущем задании.\n",
        "Мы видим, что суммарный доход у женщин больше."
      ]
    },
    {
      "cell_type": "code",
      "metadata": {
        "id": "3wP6rI-o3eek"
      },
      "source": [
        "sql = '''\n",
        "with purchases_extended as (\n",
        "select \n",
        "  t.*,\n",
        "  (t.items * t.price) as revenue,\n",
        "  case when t.user_gender like 'f%' then 'f' else 'm' end as gender\n",
        "from purchases t\n",
        ")\n",
        "\n",
        "select \n",
        "  t.gender,\n",
        "  sum(t.revenue) as revenue\n",
        "from purchases_extended t\n",
        "  group by 1\n",
        "'''"
      ],
      "execution_count": null,
      "outputs": []
    },
    {
      "cell_type": "code",
      "metadata": {
        "colab": {
          "base_uri": "https://localhost:8080/",
          "height": 112
        },
        "id": "Am1fwFu3vUcw",
        "outputId": "6777efcd-b62a-4fec-eb7c-ae55063a76aa"
      },
      "source": [
        "select(sql)"
      ],
      "execution_count": null,
      "outputs": [
        {
          "output_type": "execute_result",
          "data": {
            "text/html": [
              "<div>\n",
              "<style scoped>\n",
              "    .dataframe tbody tr th:only-of-type {\n",
              "        vertical-align: middle;\n",
              "    }\n",
              "\n",
              "    .dataframe tbody tr th {\n",
              "        vertical-align: top;\n",
              "    }\n",
              "\n",
              "    .dataframe thead th {\n",
              "        text-align: right;\n",
              "    }\n",
              "</style>\n",
              "<table border=\"1\" class=\"dataframe\">\n",
              "  <thead>\n",
              "    <tr style=\"text-align: right;\">\n",
              "      <th></th>\n",
              "      <th>gender</th>\n",
              "      <th>revenue</th>\n",
              "    </tr>\n",
              "  </thead>\n",
              "  <tbody>\n",
              "    <tr>\n",
              "      <th>0</th>\n",
              "      <td>f</td>\n",
              "      <td>500</td>\n",
              "    </tr>\n",
              "    <tr>\n",
              "      <th>1</th>\n",
              "      <td>m</td>\n",
              "      <td>200</td>\n",
              "    </tr>\n",
              "  </tbody>\n",
              "</table>\n",
              "</div>"
            ],
            "text/plain": [
              "  gender  revenue\n",
              "0      f      500\n",
              "1      m      200"
            ]
          },
          "metadata": {},
          "execution_count": 155
        }
      ]
    },
    {
      "cell_type": "markdown",
      "metadata": {
        "id": "84QhbQH0vWgD"
      },
      "source": [
        "Копнем чуть глубже и посчитаем ARPU и ARPPU.\n",
        "\n",
        "Для этого нам надо знать сколько всего пользователей есть в каждой группе и сколько платящих пользователей.\n",
        "\n",
        "Пометим платящих пользователей флагом 1, если была хотя бы одна покупка"
      ]
    },
    {
      "cell_type": "code",
      "metadata": {
        "id": "vvJ-yufbwE7g"
      },
      "source": [
        "sql = '''\n",
        "with purchases_extended as (\n",
        "select \n",
        "  t.*,\n",
        "  (t.items * t.price) as revenue,\n",
        "  case when t.user_gender like 'f%' then 'f' else 'm' end as gender,\n",
        "  case when t.price > 0 then 1 else 0 end as purchaser\n",
        "from purchases t)\n",
        "\n",
        "select  \n",
        "  t.user_id,\n",
        "  t.gender,\n",
        "  sum(t.revenue) as revenue,\n",
        "  max(t.purchaser) as purchaser,\n",
        "  sum(t.purchaser) as purchases_count\n",
        "from purchases_extended t\n",
        "  group by 1, 2\n",
        "'''"
      ],
      "execution_count": null,
      "outputs": []
    },
    {
      "cell_type": "code",
      "metadata": {
        "colab": {
          "base_uri": "https://localhost:8080/",
          "height": 175
        },
        "id": "AIjBLe7cwamq",
        "outputId": "639e9003-c804-40fd-ac85-60fb0f5c8dfa"
      },
      "source": [
        "select(sql)"
      ],
      "execution_count": null,
      "outputs": [
        {
          "output_type": "execute_result",
          "data": {
            "text/html": [
              "<div>\n",
              "<style scoped>\n",
              "    .dataframe tbody tr th:only-of-type {\n",
              "        vertical-align: middle;\n",
              "    }\n",
              "\n",
              "    .dataframe tbody tr th {\n",
              "        vertical-align: top;\n",
              "    }\n",
              "\n",
              "    .dataframe thead th {\n",
              "        text-align: right;\n",
              "    }\n",
              "</style>\n",
              "<table border=\"1\" class=\"dataframe\">\n",
              "  <thead>\n",
              "    <tr style=\"text-align: right;\">\n",
              "      <th></th>\n",
              "      <th>user_id</th>\n",
              "      <th>gender</th>\n",
              "      <th>revenue</th>\n",
              "      <th>purchaser</th>\n",
              "      <th>purchases_count</th>\n",
              "    </tr>\n",
              "  </thead>\n",
              "  <tbody>\n",
              "    <tr>\n",
              "      <th>0</th>\n",
              "      <td>101</td>\n",
              "      <td>f</td>\n",
              "      <td>500</td>\n",
              "      <td>1</td>\n",
              "      <td>2</td>\n",
              "    </tr>\n",
              "    <tr>\n",
              "      <th>1</th>\n",
              "      <td>102</td>\n",
              "      <td>f</td>\n",
              "      <td>0</td>\n",
              "      <td>0</td>\n",
              "      <td>0</td>\n",
              "    </tr>\n",
              "    <tr>\n",
              "      <th>2</th>\n",
              "      <td>103</td>\n",
              "      <td>m</td>\n",
              "      <td>0</td>\n",
              "      <td>0</td>\n",
              "      <td>0</td>\n",
              "    </tr>\n",
              "    <tr>\n",
              "      <th>3</th>\n",
              "      <td>105</td>\n",
              "      <td>m</td>\n",
              "      <td>200</td>\n",
              "      <td>1</td>\n",
              "      <td>1</td>\n",
              "    </tr>\n",
              "  </tbody>\n",
              "</table>\n",
              "</div>"
            ],
            "text/plain": [
              "   user_id gender  revenue  purchaser  purchases_count\n",
              "0      101      f      500          1                2\n",
              "1      102      f        0          0                0\n",
              "2      103      m        0          0                0\n",
              "3      105      m      200          1                1"
            ]
          },
          "metadata": {},
          "execution_count": 133
        }
      ]
    },
    {
      "cell_type": "markdown",
      "metadata": {
        "id": "3ZBD_fNxyxXr"
      },
      "source": [
        "А теперь сгруппируем по полу и посчитаем суммарную выручку, количество пользователей и количество платящих пользователей, а также ARPU и ARPPU:"
      ]
    },
    {
      "cell_type": "code",
      "metadata": {
        "id": "6yGHCdF3vdM8"
      },
      "source": [
        "sql = '''\n",
        "with purchases_extended as (\n",
        "select \n",
        "  t.*,\n",
        "  (t.items * t.price) as revenue,\n",
        "  case when t.user_gender like 'f%' then 'f' else 'm' end as gender,\n",
        "  case when t.price > 0 then 1 else 0 end as purchaser\n",
        "from purchases t\n",
        "),\n",
        "\n",
        "purchases_agg as (select  \n",
        "  t.user_id,\n",
        "  t.gender,\n",
        "  sum(t.revenue) as revenue,\n",
        "  max(t.purchaser) as purchaser,\n",
        "  sum(t.purchaser) as purchases_count,\n",
        "  avg(t.revenue) as avg_check\n",
        "from purchases_extended t\n",
        "  group by 1, 2)\n",
        "\n",
        "select \n",
        "  t.gender,\n",
        "  sum(t.revenue) as revenue,\n",
        "  count(1) as users_count,\n",
        "  sum(t.purchaser) as purchasers_count,\n",
        "  (sum(t.revenue) / count(1)) as ARPU,\n",
        "  (sum(t.revenue) / sum(t.purchaser)) as ARPPU,\n",
        "  (sum(t.avg_check) / sum(t.purchaser)) as avg_check\n",
        "  \n",
        "from purchases_agg t\n",
        "  group by 1\n",
        "'''"
      ],
      "execution_count": null,
      "outputs": []
    },
    {
      "cell_type": "code",
      "metadata": {
        "colab": {
          "base_uri": "https://localhost:8080/",
          "height": 112
        },
        "id": "9M49vnfPvnHF",
        "outputId": "2fe1f1e4-11da-490b-91e4-16686ad53802"
      },
      "source": [
        "select(sql)"
      ],
      "execution_count": null,
      "outputs": [
        {
          "output_type": "execute_result",
          "data": {
            "text/html": [
              "<div>\n",
              "<style scoped>\n",
              "    .dataframe tbody tr th:only-of-type {\n",
              "        vertical-align: middle;\n",
              "    }\n",
              "\n",
              "    .dataframe tbody tr th {\n",
              "        vertical-align: top;\n",
              "    }\n",
              "\n",
              "    .dataframe thead th {\n",
              "        text-align: right;\n",
              "    }\n",
              "</style>\n",
              "<table border=\"1\" class=\"dataframe\">\n",
              "  <thead>\n",
              "    <tr style=\"text-align: right;\">\n",
              "      <th></th>\n",
              "      <th>gender</th>\n",
              "      <th>revenue</th>\n",
              "      <th>users_count</th>\n",
              "      <th>purchasers_count</th>\n",
              "      <th>ARPU</th>\n",
              "      <th>ARPPU</th>\n",
              "      <th>avg_check</th>\n",
              "    </tr>\n",
              "  </thead>\n",
              "  <tbody>\n",
              "    <tr>\n",
              "      <th>0</th>\n",
              "      <td>f</td>\n",
              "      <td>500</td>\n",
              "      <td>2</td>\n",
              "      <td>1</td>\n",
              "      <td>250</td>\n",
              "      <td>500</td>\n",
              "      <td>250.0</td>\n",
              "    </tr>\n",
              "    <tr>\n",
              "      <th>1</th>\n",
              "      <td>m</td>\n",
              "      <td>200</td>\n",
              "      <td>2</td>\n",
              "      <td>1</td>\n",
              "      <td>100</td>\n",
              "      <td>200</td>\n",
              "      <td>200.0</td>\n",
              "    </tr>\n",
              "  </tbody>\n",
              "</table>\n",
              "</div>"
            ],
            "text/plain": [
              "  gender  revenue  users_count  purchasers_count  ARPU  ARPPU  avg_check\n",
              "0      f      500            2                 1   250    500      250.0\n",
              "1      m      200            2                 1   100    200      200.0"
            ]
          },
          "metadata": {},
          "execution_count": 151
        }
      ]
    },
    {
      "cell_type": "markdown",
      "metadata": {
        "id": "YZ1qNCNv10lw"
      },
      "source": [
        "Из таблицы выше можно сделать следующие выводы:\n",
        "1. Женская и мужская аудитории имеют схожее количество людей\n",
        "2. Общая выручка у женской аудитории выше\n",
        "3. У женской аудитории выше средний чек\n",
        "4. У женской аудитории выше выручка на одного пользователя\n",
        "5. У женской аудитории выше выручка на одного платящего пользователя"
      ]
    },
    {
      "cell_type": "markdown",
      "metadata": {
        "id": "1y7vaUX42fqE"
      },
      "source": [
        "#### в) Посчитай кол-во уникальных пользователей-мужчин, заказавших более чем три айтема (суммарно за все заказы)."
      ]
    },
    {
      "cell_type": "code",
      "metadata": {
        "id": "IrEekEqO3onb"
      },
      "source": [
        "sql = '''\n",
        "with purchases_extended as (\n",
        "select \n",
        "  t.*,\n",
        "  case when t.user_gender like 'f%' then 'f' else 'm' end as gender\n",
        "from purchases t)\n",
        "\n",
        "select \n",
        "  t.user_id,\n",
        "  t.gender,\n",
        "  sum(t.items) items_count\n",
        "from purchases_extended t\n",
        "  group by 1, 2\n",
        "'''"
      ],
      "execution_count": null,
      "outputs": []
    },
    {
      "cell_type": "code",
      "metadata": {
        "colab": {
          "base_uri": "https://localhost:8080/",
          "height": 175
        },
        "id": "5QqfLE7257rr",
        "outputId": "54e84da0-e72a-478d-81da-52f95961c46e"
      },
      "source": [
        "select(sql)"
      ],
      "execution_count": null,
      "outputs": [
        {
          "output_type": "execute_result",
          "data": {
            "text/html": [
              "<div>\n",
              "<style scoped>\n",
              "    .dataframe tbody tr th:only-of-type {\n",
              "        vertical-align: middle;\n",
              "    }\n",
              "\n",
              "    .dataframe tbody tr th {\n",
              "        vertical-align: top;\n",
              "    }\n",
              "\n",
              "    .dataframe thead th {\n",
              "        text-align: right;\n",
              "    }\n",
              "</style>\n",
              "<table border=\"1\" class=\"dataframe\">\n",
              "  <thead>\n",
              "    <tr style=\"text-align: right;\">\n",
              "      <th></th>\n",
              "      <th>user_id</th>\n",
              "      <th>gender</th>\n",
              "      <th>items_count</th>\n",
              "    </tr>\n",
              "  </thead>\n",
              "  <tbody>\n",
              "    <tr>\n",
              "      <th>0</th>\n",
              "      <td>101</td>\n",
              "      <td>f</td>\n",
              "      <td>5</td>\n",
              "    </tr>\n",
              "    <tr>\n",
              "      <th>1</th>\n",
              "      <td>102</td>\n",
              "      <td>f</td>\n",
              "      <td>0</td>\n",
              "    </tr>\n",
              "    <tr>\n",
              "      <th>2</th>\n",
              "      <td>103</td>\n",
              "      <td>m</td>\n",
              "      <td>0</td>\n",
              "    </tr>\n",
              "    <tr>\n",
              "      <th>3</th>\n",
              "      <td>105</td>\n",
              "      <td>m</td>\n",
              "      <td>2</td>\n",
              "    </tr>\n",
              "  </tbody>\n",
              "</table>\n",
              "</div>"
            ],
            "text/plain": [
              "   user_id gender  items_count\n",
              "0      101      f            5\n",
              "1      102      f            0\n",
              "2      103      m            0\n",
              "3      105      m            2"
            ]
          },
          "metadata": {},
          "execution_count": 201
        }
      ]
    },
    {
      "cell_type": "markdown",
      "metadata": {
        "id": "yOlTICwO6TpJ"
      },
      "source": [
        "Видим, что удалось посчитать суммарное количество item у каждого пользователя.\n",
        "\n",
        "Осталось в условие фильтрации добавить что количество item > 3 и пол - мужской. И посчитать количество "
      ]
    },
    {
      "cell_type": "code",
      "metadata": {
        "id": "SVDrwSrA6itK"
      },
      "source": [
        "sql = '''\n",
        "with purchases_extended as (\n",
        "select \n",
        "  t.*,\n",
        "  case when t.user_gender like 'f%' then 'f' else 'm' end as gender\n",
        "from purchases t),\n",
        "\n",
        "purchases_count as (select \n",
        "  t.user_id,\n",
        "  t.gender,\n",
        "  sum(t.items) items_count\n",
        "from purchases_extended t\n",
        "  group by 1, 2\n",
        "  having items_count > 3\n",
        "  and gender = 'm')\n",
        "\n",
        "select count(1) as uniq_male_users_more_than_3_items\n",
        " from purchases_count t\n",
        "'''"
      ],
      "execution_count": null,
      "outputs": []
    },
    {
      "cell_type": "code",
      "metadata": {
        "colab": {
          "base_uri": "https://localhost:8080/",
          "height": 81
        },
        "id": "3ZOAf8D06mek",
        "outputId": "ad836074-c8da-454e-c023-84465425d5b8"
      },
      "source": [
        "select(sql)"
      ],
      "execution_count": null,
      "outputs": [
        {
          "output_type": "execute_result",
          "data": {
            "text/html": [
              "<div>\n",
              "<style scoped>\n",
              "    .dataframe tbody tr th:only-of-type {\n",
              "        vertical-align: middle;\n",
              "    }\n",
              "\n",
              "    .dataframe tbody tr th {\n",
              "        vertical-align: top;\n",
              "    }\n",
              "\n",
              "    .dataframe thead th {\n",
              "        text-align: right;\n",
              "    }\n",
              "</style>\n",
              "<table border=\"1\" class=\"dataframe\">\n",
              "  <thead>\n",
              "    <tr style=\"text-align: right;\">\n",
              "      <th></th>\n",
              "      <th>uniq_male_users_more_than_3_items</th>\n",
              "    </tr>\n",
              "  </thead>\n",
              "  <tbody>\n",
              "    <tr>\n",
              "      <th>0</th>\n",
              "      <td>0</td>\n",
              "    </tr>\n",
              "  </tbody>\n",
              "</table>\n",
              "</div>"
            ],
            "text/plain": [
              "   uniq_male_users_more_than_3_items\n",
              "0                                  0"
            ]
          },
          "metadata": {},
          "execution_count": 207
        }
      ]
    },
    {
      "cell_type": "markdown",
      "metadata": {
        "id": "VdOMH8zf7fGR"
      },
      "source": [
        "Добавим еще тестовых данных, чтобы убедиться, что решение верное:"
      ]
    },
    {
      "cell_type": "code",
      "metadata": {
        "id": "7yO6sjsu7kpV"
      },
      "source": [
        "sql = '''\n",
        "insert into purchases values\n",
        "(106, 'm', '3','530'),\n",
        "(103, 'm', '1','430'),\n",
        "(104, 'm', '3','330'),\n",
        "(104, 'm', '1','230'),\n",
        "(107, 'm', '30','130')\n",
        "'''"
      ],
      "execution_count": null,
      "outputs": []
    },
    {
      "cell_type": "code",
      "metadata": {
        "colab": {
          "base_uri": "https://localhost:8080/"
        },
        "id": "zu2aq3jA79G4",
        "outputId": "75cddc6e-81c9-4163-8a62-cd1514fa8c97"
      },
      "source": [
        "con.executescript(sql)"
      ],
      "execution_count": null,
      "outputs": [
        {
          "output_type": "execute_result",
          "data": {
            "text/plain": [
              "<pysqlite3.dbapi2.Cursor at 0x7fb7d3f1f6c0>"
            ]
          },
          "metadata": {},
          "execution_count": 209
        }
      ]
    },
    {
      "cell_type": "code",
      "metadata": {
        "id": "okIJWc5x7_de"
      },
      "source": [
        "sql = '''select t.* from purchases t'''"
      ],
      "execution_count": null,
      "outputs": []
    },
    {
      "cell_type": "code",
      "metadata": {
        "colab": {
          "base_uri": "https://localhost:8080/",
          "height": 394
        },
        "id": "mRfALlll8FHR",
        "outputId": "acc47cba-68fc-445e-c21d-432d37437028"
      },
      "source": [
        "select(sql)"
      ],
      "execution_count": null,
      "outputs": [
        {
          "output_type": "execute_result",
          "data": {
            "text/html": [
              "<div>\n",
              "<style scoped>\n",
              "    .dataframe tbody tr th:only-of-type {\n",
              "        vertical-align: middle;\n",
              "    }\n",
              "\n",
              "    .dataframe tbody tr th {\n",
              "        vertical-align: top;\n",
              "    }\n",
              "\n",
              "    .dataframe thead th {\n",
              "        text-align: right;\n",
              "    }\n",
              "</style>\n",
              "<table border=\"1\" class=\"dataframe\">\n",
              "  <thead>\n",
              "    <tr style=\"text-align: right;\">\n",
              "      <th></th>\n",
              "      <th>user_id</th>\n",
              "      <th>user_gender</th>\n",
              "      <th>items</th>\n",
              "      <th>price</th>\n",
              "    </tr>\n",
              "  </thead>\n",
              "  <tbody>\n",
              "    <tr>\n",
              "      <th>0</th>\n",
              "      <td>101</td>\n",
              "      <td>f</td>\n",
              "      <td>3</td>\n",
              "      <td>100</td>\n",
              "    </tr>\n",
              "    <tr>\n",
              "      <th>1</th>\n",
              "      <td>102</td>\n",
              "      <td>female</td>\n",
              "      <td>0</td>\n",
              "      <td>0</td>\n",
              "    </tr>\n",
              "    <tr>\n",
              "      <th>2</th>\n",
              "      <td>103</td>\n",
              "      <td>m</td>\n",
              "      <td>0</td>\n",
              "      <td>0</td>\n",
              "    </tr>\n",
              "    <tr>\n",
              "      <th>3</th>\n",
              "      <td>101</td>\n",
              "      <td>f</td>\n",
              "      <td>2</td>\n",
              "      <td>100</td>\n",
              "    </tr>\n",
              "    <tr>\n",
              "      <th>4</th>\n",
              "      <td>105</td>\n",
              "      <td>male</td>\n",
              "      <td>2</td>\n",
              "      <td>100</td>\n",
              "    </tr>\n",
              "    <tr>\n",
              "      <th>5</th>\n",
              "      <td>103</td>\n",
              "      <td>m</td>\n",
              "      <td>0</td>\n",
              "      <td>0</td>\n",
              "    </tr>\n",
              "    <tr>\n",
              "      <th>6</th>\n",
              "      <td>106</td>\n",
              "      <td>m</td>\n",
              "      <td>3</td>\n",
              "      <td>530</td>\n",
              "    </tr>\n",
              "    <tr>\n",
              "      <th>7</th>\n",
              "      <td>103</td>\n",
              "      <td>m</td>\n",
              "      <td>1</td>\n",
              "      <td>430</td>\n",
              "    </tr>\n",
              "    <tr>\n",
              "      <th>8</th>\n",
              "      <td>104</td>\n",
              "      <td>m</td>\n",
              "      <td>3</td>\n",
              "      <td>330</td>\n",
              "    </tr>\n",
              "    <tr>\n",
              "      <th>9</th>\n",
              "      <td>104</td>\n",
              "      <td>m</td>\n",
              "      <td>1</td>\n",
              "      <td>230</td>\n",
              "    </tr>\n",
              "    <tr>\n",
              "      <th>10</th>\n",
              "      <td>107</td>\n",
              "      <td>m</td>\n",
              "      <td>30</td>\n",
              "      <td>130</td>\n",
              "    </tr>\n",
              "  </tbody>\n",
              "</table>\n",
              "</div>"
            ],
            "text/plain": [
              "    user_id user_gender  items  price\n",
              "0       101           f      3    100\n",
              "1       102      female      0      0\n",
              "2       103           m      0      0\n",
              "3       101           f      2    100\n",
              "4       105        male      2    100\n",
              "5       103           m      0      0\n",
              "6       106           m      3    530\n",
              "7       103           m      1    430\n",
              "8       104           m      3    330\n",
              "9       104           m      1    230\n",
              "10      107           m     30    130"
            ]
          },
          "metadata": {},
          "execution_count": 211
        }
      ]
    },
    {
      "cell_type": "markdown",
      "metadata": {
        "id": "83Xw8u8H8a5l"
      },
      "source": [
        "Теперь выполним еще раз код, где мы считаем количество уникальных пользователей-мужчин заказавших более чем 3 items"
      ]
    },
    {
      "cell_type": "code",
      "metadata": {
        "id": "LiWL6rK696eT"
      },
      "source": [
        "sql = '''\n",
        "with purchases_extended as (\n",
        "select \n",
        "  t.*,\n",
        "  case when t.user_gender like 'f%' then 'f' else 'm' end as gender\n",
        "from purchases t),\n",
        "\n",
        "purchases_count as (select \n",
        "  t.user_id,\n",
        "  t.gender,\n",
        "  sum(t.items) items_count\n",
        "from purchases_extended t\n",
        "  group by 1, 2\n",
        "  having items_count > 3\n",
        "  and gender = 'm')\n",
        "\n",
        "select count(1) as uniq_male_users_more_than_3_items\n",
        " from purchases_count t\n",
        "'''"
      ],
      "execution_count": null,
      "outputs": []
    },
    {
      "cell_type": "code",
      "metadata": {
        "colab": {
          "base_uri": "https://localhost:8080/",
          "height": 81
        },
        "id": "3o7PjlUP97gC",
        "outputId": "65d8072c-3004-46da-f171-41abfacfd55e"
      },
      "source": [
        "select(sql)"
      ],
      "execution_count": null,
      "outputs": [
        {
          "output_type": "execute_result",
          "data": {
            "text/html": [
              "<div>\n",
              "<style scoped>\n",
              "    .dataframe tbody tr th:only-of-type {\n",
              "        vertical-align: middle;\n",
              "    }\n",
              "\n",
              "    .dataframe tbody tr th {\n",
              "        vertical-align: top;\n",
              "    }\n",
              "\n",
              "    .dataframe thead th {\n",
              "        text-align: right;\n",
              "    }\n",
              "</style>\n",
              "<table border=\"1\" class=\"dataframe\">\n",
              "  <thead>\n",
              "    <tr style=\"text-align: right;\">\n",
              "      <th></th>\n",
              "      <th>uniq_male_users_more_than_3_items</th>\n",
              "    </tr>\n",
              "  </thead>\n",
              "  <tbody>\n",
              "    <tr>\n",
              "      <th>0</th>\n",
              "      <td>2</td>\n",
              "    </tr>\n",
              "  </tbody>\n",
              "</table>\n",
              "</div>"
            ],
            "text/plain": [
              "   uniq_male_users_more_than_3_items\n",
              "0                                  2"
            ]
          },
          "metadata": {},
          "execution_count": 213
        }
      ]
    },
    {
      "cell_type": "markdown",
      "metadata": {
        "id": "rc50aR6t-EmL"
      },
      "source": [
        "Если посмотреть на обновленные данные то можно заметить, что там действительно всего два пользователя-мужчины имеют количество покупок строго больше 3.\n",
        "\n",
        "Это пользователь с id = 107 и id = 104\n",
        "\n",
        "Задача решена верно."
      ]
    },
    {
      "cell_type": "markdown",
      "metadata": {
        "id": "NqbQS7uudmL9"
      },
      "source": [
        "\n",
        "\n",
        "## Не самая обычная SQL задача 3\n",
        "![image.png](data:image/png;base64,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)\n",
        "\n"
      ]
    },
    {
      "cell_type": "markdown",
      "metadata": {
        "id": "tShCryqRdzaP"
      },
      "source": [
        "Каждый пользователь имеет набор транзакций с определенным\n",
        "временем. Используя таблицы выше, напиши НАИБОЛЕЕ ОПТИМАЛЬНЫЕ\n",
        "SQL запросы:\n",
        "\n",
        "a) Выведи для каждого пользователя первое наименование, которое он\n",
        "заказал (первое по времени транзакции)\n",
        "\n",
        "b) Посчитай сколько транзакций в среднем делает каждый пользователь\n",
        "в течении 72х часов с момента первой транзакции"
      ]
    },
    {
      "cell_type": "markdown",
      "metadata": {
        "id": "1N9y20DM-51L"
      },
      "source": [
        "### Решение"
      ]
    },
    {
      "cell_type": "markdown",
      "metadata": {
        "id": "3EEOmJT-_WCr"
      },
      "source": [
        "#### Заливка данных"
      ]
    },
    {
      "cell_type": "code",
      "metadata": {
        "id": "Ozcxn0dl_Zgb"
      },
      "source": [
        "sql = '''\n",
        "drop table if exists transactions;\n",
        "\n",
        "create table transactions (\n",
        "  ts datetime,\n",
        "  user_id integer,\n",
        "  id integer NOT NULL, \n",
        "  item varchar(100));\n",
        "\n",
        "insert into transactions values\n",
        "('2016-06-18 13:46:51.0', 13811335, 1322361417, 'glove'),\n",
        "('2016-06-18 17:29:25.0', 13811335, 1322361417, 'hat'),\n",
        "('2016-06-18 23:07:12.0', 13811335, 1322363995, 'vase'),\n",
        "('2016-06-19 07:14:56.0', 13811335, 7482367143, 'cup'),\n",
        "('2016-06-19 21:59:40.0', 13811335, 1322369619, 'mirror'),\n",
        "\n",
        "('2016-06-17 12:39:46.0', 3378024101, 9322351612, 'dress'),\n",
        "('2016-06-17 20:22:17.0', 3378024101, 9322353031, 'vase'),\n",
        "('2016-06-20 11:29:02.0', 3378024101, 6928364072, 'tie'),\n",
        "\n",
        "('2016-06-20 18:59:48.0', 13811335, 1322375547, 'mirror')\n",
        "'''"
      ],
      "execution_count": null,
      "outputs": []
    },
    {
      "cell_type": "code",
      "metadata": {
        "colab": {
          "base_uri": "https://localhost:8080/"
        },
        "id": "mGw5rjnyCJxo",
        "outputId": "1aaee601-17f3-4003-94a9-93a43dd3f145"
      },
      "source": [
        "con.executescript(sql)"
      ],
      "execution_count": null,
      "outputs": [
        {
          "output_type": "execute_result",
          "data": {
            "text/plain": [
              "<pysqlite3.dbapi2.Cursor at 0x7fb7d3e6b420>"
            ]
          },
          "metadata": {},
          "execution_count": 423
        }
      ]
    },
    {
      "cell_type": "code",
      "metadata": {
        "id": "Pot6FHF0CSVv"
      },
      "source": [
        "sql = ''' select t.* from transactions t'''"
      ],
      "execution_count": null,
      "outputs": []
    },
    {
      "cell_type": "code",
      "metadata": {
        "colab": {
          "base_uri": "https://localhost:8080/",
          "height": 332
        },
        "id": "RpM5smQpCWsx",
        "outputId": "88697137-c36e-4393-fd69-079411c55c01"
      },
      "source": [
        "select(sql)"
      ],
      "execution_count": null,
      "outputs": [
        {
          "output_type": "execute_result",
          "data": {
            "text/html": [
              "<div>\n",
              "<style scoped>\n",
              "    .dataframe tbody tr th:only-of-type {\n",
              "        vertical-align: middle;\n",
              "    }\n",
              "\n",
              "    .dataframe tbody tr th {\n",
              "        vertical-align: top;\n",
              "    }\n",
              "\n",
              "    .dataframe thead th {\n",
              "        text-align: right;\n",
              "    }\n",
              "</style>\n",
              "<table border=\"1\" class=\"dataframe\">\n",
              "  <thead>\n",
              "    <tr style=\"text-align: right;\">\n",
              "      <th></th>\n",
              "      <th>ts</th>\n",
              "      <th>user_id</th>\n",
              "      <th>id</th>\n",
              "      <th>item</th>\n",
              "    </tr>\n",
              "  </thead>\n",
              "  <tbody>\n",
              "    <tr>\n",
              "      <th>0</th>\n",
              "      <td>2016-06-18 13:46:51.0</td>\n",
              "      <td>13811335</td>\n",
              "      <td>1322361417</td>\n",
              "      <td>glove</td>\n",
              "    </tr>\n",
              "    <tr>\n",
              "      <th>1</th>\n",
              "      <td>2016-06-18 17:29:25.0</td>\n",
              "      <td>13811335</td>\n",
              "      <td>1322361417</td>\n",
              "      <td>hat</td>\n",
              "    </tr>\n",
              "    <tr>\n",
              "      <th>2</th>\n",
              "      <td>2016-06-18 23:07:12.0</td>\n",
              "      <td>13811335</td>\n",
              "      <td>1322363995</td>\n",
              "      <td>vase</td>\n",
              "    </tr>\n",
              "    <tr>\n",
              "      <th>3</th>\n",
              "      <td>2016-06-19 07:14:56.0</td>\n",
              "      <td>13811335</td>\n",
              "      <td>7482367143</td>\n",
              "      <td>cup</td>\n",
              "    </tr>\n",
              "    <tr>\n",
              "      <th>4</th>\n",
              "      <td>2016-06-19 21:59:40.0</td>\n",
              "      <td>13811335</td>\n",
              "      <td>1322369619</td>\n",
              "      <td>mirror</td>\n",
              "    </tr>\n",
              "    <tr>\n",
              "      <th>5</th>\n",
              "      <td>2016-06-17 12:39:46.0</td>\n",
              "      <td>3378024101</td>\n",
              "      <td>9322351612</td>\n",
              "      <td>dress</td>\n",
              "    </tr>\n",
              "    <tr>\n",
              "      <th>6</th>\n",
              "      <td>2016-06-17 20:22:17.0</td>\n",
              "      <td>3378024101</td>\n",
              "      <td>9322353031</td>\n",
              "      <td>vase</td>\n",
              "    </tr>\n",
              "    <tr>\n",
              "      <th>7</th>\n",
              "      <td>2016-06-20 11:29:02.0</td>\n",
              "      <td>3378024101</td>\n",
              "      <td>6928364072</td>\n",
              "      <td>tie</td>\n",
              "    </tr>\n",
              "    <tr>\n",
              "      <th>8</th>\n",
              "      <td>2016-06-20 18:59:48.0</td>\n",
              "      <td>13811335</td>\n",
              "      <td>1322375547</td>\n",
              "      <td>mirror</td>\n",
              "    </tr>\n",
              "  </tbody>\n",
              "</table>\n",
              "</div>"
            ],
            "text/plain": [
              "                      ts     user_id          id    item\n",
              "0  2016-06-18 13:46:51.0    13811335  1322361417   glove\n",
              "1  2016-06-18 17:29:25.0    13811335  1322361417     hat\n",
              "2  2016-06-18 23:07:12.0    13811335  1322363995    vase\n",
              "3  2016-06-19 07:14:56.0    13811335  7482367143     cup\n",
              "4  2016-06-19 21:59:40.0    13811335  1322369619  mirror\n",
              "5  2016-06-17 12:39:46.0  3378024101  9322351612   dress\n",
              "6  2016-06-17 20:22:17.0  3378024101  9322353031    vase\n",
              "7  2016-06-20 11:29:02.0  3378024101  6928364072     tie\n",
              "8  2016-06-20 18:59:48.0    13811335  1322375547  mirror"
            ]
          },
          "metadata": {},
          "execution_count": 217
        }
      ]
    },
    {
      "cell_type": "markdown",
      "metadata": {
        "id": "eQVhV-fRCrIY"
      },
      "source": [
        "#### а) Выведи для каждого пользователя первое наименование, которое он заказал (первое по времени транзакции)"
      ]
    },
    {
      "cell_type": "markdown",
      "metadata": {
        "id": "PSWcVEMVEJqw"
      },
      "source": [
        "Пронумеруем все покупки для каждого пользователя по мере их совершения."
      ]
    },
    {
      "cell_type": "code",
      "metadata": {
        "id": "aWdzNAU_Cwlv"
      },
      "source": [
        "sql = '''\n",
        "select \n",
        "  t.*,\n",
        "  row_number() over (partition by t.user_id order by t.ts) as order_position\n",
        "from transactions t\n",
        "'''"
      ],
      "execution_count": null,
      "outputs": []
    },
    {
      "cell_type": "code",
      "metadata": {
        "colab": {
          "base_uri": "https://localhost:8080/",
          "height": 332
        },
        "id": "O2LYuMULD8da",
        "outputId": "218f1d91-d352-4b5a-cf09-bd44afcdb853"
      },
      "source": [
        "select(sql)"
      ],
      "execution_count": null,
      "outputs": [
        {
          "output_type": "execute_result",
          "data": {
            "text/html": [
              "<div>\n",
              "<style scoped>\n",
              "    .dataframe tbody tr th:only-of-type {\n",
              "        vertical-align: middle;\n",
              "    }\n",
              "\n",
              "    .dataframe tbody tr th {\n",
              "        vertical-align: top;\n",
              "    }\n",
              "\n",
              "    .dataframe thead th {\n",
              "        text-align: right;\n",
              "    }\n",
              "</style>\n",
              "<table border=\"1\" class=\"dataframe\">\n",
              "  <thead>\n",
              "    <tr style=\"text-align: right;\">\n",
              "      <th></th>\n",
              "      <th>ts</th>\n",
              "      <th>user_id</th>\n",
              "      <th>id</th>\n",
              "      <th>item</th>\n",
              "      <th>order_position</th>\n",
              "    </tr>\n",
              "  </thead>\n",
              "  <tbody>\n",
              "    <tr>\n",
              "      <th>0</th>\n",
              "      <td>2016-06-18 13:46:51.0</td>\n",
              "      <td>13811335</td>\n",
              "      <td>1322361417</td>\n",
              "      <td>glove</td>\n",
              "      <td>1</td>\n",
              "    </tr>\n",
              "    <tr>\n",
              "      <th>1</th>\n",
              "      <td>2016-06-18 17:29:25.0</td>\n",
              "      <td>13811335</td>\n",
              "      <td>1322361417</td>\n",
              "      <td>hat</td>\n",
              "      <td>2</td>\n",
              "    </tr>\n",
              "    <tr>\n",
              "      <th>2</th>\n",
              "      <td>2016-06-18 23:07:12.0</td>\n",
              "      <td>13811335</td>\n",
              "      <td>1322363995</td>\n",
              "      <td>vase</td>\n",
              "      <td>3</td>\n",
              "    </tr>\n",
              "    <tr>\n",
              "      <th>3</th>\n",
              "      <td>2016-06-19 07:14:56.0</td>\n",
              "      <td>13811335</td>\n",
              "      <td>7482367143</td>\n",
              "      <td>cup</td>\n",
              "      <td>4</td>\n",
              "    </tr>\n",
              "    <tr>\n",
              "      <th>4</th>\n",
              "      <td>2016-06-19 21:59:40.0</td>\n",
              "      <td>13811335</td>\n",
              "      <td>1322369619</td>\n",
              "      <td>mirror</td>\n",
              "      <td>5</td>\n",
              "    </tr>\n",
              "    <tr>\n",
              "      <th>5</th>\n",
              "      <td>2016-06-20 18:59:48.0</td>\n",
              "      <td>13811335</td>\n",
              "      <td>1322375547</td>\n",
              "      <td>mirror</td>\n",
              "      <td>6</td>\n",
              "    </tr>\n",
              "    <tr>\n",
              "      <th>6</th>\n",
              "      <td>2016-06-17 12:39:46.0</td>\n",
              "      <td>3378024101</td>\n",
              "      <td>9322351612</td>\n",
              "      <td>dress</td>\n",
              "      <td>1</td>\n",
              "    </tr>\n",
              "    <tr>\n",
              "      <th>7</th>\n",
              "      <td>2016-06-17 20:22:17.0</td>\n",
              "      <td>3378024101</td>\n",
              "      <td>9322353031</td>\n",
              "      <td>vase</td>\n",
              "      <td>2</td>\n",
              "    </tr>\n",
              "    <tr>\n",
              "      <th>8</th>\n",
              "      <td>2016-06-20 11:29:02.0</td>\n",
              "      <td>3378024101</td>\n",
              "      <td>6928364072</td>\n",
              "      <td>tie</td>\n",
              "      <td>3</td>\n",
              "    </tr>\n",
              "  </tbody>\n",
              "</table>\n",
              "</div>"
            ],
            "text/plain": [
              "                      ts     user_id          id    item  order_position\n",
              "0  2016-06-18 13:46:51.0    13811335  1322361417   glove               1\n",
              "1  2016-06-18 17:29:25.0    13811335  1322361417     hat               2\n",
              "2  2016-06-18 23:07:12.0    13811335  1322363995    vase               3\n",
              "3  2016-06-19 07:14:56.0    13811335  7482367143     cup               4\n",
              "4  2016-06-19 21:59:40.0    13811335  1322369619  mirror               5\n",
              "5  2016-06-20 18:59:48.0    13811335  1322375547  mirror               6\n",
              "6  2016-06-17 12:39:46.0  3378024101  9322351612   dress               1\n",
              "7  2016-06-17 20:22:17.0  3378024101  9322353031    vase               2\n",
              "8  2016-06-20 11:29:02.0  3378024101  6928364072     tie               3"
            ]
          },
          "metadata": {},
          "execution_count": 237
        }
      ]
    },
    {
      "cell_type": "code",
      "metadata": {
        "id": "S3ZrQUwTFH_m"
      },
      "source": [
        "sql = '''\n",
        "with updated_transactions as (\n",
        "select \n",
        "  t.*,\n",
        "  row_number() over (partition by t.user_id order by t.ts) as order_position\n",
        "from transactions t)\n",
        "\n",
        "select t.user_id,t.item\n",
        "from updated_transactions t\n",
        "where t.order_position = 1\n",
        "'''"
      ],
      "execution_count": null,
      "outputs": []
    },
    {
      "cell_type": "code",
      "metadata": {
        "colab": {
          "base_uri": "https://localhost:8080/",
          "height": 112
        },
        "id": "JX4uQagxFJdS",
        "outputId": "94454b55-902a-4693-f487-c469784499d8"
      },
      "source": [
        "select(sql)"
      ],
      "execution_count": null,
      "outputs": [
        {
          "output_type": "execute_result",
          "data": {
            "text/html": [
              "<div>\n",
              "<style scoped>\n",
              "    .dataframe tbody tr th:only-of-type {\n",
              "        vertical-align: middle;\n",
              "    }\n",
              "\n",
              "    .dataframe tbody tr th {\n",
              "        vertical-align: top;\n",
              "    }\n",
              "\n",
              "    .dataframe thead th {\n",
              "        text-align: right;\n",
              "    }\n",
              "</style>\n",
              "<table border=\"1\" class=\"dataframe\">\n",
              "  <thead>\n",
              "    <tr style=\"text-align: right;\">\n",
              "      <th></th>\n",
              "      <th>user_id</th>\n",
              "      <th>item</th>\n",
              "    </tr>\n",
              "  </thead>\n",
              "  <tbody>\n",
              "    <tr>\n",
              "      <th>0</th>\n",
              "      <td>13811335</td>\n",
              "      <td>glove</td>\n",
              "    </tr>\n",
              "    <tr>\n",
              "      <th>1</th>\n",
              "      <td>3378024101</td>\n",
              "      <td>dress</td>\n",
              "    </tr>\n",
              "  </tbody>\n",
              "</table>\n",
              "</div>"
            ],
            "text/plain": [
              "      user_id   item\n",
              "0    13811335  glove\n",
              "1  3378024101  dress"
            ]
          },
          "metadata": {},
          "execution_count": 243
        }
      ]
    },
    {
      "cell_type": "markdown",
      "metadata": {
        "id": "uF3hrLB8FX7e"
      },
      "source": [
        "#### б) Посчитай сколько транзакций в среднем делает каждый пользователь в течении 72х часов с момента первой транзакции"
      ]
    },
    {
      "cell_type": "markdown",
      "metadata": {
        "id": "6y24OimaFiZC"
      },
      "source": [
        "Классическая задача на сессии.\n",
        "\n",
        "Найдем минимальную временную отметку для каждой транзакции, а затем посчитаем разницу во времени и оставим те значения, которые меньше 72ч. Окном у нас будет пользователь, пойдем в порядке возрастания ts"
      ]
    },
    {
      "cell_type": "code",
      "metadata": {
        "id": "VNdo-nNWFeVY"
      },
      "source": [
        "sql = '''\n",
        "select \n",
        "  t.*,\n",
        "  min(t.ts) over (partition by t.user_id order by t.ts) as min_ts\n",
        "from transactions t\n",
        "limit 10\n",
        "'''"
      ],
      "execution_count": null,
      "outputs": []
    },
    {
      "cell_type": "code",
      "metadata": {
        "colab": {
          "base_uri": "https://localhost:8080/",
          "height": 332
        },
        "id": "xKz6z28PGNrh",
        "outputId": "d33e81a7-d5c7-4974-9e3c-bb3c765907da"
      },
      "source": [
        "select(sql)"
      ],
      "execution_count": null,
      "outputs": [
        {
          "output_type": "execute_result",
          "data": {
            "text/html": [
              "<div>\n",
              "<style scoped>\n",
              "    .dataframe tbody tr th:only-of-type {\n",
              "        vertical-align: middle;\n",
              "    }\n",
              "\n",
              "    .dataframe tbody tr th {\n",
              "        vertical-align: top;\n",
              "    }\n",
              "\n",
              "    .dataframe thead th {\n",
              "        text-align: right;\n",
              "    }\n",
              "</style>\n",
              "<table border=\"1\" class=\"dataframe\">\n",
              "  <thead>\n",
              "    <tr style=\"text-align: right;\">\n",
              "      <th></th>\n",
              "      <th>ts</th>\n",
              "      <th>user_id</th>\n",
              "      <th>id</th>\n",
              "      <th>item</th>\n",
              "      <th>min_ts</th>\n",
              "    </tr>\n",
              "  </thead>\n",
              "  <tbody>\n",
              "    <tr>\n",
              "      <th>0</th>\n",
              "      <td>2016-06-18 13:46:51.0</td>\n",
              "      <td>13811335</td>\n",
              "      <td>1322361417</td>\n",
              "      <td>glove</td>\n",
              "      <td>2016-06-18 13:46:51.0</td>\n",
              "    </tr>\n",
              "    <tr>\n",
              "      <th>1</th>\n",
              "      <td>2016-06-18 17:29:25.0</td>\n",
              "      <td>13811335</td>\n",
              "      <td>1322361417</td>\n",
              "      <td>hat</td>\n",
              "      <td>2016-06-18 13:46:51.0</td>\n",
              "    </tr>\n",
              "    <tr>\n",
              "      <th>2</th>\n",
              "      <td>2016-06-18 23:07:12.0</td>\n",
              "      <td>13811335</td>\n",
              "      <td>1322363995</td>\n",
              "      <td>vase</td>\n",
              "      <td>2016-06-18 13:46:51.0</td>\n",
              "    </tr>\n",
              "    <tr>\n",
              "      <th>3</th>\n",
              "      <td>2016-06-19 07:14:56.0</td>\n",
              "      <td>13811335</td>\n",
              "      <td>7482367143</td>\n",
              "      <td>cup</td>\n",
              "      <td>2016-06-18 13:46:51.0</td>\n",
              "    </tr>\n",
              "    <tr>\n",
              "      <th>4</th>\n",
              "      <td>2016-06-19 21:59:40.0</td>\n",
              "      <td>13811335</td>\n",
              "      <td>1322369619</td>\n",
              "      <td>mirror</td>\n",
              "      <td>2016-06-18 13:46:51.0</td>\n",
              "    </tr>\n",
              "    <tr>\n",
              "      <th>5</th>\n",
              "      <td>2016-06-20 18:59:48.0</td>\n",
              "      <td>13811335</td>\n",
              "      <td>1322375547</td>\n",
              "      <td>mirror</td>\n",
              "      <td>2016-06-18 13:46:51.0</td>\n",
              "    </tr>\n",
              "    <tr>\n",
              "      <th>6</th>\n",
              "      <td>2016-06-17 12:39:46.0</td>\n",
              "      <td>3378024101</td>\n",
              "      <td>9322351612</td>\n",
              "      <td>dress</td>\n",
              "      <td>2016-06-17 12:39:46.0</td>\n",
              "    </tr>\n",
              "    <tr>\n",
              "      <th>7</th>\n",
              "      <td>2016-06-17 20:22:17.0</td>\n",
              "      <td>3378024101</td>\n",
              "      <td>9322353031</td>\n",
              "      <td>vase</td>\n",
              "      <td>2016-06-17 12:39:46.0</td>\n",
              "    </tr>\n",
              "    <tr>\n",
              "      <th>8</th>\n",
              "      <td>2016-06-20 11:29:02.0</td>\n",
              "      <td>3378024101</td>\n",
              "      <td>6928364072</td>\n",
              "      <td>tie</td>\n",
              "      <td>2016-06-17 12:39:46.0</td>\n",
              "    </tr>\n",
              "  </tbody>\n",
              "</table>\n",
              "</div>"
            ],
            "text/plain": [
              "                      ts     user_id          id    item                 min_ts\n",
              "0  2016-06-18 13:46:51.0    13811335  1322361417   glove  2016-06-18 13:46:51.0\n",
              "1  2016-06-18 17:29:25.0    13811335  1322361417     hat  2016-06-18 13:46:51.0\n",
              "2  2016-06-18 23:07:12.0    13811335  1322363995    vase  2016-06-18 13:46:51.0\n",
              "3  2016-06-19 07:14:56.0    13811335  7482367143     cup  2016-06-18 13:46:51.0\n",
              "4  2016-06-19 21:59:40.0    13811335  1322369619  mirror  2016-06-18 13:46:51.0\n",
              "5  2016-06-20 18:59:48.0    13811335  1322375547  mirror  2016-06-18 13:46:51.0\n",
              "6  2016-06-17 12:39:46.0  3378024101  9322351612   dress  2016-06-17 12:39:46.0\n",
              "7  2016-06-17 20:22:17.0  3378024101  9322353031    vase  2016-06-17 12:39:46.0\n",
              "8  2016-06-20 11:29:02.0  3378024101  6928364072     tie  2016-06-17 12:39:46.0"
            ]
          },
          "metadata": {},
          "execution_count": 287
        }
      ]
    },
    {
      "cell_type": "markdown",
      "metadata": {
        "id": "OZd9Kb8oGSPa"
      },
      "source": [
        "Отлично, сейчас нам надо найти разницу между ts и prev_ts"
      ]
    },
    {
      "cell_type": "code",
      "metadata": {
        "id": "Gvw8uVTSGkxX"
      },
      "source": [
        "sql = '''\n",
        "select \n",
        "  t.*,\n",
        "  min(t.ts) over (partition by t.user_id order by t.ts) as min_ts,\n",
        "  round(\n",
        "    (julianday(t.ts) - julianday(\n",
        "      min(t.ts) over (partition by t.user_id order by t.ts))\n",
        "    )* 24 * 60 * 60) as session_length\n",
        "from transactions t\n",
        "limit 10\n",
        "'''"
      ],
      "execution_count": null,
      "outputs": []
    },
    {
      "cell_type": "code",
      "metadata": {
        "colab": {
          "base_uri": "https://localhost:8080/",
          "height": 332
        },
        "id": "Io4sqB3BHDAA",
        "outputId": "7907360c-be91-40f9-8951-ce71a5bfa29b"
      },
      "source": [
        "select(sql)"
      ],
      "execution_count": null,
      "outputs": [
        {
          "output_type": "execute_result",
          "data": {
            "text/html": [
              "<div>\n",
              "<style scoped>\n",
              "    .dataframe tbody tr th:only-of-type {\n",
              "        vertical-align: middle;\n",
              "    }\n",
              "\n",
              "    .dataframe tbody tr th {\n",
              "        vertical-align: top;\n",
              "    }\n",
              "\n",
              "    .dataframe thead th {\n",
              "        text-align: right;\n",
              "    }\n",
              "</style>\n",
              "<table border=\"1\" class=\"dataframe\">\n",
              "  <thead>\n",
              "    <tr style=\"text-align: right;\">\n",
              "      <th></th>\n",
              "      <th>ts</th>\n",
              "      <th>user_id</th>\n",
              "      <th>id</th>\n",
              "      <th>item</th>\n",
              "      <th>min_ts</th>\n",
              "      <th>session_length</th>\n",
              "    </tr>\n",
              "  </thead>\n",
              "  <tbody>\n",
              "    <tr>\n",
              "      <th>0</th>\n",
              "      <td>2016-06-18 13:46:51.0</td>\n",
              "      <td>13811335</td>\n",
              "      <td>1322361417</td>\n",
              "      <td>glove</td>\n",
              "      <td>2016-06-18 13:46:51.0</td>\n",
              "      <td>0.0</td>\n",
              "    </tr>\n",
              "    <tr>\n",
              "      <th>1</th>\n",
              "      <td>2016-06-18 17:29:25.0</td>\n",
              "      <td>13811335</td>\n",
              "      <td>1322361417</td>\n",
              "      <td>hat</td>\n",
              "      <td>2016-06-18 13:46:51.0</td>\n",
              "      <td>13354.0</td>\n",
              "    </tr>\n",
              "    <tr>\n",
              "      <th>2</th>\n",
              "      <td>2016-06-18 23:07:12.0</td>\n",
              "      <td>13811335</td>\n",
              "      <td>1322363995</td>\n",
              "      <td>vase</td>\n",
              "      <td>2016-06-18 13:46:51.0</td>\n",
              "      <td>33621.0</td>\n",
              "    </tr>\n",
              "    <tr>\n",
              "      <th>3</th>\n",
              "      <td>2016-06-19 07:14:56.0</td>\n",
              "      <td>13811335</td>\n",
              "      <td>7482367143</td>\n",
              "      <td>cup</td>\n",
              "      <td>2016-06-18 13:46:51.0</td>\n",
              "      <td>62885.0</td>\n",
              "    </tr>\n",
              "    <tr>\n",
              "      <th>4</th>\n",
              "      <td>2016-06-19 21:59:40.0</td>\n",
              "      <td>13811335</td>\n",
              "      <td>1322369619</td>\n",
              "      <td>mirror</td>\n",
              "      <td>2016-06-18 13:46:51.0</td>\n",
              "      <td>115969.0</td>\n",
              "    </tr>\n",
              "    <tr>\n",
              "      <th>5</th>\n",
              "      <td>2016-06-20 18:59:48.0</td>\n",
              "      <td>13811335</td>\n",
              "      <td>1322375547</td>\n",
              "      <td>mirror</td>\n",
              "      <td>2016-06-18 13:46:51.0</td>\n",
              "      <td>191577.0</td>\n",
              "    </tr>\n",
              "    <tr>\n",
              "      <th>6</th>\n",
              "      <td>2016-06-17 12:39:46.0</td>\n",
              "      <td>3378024101</td>\n",
              "      <td>9322351612</td>\n",
              "      <td>dress</td>\n",
              "      <td>2016-06-17 12:39:46.0</td>\n",
              "      <td>0.0</td>\n",
              "    </tr>\n",
              "    <tr>\n",
              "      <th>7</th>\n",
              "      <td>2016-06-17 20:22:17.0</td>\n",
              "      <td>3378024101</td>\n",
              "      <td>9322353031</td>\n",
              "      <td>vase</td>\n",
              "      <td>2016-06-17 12:39:46.0</td>\n",
              "      <td>27751.0</td>\n",
              "    </tr>\n",
              "    <tr>\n",
              "      <th>8</th>\n",
              "      <td>2016-06-20 11:29:02.0</td>\n",
              "      <td>3378024101</td>\n",
              "      <td>6928364072</td>\n",
              "      <td>tie</td>\n",
              "      <td>2016-06-17 12:39:46.0</td>\n",
              "      <td>254956.0</td>\n",
              "    </tr>\n",
              "  </tbody>\n",
              "</table>\n",
              "</div>"
            ],
            "text/plain": [
              "                      ts     user_id  ...                 min_ts session_length\n",
              "0  2016-06-18 13:46:51.0    13811335  ...  2016-06-18 13:46:51.0            0.0\n",
              "1  2016-06-18 17:29:25.0    13811335  ...  2016-06-18 13:46:51.0        13354.0\n",
              "2  2016-06-18 23:07:12.0    13811335  ...  2016-06-18 13:46:51.0        33621.0\n",
              "3  2016-06-19 07:14:56.0    13811335  ...  2016-06-18 13:46:51.0        62885.0\n",
              "4  2016-06-19 21:59:40.0    13811335  ...  2016-06-18 13:46:51.0       115969.0\n",
              "5  2016-06-20 18:59:48.0    13811335  ...  2016-06-18 13:46:51.0       191577.0\n",
              "6  2016-06-17 12:39:46.0  3378024101  ...  2016-06-17 12:39:46.0            0.0\n",
              "7  2016-06-17 20:22:17.0  3378024101  ...  2016-06-17 12:39:46.0        27751.0\n",
              "8  2016-06-20 11:29:02.0  3378024101  ...  2016-06-17 12:39:46.0       254956.0\n",
              "\n",
              "[9 rows x 6 columns]"
            ]
          },
          "metadata": {},
          "execution_count": 412
        }
      ]
    },
    {
      "cell_type": "markdown",
      "metadata": {
        "id": "hHbL68gxH8xI"
      },
      "source": [
        "72 ч в секундах:"
      ]
    },
    {
      "cell_type": "code",
      "metadata": {
        "colab": {
          "base_uri": "https://localhost:8080/"
        },
        "id": "3rcYJ51RHrRK",
        "outputId": "caa5d99a-3949-4147-f210-7e13a8f30880"
      },
      "source": [
        "72 * 60 * 60"
      ],
      "execution_count": null,
      "outputs": [
        {
          "output_type": "execute_result",
          "data": {
            "text/plain": [
              "259200"
            ]
          },
          "metadata": {},
          "execution_count": 268
        }
      ]
    },
    {
      "cell_type": "markdown",
      "metadata": {
        "id": "QPfEl8RHKzku"
      },
      "source": [
        "Осталось оставить те транзакции, которые сделаны в первые 72часа"
      ]
    },
    {
      "cell_type": "code",
      "metadata": {
        "id": "E_7IxJJ6IfoE"
      },
      "source": [
        "sql = '''\n",
        "with transactions_updated as\n",
        "(select \n",
        "  t.*,\n",
        "  round(\n",
        "    (julianday(t.ts) - julianday(\n",
        "      min(t.ts) over (partition by t.user_id order by t.ts))\n",
        "    )* 24 * 60 * 60) as session_length\n",
        "from transactions t\n",
        "limit 10)\n",
        "\n",
        "select \n",
        "  t.*\n",
        "from transactions_updated t\n",
        "  where t.session_length < 72 * 60 * 60\n",
        "'''"
      ],
      "execution_count": null,
      "outputs": []
    },
    {
      "cell_type": "code",
      "metadata": {
        "colab": {
          "base_uri": "https://localhost:8080/",
          "height": 332
        },
        "id": "t_9bGQtKLKSv",
        "outputId": "e91bcb45-5a4a-4959-a688-d0961ec8b49d"
      },
      "source": [
        "select(sql)"
      ],
      "execution_count": null,
      "outputs": [
        {
          "output_type": "execute_result",
          "data": {
            "text/html": [
              "<div>\n",
              "<style scoped>\n",
              "    .dataframe tbody tr th:only-of-type {\n",
              "        vertical-align: middle;\n",
              "    }\n",
              "\n",
              "    .dataframe tbody tr th {\n",
              "        vertical-align: top;\n",
              "    }\n",
              "\n",
              "    .dataframe thead th {\n",
              "        text-align: right;\n",
              "    }\n",
              "</style>\n",
              "<table border=\"1\" class=\"dataframe\">\n",
              "  <thead>\n",
              "    <tr style=\"text-align: right;\">\n",
              "      <th></th>\n",
              "      <th>ts</th>\n",
              "      <th>user_id</th>\n",
              "      <th>id</th>\n",
              "      <th>item</th>\n",
              "      <th>session_length</th>\n",
              "    </tr>\n",
              "  </thead>\n",
              "  <tbody>\n",
              "    <tr>\n",
              "      <th>0</th>\n",
              "      <td>2016-06-18 13:46:51.0</td>\n",
              "      <td>13811335</td>\n",
              "      <td>1322361417</td>\n",
              "      <td>glove</td>\n",
              "      <td>0.0</td>\n",
              "    </tr>\n",
              "    <tr>\n",
              "      <th>1</th>\n",
              "      <td>2016-06-18 17:29:25.0</td>\n",
              "      <td>13811335</td>\n",
              "      <td>1322361417</td>\n",
              "      <td>hat</td>\n",
              "      <td>13354.0</td>\n",
              "    </tr>\n",
              "    <tr>\n",
              "      <th>2</th>\n",
              "      <td>2016-06-18 23:07:12.0</td>\n",
              "      <td>13811335</td>\n",
              "      <td>1322363995</td>\n",
              "      <td>vase</td>\n",
              "      <td>33621.0</td>\n",
              "    </tr>\n",
              "    <tr>\n",
              "      <th>3</th>\n",
              "      <td>2016-06-19 07:14:56.0</td>\n",
              "      <td>13811335</td>\n",
              "      <td>7482367143</td>\n",
              "      <td>cup</td>\n",
              "      <td>62885.0</td>\n",
              "    </tr>\n",
              "    <tr>\n",
              "      <th>4</th>\n",
              "      <td>2016-06-19 21:59:40.0</td>\n",
              "      <td>13811335</td>\n",
              "      <td>1322369619</td>\n",
              "      <td>mirror</td>\n",
              "      <td>115969.0</td>\n",
              "    </tr>\n",
              "    <tr>\n",
              "      <th>5</th>\n",
              "      <td>2016-06-20 18:59:48.0</td>\n",
              "      <td>13811335</td>\n",
              "      <td>1322375547</td>\n",
              "      <td>mirror</td>\n",
              "      <td>191577.0</td>\n",
              "    </tr>\n",
              "    <tr>\n",
              "      <th>6</th>\n",
              "      <td>2016-06-17 12:39:46.0</td>\n",
              "      <td>3378024101</td>\n",
              "      <td>9322351612</td>\n",
              "      <td>dress</td>\n",
              "      <td>0.0</td>\n",
              "    </tr>\n",
              "    <tr>\n",
              "      <th>7</th>\n",
              "      <td>2016-06-17 20:22:17.0</td>\n",
              "      <td>3378024101</td>\n",
              "      <td>9322353031</td>\n",
              "      <td>vase</td>\n",
              "      <td>27751.0</td>\n",
              "    </tr>\n",
              "    <tr>\n",
              "      <th>8</th>\n",
              "      <td>2016-06-20 11:29:02.0</td>\n",
              "      <td>3378024101</td>\n",
              "      <td>6928364072</td>\n",
              "      <td>tie</td>\n",
              "      <td>254956.0</td>\n",
              "    </tr>\n",
              "  </tbody>\n",
              "</table>\n",
              "</div>"
            ],
            "text/plain": [
              "                      ts     user_id          id    item  session_length\n",
              "0  2016-06-18 13:46:51.0    13811335  1322361417   glove             0.0\n",
              "1  2016-06-18 17:29:25.0    13811335  1322361417     hat         13354.0\n",
              "2  2016-06-18 23:07:12.0    13811335  1322363995    vase         33621.0\n",
              "3  2016-06-19 07:14:56.0    13811335  7482367143     cup         62885.0\n",
              "4  2016-06-19 21:59:40.0    13811335  1322369619  mirror        115969.0\n",
              "5  2016-06-20 18:59:48.0    13811335  1322375547  mirror        191577.0\n",
              "6  2016-06-17 12:39:46.0  3378024101  9322351612   dress             0.0\n",
              "7  2016-06-17 20:22:17.0  3378024101  9322353031    vase         27751.0\n",
              "8  2016-06-20 11:29:02.0  3378024101  6928364072     tie        254956.0"
            ]
          },
          "metadata": {},
          "execution_count": 414
        }
      ]
    },
    {
      "cell_type": "markdown",
      "metadata": {
        "id": "Ua4CFTrpMNrJ"
      },
      "source": [
        "Теперь сгруппируем по пользователю и посчитаем количество транзакций:"
      ]
    },
    {
      "cell_type": "code",
      "metadata": {
        "id": "sgTJ6FH3MR4X"
      },
      "source": [
        "sql = '''\n",
        "with transactions_updated as\n",
        "(select \n",
        "  t.*,\n",
        "  round(\n",
        "    (julianday(t.ts) - julianday(\n",
        "      min(t.ts) over (partition by t.user_id order by t.ts))\n",
        "    )* 24 * 60 * 60) as session_length\n",
        "from transactions t),\n",
        "\n",
        "filtered_transactions as \n",
        "(select \n",
        "  t.*\n",
        "from transactions_updated t\n",
        "  where t.session_length < 72 * 60 * 60)\n",
        "\n",
        "select \n",
        "  t.user_id,\n",
        "  count(*) transactions_cnt\n",
        "from filtered_transactions t\n",
        "  group by 1\n",
        "'''"
      ],
      "execution_count": null,
      "outputs": []
    },
    {
      "cell_type": "code",
      "metadata": {
        "colab": {
          "base_uri": "https://localhost:8080/",
          "height": 112
        },
        "id": "eiCIlHQ9Msqk",
        "outputId": "e2825a54-82e6-4627-ae3c-7f742df2a23c"
      },
      "source": [
        "select(sql)"
      ],
      "execution_count": null,
      "outputs": [
        {
          "output_type": "execute_result",
          "data": {
            "text/html": [
              "<div>\n",
              "<style scoped>\n",
              "    .dataframe tbody tr th:only-of-type {\n",
              "        vertical-align: middle;\n",
              "    }\n",
              "\n",
              "    .dataframe tbody tr th {\n",
              "        vertical-align: top;\n",
              "    }\n",
              "\n",
              "    .dataframe thead th {\n",
              "        text-align: right;\n",
              "    }\n",
              "</style>\n",
              "<table border=\"1\" class=\"dataframe\">\n",
              "  <thead>\n",
              "    <tr style=\"text-align: right;\">\n",
              "      <th></th>\n",
              "      <th>user_id</th>\n",
              "      <th>transactions_cnt</th>\n",
              "    </tr>\n",
              "  </thead>\n",
              "  <tbody>\n",
              "    <tr>\n",
              "      <th>0</th>\n",
              "      <td>13811335</td>\n",
              "      <td>6</td>\n",
              "    </tr>\n",
              "    <tr>\n",
              "      <th>1</th>\n",
              "      <td>3378024101</td>\n",
              "      <td>3</td>\n",
              "    </tr>\n",
              "  </tbody>\n",
              "</table>\n",
              "</div>"
            ],
            "text/plain": [
              "      user_id  transactions_cnt\n",
              "0    13811335                 6\n",
              "1  3378024101                 3"
            ]
          },
          "metadata": {},
          "execution_count": 370
        }
      ]
    },
    {
      "cell_type": "markdown",
      "metadata": {
        "id": "QHBk7MTeM28g"
      },
      "source": [
        "Как можно заметить, в среднем у нас будет 4.5 транзакции.\n",
        "По хорошему, вывести в отчет нужно min, max, avg и median.\n"
      ]
    },
    {
      "cell_type": "code",
      "metadata": {
        "id": "ZJstz1JJPGon"
      },
      "source": [
        "sql = '''\n",
        "with transactions_updated as\n",
        "(select \n",
        "  t.*,\n",
        "  round(\n",
        "    (julianday(t.ts) - julianday(\n",
        "      min(t.ts) over (partition by t.user_id order by t.ts))\n",
        "    )* 24 * 60 * 60) as session_length\n",
        "from transactions t),\n",
        "\n",
        "filtered_transactions as \n",
        "(select \n",
        "  t.*\n",
        "from transactions_updated t\n",
        "  where t.session_length < 72 * 60 * 60),\n",
        "\n",
        "transactions_agg as (\n",
        "select \n",
        "  t.user_id,\n",
        "  count(*) transactions_cnt\n",
        "from filtered_transactions t\n",
        "  group by 1)\n",
        "\n",
        "select\n",
        "  min(t.transactions_cnt) as min,\n",
        "  avg(t.transactions_cnt) as avg,\n",
        "  max(t.transactions_cnt) as max\n",
        "from transactions_agg t \n",
        "'''"
      ],
      "execution_count": null,
      "outputs": []
    },
    {
      "cell_type": "code",
      "metadata": {
        "colab": {
          "base_uri": "https://localhost:8080/",
          "height": 81
        },
        "id": "4yy91Dm7PLv3",
        "outputId": "432dd8e8-c9dc-4191-ec4c-683b837a9b4d"
      },
      "source": [
        "select(sql)"
      ],
      "execution_count": null,
      "outputs": [
        {
          "output_type": "execute_result",
          "data": {
            "text/html": [
              "<div>\n",
              "<style scoped>\n",
              "    .dataframe tbody tr th:only-of-type {\n",
              "        vertical-align: middle;\n",
              "    }\n",
              "\n",
              "    .dataframe tbody tr th {\n",
              "        vertical-align: top;\n",
              "    }\n",
              "\n",
              "    .dataframe thead th {\n",
              "        text-align: right;\n",
              "    }\n",
              "</style>\n",
              "<table border=\"1\" class=\"dataframe\">\n",
              "  <thead>\n",
              "    <tr style=\"text-align: right;\">\n",
              "      <th></th>\n",
              "      <th>min</th>\n",
              "      <th>avg</th>\n",
              "      <th>max</th>\n",
              "    </tr>\n",
              "  </thead>\n",
              "  <tbody>\n",
              "    <tr>\n",
              "      <th>0</th>\n",
              "      <td>3</td>\n",
              "      <td>4.5</td>\n",
              "      <td>6</td>\n",
              "    </tr>\n",
              "  </tbody>\n",
              "</table>\n",
              "</div>"
            ],
            "text/plain": [
              "   min  avg  max\n",
              "0    3  4.5    6"
            ]
          },
          "metadata": {},
          "execution_count": 398
        }
      ]
    },
    {
      "cell_type": "markdown",
      "metadata": {
        "id": "HXnGt2r-Vxp1"
      },
      "source": [
        "Медианы стандартно нет в SQLite3, не стал ее добавлять, а то и так решение большое.\n",
        "\n",
        "Сейчас сгенирирую еще данных и проверю правильность работы скрипта"
      ]
    },
    {
      "cell_type": "code",
      "metadata": {
        "id": "nlr77MXiV_Yr"
      },
      "source": [
        "sql = '''\n",
        "insert into transactions values\n",
        "('2016-06-19 13:46:51.0', 13811335, 13223614170, 'glove'),\n",
        "('2016-06-19 17:19:25.0', 13811335, 13223614171, 'hat'),\n",
        "('2016-06-20 23:57:12.0', 13811335, 13223639952, 'vase'),\n",
        "('2016-06-20 07:34:56.0', 13811335, 74823671433, 'cup'),\n",
        "('2016-06-26 21:19:40.0', 13811335, 13223696194, 'mirror'),\n",
        "('2016-06-23 07:23:56.0', 13811335, 74823671435, 'cup'),\n",
        "('2016-06-22 21:29:40.0', 13811335, 13223696196, 'mirror'),\n",
        "\n",
        "('2016-06-22 12:39:46.0', 3378024101, 93223516121, 'dress'),\n",
        "('2016-06-18 20:22:17.0', 3378024101, 93223530312, 'vase'),\n",
        "('2016-06-25 11:29:02.0', 3378024101, 69283640723, 'tie'),\n",
        "\n",
        "('2016-06-19 13:46:51.0', 13811334, 132236141703, 'glove'),\n",
        "('2016-06-19 17:29:25.0', 13811334, 132236141715, 'hat'),\n",
        "('2016-06-23 23:07:12.0', 13811334, 132236399521, 'vase'),\n",
        "('2016-06-25 07:24:56.0', 13811334, 748236714336, 'cup'),\n",
        "('2016-06-28 21:59:40.0', 13811334, 132236961946, 'mirror'),\n",
        "('2016-06-23 07:14:56.0', 13811334, 748236714356, 'cup'),\n",
        "('2016-06-22 21:49:40.0', 13811334, 132236961966, 'mirror'),\n",
        "\n",
        "('2016-06-21 12:39:46.0', 337802433, 932235161216, 'dress'),\n",
        "('2016-06-11 20:22:17.0', 337802433, 932235303126, 'vase'),\n",
        "('2016-06-21 11:29:02.0', 337802433, 692836407236, 'tie')\n",
        "'''"
      ],
      "execution_count": null,
      "outputs": []
    },
    {
      "cell_type": "code",
      "metadata": {
        "colab": {
          "base_uri": "https://localhost:8080/"
        },
        "id": "Pn8SxWJFWzaU",
        "outputId": "c6bbc774-c8af-4486-f10e-b67ba5e90597"
      },
      "source": [
        "con.executescript(sql)"
      ],
      "execution_count": null,
      "outputs": [
        {
          "output_type": "execute_result",
          "data": {
            "text/plain": [
              "<pysqlite3.dbapi2.Cursor at 0x7fb7d3ed2180>"
            ]
          },
          "metadata": {},
          "execution_count": 425
        }
      ]
    },
    {
      "cell_type": "code",
      "metadata": {
        "id": "1c4d11WaW1_L"
      },
      "source": [
        "sql = '''\n",
        "select t.* from transactions t\n",
        "'''"
      ],
      "execution_count": null,
      "outputs": []
    },
    {
      "cell_type": "code",
      "metadata": {
        "colab": {
          "base_uri": "https://localhost:8080/",
          "height": 959
        },
        "id": "sHZRPtStW6Cv",
        "outputId": "5b1d7ac6-89e5-4d57-8da8-8313b8a62905"
      },
      "source": [
        "select(sql)"
      ],
      "execution_count": null,
      "outputs": [
        {
          "output_type": "execute_result",
          "data": {
            "text/html": [
              "<div>\n",
              "<style scoped>\n",
              "    .dataframe tbody tr th:only-of-type {\n",
              "        vertical-align: middle;\n",
              "    }\n",
              "\n",
              "    .dataframe tbody tr th {\n",
              "        vertical-align: top;\n",
              "    }\n",
              "\n",
              "    .dataframe thead th {\n",
              "        text-align: right;\n",
              "    }\n",
              "</style>\n",
              "<table border=\"1\" class=\"dataframe\">\n",
              "  <thead>\n",
              "    <tr style=\"text-align: right;\">\n",
              "      <th></th>\n",
              "      <th>ts</th>\n",
              "      <th>user_id</th>\n",
              "      <th>id</th>\n",
              "      <th>item</th>\n",
              "    </tr>\n",
              "  </thead>\n",
              "  <tbody>\n",
              "    <tr>\n",
              "      <th>0</th>\n",
              "      <td>2016-06-18 13:46:51.0</td>\n",
              "      <td>13811335</td>\n",
              "      <td>1322361417</td>\n",
              "      <td>glove</td>\n",
              "    </tr>\n",
              "    <tr>\n",
              "      <th>1</th>\n",
              "      <td>2016-06-18 17:29:25.0</td>\n",
              "      <td>13811335</td>\n",
              "      <td>1322361417</td>\n",
              "      <td>hat</td>\n",
              "    </tr>\n",
              "    <tr>\n",
              "      <th>2</th>\n",
              "      <td>2016-06-18 23:07:12.0</td>\n",
              "      <td>13811335</td>\n",
              "      <td>1322363995</td>\n",
              "      <td>vase</td>\n",
              "    </tr>\n",
              "    <tr>\n",
              "      <th>3</th>\n",
              "      <td>2016-06-19 07:14:56.0</td>\n",
              "      <td>13811335</td>\n",
              "      <td>7482367143</td>\n",
              "      <td>cup</td>\n",
              "    </tr>\n",
              "    <tr>\n",
              "      <th>4</th>\n",
              "      <td>2016-06-19 21:59:40.0</td>\n",
              "      <td>13811335</td>\n",
              "      <td>1322369619</td>\n",
              "      <td>mirror</td>\n",
              "    </tr>\n",
              "    <tr>\n",
              "      <th>5</th>\n",
              "      <td>2016-06-17 12:39:46.0</td>\n",
              "      <td>3378024101</td>\n",
              "      <td>9322351612</td>\n",
              "      <td>dress</td>\n",
              "    </tr>\n",
              "    <tr>\n",
              "      <th>6</th>\n",
              "      <td>2016-06-17 20:22:17.0</td>\n",
              "      <td>3378024101</td>\n",
              "      <td>9322353031</td>\n",
              "      <td>vase</td>\n",
              "    </tr>\n",
              "    <tr>\n",
              "      <th>7</th>\n",
              "      <td>2016-06-20 11:29:02.0</td>\n",
              "      <td>3378024101</td>\n",
              "      <td>6928364072</td>\n",
              "      <td>tie</td>\n",
              "    </tr>\n",
              "    <tr>\n",
              "      <th>8</th>\n",
              "      <td>2016-06-20 18:59:48.0</td>\n",
              "      <td>13811335</td>\n",
              "      <td>1322375547</td>\n",
              "      <td>mirror</td>\n",
              "    </tr>\n",
              "    <tr>\n",
              "      <th>9</th>\n",
              "      <td>2016-06-19 13:46:51.0</td>\n",
              "      <td>13811335</td>\n",
              "      <td>13223614170</td>\n",
              "      <td>glove</td>\n",
              "    </tr>\n",
              "    <tr>\n",
              "      <th>10</th>\n",
              "      <td>2016-06-19 17:19:25.0</td>\n",
              "      <td>13811335</td>\n",
              "      <td>13223614171</td>\n",
              "      <td>hat</td>\n",
              "    </tr>\n",
              "    <tr>\n",
              "      <th>11</th>\n",
              "      <td>2016-06-20 23:57:12.0</td>\n",
              "      <td>13811335</td>\n",
              "      <td>13223639952</td>\n",
              "      <td>vase</td>\n",
              "    </tr>\n",
              "    <tr>\n",
              "      <th>12</th>\n",
              "      <td>2016-06-20 07:34:56.0</td>\n",
              "      <td>13811335</td>\n",
              "      <td>74823671433</td>\n",
              "      <td>cup</td>\n",
              "    </tr>\n",
              "    <tr>\n",
              "      <th>13</th>\n",
              "      <td>2016-06-26 21:19:40.0</td>\n",
              "      <td>13811335</td>\n",
              "      <td>13223696194</td>\n",
              "      <td>mirror</td>\n",
              "    </tr>\n",
              "    <tr>\n",
              "      <th>14</th>\n",
              "      <td>2016-06-23 07:23:56.0</td>\n",
              "      <td>13811335</td>\n",
              "      <td>74823671435</td>\n",
              "      <td>cup</td>\n",
              "    </tr>\n",
              "    <tr>\n",
              "      <th>15</th>\n",
              "      <td>2016-06-22 21:29:40.0</td>\n",
              "      <td>13811335</td>\n",
              "      <td>13223696196</td>\n",
              "      <td>mirror</td>\n",
              "    </tr>\n",
              "    <tr>\n",
              "      <th>16</th>\n",
              "      <td>2016-06-22 12:39:46.0</td>\n",
              "      <td>3378024101</td>\n",
              "      <td>93223516121</td>\n",
              "      <td>dress</td>\n",
              "    </tr>\n",
              "    <tr>\n",
              "      <th>17</th>\n",
              "      <td>2016-06-18 20:22:17.0</td>\n",
              "      <td>3378024101</td>\n",
              "      <td>93223530312</td>\n",
              "      <td>vase</td>\n",
              "    </tr>\n",
              "    <tr>\n",
              "      <th>18</th>\n",
              "      <td>2016-06-25 11:29:02.0</td>\n",
              "      <td>3378024101</td>\n",
              "      <td>69283640723</td>\n",
              "      <td>tie</td>\n",
              "    </tr>\n",
              "    <tr>\n",
              "      <th>19</th>\n",
              "      <td>2016-06-19 13:46:51.0</td>\n",
              "      <td>13811334</td>\n",
              "      <td>132236141703</td>\n",
              "      <td>glove</td>\n",
              "    </tr>\n",
              "    <tr>\n",
              "      <th>20</th>\n",
              "      <td>2016-06-19 17:29:25.0</td>\n",
              "      <td>13811334</td>\n",
              "      <td>132236141715</td>\n",
              "      <td>hat</td>\n",
              "    </tr>\n",
              "    <tr>\n",
              "      <th>21</th>\n",
              "      <td>2016-06-23 23:07:12.0</td>\n",
              "      <td>13811334</td>\n",
              "      <td>132236399521</td>\n",
              "      <td>vase</td>\n",
              "    </tr>\n",
              "    <tr>\n",
              "      <th>22</th>\n",
              "      <td>2016-06-25 07:24:56.0</td>\n",
              "      <td>13811334</td>\n",
              "      <td>748236714336</td>\n",
              "      <td>cup</td>\n",
              "    </tr>\n",
              "    <tr>\n",
              "      <th>23</th>\n",
              "      <td>2016-06-28 21:59:40.0</td>\n",
              "      <td>13811334</td>\n",
              "      <td>132236961946</td>\n",
              "      <td>mirror</td>\n",
              "    </tr>\n",
              "    <tr>\n",
              "      <th>24</th>\n",
              "      <td>2016-06-23 07:14:56.0</td>\n",
              "      <td>13811334</td>\n",
              "      <td>748236714356</td>\n",
              "      <td>cup</td>\n",
              "    </tr>\n",
              "    <tr>\n",
              "      <th>25</th>\n",
              "      <td>2016-06-22 21:49:40.0</td>\n",
              "      <td>13811334</td>\n",
              "      <td>132236961966</td>\n",
              "      <td>mirror</td>\n",
              "    </tr>\n",
              "    <tr>\n",
              "      <th>26</th>\n",
              "      <td>2016-06-21 12:39:46.0</td>\n",
              "      <td>337802433</td>\n",
              "      <td>932235161216</td>\n",
              "      <td>dress</td>\n",
              "    </tr>\n",
              "    <tr>\n",
              "      <th>27</th>\n",
              "      <td>2016-06-11 20:22:17.0</td>\n",
              "      <td>337802433</td>\n",
              "      <td>932235303126</td>\n",
              "      <td>vase</td>\n",
              "    </tr>\n",
              "    <tr>\n",
              "      <th>28</th>\n",
              "      <td>2016-06-21 11:29:02.0</td>\n",
              "      <td>337802433</td>\n",
              "      <td>692836407236</td>\n",
              "      <td>tie</td>\n",
              "    </tr>\n",
              "  </tbody>\n",
              "</table>\n",
              "</div>"
            ],
            "text/plain": [
              "                       ts     user_id            id    item\n",
              "0   2016-06-18 13:46:51.0    13811335    1322361417   glove\n",
              "1   2016-06-18 17:29:25.0    13811335    1322361417     hat\n",
              "2   2016-06-18 23:07:12.0    13811335    1322363995    vase\n",
              "3   2016-06-19 07:14:56.0    13811335    7482367143     cup\n",
              "4   2016-06-19 21:59:40.0    13811335    1322369619  mirror\n",
              "5   2016-06-17 12:39:46.0  3378024101    9322351612   dress\n",
              "6   2016-06-17 20:22:17.0  3378024101    9322353031    vase\n",
              "7   2016-06-20 11:29:02.0  3378024101    6928364072     tie\n",
              "8   2016-06-20 18:59:48.0    13811335    1322375547  mirror\n",
              "9   2016-06-19 13:46:51.0    13811335   13223614170   glove\n",
              "10  2016-06-19 17:19:25.0    13811335   13223614171     hat\n",
              "11  2016-06-20 23:57:12.0    13811335   13223639952    vase\n",
              "12  2016-06-20 07:34:56.0    13811335   74823671433     cup\n",
              "13  2016-06-26 21:19:40.0    13811335   13223696194  mirror\n",
              "14  2016-06-23 07:23:56.0    13811335   74823671435     cup\n",
              "15  2016-06-22 21:29:40.0    13811335   13223696196  mirror\n",
              "16  2016-06-22 12:39:46.0  3378024101   93223516121   dress\n",
              "17  2016-06-18 20:22:17.0  3378024101   93223530312    vase\n",
              "18  2016-06-25 11:29:02.0  3378024101   69283640723     tie\n",
              "19  2016-06-19 13:46:51.0    13811334  132236141703   glove\n",
              "20  2016-06-19 17:29:25.0    13811334  132236141715     hat\n",
              "21  2016-06-23 23:07:12.0    13811334  132236399521    vase\n",
              "22  2016-06-25 07:24:56.0    13811334  748236714336     cup\n",
              "23  2016-06-28 21:59:40.0    13811334  132236961946  mirror\n",
              "24  2016-06-23 07:14:56.0    13811334  748236714356     cup\n",
              "25  2016-06-22 21:49:40.0    13811334  132236961966  mirror\n",
              "26  2016-06-21 12:39:46.0   337802433  932235161216   dress\n",
              "27  2016-06-11 20:22:17.0   337802433  932235303126    vase\n",
              "28  2016-06-21 11:29:02.0   337802433  692836407236     tie"
            ]
          },
          "metadata": {},
          "execution_count": 427
        }
      ]
    },
    {
      "cell_type": "markdown",
      "metadata": {
        "id": "yv9B_kClXF_b"
      },
      "source": [
        "Проверим"
      ]
    },
    {
      "cell_type": "code",
      "metadata": {
        "id": "g1yq9Sp8XAe2"
      },
      "source": [
        "sql = '''\n",
        "with transactions_updated as\n",
        "(select \n",
        "  t.*,\n",
        "  round(\n",
        "    (julianday(t.ts) - julianday(\n",
        "      min(t.ts) over (partition by t.user_id order by t.ts))\n",
        "    )* 24 * 60 * 60) as session_length\n",
        "from transactions t),\n",
        "\n",
        "filtered_transactions as \n",
        "(select \n",
        "  t.*\n",
        "from transactions_updated t\n",
        "  where t.session_length < 72 * 60 * 60)\n",
        "\n",
        "select \n",
        "  t.user_id,\n",
        "  count(*) transactions_cnt\n",
        "from filtered_transactions t\n",
        "  group by 1\n",
        "'''"
      ],
      "execution_count": null,
      "outputs": []
    },
    {
      "cell_type": "code",
      "metadata": {
        "colab": {
          "base_uri": "https://localhost:8080/",
          "height": 175
        },
        "id": "rjLIf-k_XBWg",
        "outputId": "71590b4c-5d10-485b-94c6-6b5f62146c97"
      },
      "source": [
        "select(sql)"
      ],
      "execution_count": null,
      "outputs": [
        {
          "output_type": "execute_result",
          "data": {
            "text/html": [
              "<div>\n",
              "<style scoped>\n",
              "    .dataframe tbody tr th:only-of-type {\n",
              "        vertical-align: middle;\n",
              "    }\n",
              "\n",
              "    .dataframe tbody tr th {\n",
              "        vertical-align: top;\n",
              "    }\n",
              "\n",
              "    .dataframe thead th {\n",
              "        text-align: right;\n",
              "    }\n",
              "</style>\n",
              "<table border=\"1\" class=\"dataframe\">\n",
              "  <thead>\n",
              "    <tr style=\"text-align: right;\">\n",
              "      <th></th>\n",
              "      <th>user_id</th>\n",
              "      <th>transactions_cnt</th>\n",
              "    </tr>\n",
              "  </thead>\n",
              "  <tbody>\n",
              "    <tr>\n",
              "      <th>0</th>\n",
              "      <td>13811334</td>\n",
              "      <td>2</td>\n",
              "    </tr>\n",
              "    <tr>\n",
              "      <th>1</th>\n",
              "      <td>13811335</td>\n",
              "      <td>10</td>\n",
              "    </tr>\n",
              "    <tr>\n",
              "      <th>2</th>\n",
              "      <td>337802433</td>\n",
              "      <td>1</td>\n",
              "    </tr>\n",
              "    <tr>\n",
              "      <th>3</th>\n",
              "      <td>3378024101</td>\n",
              "      <td>4</td>\n",
              "    </tr>\n",
              "  </tbody>\n",
              "</table>\n",
              "</div>"
            ],
            "text/plain": [
              "      user_id  transactions_cnt\n",
              "0    13811334                 2\n",
              "1    13811335                10\n",
              "2   337802433                 1\n",
              "3  3378024101                 4"
            ]
          },
          "metadata": {},
          "execution_count": 429
        }
      ]
    },
    {
      "cell_type": "markdown",
      "metadata": {
        "id": "ciy2pcTrXNym"
      },
      "source": [
        "Итого:"
      ]
    },
    {
      "cell_type": "code",
      "metadata": {
        "id": "jhQiKjYUYK15"
      },
      "source": [
        "sql = '''\n",
        "with transactions_updated as\n",
        "(select \n",
        "  t.*,\n",
        "  round(\n",
        "    (julianday(t.ts) - julianday(\n",
        "      min(t.ts) over (partition by t.user_id order by t.ts))\n",
        "    )* 24 * 60 * 60) as session_length\n",
        "from transactions t),\n",
        "\n",
        "filtered_transactions as \n",
        "(select \n",
        "  t.*\n",
        "from transactions_updated t\n",
        "  where t.session_length < 72 * 60 * 60),\n",
        "\n",
        "transactions_agg as (\n",
        "select \n",
        "  t.user_id,\n",
        "  count(*) transactions_cnt\n",
        "from filtered_transactions t\n",
        "  group by 1)\n",
        "\n",
        "select\n",
        "  min(t.transactions_cnt) as min,\n",
        "  avg(t.transactions_cnt) as avg,\n",
        "  max(t.transactions_cnt) as max\n",
        "from transactions_agg t \n",
        "'''"
      ],
      "execution_count": null,
      "outputs": []
    },
    {
      "cell_type": "code",
      "metadata": {
        "colab": {
          "base_uri": "https://localhost:8080/",
          "height": 81
        },
        "id": "YCksHTu6YLuF",
        "outputId": "863ad681-948f-4eba-bcf4-63429bc7f01b"
      },
      "source": [
        "select(sql)"
      ],
      "execution_count": null,
      "outputs": [
        {
          "output_type": "execute_result",
          "data": {
            "text/html": [
              "<div>\n",
              "<style scoped>\n",
              "    .dataframe tbody tr th:only-of-type {\n",
              "        vertical-align: middle;\n",
              "    }\n",
              "\n",
              "    .dataframe tbody tr th {\n",
              "        vertical-align: top;\n",
              "    }\n",
              "\n",
              "    .dataframe thead th {\n",
              "        text-align: right;\n",
              "    }\n",
              "</style>\n",
              "<table border=\"1\" class=\"dataframe\">\n",
              "  <thead>\n",
              "    <tr style=\"text-align: right;\">\n",
              "      <th></th>\n",
              "      <th>min</th>\n",
              "      <th>avg</th>\n",
              "      <th>max</th>\n",
              "    </tr>\n",
              "  </thead>\n",
              "  <tbody>\n",
              "    <tr>\n",
              "      <th>0</th>\n",
              "      <td>1</td>\n",
              "      <td>4.25</td>\n",
              "      <td>10</td>\n",
              "    </tr>\n",
              "  </tbody>\n",
              "</table>\n",
              "</div>"
            ],
            "text/plain": [
              "   min   avg  max\n",
              "0    1  4.25   10"
            ]
          },
          "metadata": {},
          "execution_count": 431
        }
      ]
    },
    {
      "cell_type": "markdown",
      "metadata": {
        "id": "eQPG8VO3ZPjB"
      },
      "source": [
        "Ответ: все работает, задание решено."
      ]
    }
  ]
}