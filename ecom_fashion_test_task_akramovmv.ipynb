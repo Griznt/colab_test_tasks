{
  "nbformat": 4,
  "nbformat_minor": 0,
  "metadata": {
    "kernelspec": {
      "display_name": "Python 3",
      "language": "python",
      "name": "python3"
    },
    "language_info": {
      "codemirror_mode": {
        "name": "ipython",
        "version": 3
      },
      "file_extension": ".py",
      "mimetype": "text/x-python",
      "name": "python",
      "nbconvert_exporter": "python",
      "pygments_lexer": "ipython3",
      "version": "3.8.5"
    },
    "colab": {
      "name": "ecom_fashion_test_task_akramovmv.ipynb",
      "provenance": [],
      "collapsed_sections": [],
      "toc_visible": true,
      "include_colab_link": true
    }
  },
  "cells": [
    {
      "cell_type": "markdown",
      "metadata": {
        "id": "view-in-github",
        "colab_type": "text"
      },
      "source": [
        "<a href=\"https://colab.research.google.com/github/Griznt/colab_test_tasks/blob/main/ecom_fashion_test_task_akramovmv.ipynb\" target=\"_parent\"><img src=\"https://colab.research.google.com/assets/colab-badge.svg\" alt=\"Open In Colab\"/></a>"
      ]
    },
    {
      "cell_type": "markdown",
      "metadata": {
        "id": "W44E7bv_fDso"
      },
      "source": [
        "# Тестовое задание. Акрамов Михаил"
      ]
    },
    {
      "cell_type": "markdown",
      "metadata": {
        "id": "6XWaPgOSSeDd"
      },
      "source": [
        "## Задание 1:\n",
        "\n",
        "Перед вами ставят задачу увеличить возврат аудитории в мобильное приложение.\n",
        "Как вы будете решать данную задачу и какие аналитические инструменты вам потребуются?\n"
      ]
    },
    {
      "cell_type": "markdown",
      "metadata": {
        "id": "xXjwsws8TaGM"
      },
      "source": [
        "За возвращаемость пользователей отвечает Retention. В подавляющем большинстве используется N-day Retention, а, т.к. интернет магазин одежды - это товары повседневного спроса, то считать нужно именно эту метрику: какой процент пользователей возвращается на конкретный день.\n",
        "\n",
        "1. Для начала я хотел бы взглянуть на текущий Retention 7, 14 и 30 дней.\n",
        "2. Затем, я бы пошел в поиск и поискал ориентиры для данного типа продукта: какое значение Retention в указаные дни (7,14,30) является \"нормой\" для интернет магазина? А для магазина с одеждой? А для SaaS сервиса с товарами ежедневного потребления?\n",
        "3. Сравнил бы показатель Renetion для сайта и мобильного приложения. Какая динамика? Сайт лучше посещают или мобильное приложение? Если задача стоит повысить в возвращаемость мобильном приложении, можно предположить, что на сайте возвращаемость лучше.\n",
        "Отсюда следует еще одно предположения: \n",
        " * нужно произвести анализ сайта и мобильного приложения. Понять и сравнить аудитории: возможно, одежду покупают более взрослые люди, которые предпочитают веб-прилжожение и тп.\n",
        " * возможно, пользовательский путь вебе короче и \"отшлифован\" лучше, чем в мобильном приложении, пользователи в мобильном приложении сталкиваются с большим количеством препятствий\n",
        " * баги в мобильном приложении, которые не дают совершить покупку, например. Тогда пользователь может добавить в корзину в мобильном приложении, а завершить покупку с веба. Нужно подробно изучить эту цепочку. Если это так, то после пары таких попыток, пользователь может перестать пользоваться мобильным приложением и перейти на веб => Retention на мобильном приложении упал.\n",
        "4. Сравнить конверсии в целевое действие на вебе и мобильном приложении. Вероятно, в мобильном приложении что-то может быть сложнее для пользователей.\n",
        "5. Внимательно посмотреть пользователей в разрезе текущей установленной версии приложени и платформы (Android, iOS), возможно, что в какой-то версии баг, где клавиатура не открывается или еще что-то и пользватели перестают пользоваться. Также важно видеть Retention для каждой платформы, ведь приложения могут отличаться и/или пользователи на определенной платформе могут быть более лояльны/требовательны.\n",
        "6. Провести интервью с пользователями, с целью выяснить чем предпочитают пользоваться (веб/мобильное приоложение) узнать почему, спросить про опыт в аналогичных приложениях. Можно найти пользователей конкурентов и провести с ними интервью, с целью понять сильные слабые стороны конкурента/нашего решения.\n",
        "7. отзывы в AppStore, с целью поиска проблем\n",
        "\n",
        "Имея на руках результаты интервью, цифры о текущих конверсиях и возвращаемости для разных когорт пользователей, ориентировочные показатели метрик для схожих продуктов можно будет предложить какое-то решение.\n",
        "\n",
        "\n",
        "> Какие аналитические инструменты понадобятся?\n",
        "\n",
        "Нужен доступ к системам аналитики/сырым данным сайта, мобильного приложения.\n",
        "важно знать:\n",
        "* retention\n",
        "* cohort day, year\n",
        "* текущая версия приложения\n",
        "* conversion rate в целевое/ые действия\n",
        "* данные поустановкам/удалениям, связать это с активностью в прилоожении\n",
        "* email пользователей\n",
        "* push-token устройств\n",
        "\n",
        "После обнаружения проблем можно делать персонализированную рассылку по пользователям/когортам пользователей, например: пользователь перестал пользоваться нашим приложением, пользуется вебом, причина в багах: выпустить новую версию с исправленным багом и выслать пуш, что версия обновлена, баг поправлен\n",
        "\n",
        "можно пытаться активировать пользователей, кто давно не покупал, сообщая об акциях, даря купоны или делая скидки на товары в корзине пользователей.\n",
        "\n",
        "можно попробовать оценить возвращаемость пользователей в приложения конкурентов через сервисы SplitMetrics, когда мы делаем рекламу на конкурента и пускаем через наш сайт. Это даст возможность оценить конверсию из рекламы в переход к скачиванию приложения/переход на лендинг для конкурентов. Сравнить эти показатели с нашими, произвести корректировочные действия, при необходимости.\n",
        "\n",
        "В зависимости от результатов исследования действия будут уже более очевидны.\n",
        "\n"
      ]
    },
    {
      "cell_type": "markdown",
      "metadata": {
        "id": "NCf7VLxbSrEw"
      },
      "source": [
        "## Задание 2:\n",
        "В еженедельной статистике интренет-магазина одежды вы видите, что у вас увеличилось среднее количество товаров в заказе, но при этом сократился средний чек. С чем это может быть связано, какие выводы необходимо сделать?"
      ]
    },
    {
      "cell_type": "markdown",
      "metadata": {
        "id": "adAt8CM1ZuDG"
      },
      "source": [
        "Имеем: \n",
        "\n",
        "* увеличилось\n",
        " * количество товаров в заказе\n",
        "* уменьшилось\n",
        " * средний чек\n",
        "\n",
        "Имея только вот эти данные, мы не можем сделать никаких выводов:\n",
        "1. не понятно под влиянием чего это произошло: сезонность? Как давно происходит?\n",
        "2. что с выручкой? Выручка выросла, упала?\n",
        "3. не пропали ли какие-то товары, которые были популярны (например, от какого-то поставщика) с продажи?\n",
        "4. возможно, популярного товара не хватает на всех\n",
        "5. проанализировать проведенные акции/рекламные кампании, вероятно, что мог быть привлечен новый/не свойственный нам сегмент пользователей, которые имеют другую покупательскую особенность: покупают больше, но товары дешевле.\n",
        "6. посмотреть отзывы в AppStore/отзывы на сайте, на товары/запросы в службу поддержки. Возможно, чего-то не хватает, что-то мешает или люди чем-то недовольны\n",
        "7. посмотреть проведенные обновления приложения веб/мобильное, коррелирует ли просадка с проведенным обновлением?\n",
        "8. были ли обновления ассортимента? Что было добавлено нового/убрано старого?\n",
        "9. были ли изменения у поставщиков? Рост цен на товары, смена ассортимента\n",
        "10. было ли закрытие пунктов выдачи? Увеличение стоимости доставки? Загрузка логистических компаний?\n",
        "11. произвести анализ, посмотреть наиболее популярные товары за прошлые периоды и оценить динамику: какие товары когда популярны (учесть сезонность, смотреть за последние 2-3 года). Как меняется популярность товаров, их стоимость? Совпадает ли с прогнозом?\n",
        "12. оценить показатели:\n",
        " * ARPU\n",
        " * ARPPU\n",
        " * Paying Share\n",
        " * CR в целевое действие\n",
        " * Average Check\n",
        " * количество товаров в заказе\n",
        "\n",
        "и произвести анализ исторических данных и текущих. Тут картина станет понятнее, стоит ли переживать, или это сезонная тенденция, которая наблюдалась в прошлом году, например. Важно смотреть за последние минимум 2 года, т.к. год назад была пандемия с самоизоляцией и она могла оказать сильное влияние. Если бы делаем вывод, что значения упали по сравнению с прошлым годом - может быть, это связано с пандемией?\n",
        "\n"
      ]
    },
    {
      "cell_type": "markdown",
      "metadata": {
        "id": "UPl6rFJvTN5K"
      },
      "source": [
        "## Задание 3:\n",
        "Допустим, перед вами ставят амбициозную задачу — обеспечить x10 оборота за год с сайта. Вас просят составить пошаговый план того, как вы будете решать данную задачу. \n",
        "\n",
        "Важно отметить — увеличение трафика в 10 раз невозможно и все “детские” проблемы сайта уже давно решены."
      ]
    },
    {
      "cell_type": "markdown",
      "metadata": {
        "id": "OZVWY__ReVeH"
      },
      "source": [
        "> увеличение трафика в 10 раз невозможно\n",
        "\n",
        "Это звучит логично, так как вернуть пользователя всегда дешевле, чем привлекать нового. Важно понять пользователей и не привлекаем ли мы тех, кого не надо привлекать? ( => теряем деньги)\n",
        "\n",
        "Я бы предложил вот что:\n",
        "1. произвести разведку текущего состояния сайта, по сути все, что описано в задаче 1 и 2 - нужно повторить, чтобы было понимание текущего состояния продукта, пользовательская активность по когортам, недовольства, отзывы, популярные товары и тп.\n",
        "2. На год в современном мире планы строить почти нереально, их нужно постоянно корректировать. Постараемся сделать план на ближайшие 2-3 месяца и регулярно его корректировать, в зависимости от текущей остановки в мире/в стране/на рынке. \n",
        "3. В зависимости от порядка количества пользователей (подразумеваю, что это десятки - сотни тысяч) можно произвести ABCDX - сегментацию. Это сегментация, которая позволяет лучше узнать пользователей и каким именно пользователям нужен наш продукт:\n",
        "* берем всех пользователей (которые покупают на сайте, раз речь только про сайт) за последний год\n",
        "* ранжируем пользователей, которые платили на 4 сегмента по уровню ценности, которую мы им приносим и количеству денег, от клиентаранжируем их по сегментам, где:\n",
        " * A сегмент - покупают много, часто, цикл сделки маленький, всем довольны\n",
        " * B сегмент - продукт нужен, есть возражения, что-то не устраивает. Платят регулярно, цикл сделки не большой и средний чек выше среднего\n",
        " * C сегмент - потребность есть в продукте, но не нашем. Цикл сделки большой, средний чек маленький, покупают не часто, проблема и головная боль для тех поддержки\n",
        " * D сегмент - взрыв мозга и ничего не покупают\n",
        "\n",
        "* затем, начинаем работать только с сегментами A и B: так как на основе исследовний (ФРИИ, Замесин Иван и др) было выявлено, что 20% пользователей приносят 80% дохода. Это сегменты A и B. А сегменты C и D выносят мозг и отнимают 80% времени, а приносят только 20% дохода.\n",
        "* анализируем, что объединяет пользователей из сегментов A и B между собой. Таргетируемся на них.\n",
        "4. По возможности, отказаться делать продукт для сегментов C и D. Если это невозможно, то:\n",
        "* ставить KPI отделу продаж на работу с пользователями из сегментов A и B.\n",
        "* отдел техподдержки должен обрабатывать запросы от сегментов A и B в первую очередь\n",
        "* маркетинг тоже должен учесть на кого позиционироваться\n",
        "* команда разработки и менеджмент должны быть оповещены, кто являются пользователями сегментов A и B, чтобы всегда держать это в голове\n",
        "* перед правкой багов, составлением бэклога, внедрением фич и разработкой функционала, оценивать функционал в разребе пользовательских сегментов: а для кого мы это делаем? Если это не A или B - то и делать не стоит.\n",
        "* любые баги/жалобы нужно смотреть в разрезе пользователей: если это сегменты A и B, то важность задачи повышается.  \n",
        "5. Провести анализ популярных товаров для сегментов. Посмотреть динамику. Если окажется, что у нас обилие товаров, популярных для C и D сегментов, которые не пользуются популярностью у A и B - эти товары можно сокращать из ассортимента\n",
        "6. Увеличение выручки возможно за счет:\n",
        "* снижение затрат. Затраты снизятся и команда освободится немного, это позволит делать продукт для тех, кто в нем нуждается.\n",
        "* увеличение ценности в продукте для конечных пользователей из сегментов A и B.\n",
        "7. Можно провести JTBD-исследование продукта, с целью понять, как и почему пользователи покупают у нас. Какие эмоциональные составляющие есть и формирует ли наш продукт привычку. Как и кто покупают у конкурентов. За счет решения каких потребностей мы сможем увести клиентов от текущего доминирующего решения.\n",
        "8. Можно провести JTBD-исследование для поиска и коммуникации и продаж продукта. Это даст план действий для маркетига и команды роста.\n",
        "9. Поиск Product/Market Fit с помощью сегментации Шона Эллиса.\n",
        "* Сегментация подразумевает собой опрос пользователей, \"на сколько они будут разочарованы, если продукт исчезнет?\" с вариантами ответа:\n",
        " * очень расстроен\n",
        " * умеренно расстроен\n",
        " * не расстроен\n",
        "* Дальше нужно будет произвести разрез пользователей, которые ответили \"очень расстроены\" и понять, кто они, кто чаще встречаются.\n",
        "* Провести снова такой же опрос только среди пользователей схожих с теми, что определили на предыдущем шаге.\n",
        "* поговорить с пользователями из тех, кто ответил \"буду умеренно расстроен\" и пытаться понять, чего им не хватает, составлять задачи на доработку продукта исходя из ответов этого сегмента пользователей. \n",
        "10. Transaction Cost. Еще один важный момент, это зная микро-потребности пользователей, научиться решать их, тогда пользователи будут пользоваться чаще, лучше и дольше задерживаться с нами (стремиться к выработке привычки), за счет того, что пользуясь нашим продуктом, они закрывают еще одну потребность, что несет дополнительную ценность. При том, когда продукт, которым пользователь уже пользуется закрывает его потребность и предлагает закрыть еще одну, пользователю это обходится \"дешевле\" в плане усилий - он уже с нами, ему не надо ничего лишнего делать, даже если конкурент предлагает одно или два решения его потребности за тоже самое количество усилий.\n",
        "\n",
        "Все описанное выше так или иначе влияет на возвращаемость пользователей, сокращение издержек, увеличение ценности. Важно помнить, что вернуть пользователя дешевле, чем привлекать новых + каналы привлечения могут меняться и стоимость привлечения сильно расти. Здесь очень важно сосредоточиться на тех, кому нужен продукт и пилить его для них, привлекать таких пользователей и тп."
      ]
    },
    {
      "cell_type": "markdown",
      "metadata": {
        "id": "ljB-3R9nfLan"
      },
      "source": [
        "## Задание 4:\n",
        "Вчера завершилось AB-тестирование, которое мы проводили на карточке товара. В этом тесте участвовало 4 варианта отображения страницы, включая контрольный. \n",
        "\n",
        "Распределение кук было таким:\n",
        "* 0 вариант -- disable_recommendations_display (контрольный)\n",
        "* 1 вариант -- enable_widget_display\n",
        "* 2 вариант -- enable_widget_and_page_display\n",
        "* 3 вариант -- enable_null_page_display\n",
        "\n",
        "Описание полей: \n",
        "1. sessionId -- Id сессии\n",
        "2. owoxId -- Id пользователя\n",
        "3. expId -- перечень кук экспериментов\n",
        "4. transactionId -- Id транзакции\n",
        "5. transactionRevenue -- сумма транзакции\n",
        "\n"
      ]
    },
    {
      "cell_type": "markdown",
      "metadata": {
        "id": "btygkJEOfZ3_"
      },
      "source": [
        "### Задача 4.1\n",
        "Написать SQL запрос, который посчитает уникальное количество сессий, уникальное количество пользователей, уникальное количество купивших пользователей, сумму выручки и количество транзакций, которые относятся к каждой куке. \n"
      ]
    },
    {
      "cell_type": "markdown",
      "metadata": {
        "id": "ywVaF1Mifn7I"
      },
      "source": [
        "Примерный вид результата выдачи:\n",
        "\n",
        "![image.png](data:image/png;base64,iVBORw0KGgoAAAANSUhEUgAAAmAAAACqCAIAAACF5WR8AAAgAElEQVR4Ae1832sbSbb/QP0X6sc4BOb6Eibxy0hw4Wa8DJNoyYYYcsMKPMQrhmDEEIIwIYhgTGNMECYE7zUbNMETkDHDKh7CKg4DSgYySANZ5GF3v1q+WeR8yYAMhu0HP/RDHvrLqeofp6q7Zbmjdlnp0oPdXd116tTn/Ko6VdUf/U39FAIKAYWAQkAhoBDwIfCRqX4KAYWAQkAhoBBQCPgQUAHSB4kqUAgoBBQCCgGFgGmqAKm0QCGgEFAIKAQUAgEIqAAZAIoqUggoBBQCCgGFgAqQSgcUAgoBhYBCQCEQgIAKkAGgqCKFgEJAIaAQUAioAKl0QCGgEFAIKAQUAgEIqAAZAIoqUggoBBQCCgGFgAqQSgcUAgoBhYBCQCEQgIAKkAGgqCKFgEJAIaAQUAioAKl0QCGgEFAIKAQUAgEIJDFA7j6bv/TlvZYRAIcqUgjEgMD26peXbnz/JgbKiuSHjYDSHMny7RcgX9wh6Hci/eXS1gdh451vLqVS1zd3I0G/21r96vzHKUJI6uPf3lj7azQqgU2/WZsiZGrtuGN8zBH4cZ4QMv9jIMJHWPivtUuEXPqWCtN4ceskSS9vH7Z5aoDzL7xqL6Bvx19DPIZH6uoD0hzAfb+zeeda+iS48BOfXlt6Nky/4tPMCIKO6u48MXVWvyAkhQ3ENH9eOkPImcVWBIYCqxwYIK/de7a19Wxra2Pp0klCUre2kjzx2nsx/ykhJy8tbWxtfb82P3WCkPT8T8NCJKrGBAo2psLjj4BnPzFBMBhZHCAHq+F/y+eGVID0gzS8kg9Ic0yzs5ZLkdS5G3/a3Hq2ce8P51IkdbU6tBjp08wIUojq7pCY3nx7CSIkGg237p4h5NzqPyLwE1zlwADpxWfjLzcIITf+QuPBry+WvkyfIIScTF9bfAHTqB/nUyQ1/xNt5h+r58iZpZ/da3KrEdz8AKW7Lxav0hkbTGFf/MpqGNvf3jj/nymYxv2PWxj4ZkAhhfXS2r8oqb3ttZt0Rpj6+PzNte09WggySN36ZuPGFydoE/datJyif95D39i6lSLkKzoXDaXjzmZchWAX9zaWab9Onr/x545J/akzX3d4GwAd3ysImd/eWPsFhPXiDkiGjak6fzxHPlnyrsktmKAEMN9a+pSQL1Y70ABl+NP5F3vmMUeA2q2D4p0XJrWl64v3Lp0kl77pmHvbG3dcXbrXopN/qJK6tbZx4zyM/z6+umyn3o1f1qj0Seo/z9/4dpsNgoxfNub/hyrjyfS1ZUYAAOp8P38VtJGc+AIwpwrmsAETPhrY7thTwd3G0rVPwXRgXN+gTLBoen/jHiV+4osbm/8Esj43hANkgGKbJpK+YxeUyPWl5UsnyKU1StanMwcWUAX43a2lr8+lfApzlZo/6Bi5YY+edzevu6N4z1E4MA7SWTy8QMrJ2jqQ3QgvRNAcql0BXoJZEwgYuZQj1pzdP18nJGX7aoCDTrYcww/VQJbwQIoXZB1UCR3txsHpELD73V2glGkhRlIU068b1whJOZZlmq2lTxyvFWbs5HC2cIgAabubP+8CH58S8un11e+3Nv90PU1I+m7LNLZuEOqGTJM5iHN/BO9KRRU1n2manT+dJ+T8/LPOm182bjkue/fP11MkfZ0OjuZ/myKfgscPfDOwEAXI3c2vUiR1fn5ja2tj/nyKpFi0o44Vd/DMXWhh7XeE/G6NxgymDMabn7a2Gp1dsx8dR4f4AElS5xc2tp5tAP/k+uausbu7vQr0V7d3dyPPSSkyiHLq+uavJh3ZMOdIebBHWLubX7HoHsy88eP8GWpjxl9upGxjO/YI7O3ufn+LEHLr+93dPRi0gSGnzl27vbT64//bmoNh9L0fO29+Xrv+iS1rZnLp2dXNZ5urs2nCBnZ06HPmq7XWm86L5aspkrr1zDBpYSp378U/37S+uX6GpK6DLQC8oEOuNFO3tnZ3d/+6CinWPzJhogD58xLYi9dcGsaRzF8gPWSjLsqbN0I1WaClKdZAxQ60C9bB1H9fu7W4Skeyh/BjzqtMbciJqRtLi5sdpu3U/JnVgPnD+NgeE1N9Y9fgKFK/nd94xhwFRWyQznoBkiqn0JbD1jD/H15zbO1CbpB6CQPU7JPraz+/6fx4D1Rnbss4es25DUaAkvPm7i9bW89ab/YhCRmmgfaKgBAgOXUFsRq7u5tzQH9zd9fYjyYEwd0FSjkISUFM5u7Gl8Qd8bP86vk/dUyT1g0x9kPZwsAB0qBzdgKTG2QAgE5r8QwdPFKHe3PLAPshJ06eYIslrYUUH1QOByiYtzPwMf75gsq4s/obQqAh+nNmrkFv0jG4WJ3FbzpLg5kuubZBR/GmuQvDETo9p47VmfXS5nIb9jwgcAWoL53gAOkEWgomm3m7EfRwEKG3KatfOv2hwysYptARPQwn4eLEiZNsbaw1n6IDmjDmbT946dKn7roXnsGgZk3TDCNCkTxCBOygaLdIW7/+vT392/111x17uLGHXjiuhPYCMlHUQTuKsbv9bOvFP3bBMSACEHth6ErV/jdsqm3jAK17Lh6mgs7LxtZNT5/tAe/NLYO9/A0betF36IzfZdLB2sM/SNvD7YJc32SpEYfQIf9TzfzNPXsRlaLkzk7s/ASNAWxMDCXU6Khuu/kuSiS38WaQzrroBbZ1SO4HfR3r6gCawwKkz0vQbjo2uPtXOoA+as2hPBA8tHIx6KuBgTNIN9C61oEiqEv38BeUSeZOg6UchCRNVeJNBnQCZo/MID1GI5RpGuHGfjhbODBAOnNpOhK/9ReIJTTP5qRT6AiaxRXgLzXfgqnkudW/rF2CiRHMOejA6vAA0hrGT0vnUoScPH/99urGzzSHTt09Ygsu5380A940gwvdGSQF1zVg27uB5WNTYQlGN1EWFCAPSQdpBidvvjwCYBQZ5qRobddjwkVqoQUO6zerW99eggnKP9cu0SF/KPM07J0HdOksByh6DlrgLpRIMJJ8T713+HKhjQFvPWp8sIRshrvBiqkPeBAuCLl+2Xyz8SXLrt+49+1Wxx5Bmbs/rV7/LU2xMgIQIN3gx/PnkXJwg5dpCsgd25nUW/1mtcO97LHE8QbkPfwDtD3ELnxEeD4HuuPkQmXN+u/+nX/BxuxgHdBHtkuCOgr3HXoxtWYHyGBf7Ph0B5CQtgZi+tAvHVJzQryE+WbjGqjOf169sby29Q9n8H2kmkPlFRwg30MDHaGAIsL+TUdYhwaaVfCUKkzKgUjysMNc8QZhIYafHhxo7IOxfWCAZJt01tz0ZkiApDEcdhBdWv1mPgXjR2D3xrdr18n7LEDSTvy6vfXtEnNMJ2Y3d99sXCXk4zuQx3J/9kxfeJNB4CvsHyAhb4ZNxQuQoQnG/wsZfzHQhtPxNAMY9NriyweTH/dWYICkSWNwVb9bXbuTgsEKjNdurH0LkoEZUBjzpp2NIeTM/I9sEnbsEeDwxNh6K6lbv0JfXAt3LwBJ5AJM03jz88bqTboPMHXunpMITd/ZohlwNy66F5woeFLuO0Hu6ZOlFteuwJszuwXyXoCEO0GxQ+yC6yDP48B3nGa+qYL9zT9zjc+eVhvPbqXI9c0fvf0HkD0iV9f+wb/Zr7OOz3XeCWtrYM4P86JniQNpDrJcR7uc0bPxr9bGn27QlebUueUWU4Yj1ZzQFGsEDRSFgs3nMPgK73pK1UfKIpKCgQNJZ05Mp6FO1ocS/3S+n7EL7ITcHhggbXTYQgvbBxWSYnWC+Sdn2Kpp6+6Z1MkTYDPOADyEhz7Fnc3FpaU/26t+2/fPEXJ14w2Vsb1/BOrSvFngm4GFg6ZYfYlBNnXGOx1ezLNNOpxsQlO1sIQJJuRpBnDvmSVf3geV0Ef8GMpNsdqz/DNnPmE7vlpLn6ROnEzZ24vCmGd8fnHr1pSz7m0nD44zAhhP/pqf6r0ADwK6zcUPxy/v/ri65K7Y7cGWk9QCLLOh3M4LWOr0p1h/fbG6uLT5DyHWugHSMWZbgo63ctplxS5LNGV07t4vjrwZJ9BooGIH2gXfQYfSIf/zmkl30tOVHkaGLvdSTwW7EKYuuTvv6diLLt+yF/d2wROEdJb22hkNQHqDLgSEtXXIDgz0OpYvvg7RHF4fHIh2QQFWf2Quz9ichV2WLZ7aEWgORf7MrYa9DGXvs4N5S18NtJP8Zn/rGHqARGuHSKMCkeQcpi1VOjI7d/2r83QzByt0LQ5ug7tj1z7g36AB0oY4dWNrzzSNFpx2QKvT6QW294+ux7g7XWF1UNjVcgA3vsfGiztn2MaK3X++uJez1zbeVGHx+9zXq5vPtjYWL51IXdv8NfDNwEIUIM03G7AZGm3SgbVGwbE6qg+7PbdunSTk02v3xGMeIXTolC6Vuwd8LpwHNPoGyI0cIZ/cWHvWeuMqtg+R/gUMGbRh5OoG26xr59/sxDjdc2jvqDJDQGD7fWBzCjgpZ4/4sUfA/Am07tLdza1fhEzA9j1eafsESHvIP7ex/ebN9satNFuo/us9fncDC5B4k84mqCizETqfO3NzbeunNwbysMZP8zwRekwoJGaY/9q4mrINzdnPxdLdIYodYBcxBEhbYewjBEtTJ1J/YGNg6nzxrkLmKOxjUas3/jt17q49nfLvB2HR9OoyHEugO9fYSjmzLH9b/e0g0tNDak5wgGTDyk9vbfzyxt5X+OXG7tFrjtlZ/R14tlvfisc8gjWQJf8/vbVmb6fqN3yEJCLkBi4tfb+1bR8riAD4G+TuAqVMHa+ApGlyBs6apevfkMH3Fi8GMPbBWB48QDrbn2A/p2l6u7edYx60vc43l7wwTvl+nwVIILn/Zss+5gEH8zfsferudnZy4ovr99he+cA3gwrdFCvQR9uL+WMe/uMZtIe/vrj31XnYeSx8KCCQjml2/kzPD5AT5++sLh0wgzSNH5foYYNrNErT5g79x0WGfseAHvOgNGh2lO3RNU065rJXtuGpn/m9F7c+cffmsG2udGxERX+8Eehs/AGWCU8sCnM+0/znpntuZ2MZpihr/+LjBwpUu3+1j3nAQSbnRIctTTgNsnHPlibg5xzz4FT0xSLoSepLZ3sXzPzgN/gme3j7zZZ9nkrQtyDFRsc8PLtw56Os9Uh/0RiR1XcVhpw4/9U95/AV277HnUvzHEXq46t3NuAYFQKZn4t0Nm9Syzp5fv6PS95nFkLaitSR/pUOpzkhAdI0d+HkGHURJ9Jf2qeJJGiOd85B/FBAgAaapvHzPXpUKfXxH1bvzR4QIM1/blyDc00nlti5vv64hjzl3F2glIOQNE0kJocyHfGjXIU5gLE7dfv/7xcg+9dUTxUCCgGFgEJAIfABI6AC5AcsXNU1hYBCQCGgEIiOgAqQ0bFTNRUCCgGFgELgA0ZABcgPWLiqawoBhYBCQCEQHQEVIKNjp2oqBBQCCgGFwAeMgAqQH7BwVdcUAgoBhYBCIDoCKkBGx07VVAgoBBQCCoEPGAEVID9g4aquKQQUAgoBhUB0BFSAjI6dqqkQUAgoBBQCHzACKkB+wMJVXVMIKAQUAgqB6AioABkdO1VTIaAQUAgoBD5gBFSA/ICFq7qmEFAIKAQUAtER+KitfgoBhYBCQCGgEFAI+BD46P+on0JAIaAQUAgoBBQCPgQ+smT//v3vf8tmYZTaV3ApBOLQ1ySgmoQ+xqEb0WiOLtqYcxUgo0lfWi0sPGlMSG1YIRAH/ElANQl9jEM3otEcXbQx5ypARpO+tFpYeNKYkNqwQiAO+JOAahL6GIduRKM5umhjzlWAjCZ9abWw8KQxIbVhhUAc8CcB1ST0MQ7diEZzdNHGnKsAGU360mph4UljQmrDCoE44E8CqknoYxy6EY3m6KKNOVcBMpr0pdXCwpPGhNSGFQJxwJ8EVJPQxzh0IxrN0UUbc64CZDTpS6uFhSeNCakNKwTigD8JqCahj3HoRjSao4s25lwFyGjSl1YLC08aE1IbVgjEAX8SUE1CH+PQjWg0RxdtzLkKkNGkL60WFp40JqQ2rBCIA/4koJqEPsahG9Foji7amPOQAPnO7G7Xq/eL+fSY3oqGz6C1MDeD1jni9/aa5ZnMGCFEG8/OVTv7vuZ3qjmNkIWm+8DcadfXV4ozmTFU6D61LLO5kCFkqvrWKTPaK6yJU5n8/bbhFPv/y4Frv1Ody45rFIKLxdqOy1dTJ9xvar3nPrN6jZVZqIULe+tTXAWiNy2rucCX0Tttse2RQldyEEAMSLw0XpbzadBEwuuJuddpPq6UZrPj01UkAMt6WxXhDjHnQVA1WzporSviMKUN9R5mZ72YPU3V6HS2+LjrImm8WmH9GkvnV14h9Q9rwq1pWZannGPZ2Urbb57Oy4P00Xk3Mf9d50bGMjMryPWEmHaocEXE+qHtiUwb5/yJSETKPeY8MED2qlfIWDpffKjnCUl6gDTbeppkFxpdwzB67cq0ps3WkQVbltWrTYPNuwESYsCpTH6uon/lFWJJm6/A0aAA2S6nSeZ2HZrYqZfSJPvA8x24omVZWHjCo9huoYOZr6vtnmEY3frtDNFKDZO2ZtQLZKryd8P7sXLLos5Uyy7W2juG4RRaltVeniC369777Nk+KjAM422tQCbK28EdkoFAMCdHXApqo2X151QTtys5jWQfUj1p6TB0my2X5ybJFT5AbpcnSImD+10w1wejSg0BtNYOkGFKG+o9et/ltHShuk3V6GkJ1Og51YztcoZkSk+hX10oz1ZeMybDmsBdMBu3NW26QpWzU5ud8Jmn9/LBffTeTcYVyFTLLnrOjVyo2K4n2LRDhevHKxztcH/ipyKjBHMeGCAt0/ZoMIhIeoBs6YSUvLkheJyiHR6o8MDsr5RKl1EsdOFbQIWupEEpJ0p3Cl6AfKVriKb5vKRpMK8K/GHhBb4w/MLXlUmSr+05hM1G0dUKmKBwaDgvtctnydSjgDDfXCCT4eGfVTce5z1DdSi6/yUg4LYt88JszJGJu96suvvACYfvbIWDkZkQIFs6+dxxeX2ZPwhVs72YmbhTAq1lATJcaV31571Ht/I5yT92x5bQHTambC9qZM41KRrwWN4lvAmvK+DH0VgKFBIlZrz34OqgPvJvJ+DO/KFIzpY9lQJLd9ALMe0Q4QaAFYp2H38SQEZCEeY8OEA6TKkA6SDh/ocAWfCmkG9rOS1bed2tXgmIhZA5FFOs4Gi0uYYJcdfWxd53OXK56gUTOnaremlMt224wMLjHsR3887k5oBWs0Q0/RVtD1xYQCwPj/G92rTjYUMZ7lYuaIUnricV35OAgMiCnHvT4OTQfTRFpms4oeoPkKBaQsgM4b0/qnTyWmzsg0NgAXIApRW9B6gRmr827xCaRacqgcZSxpMCM4cBmrAsccAqNoq727+P+M2kXAsqtVOdIjlbpUJM20GmH87snVC0+/gTh7rc/5hzFSAPIwujU5nWMottJ2Vo1Gc1mg6FzIMvFtKlNSFAbpczWrGxb1koQFr8SNnarxfcKZqPOyw838OjKDB/KGruqPNliZzN5i7C6qSGVpVgcjO7Yi9bauO5u00n3HWrl0n2Sj5zihBxzcNmHoKrSz+oQ9IRCGLq6Mu6lQt4QgYM+AMkBNELU8HLezzLfVFtl9Na8QfTsrwAOYDS9vWh+42iZs/8+BmkZT4F9YcMyiB2AXaEh2j9Gu3bRx6ORN51H2TJTM021RDTdoDphzN7Z0C0OX/iUJf7H3OuAuRgsgA7hN/4V9WuGx6fFDQ7ZT9ggHQdDR8gLbzW0tAvagRnjXgGsfD4J0dyB9uRMnrLhsB4rk9dKVZaXcPoNu/nx8gEe0Q33YzlH8LCUG+7WkiTzDJL5HSrM5P5u/VOz+h1aqXPNN/8xqjNOEtrIR2SjEAIV0dbDJu8tGmUdaDNBwXI/ORM2Yb7zqTmJC383PZBtb1Mcx5QBwXIg5W2jw/tVqe1zELTViO8Bvlcz2rEyfsNYBcqQPplGakENg1oOTdxFWbaDu0+wrVf6aNRDhHL4v2JVy71CnOuAuRgooC0AGzSqX7tOCYYAru7CQYKkN0HWUiusgbxDNKyrJ16kc7Dxi4Uq09Xjuk6yn4TlvSX3Qm0AB1dVaIdhADp9tSyYE0xcFIIqxGTzo4MSu11JYvXO4UW6C1W36DnH35Zdx12u9R9SXh/gOSxgFXAsAXgUFRfV7Is5wG0cIA8UGnDfCiN7hfLeLtp9wnb3TqWnavW/xetpB5oFypA8jKOeEcDVeGJt87D0/FM2ykPE67zfJDFoAP8iUfqiK+wLagAeUjwYe0aUkOQFwr4OUvclCq3Btmr5QLeD0jMWi1d03Rv5ZxnEAuPfxL3HT/qD2rNddBcxy02XcZ5MLeyYGZ0g8ZtZwzhvsVfyEOA50PSnTDSx1y4+ONCfC3KBT0LQRUWCIN+PmkGKK0gXLsxGt31ZvhhjOaCFnzCJ6AJtgaJ9gTQEB62rzCkjwiFZF7SQJVbD4uOAIpPtYKFi/E7CO2D/QmmdpTXmHMVIA9AHrYM4NkPxDk66eFOJnQqlwk7veDkX4Es74/oHNQ9zvC0RNgBCdFTwLom3qwo8IeFJzyK87Zbmxkbm6nxNiTuuGku2NsRBdC8GeQriP3eBl0YbaAZ5F4tH55bdnsnCQG3fZkXZkufPDXpprgFVnxerA1wewcfIc9x2Bkkr7V10NoHHW6zEDARqLQBPrT7XX7sVB6doxV6YFl79YKzNsk/C2zCsmBPNdrFChkIbpCKiSRZczAO3PV+U/9sbHLRSXfbz0JN26kbIFznkf2/L9qB/kQgIO0Wc64C5EFiAIvVcg/oOSt2CtA9KuRVHSjF6r1uT6o4SzYNo9epr8xkSLrf+BoLjyMY4w39rMHFlfaeG97t/ZTGE8Cm4p1ss9cgLXpmjp3sZGuQAYfn6KFSvAbZfZjtc7rD7Z8MBNzGpV5AHmy8+ATOC7o/vC/UFyCt9nKGpEv1Hbo88CAXbQ0S9RncoiNKKO6rtKIPpUdjsyuvXN7hwh5QwhJGr/N0JZ8m3tokbTioCbO9Xq602G4Ss7kwYZ+DDD6m7LGfXM3xMBCuYBo3fpOewHbFQofsoaZtExCFK9Dtu98+1J/4iUgpwXqiAuQAItip6/hLOs6OTFTz/QMkKJx2ejK/UOsE0PeawsLzSmO9gnme72cfHsDfRsmVXyLW95rl39Nv75zKFh6iZUv05Q7us0Rmo6Q5J8f7dkcCAn35ObKHkJDw/dAE0Z8Hg7ld8y7bM0xgebuDExwc44OhKgTI/kor+FBqIyL/zhgRlhK18c/y+mNB/QOb6FYva5n7HbsD77o1+zNP6ks6nEwPvgHYfT974324aQNdQbgBTYVqVD9/EkDn6Isw5/0D5FHwhrk5ivZGvA0Fl0IgDhVOAqpJ6GMcuhGN5uiijTlXATKa9KXVwsKTxoTUhhUCccCfBFST0Mc4dCMazdFFG3OuAmQ06UurhYUnjQmpDSsE4oA/CagmoY9x6EY0mqOLNuZcBcho0pdWCwtPGhNSG1YIxAF/ElBNQh/j0I1oNEcXbcy5CpDRpC+tFhaeNCakNqwQiAP+JKCahD7GoRvRaI4u2phzFSCjSV9aLSw8aUxIbVghEAf8SUA1CX2MQzei0RxdtDHnKkBGk760Wlh40piQ2rBCIA74k4BqEvoYh25Eozm6aGPOVYCMJn1ptbDwpDEhtWGFQBzwJwHVJPQxDt2IRnN00cacqwAZTfrSamHhSWNCasMKgTjgTwKqSehjHLoRjebooo05VwEymvSl1cLCk8aE1IYVAnHAnwRUk9DHOHQjGs3RRRtzrgJkNOlLq4WFJ40JqQ0rBOKAPwmoJqGPcehGNJqjizbm/KO/qZ9CQCGgEFAIKAQUAj4E1Awy2vBIWi08upHGhNSGFQJxwJ8EVJPQxzh0IxrN0UUbc64CZDTpS6uFhSeNCakNKwTigD8JqCahj3HoRjSao4s25lwFyGjSl1YLC08aE1IbVgjEAX8SUE1CH+PQjWg0RxdtzLkKkNGkL60WFp40JqQ2rBCIA/4koJqEPsahG9Foji7amHMVIKNJX1otLDxpTEhtWCEQB/xJQDUJfYxDN6LRHF20MecqQEaTvrRaWHjSmJDasEIgDviTgGoS+hiHbkSjObpoY85VgIwmfWm1sPCkMSG1YYVAHPAnAdUk9DEO3YhGc3TRxpyrABlN+tJqYeFJY0JqwwqBOOBPAqpJ6GMcuhGN5uiijTlXATKa9KXVwsKTxoTUhhUCccCfBFST0Mc4dCMazdFFG3OuAmQ06UurhYUnjQmpDSsE4oA/CagmoY9x6EY0mqOLNuY8JEDud6pz2XGNEKKNXyzWdqJBNFAtzM1AFY7+JdPotGqVO4Xs6Vz1LW7eaN7NZ05RlH6vNxhKb6tTxP/L1XpQsbcuPNSbjJ6vlt7CDXnXxwwujEC5uefyaXbWi9nTVIFOZ4uPu+4D42U5nx4DyE5ni+sd03vQXpnJwINTmfz9tuGW+y6OGQI+/mQUmJ1q8SK111MxoBqm/56XGMvOVTv7Ts/fmd3tevV+MZ8eC1DjXmNlFnzL1Do1CVop0C6aC347Itpi22nG+Y/ZmK20XTac5+5/pTkuFN7FXrPM7I6MZWZWmOH5xEEFMc18GFTtPV8pgL5N8f7Qo2pZVj+0kcgyM9hvcBRk3WDOAwNkrzatZb6utnuGYXTrtzNEKzU8TzZktjE3QyY9HHJNHUYJhfJycZJXiO7DLEmX6juGYfSad7MkXaa2axr8r7mcITM15vHbyxPkdh09d2DdLk+QEvfgXTD3xwqu7gMXAaonab1NO9T7LqelC9VtqkBPS6BAz+GB+UrPkKz+vAuQbVdymlZ4YgNTTpPM7To82KmX0iT7wIupAhDHCgGBNzm3+42ipuUegL0yVHPfsdjTHgaqYfpvNuY0bbpCW21XpjXNdqC96hUyls4XH+p5QoQAabb0DNGyi17NGHoAACAASURBVLX2jmE4um9ZVrBd7CNDMQzjba1AJsrbAsZm47bDhtGpzU5os/Ww0ZXSHAE7y2zraS272KAGCUIkFypgeD4fVv4vkn/McDWbCyBD/XG7y8lQpB2ONsSXiVkUX2zPKVKQdY85DwqQryuTJF9zZwNmo+hT9CGyjrkZItkhkjKZJcMkD4+Y2uWzrtJYltXUNU1wB5SHdvmsHR7gpQUyGej6Wzr5nKrmQXwfJ7i6lc/J1CMnkoGeaPory7Kg3DEnsLbGHCELMFWGOcEde85su8U5OvR6pWuk6A7CzOclTXPm1j5AjhMCPuZkFJg/FAkpubB2H0wSFquGhGqw/lO3UHrpdBichp0msd+3mrroN8BkPIVxqvazC/SO8Thvu29UaBl1LmqKRopf7Tun4V5Myg1ozlk2rKddBiFiF+fgsF2ecOdIMJSfqg6QUwy1UyYjlwJIcLLy2mnrGPzHnAcFyHcmPzJolmzHFwvvmJtYGhgWUcH2RLnCwBlnjViz4Ou98VGvNh3wDqQsvsuRK1Uv5RTO83GCiwZIL1Hm6QkoEJoBN+8EZcbYvIGO96H7l6tOpLWo1ws1wuOEQLicjvAJDZDeeKL7aIoFyCGjKui/MG7eqU45AdLpuhggw8c9oXbhkKKjrgtuvgEVg7/2hlYwThWjsvey0hwPC3YFM0U0kQ8QIh3g3tYyyyyzTefrdLArkvLdD4q2MMTx0Tn6Asx5UIDkOTJ/KGp4lME/ff87zM37U4uRguAghFsrMEB2KxfwXKpbvUyyV9iypZfxB+t/NEUuTLHFubF0fuVVWJboeI2CaSpVbwKzZvdRDg0FkBwgAejPjFnG3ys5LaO/ovbJz3Ws/XpBuTkE4QGXNFGWY1P5vYaedgLJcFEVFd5sL2a06Wr3nWW9MxoLGV9uU4xVMLWdXbE3N2jjubtUcaBvoXbhdhyCa6AXakFAdGfPKkC6iEW4gBUTZzHIq/66kvUSijAmLty3F7y107nyy/fzVO969dsZJznvtSn3CoekgwLkThW8WAuNMobNO+Zm2LSHSk9wEMJtYIDEqQngpVudmczfrXd6Rq9TK32mubPG7qP85EzZfnBnss/q9zGDy6jfHLe3UvxHPmgzV7c6rWUWmliBnM0X4/n1rlOOV8sa+kWNBKw22dI8ZggMVcciE+usZJ0dLZOLbCEYcthoDfK9URUV3rLedVYuOq1+pvt2x4gBksp9LP+QrZVWC2nizEtC7cLBw6jNkOxDL8XglFuWCpAeFu91BcvDWs6fO23fndBuu6sfIFNyKl+B7QW99nohQzK+VWGbjQPsFNSJ/j5jI+z3Yn64lTHnfQPkfhOWcJddexsuG4PhGEubkYgKDkK4DQiQkI6YuOvbdOc2Dhn/wOQ7DNOClyr77w1zKR/RBZtD0G0aRq/9IKel9Sa3hxDW87WLZdF10s0Xve1qIa3l1h2vt1Nn+zDHLhSrT1f45V6uP1h9uQeJvXlby2mZ0lPYaUG3OMWDqk/hYSsf21dFt/LBbJITQVCAZEvO9DVYUwycFPrtgpvEcG2oAMnDEfWOToQKT3gB0vRqiUv/gEyLPzjDWgsGLhN29lVs+iA7ZRuBuo3FrM9viKSO+B5z3idABoz942AUcxMH/aHRFByEmDr3pVjBqrN9F59FD+KyCmPtkET/MYJLXIWFRBmO6911f8h0uwgXsJs80EW2YMNT2MjiGCHA9UbaDWwBRYHHelki3LKcw9h7oirov2/xD1r1XCfdtsbnyUWtFid/Dp/iOiJd9/ImMe5r9ALYKKB9q6E2dcDBA55qsu7oRMgbqqLOw0Z9tq/VLhThFWWK6g5sp01dI85udlRf3iXmPCxAdmszY2MzNd+IYvhcY26GT32IFAUHIezVNBuw8xIdXmzfnRAT+q/A73vrJUCQzSDb/A5YiLU40uBOHCO4erUcNwOGAOkOJ7vf5cdOCUlXoz7rvWBvTQrYu2vUZ/vNvI8RAlgw8q7bi5ovQOKYwTh7b1QF/RcWOK1miQhuTnSmxpMCHg95M8hQu6Cc79Xy4fl2C/YKoRVuGJUG7cOklJTmBCjpflP/bGxykVsEcV4TNupbsH1ulqCsWKQZpDimacMWdm5o5bQv6T/Wk8AASU+6XFxp7+FzSO60eshcY26GTHq45AQHwSZA9jlIdgoQbZim8ZId/kNcoDWhHj115OxcbS9n3COVkKscDSOH80z2STh+QYIed8uuvML6A7vljCcFTcvRBYyA846mYfQ69ZWZDBFTtQjC45Vk5hiTdUNPl7opVlhrxPtlhoaqoP+wM8g5umrQRJlWqLtnwwALMUDSU3d2FZpgd3d0h9oFrNuLkxhI/LXXy5UW2x5iNhcmuOOY6hzkIRQR0oTjN+n5Y9dYnVUSuutYPAGPlI2tQUYYjiBxs6UZrdhwGj0E77G9ikNSUIAES/D9HFc+dK4wN0MnPkyCgoMA0kb7vu9LOrTJIKumD9B3K7iPj1juJ2kILMKhL8wIXThecHlfxIBvKVTszbcwA/b9bEPqPtXxl3TQHjjwp9rpyfxCrYNKhe6rRJkfEFBE5/tE8B2ihTrsLLV/w0PVr/9ImTMzet092YaaxjkVKN5rln9vf/Gn8BBtbkCkOLsIHmh2q5e1zP2O3c67bs3+7NdYVn1JxwZlsH+Q5fb97MUd2IEfuDHKeFnO0Y9kjV0oVLZDJ079PJXRrtCvKRH4fE+5Mcj5tsE6NJS3MOdBAXIojQxMBHMzcKXkvqjgUgjEof1JQDUJfYxDN6LRHF20MecqQEaTvrRaWHjSmJDasEIgDviTgGoS+hiHbkSjObpoY85VgIwmfWm1sPCkMSG1YYVAHPAnAdUk9DEO3YhGc3TRxpyrABlN+tJqYeFJY0JqwwqBOOBPAqpJ6GMcuhGN5uiijTlXATKa9KXVwsKTxoTUhhUCccCfBFST0Mc4dCMazdFFG3OuAmQ06UurhYUnjQmpDSsE4oA/CagmoY9x6EY0mqOLNuZcBcho0pdWCwtPGhNSG1YIxAF/ElBNQh/j0I1oNEcXbcy5CpDRpC+tFhaeNCakNqwQiAP+JKCahD7GoRvRaI4u2phzFSCjSV9aLSw8aUxIbVghEAf8SUA1CX2MQzei0RxdtDHnKkBGk760Wlh40piQ2rBCIA74k4BqEvoYh25Eozm6aGPOVYCMJn1ptbDwpDEhtWGFQBzwJwHVJPQxDt2IRnN00cacf/Q39VMIKAQUAgoBhYBCwIeAmkFGGx5Jq4VHN9KYkNqwQiAO+JOAahL6GIduRKM5umhjzlWAjCZ9abWw8KQxIbVhhUAc8CcB1ST0MQ7diEZzdNHGnKsAGU360mph4UljQmrDCoE44E8CqknoYxy6EY3m6KKNOVcBMpr0pdXCwpPGhNSGFQJxwJ8EVJPQxzh0IxrN0UUbc64CZDTpS6uFhSeNCakNKwTigD8JqCahj3HoRjSao4s25lwFyGjSl1YLC08aE1IbVgjEAX8SUE1CH+PQjWg0RxdtzLkKkNGkL60WFp40JqQ2rBCIA/4koJqEPsahG9Foji7amHMVIKNJX1otLDxpTEhtWCEQB/xJQDUJfYxDN6LRHF20MecqQEaTvrRaWHjSmJDasEIgDviTgGoS+hiHbkSjObpoY85VgIwmfWm1sPCkMSG1YYVAHPAnAdUk9DEO3YhGc3TRxpyHBMj9TnUuO64RQsYyM+XmXjSIBqqFuRmowtG/tNcsz2TGCCHaeHau2tn3cbBTzWmELDTdB8bLcj5Na5zO6T90g8qzxfWO6T5AgGdnK21/E86bcuDy2NPGLxZrOw43VlMn3G9qvec+s3qNlVnQIq7Qfmw2FzKETFXfOq+/rU5xlIjech7x/+UgwPMg687c6zQfV0qz2fHpKgLaMl6tMH0bS+dXXhkeeweqrvNqP1SDiDQXeGnRO22xDfRCtcXsrBezp6lbSefLLz0+XXshpzL5+230oL3CTE8od9jmmxs7jraDWT2G165wwdWvIOiB197zlcJFsGDPTi2jeTefOUW94e/7hYZ+GvXO7G7Xq/eL+fRYmJlLhApzHhgge7VpbWK22u4ZhtGt386QdJkqfiw8Y25iaeA9iZptPU2yC42uYRi9dmVa02brngEDcYAL/IMbIF9XsiRTekprtMpZkilvw3vmKz1DsvpzWr5dyWla4QmjZDZua9p0hQLeqc1O+Jrw+iADLuhg5mukD1qpwWK7US+QqcrfDe/nxHyzpWeIll2stXcMwyl0u0GhIFyA3C5PkFLdI2SY79zXuQsZCHAMSLtp6TBEmy2X5ybJFRQgt8sZR9+6T0sZkq28pjwerLpeV0JRDSOyj0RlGMbbWoFMUD0P1ZbedzntbKG6Td0K8InsQsN2QbIP2ZiyXU6TzO06GMxOvZQm2QfeWNNh/ZjbjsPm8fwPwtWyi55zIxcqDsR0CKtl9cftLrLg7oMsSZfqO25o0Ns+62Z9DdUoq1e9QsbS+eJDPU9Cx8ESAcOcBwVIGMtPVd1ZAjjBSdvkYuAacxMD+fcm2dIJKXlzQ/DjRTs8UNpg9ldKpctegGwvT5CZmhtEmwuaRmMnDLrveJTgtTlKCRBmzoVSZPi7Uyu+BxLgel2ZJPmam0UwG0VXrYFVDg2H2Xb5LJl65NiaU2r/B7OcKN0pcAGypZPPXeMUKnC3EhDg2pd3885kvqi3PoUDZHtRsxUJWKMBg43VDlJd3JNQVAcjYjzO2741VFvALSKVMOqzZBICntmYIxN3vRF494ET/l/pGtIu83lJ03TPfhj3x9x2MMTH79r8oUjOoskPyM6ZLIKjQ1HAZr5b+RwJEVyBpr8K7lioRlmWrcc0/zSKM0i+w4IK8g/f/64Pju9PfPgUQG8K3hTybS2nZSuvu9UrboB0Ld9uXHBnLksQINlkVAy6kLcM0xsJcL0z0QjSsqxmybUKcGE+n2VZwb7M7rnZXsxocw0TPK9jjZbV+y6Hnb6Lkv9CAgJ+JqSW8BrVq00jn2VZxpMCuVwNGJsIqst3YVBUg4l0KxecdEgfbeFaBDOZWIa4aBqcfnUfTZHpWo+pBO4IOCKfyz7mtsN1+fjdCNDvVKdIDqDHwyyOaxogvWUU5Aq41+BmAI3q5+h89I6uAHMeNIPEnLzr1W9nNKqvuHiI15ibIZKNhZTRqUxrmUU3qWDUZzWa9oHRsZNipSNlT4cs3p3ZfBl/r+S0jP6KTgkgVOAw009vpMNl/lDU3FHnyxI5m83BKgXRTmeLj223DJOA2RV7GVsbz91tuvNpa7uc0YqNfcviAyS4xQtTwQtpvCylI8CzI+FO0Ch+BmmZTwu8OlEORdUV2R4I1RAiMB5yVYInzGkLetR7WspouVpAmqRbuUDyj6m+8DNIa78OHRNWpkfKdhAAx/ES0qd26gsCYeF+tWibds5dMIaEWVqn9mx2H+W08NW3ATSqn6OTCBDmPDxAupsmPmNwxMUw5iauNt6fLtgh/Ma/qnadnLvxpKDZKftDBEhnd8N4ft2hNEJGDtuRMnrLhsB4rk9dKVZaXcPoNu/nx8gEe0T7OJZ/CIuqve1qIU0ydK5gWe1yWiv+4A4LvBlk91F+cqZc7/SMXqd2Z5LfF8DJbzQUhmN5yDdCgIQxh7sG+VzPaoTLmwWprp+hA1DtR8SozbirhjxhXlvoM2opYEmTessbNTnVYN1Lm3anv3gNsqFf1AheiWB1Rsh2nE4ez/+waUDLOStrELrIqXwFFox77fWCu2BsWUb95jhzhuQ/8mi/ntitAzQKXh/pAEkzH4bRbSxmYcgQvq9SBOaQ9wPgeEiKcbwOiSNQlerXjgHvN4qQXGWNHSJAWnR3Aw0bWm6dTrlGxcj3m7Ckv+xOoAWgYTGJLYZBgGTLq/QVWKCiM4zugywkV1k96LUXIHlaMIClC1R8Mb0bDYUJYHxoRWKAtKzuE7Y7dCw7V63/L7dCaflVN4iRA1DtQwS2pKElapd4iLZQQzK6EMi9kRar1F3PaelC3d39YFnWTp1NYsYuFKtPV2BvhDDpHBXbcWE5nhd0KFN44ibmIXTZA1lgGMZANB9O10fs7YS99gM6mwwJDQdoFJAd7QDpSrKpa8TZb+kWDu1iAByH1tYQCMHEGjbUQF4r4DdVfestrrDm/O7MK2eJKXFdp5/eyIOrW53WMgtNZ/4cgKXbUwiQ7p5ei2VT9WavlgtAjH/ToSpScMoHW9tAb3+Ily7OgZ2DTWHsuIXw2FFdoZjdDqpXIhG6J+i2M+jxSB+sLc0FzV6Dp7X4GYxHyLtq6Zqme5t52IPRsB2vE8fxig5l7MG6zZ/ogmx7hGVgvGGzW738PgNZsZVjAg62haAUq6hzbdhMxtJiMfQAcxMD+fclCVse8PoKeHmqItw2907lMiG34ZCCaVmwAuftYnV3FfoC53c5e98mbAZDu1hhSO4bKTv9kARXtzYzNjZTc0eYlB26PQSttoLLoxNEATRnBskmD87xgKclwo6IwAi0Dc7PW16CGbmaQToyF//3C5B79YJm65IgBctVXZEe3Ifp1QFE9mp5rLo25UBtgY3NeJyNl07Nlj55atJN3QcxCOv9eLOr/c4I2E5Qb45P2X5T/2xsclEY+FJn5W0tdmaQogpBgGQ7rfwdCtMo9OaIBkhYKHKOHxl0Hs12VaCeDfFyAByH2NrhSYHH0XIP6BlFdirUOyrkUsMpVsuCUbZ9DpKeS7PPe8GapZajaX3hXJfZXJiwz0EGH7V0Gwp1ZN4bw7+iJ6IurrT3nNgG/2EmiXtEe2qvQVr08Bw7wcbWIAO+FcCnWNvLGed8FVW5YzdEGD6skSkGBEhIgfY6T1fyaeLN8gdSXZuLUDPsS6T7MItOzjFSodqCRGz06Dlge9gN+b3x4hM47uj+3FOwtGP1lZkM8RZ6zPZ6uWIvYR5z24ks5KOpCBP98Zv0pKkLPU2Z0pPKzImxNUg2ZIdDrs6JbWFtUmQ4VKO8F0c1QFqW0a7Qb6CwL+k08Ec7vO4N52oAHIfTUHQqO3Udf0nHv7eAHn3FSUX3yyYa/yWd7lPd+cIOfEnHo/SuW3M+XXTsvgYC8d73sw+qe99G0U57W90A6r1m+ff0W0ynsoWHQcuWfIC0vC90EFhwQl8ZEgQ3AgojcDzs24AACWBq45/l9cdIqega3kGqazPXD9Uw/TcbJU0rPeeT7v20xWg/LHhf0nluuxVI3/l+TjoBfKh2ejK/UEMd61Yva5n7HZv142w7wxb9kOmB2vh+zuKI8bKcY589ulCobDtS5j6TVKjgzzbxzPXTKPvN0Q2QfFdjvRsAx1jbHzHiCi6FQBwqmwRUk9DHOHQjGs3RRRtzHrQGGQ2PqLUwN1FpJKiegkshEIe6JwHVJPQxDt2IRnN00cacqwAZTfrSamHhSWNCasMKgTjgTwKqSehjHLoRjebooo05VwEymvSl1cLCk8aE1IYVAnHAnwRUk9DHOHQjGs3RRRtzrgJkNOlLq4WFJ40JqQ0rBOKAPwmoJqGPcehGNJqjizbmXAXIaNKXVgsLTxoTUhtWCMQBfxJQTUIf49CNaDRHF23MuQqQ0aQvrRYWnjQmpDasEIgD/iSgmoQ+xqEb0WiOLtqYcxUgo0lfWi0sPGlMSG1YIRAH/ElANQl9jEM3otEcXbQx5ypARpO+tFpYeNKYkNqwQiAO+JOAahL6GIduRKM5umhjzlWAjCZ9abWw8KQxIbVhhUAc8CcB1ST0MQ7diEZzdNHGnH/0N/VTCCgEFAIKAYWAQsCHgJpBRhseSauFRzfSmJDasEIgDviTgGoS+hiHbkSjObpoY85VgIwmfWm1sPCkMSG1YYVAHPAnAdUk9DEO3YhGc3TRxpyrABlN+tJqYeFJY0JqwwqBOOBPAqpJ6GMcuhGN5uiijTlXATKa9KXVwsKTxoTUhhUCccCfBFST0Mc4dCMazdFFG3OuAmQ06UurhYUnjQmpDSsE4oA/CagmoY9x6EY0mqOLNuZcBcho0pdWCwtPGhNSG1YIxAF/ElBNQh/j0I1oNEcXbcy5CpDRpC+tFhaeNCakNqwQiAP+JKCahD7GoRvRaI4u2phzFSCjSV9aLSw8aUxIbVghEAf8SUA1CX2MQzei0RxdtDHnKkBGk760Wlh40piQ2rBCIA74k4BqEvoYh25Eozm6aGPOVYCMJn1ptbDwpDEhtWGFQBzwJwHVJPQxDt2IRnN00cacHxQgd6o5jZCFZjSMBqmFuRnkfQnv7DXLM5kxQggZy8ystA0fCz6UzJ12fX2lOJMZ46EzO9XixXGNEHIqW3jYNiml5gKQFn7aYtvXDBTIgeud2d2uV+8X8+kxvYX5Mpp385lThBBt/Pfl5p77yOysF7OnoaNj6Xz5pQdZb32K76lu69Z+pzqXpdCMZWcr7X2XlHghBwGRCzn35l6n+bhSms2OT1d7iIV4UXX1XxvPzlU7nGiMzmM9nx4jxJGjZVmh2mIZL8v0ZaKdzuk/dN0euOXkVCZ/37awQe1CaY6LY4QLV7iic8OmrTd2gLRPzagpT9ewKros9LXTAOJuRekXmPP+AbJXmwYfl+gAabb1tJZdbHQNw+i1K9MauVDxLJuqjYASqNGpTH6uon/FQ2c2SpqWe9DuGYbRqRXOaoUnNHLsG9zvba1AJsrbwXqChRf8xvBLe9UrEOeKD/U8IThAdh9kSbpU3zEMo1u/nSFpncX83nc57Wyhug0d7T4tZUjG7U57eYLcrqP+skGC2bitadMVG5rZCW227gVVvkcyEOA5kHXX0ok2np0tl+cmyRUuQMaIKug/yS54+o9E061OayRdqDzv9AwmR/CiYdpiva5kSab0lFpSq5x1tMJ8pWe0rP6clm9XchrJPqQWNpBdKM15D3UMd27dh65p95p3syRdhgG7iQwXLpvl/yL5x8GW2sdOg4m/Rz+GWxVz3i9Agpu7Uipd5r38cHmRNSUauBfmD0VylioHq/K6Mkmmqm+9+gEombazgCEwmkEaTwqYFMRR3s0xosbjvC8Ge81h4XmlMV+5HdK5ANmtfE6mHjmjBbNRJJr+ynaRXrll1GfJ5AP7teaCd+1xbdS5McHb6hQPsvfmsVcYzOqQr9/ZcvBrToyotnRCSl4Gabs8QYoNquCgqGdLTW5CCT0O0RYLovhMzfWmzQVNA+swG3Nk4q6XL+k+EMM/gzHYLpTmvIeShTu3dvksjnxNXdPwyNhuc7s8oZWYMvi5CPdUgxH3UzyqEsx5eIB8W8tp2crrbvUK5+WHziTmZujEh0AQBk3u6NiydqpTJOflFPqiJARIcBBzSJ3A9aDElM1rt3LBmVkGcS8VrmZAgFx38yvNkh0gBb4hQE4sMw/Yq02TKa+K8yZyu7RIaMh5jf6XigDHiawbX4A8QlRBUgU6u+9WLgSJ0gNFECI3TrLzdXSAKFhY99EUCcjahdiF0hwP8MNfCdC7zg2GHZOV1y5ByAr4zBbm7hnbrt03vYtQOx2IuEfn6K8w52EB0qjPalkY9QM0eBo0dHYxN0MnPnSCkFT0RsEHoCQESOHWCgqQ5vOShiesvg5IhUtweRbMntN6EyYFZvdRTmN5GJ7n3tNSRsvV7Dl3t3qZZK+wZUu0oCtCITaESUpFADMi7doXII8KVaNTmdYyizSPDgmDjP5wha0pjl0oVjtoHAnYCEIUnayvFwxPiLv+rF2oXSjNGZ4aes5NTOGIsoM2IWGer3nbDkQ+Qu10EOIisSO9x5wHB0jjSUGzV9pUgPRkY7b0jJar0vVqy7IOREmIiMJtUIA0ajPOAozXLHeFhcc9OIobweUBBvWb4/amm//I1xxkKC9Uc+DZpN5y82rd6sxk/m690zN6nVrpM81OMis3dxjx+UJL/KiCgOA3/lW1y+IguDmifWavQDcWs5pWqHPuUtAW0cn6egHDrOZCRpuuOll7F5Rwu1Ca44L0fheccxsghrXvTmi3UT7M13qopxqAuI/YkRZgzoMC5H6jCMlVxpMKkI5sYKtqpvDEMd4BUBIionAbECAPGpRJ28VqYyC4PLO9mHF21vTaD+hsEq1IsRX97nM9q2X0ljC9oBRhQZdmcpSbc7RskP9BoQXViwPVd1SYvXb1ayeAgZvDWThYWLI3ndm8CNpycIDsrue0dKHODbMorT52oTQHST76peDcDoxhsN8wdCMhYwOHGY6xA4lzb0u4wZwHBMj2It25ykaM3l9uZ8oQucbcDJHskEntN/W0llt3oqNlDYKSEBFhDRJvzhRtm+7H6zsoO14BUlxLgESfuxkH499c0LiOe88cH+qtbLFnTrn3pnc1Ggrj8Tv8qwMCpJvbjANV8G7UMx7s5gQh4qVowEToBTeD4TDraxdx9JFrPQE3PudmCVuf6EIbXoOEbajiZn4RqFA7PYi4SOjI7zHnAQHS4nZXdyqXCduXHzQFGALvmJshkIuDxH5T/2xscrHJITAASkKAFPaMgZLhXax7tXz46Q63W1Lh4l1er5bj5hAQIOlmHHEyAYMJtjvpFeyG87ZEgpOlsxBY0EIDUpgxhA7IpCLgykHmhRBarDhRFbZeW57Qhb2IotB9a5AWbE/11u9p2HP2eJstffLUZHCaob9dKM15T00MdG4WbFD3VoLp+TS0i1UQfTAH4Xban3gwtaMsxZwHBUiOF5VihcNe4zfrcErL/aFEIkUrGCUhQFpmUz9rn4PswXkvbrfqIIOy4zWDtOCYrJdiXS+45x3byxnnfKTBelr8gY0u2uU0ydymYLJDpfYQwWwuTNikaDk6bMepo2wERGak3IsB0ooT1b16wT28y067OlMH2KKl5Spw2rULa5BndX4IyQ+nLMuC8ZB9DpI7HQv5vfHiE87CzHc2tEF2YbbXyxV7YVtpzvvoYKhzAx3jjjh7R91gw1T46Q6XGxxm3EJ20Ye48KaUW8y5CpAHiQASob6fM/J1Kg8WIC3LFzCokAAAAlpJREFU2qn5v6QDROgYrfScm6M6xLn/WHjcg6O48bk87yMm2vjFQuWVuxnHaD8seF/See4eBbEs9OUO7rMs77o19SWdwYToC5Axo7pT19mXpNiXdFwhW/R7SfZ3lOyPraAe+LTFsoxX9q5X/CUdGEf6fvZ8JdguutXLWuZ+x25LaQ4C/XCX/Zyb0b7vfiQLCxe2GdtfcujbWF9PFUa8L8Wjeog5PzBAxs4U5ib2xka/AQWXQiAOLU4CqknoYxy6EY3m6KKNOVcBMpr0pdXCwpPGhNSGFQJxwJ8EVJPQxzh0IxrN0UUbc64CZDTpS6uFhSeNCakNKwTigD8JqCahj3HoRjSao4s25lwFyGjSl1YLC08aE1IbVgjEAX8SUE1CH+PQjWg0RxdtzLkKkNGkL60WFp40JqQ2rBCIA/4koJqEPsahG9Foji7amHMVIKNJX1otLDxpTEhtWCEQB/xJQDUJfYxDN6LRHF20MecqQEaTvrRaWHjSmJDasEIgDviTgGoS+hiHbkSjObpoY85VgIwmfWm1sPCkMSG1YYVAHPAnAdUk9DEO3YhGc3TRxpyrABlN+tJqYeFJY0JqwwqBOOBPAqpJ6GMcuhGN5uiijTlXATKa9KXVwsKTxoTUhhUCccCfBFST0Mc4dCMazdFFG3OuAmQ06UurhYUnjQmpDSsE4oA/CagmoY9x6EY0mqOLNub8o7+pn0JAIaAQUAgoBBQCPgTkzyCjDU9ULYWAQkAhoBBQCMSKgAqQscKriCsEFAIKAYXAqCKgAuSoSk7xrRBQCCgEFAKxIvD/AdkSG7/j932tAAAAAElFTkSuQmCC)"
      ]
    },
    {
      "cell_type": "code",
      "metadata": {
        "colab": {
          "base_uri": "https://localhost:8080/"
        },
        "id": "Fh9Xzvsk7TTU",
        "outputId": "f57eb045-c9ae-4693-be54-6987374a10de"
      },
      "source": [
        "!gdown --id 1BSHIKQ7rFw5BpTq5nw1UZfjPK_7Mpnbi\n",
        "!mv _sqlite3.cpython-37m-x86_64-linux-gnu.so /usr/lib/python3.7/lib-dynload/\n",
        "import os\n",
        "os.kill(os.getpid(), 9)"
      ],
      "execution_count": null,
      "outputs": [
        {
          "output_type": "stream",
          "text": [
            "Downloading...\n",
            "From: https://drive.google.com/uc?id=1BSHIKQ7rFw5BpTq5nw1UZfjPK_7Mpnbi\n",
            "To: /content/_sqlite3.cpython-37m-x86_64-linux-gnu.so\n",
            "\r0.00B [00:00, ?B/s]\r6.23MB [00:00, 97.5MB/s]\n"
          ],
          "name": "stdout"
        }
      ]
    },
    {
      "cell_type": "code",
      "metadata": {
        "id": "ps4YBrkQaLNx"
      },
      "source": [
        "import pandas as pd\n",
        "import numpy as np"
      ],
      "execution_count": 1,
      "outputs": []
    },
    {
      "cell_type": "code",
      "metadata": {
        "id": "dnckrZ-3kaqi"
      },
      "source": [
        "import sqlite3"
      ],
      "execution_count": 2,
      "outputs": []
    },
    {
      "cell_type": "code",
      "metadata": {
        "colab": {
          "base_uri": "https://localhost:8080/",
          "height": 35
        },
        "id": "9P2pIMoZkb0S",
        "outputId": "1fdeb188-e1c6-44f0-e010-3bde35626f6c"
      },
      "source": [
        "sqlite3.sqlite_version"
      ],
      "execution_count": 3,
      "outputs": [
        {
          "output_type": "execute_result",
          "data": {
            "application/vnd.google.colaboratory.intrinsic+json": {
              "type": "string"
            },
            "text/plain": [
              "'3.34.1'"
            ]
          },
          "metadata": {
            "tags": []
          },
          "execution_count": 3
        }
      ]
    },
    {
      "cell_type": "code",
      "metadata": {
        "id": "rfJ69TNgkdkv"
      },
      "source": [
        "con = sqlite3.connect('db')"
      ],
      "execution_count": 4,
      "outputs": []
    },
    {
      "cell_type": "markdown",
      "metadata": {
        "id": "0L4TKW7sf7NR"
      },
      "source": [
        "Копируем файл ab_test_dataset.csv с гугл диска в локальную папку проекта:\n"
      ]
    },
    {
      "cell_type": "markdown",
      "metadata": {
        "id": "QhqAeo52EQE_"
      },
      "source": [
        "https://drive.google.com/file/d/1fzlMhn3VWzvbCtOVzWnLFYehwTEei625/view?usp=sharing\n"
      ]
    },
    {
      "cell_type": "code",
      "metadata": {
        "colab": {
          "base_uri": "https://localhost:8080/"
        },
        "id": "yqp-B3BsEvgf",
        "outputId": "17d52a89-1c99-4114-dc8d-92f2669ae7cc"
      },
      "source": [
        "file_id = \"1fzlMhn3VWzvbCtOVzWnLFYehwTEei625\"\n",
        "!gdown https://drive.google.com/uc?id={file_id}"
      ],
      "execution_count": 5,
      "outputs": [
        {
          "output_type": "stream",
          "text": [
            "Downloading...\n",
            "From: https://drive.google.com/uc?id=1fzlMhn3VWzvbCtOVzWnLFYehwTEei625\n",
            "To: /content/ab_test_dataset.csv\n",
            "9.08MB [00:00, 80.3MB/s]\n"
          ],
          "name": "stdout"
        }
      ]
    },
    {
      "cell_type": "code",
      "metadata": {
        "id": "PVBl8TMAaLN4"
      },
      "source": [
        "df = pd.read_csv('/content/ab_test_dataset.csv',delimiter=',')"
      ],
      "execution_count": 198,
      "outputs": []
    },
    {
      "cell_type": "code",
      "metadata": {
        "id": "sfRbUY9DaLN5",
        "colab": {
          "base_uri": "https://localhost:8080/",
          "height": 204
        },
        "outputId": "d1ba1cce-a012-4abb-a7fb-d64cb34a3043"
      },
      "source": [
        "df.head(5)"
      ],
      "execution_count": 7,
      "outputs": [
        {
          "output_type": "display_data",
          "data": {
            "text/html": [
              "<div>\n",
              "<style scoped>\n",
              "    .dataframe tbody tr th:only-of-type {\n",
              "        vertical-align: middle;\n",
              "    }\n",
              "\n",
              "    .dataframe tbody tr th {\n",
              "        vertical-align: top;\n",
              "    }\n",
              "\n",
              "    .dataframe thead th {\n",
              "        text-align: right;\n",
              "    }\n",
              "</style>\n",
              "<table border=\"1\" class=\"dataframe\">\n",
              "  <thead>\n",
              "    <tr style=\"text-align: right;\">\n",
              "      <th></th>\n",
              "      <th>sessionId</th>\n",
              "      <th>owoxId</th>\n",
              "      <th>expId</th>\n",
              "      <th>transactionCount</th>\n",
              "      <th>transactionRevenue</th>\n",
              "    </tr>\n",
              "  </thead>\n",
              "  <tbody>\n",
              "    <tr>\n",
              "      <th>0</th>\n",
              "      <td>1621728671.1613885756_1614607796320</td>\n",
              "      <td>1131951925_4063926243</td>\n",
              "      <td>enable_widget_display</td>\n",
              "      <td>1</td>\n",
              "      <td>1797.0</td>\n",
              "    </tr>\n",
              "    <tr>\n",
              "      <th>1</th>\n",
              "      <td>254454916.1614587660_1614588133437</td>\n",
              "      <td>1857974034_2584465228</td>\n",
              "      <td>enable_widget_display</td>\n",
              "      <td>0</td>\n",
              "      <td>NaN</td>\n",
              "    </tr>\n",
              "    <tr>\n",
              "      <th>2</th>\n",
              "      <td>999147858.1613730260_1614581947725</td>\n",
              "      <td>1872664312_1603374862</td>\n",
              "      <td>enable_widget_display</td>\n",
              "      <td>0</td>\n",
              "      <td>NaN</td>\n",
              "    </tr>\n",
              "    <tr>\n",
              "      <th>3</th>\n",
              "      <td>465317791.1602582468_1614604393055</td>\n",
              "      <td>1127560903_4128191112</td>\n",
              "      <td>enable_widget_display</td>\n",
              "      <td>0</td>\n",
              "      <td>NaN</td>\n",
              "    </tr>\n",
              "    <tr>\n",
              "      <th>4</th>\n",
              "      <td>1412883283.1597158346_1614557965684</td>\n",
              "      <td>3262629620_892196448</td>\n",
              "      <td>enable_widget_display</td>\n",
              "      <td>0</td>\n",
              "      <td>NaN</td>\n",
              "    </tr>\n",
              "  </tbody>\n",
              "</table>\n",
              "</div>"
            ],
            "text/plain": [
              "                             sessionId  ... transactionRevenue\n",
              "0  1621728671.1613885756_1614607796320  ...             1797.0\n",
              "1   254454916.1614587660_1614588133437  ...                NaN\n",
              "2   999147858.1613730260_1614581947725  ...                NaN\n",
              "3   465317791.1602582468_1614604393055  ...                NaN\n",
              "4  1412883283.1597158346_1614557965684  ...                NaN\n",
              "\n",
              "[5 rows x 5 columns]"
            ]
          },
          "metadata": {
            "tags": []
          }
        }
      ]
    },
    {
      "cell_type": "markdown",
      "metadata": {
        "id": "KB3SO2DRgTEH"
      },
      "source": [
        "загоняем данные в sql:"
      ]
    },
    {
      "cell_type": "code",
      "metadata": {
        "id": "DVDCduJTkNsy"
      },
      "source": [
        "df.to_sql('ab_data',con,index=False,if_exists='replace')"
      ],
      "execution_count": 8,
      "outputs": []
    },
    {
      "cell_type": "code",
      "metadata": {
        "id": "EUsnLp_fk0cx"
      },
      "source": [
        "def select(sql):\n",
        "  return pd.read_sql(sql,con)"
      ],
      "execution_count": 5,
      "outputs": []
    },
    {
      "cell_type": "code",
      "metadata": {
        "id": "jYr1h049k4Eb"
      },
      "source": [
        "sql = '''select t.* from ab_data as t limit 100'''"
      ],
      "execution_count": 10,
      "outputs": []
    },
    {
      "cell_type": "code",
      "metadata": {
        "colab": {
          "base_uri": "https://localhost:8080/",
          "height": 419
        },
        "id": "SI28ayRzlDHn",
        "outputId": "7fab9b65-0be7-4fd5-c4e7-658eb29684fa"
      },
      "source": [
        "select(sql)"
      ],
      "execution_count": 11,
      "outputs": [
        {
          "output_type": "execute_result",
          "data": {
            "text/html": [
              "<div>\n",
              "<style scoped>\n",
              "    .dataframe tbody tr th:only-of-type {\n",
              "        vertical-align: middle;\n",
              "    }\n",
              "\n",
              "    .dataframe tbody tr th {\n",
              "        vertical-align: top;\n",
              "    }\n",
              "\n",
              "    .dataframe thead th {\n",
              "        text-align: right;\n",
              "    }\n",
              "</style>\n",
              "<table border=\"1\" class=\"dataframe\">\n",
              "  <thead>\n",
              "    <tr style=\"text-align: right;\">\n",
              "      <th></th>\n",
              "      <th>sessionId</th>\n",
              "      <th>owoxId</th>\n",
              "      <th>expId</th>\n",
              "      <th>transactionCount</th>\n",
              "      <th>transactionRevenue</th>\n",
              "    </tr>\n",
              "  </thead>\n",
              "  <tbody>\n",
              "    <tr>\n",
              "      <th>0</th>\n",
              "      <td>1621728671.1613885756_1614607796320</td>\n",
              "      <td>1131951925_4063926243</td>\n",
              "      <td>enable_widget_display</td>\n",
              "      <td>1</td>\n",
              "      <td>1797.0</td>\n",
              "    </tr>\n",
              "    <tr>\n",
              "      <th>1</th>\n",
              "      <td>254454916.1614587660_1614588133437</td>\n",
              "      <td>1857974034_2584465228</td>\n",
              "      <td>enable_widget_display</td>\n",
              "      <td>0</td>\n",
              "      <td>NaN</td>\n",
              "    </tr>\n",
              "    <tr>\n",
              "      <th>2</th>\n",
              "      <td>999147858.1613730260_1614581947725</td>\n",
              "      <td>1872664312_1603374862</td>\n",
              "      <td>enable_widget_display</td>\n",
              "      <td>0</td>\n",
              "      <td>NaN</td>\n",
              "    </tr>\n",
              "    <tr>\n",
              "      <th>3</th>\n",
              "      <td>465317791.1602582468_1614604393055</td>\n",
              "      <td>1127560903_4128191112</td>\n",
              "      <td>enable_widget_display</td>\n",
              "      <td>0</td>\n",
              "      <td>NaN</td>\n",
              "    </tr>\n",
              "    <tr>\n",
              "      <th>4</th>\n",
              "      <td>1412883283.1597158346_1614557965684</td>\n",
              "      <td>3262629620_892196448</td>\n",
              "      <td>enable_widget_display</td>\n",
              "      <td>0</td>\n",
              "      <td>NaN</td>\n",
              "    </tr>\n",
              "    <tr>\n",
              "      <th>...</th>\n",
              "      <td>...</td>\n",
              "      <td>...</td>\n",
              "      <td>...</td>\n",
              "      <td>...</td>\n",
              "      <td>...</td>\n",
              "    </tr>\n",
              "    <tr>\n",
              "      <th>95</th>\n",
              "      <td>2083756158.1573724623_1614623293988</td>\n",
              "      <td>2258043485_1454658549</td>\n",
              "      <td>enable_widget_display</td>\n",
              "      <td>0</td>\n",
              "      <td>NaN</td>\n",
              "    </tr>\n",
              "    <tr>\n",
              "      <th>96</th>\n",
              "      <td>1066197565.1613626761_1614622585490</td>\n",
              "      <td>1063718706_1947071547</td>\n",
              "      <td>enable_widget_display</td>\n",
              "      <td>0</td>\n",
              "      <td>NaN</td>\n",
              "    </tr>\n",
              "    <tr>\n",
              "      <th>97</th>\n",
              "      <td>1967941062.1604037509_1614584923181</td>\n",
              "      <td>1604956250_328744798</td>\n",
              "      <td>enable_widget_display</td>\n",
              "      <td>0</td>\n",
              "      <td>NaN</td>\n",
              "    </tr>\n",
              "    <tr>\n",
              "      <th>98</th>\n",
              "      <td>1933458510.1614597153_1614597164040</td>\n",
              "      <td>3104136033_4113786322</td>\n",
              "      <td>enable_widget_display</td>\n",
              "      <td>0</td>\n",
              "      <td>NaN</td>\n",
              "    </tr>\n",
              "    <tr>\n",
              "      <th>99</th>\n",
              "      <td>2050957050.1609335481_1614566123598</td>\n",
              "      <td>4067268011_633000197</td>\n",
              "      <td>enable_widget_display</td>\n",
              "      <td>0</td>\n",
              "      <td>NaN</td>\n",
              "    </tr>\n",
              "  </tbody>\n",
              "</table>\n",
              "<p>100 rows × 5 columns</p>\n",
              "</div>"
            ],
            "text/plain": [
              "                              sessionId  ... transactionRevenue\n",
              "0   1621728671.1613885756_1614607796320  ...             1797.0\n",
              "1    254454916.1614587660_1614588133437  ...                NaN\n",
              "2    999147858.1613730260_1614581947725  ...                NaN\n",
              "3    465317791.1602582468_1614604393055  ...                NaN\n",
              "4   1412883283.1597158346_1614557965684  ...                NaN\n",
              "..                                  ...  ...                ...\n",
              "95  2083756158.1573724623_1614623293988  ...                NaN\n",
              "96  1066197565.1613626761_1614622585490  ...                NaN\n",
              "97  1967941062.1604037509_1614584923181  ...                NaN\n",
              "98  1933458510.1614597153_1614597164040  ...                NaN\n",
              "99  2050957050.1609335481_1614566123598  ...                NaN\n",
              "\n",
              "[100 rows x 5 columns]"
            ]
          },
          "metadata": {
            "tags": []
          },
          "execution_count": 11
        }
      ]
    },
    {
      "cell_type": "markdown",
      "metadata": {
        "id": "q7PgUWwEq7G9"
      },
      "source": [
        "Добавим столбец, который будет содержать Id пользователя, если он платил, иначе пусто"
      ]
    },
    {
      "cell_type": "code",
      "metadata": {
        "colab": {
          "base_uri": "https://localhost:8080/",
          "height": 204
        },
        "id": "NYo-wrcTt4-W",
        "outputId": "b223199b-fcfe-4c04-b5ad-2d4b27e0f4f9"
      },
      "source": [
        "df['payingUser'] = np.where(df['transactionRevenue'] > 0, df['owoxId'], np.NAN)\n",
        "df.head(5)"
      ],
      "execution_count": 199,
      "outputs": [
        {
          "output_type": "execute_result",
          "data": {
            "text/html": [
              "<div>\n",
              "<style scoped>\n",
              "    .dataframe tbody tr th:only-of-type {\n",
              "        vertical-align: middle;\n",
              "    }\n",
              "\n",
              "    .dataframe tbody tr th {\n",
              "        vertical-align: top;\n",
              "    }\n",
              "\n",
              "    .dataframe thead th {\n",
              "        text-align: right;\n",
              "    }\n",
              "</style>\n",
              "<table border=\"1\" class=\"dataframe\">\n",
              "  <thead>\n",
              "    <tr style=\"text-align: right;\">\n",
              "      <th></th>\n",
              "      <th>sessionId</th>\n",
              "      <th>owoxId</th>\n",
              "      <th>expId</th>\n",
              "      <th>transactionCount</th>\n",
              "      <th>transactionRevenue</th>\n",
              "      <th>payingUser</th>\n",
              "    </tr>\n",
              "  </thead>\n",
              "  <tbody>\n",
              "    <tr>\n",
              "      <th>0</th>\n",
              "      <td>1621728671.1613885756_1614607796320</td>\n",
              "      <td>1131951925_4063926243</td>\n",
              "      <td>enable_widget_display</td>\n",
              "      <td>1</td>\n",
              "      <td>1797.0</td>\n",
              "      <td>1131951925_4063926243</td>\n",
              "    </tr>\n",
              "    <tr>\n",
              "      <th>1</th>\n",
              "      <td>254454916.1614587660_1614588133437</td>\n",
              "      <td>1857974034_2584465228</td>\n",
              "      <td>enable_widget_display</td>\n",
              "      <td>0</td>\n",
              "      <td>NaN</td>\n",
              "      <td>NaN</td>\n",
              "    </tr>\n",
              "    <tr>\n",
              "      <th>2</th>\n",
              "      <td>999147858.1613730260_1614581947725</td>\n",
              "      <td>1872664312_1603374862</td>\n",
              "      <td>enable_widget_display</td>\n",
              "      <td>0</td>\n",
              "      <td>NaN</td>\n",
              "      <td>NaN</td>\n",
              "    </tr>\n",
              "    <tr>\n",
              "      <th>3</th>\n",
              "      <td>465317791.1602582468_1614604393055</td>\n",
              "      <td>1127560903_4128191112</td>\n",
              "      <td>enable_widget_display</td>\n",
              "      <td>0</td>\n",
              "      <td>NaN</td>\n",
              "      <td>NaN</td>\n",
              "    </tr>\n",
              "    <tr>\n",
              "      <th>4</th>\n",
              "      <td>1412883283.1597158346_1614557965684</td>\n",
              "      <td>3262629620_892196448</td>\n",
              "      <td>enable_widget_display</td>\n",
              "      <td>0</td>\n",
              "      <td>NaN</td>\n",
              "      <td>NaN</td>\n",
              "    </tr>\n",
              "  </tbody>\n",
              "</table>\n",
              "</div>"
            ],
            "text/plain": [
              "                             sessionId  ...             payingUser\n",
              "0  1621728671.1613885756_1614607796320  ...  1131951925_4063926243\n",
              "1   254454916.1614587660_1614588133437  ...                    NaN\n",
              "2   999147858.1613730260_1614581947725  ...                    NaN\n",
              "3   465317791.1602582468_1614604393055  ...                    NaN\n",
              "4  1412883283.1597158346_1614557965684  ...                    NaN\n",
              "\n",
              "[5 rows x 6 columns]"
            ]
          },
          "metadata": {
            "tags": []
          },
          "execution_count": 199
        }
      ]
    },
    {
      "cell_type": "code",
      "metadata": {
        "colab": {
          "base_uri": "https://localhost:8080/",
          "height": 204
        },
        "id": "9n-Rh7l7nN23",
        "outputId": "67f0d76f-c10e-47a6-e2c2-2c9b50dd1d76"
      },
      "source": [
        "df.groupby('expId').agg({\n",
        "    'sessionId': lambda x: x.nunique(), \n",
        "    'owoxId': lambda x: x.nunique(), \n",
        "    'payingUser': 'count', \n",
        "    'transactionRevenue': 'sum', \n",
        "    'transactionCount': 'sum'})"
      ],
      "execution_count": 200,
      "outputs": [
        {
          "output_type": "execute_result",
          "data": {
            "text/html": [
              "<div>\n",
              "<style scoped>\n",
              "    .dataframe tbody tr th:only-of-type {\n",
              "        vertical-align: middle;\n",
              "    }\n",
              "\n",
              "    .dataframe tbody tr th {\n",
              "        vertical-align: top;\n",
              "    }\n",
              "\n",
              "    .dataframe thead th {\n",
              "        text-align: right;\n",
              "    }\n",
              "</style>\n",
              "<table border=\"1\" class=\"dataframe\">\n",
              "  <thead>\n",
              "    <tr style=\"text-align: right;\">\n",
              "      <th></th>\n",
              "      <th>sessionId</th>\n",
              "      <th>owoxId</th>\n",
              "      <th>payingUser</th>\n",
              "      <th>transactionRevenue</th>\n",
              "      <th>transactionCount</th>\n",
              "    </tr>\n",
              "    <tr>\n",
              "      <th>expId</th>\n",
              "      <th></th>\n",
              "      <th></th>\n",
              "      <th></th>\n",
              "      <th></th>\n",
              "      <th></th>\n",
              "    </tr>\n",
              "  </thead>\n",
              "  <tbody>\n",
              "    <tr>\n",
              "      <th>disable_recommendations_display</th>\n",
              "      <td>24107</td>\n",
              "      <td>18350</td>\n",
              "      <td>143</td>\n",
              "      <td>361027.0</td>\n",
              "      <td>207</td>\n",
              "    </tr>\n",
              "    <tr>\n",
              "      <th>enable_null_page_display</th>\n",
              "      <td>10755</td>\n",
              "      <td>8239</td>\n",
              "      <td>78</td>\n",
              "      <td>181657.0</td>\n",
              "      <td>276</td>\n",
              "    </tr>\n",
              "    <tr>\n",
              "      <th>enable_widget_and_page_display</th>\n",
              "      <td>34149</td>\n",
              "      <td>25657</td>\n",
              "      <td>197</td>\n",
              "      <td>491299.0</td>\n",
              "      <td>251</td>\n",
              "    </tr>\n",
              "    <tr>\n",
              "      <th>enable_widget_display</th>\n",
              "      <td>34030</td>\n",
              "      <td>25645</td>\n",
              "      <td>166</td>\n",
              "      <td>372329.0</td>\n",
              "      <td>268</td>\n",
              "    </tr>\n",
              "  </tbody>\n",
              "</table>\n",
              "</div>"
            ],
            "text/plain": [
              "                                 sessionId  ...  transactionCount\n",
              "expId                                       ...                  \n",
              "disable_recommendations_display      24107  ...               207\n",
              "enable_null_page_display             10755  ...               276\n",
              "enable_widget_and_page_display       34149  ...               251\n",
              "enable_widget_display                34030  ...               268\n",
              "\n",
              "[4 rows x 5 columns]"
            ]
          },
          "metadata": {
            "tags": []
          },
          "execution_count": 200
        }
      ]
    },
    {
      "cell_type": "markdown",
      "metadata": {
        "id": "KYM9vvyVCQ4T"
      },
      "source": [
        "Теперь тоже самое достанем SQL запросом:"
      ]
    },
    {
      "cell_type": "code",
      "metadata": {
        "id": "Wl49sH0mRqqN"
      },
      "source": [
        "sql = '''\n",
        "select \n",
        "    t.expId as group_name,\n",
        "    count(distinct(t.sessionId)) as session_cnt, \n",
        "    count(distinct(t.owoxId)) as uniq_users_cnt,\n",
        "    count(t.transactionRevenue) as paying_users_cnt,\n",
        "    sum(t.transactionRevenue) as revenue_sum,\n",
        "    sum(t.transactionCount) as transactions_cnt\n",
        " from ab_data t\n",
        " group by t.expId'''"
      ],
      "execution_count": 147,
      "outputs": []
    },
    {
      "cell_type": "code",
      "metadata": {
        "colab": {
          "base_uri": "https://localhost:8080/",
          "height": 173
        },
        "id": "xOv08ZECRrKN",
        "outputId": "cd098119-4986-44e7-d1fd-c0c44d621e4f"
      },
      "source": [
        "select(sql)"
      ],
      "execution_count": 146,
      "outputs": [
        {
          "output_type": "execute_result",
          "data": {
            "text/html": [
              "<div>\n",
              "<style scoped>\n",
              "    .dataframe tbody tr th:only-of-type {\n",
              "        vertical-align: middle;\n",
              "    }\n",
              "\n",
              "    .dataframe tbody tr th {\n",
              "        vertical-align: top;\n",
              "    }\n",
              "\n",
              "    .dataframe thead th {\n",
              "        text-align: right;\n",
              "    }\n",
              "</style>\n",
              "<table border=\"1\" class=\"dataframe\">\n",
              "  <thead>\n",
              "    <tr style=\"text-align: right;\">\n",
              "      <th></th>\n",
              "      <th>expId</th>\n",
              "      <th>session_cnt</th>\n",
              "      <th>uniq_users_cnt</th>\n",
              "      <th>paying_users_cnt</th>\n",
              "      <th>revenue_sum</th>\n",
              "      <th>transactions_cnt</th>\n",
              "    </tr>\n",
              "  </thead>\n",
              "  <tbody>\n",
              "    <tr>\n",
              "      <th>0</th>\n",
              "      <td>disable_recommendations_display</td>\n",
              "      <td>24107</td>\n",
              "      <td>18350</td>\n",
              "      <td>143</td>\n",
              "      <td>361027.0</td>\n",
              "      <td>207</td>\n",
              "    </tr>\n",
              "    <tr>\n",
              "      <th>1</th>\n",
              "      <td>enable_null_page_display</td>\n",
              "      <td>10755</td>\n",
              "      <td>8239</td>\n",
              "      <td>78</td>\n",
              "      <td>181657.0</td>\n",
              "      <td>276</td>\n",
              "    </tr>\n",
              "    <tr>\n",
              "      <th>2</th>\n",
              "      <td>enable_widget_and_page_display</td>\n",
              "      <td>34149</td>\n",
              "      <td>25657</td>\n",
              "      <td>197</td>\n",
              "      <td>491299.0</td>\n",
              "      <td>251</td>\n",
              "    </tr>\n",
              "    <tr>\n",
              "      <th>3</th>\n",
              "      <td>enable_widget_display</td>\n",
              "      <td>34030</td>\n",
              "      <td>25645</td>\n",
              "      <td>166</td>\n",
              "      <td>372329.0</td>\n",
              "      <td>268</td>\n",
              "    </tr>\n",
              "  </tbody>\n",
              "</table>\n",
              "</div>"
            ],
            "text/plain": [
              "                             expId  session_cnt  ...  revenue_sum  transactions_cnt\n",
              "0  disable_recommendations_display        24107  ...     361027.0               207\n",
              "1         enable_null_page_display        10755  ...     181657.0               276\n",
              "2   enable_widget_and_page_display        34149  ...     491299.0               251\n",
              "3            enable_widget_display        34030  ...     372329.0               268\n",
              "\n",
              "[4 rows x 6 columns]"
            ]
          },
          "metadata": {
            "tags": []
          },
          "execution_count": 146
        }
      ]
    },
    {
      "cell_type": "markdown",
      "metadata": {
        "id": "S7EXLeK7e1aj"
      },
      "source": [
        "#### Ответ\n",
        "В результате выше находятся данные, которые требовалось найти в задании"
      ]
    },
    {
      "cell_type": "markdown",
      "metadata": {
        "id": "mtkTTfFclX4h"
      },
      "source": [
        "### Задача 4.2\n",
        "Оценить результаты AB теста и написать выводы об успешности каждого варианта + написать в общих чертах обоснование расчетов для подтверждения результатов\n",
        "\n",
        "Оценить результаты можно при помощи SQL,Python или Excel."
      ]
    },
    {
      "cell_type": "code",
      "metadata": {
        "colab": {
          "base_uri": "https://localhost:8080/"
        },
        "id": "1hfxIBOuoi7j",
        "outputId": "c3815595-4f99-403f-b881-6f634837a0e6"
      },
      "source": [
        "df.nunique()"
      ],
      "execution_count": 201,
      "outputs": [
        {
          "output_type": "execute_result",
          "data": {
            "text/plain": [
              "sessionId             100829\n",
              "owoxId                 73038\n",
              "expId                      4\n",
              "transactionCount          10\n",
              "transactionRevenue       411\n",
              "payingUser               511\n",
              "dtype: int64"
            ]
          },
          "metadata": {
            "tags": []
          },
          "execution_count": 201
        }
      ]
    },
    {
      "cell_type": "markdown",
      "metadata": {
        "id": "bzfLFZChl9Ks"
      },
      "source": [
        "#### Анализ A/B теста.\n",
        "\n",
        "Отсутствует описание эксперимента: \n",
        "* неизвестно, что хотели померить, \n",
        "* нет описания\n",
        " * вносимых изменений в исходную версию, \n",
        " * **метрик** по которым будет определяться успешность изменения,\n",
        " * порогового значения метрик, при которых мы сможем сказать - полученное изменение это хорошо или плохо (например: метрика X улучшена на 0.2%. Это хорошо или плохо? Стоит катить эксперимент или нет?)\n",
        "* нет информации о сроках проведения эксперимента. Отсюда следует, что невозможно знать, было ли влияние внешних факторов (праздники, сезонность и тп)\n",
        "* нет информации о составе пользователей в группах: подсегменты в разбивке по платформам/устройствам/полу/возрасту должны быть сопоставимы\n",
        "* в одной из групп есть сразу **два** изменения - нужно выкатывать по одному, иначе как определить, какое из них подействовало?"
      ]
    },
    {
      "cell_type": "code",
      "metadata": {
        "colab": {
          "base_uri": "https://localhost:8080/"
        },
        "id": "aCc09MMmsPlJ",
        "outputId": "5563c555-349e-4eb0-f791-39c911fcd564"
      },
      "source": [
        "intersect_ab1 = set(df[df['expId'] == \"disable_recommendations_display\"]['owoxId'])\\\n",
        "    .intersection(set(df[df['expId'] == \"enable_null_page_display\"]['owoxId']))\n",
        "\n",
        "print('Пересечение пользователей в группах: ', 'disable_recommendations_display', 'enable_null_page_display', len(intersect_ab1))\n"
      ],
      "execution_count": 202,
      "outputs": [
        {
          "output_type": "stream",
          "text": [
            "Пересечение пользователей в группах:  disable_recommendations_display enable_null_page_display 345\n"
          ],
          "name": "stdout"
        }
      ]
    },
    {
      "cell_type": "code",
      "metadata": {
        "colab": {
          "base_uri": "https://localhost:8080/"
        },
        "id": "TDV4VM0ODtc6",
        "outputId": "d9088774-f3da-4dbc-fd9e-69ebba5a4ab9"
      },
      "source": [
        "intersect_ab2 = set(df[df['expId'] == \"disable_recommendations_display\"]['owoxId'])\\\n",
        "    .intersection(set(df[df['expId'] == \"enable_widget_and_page_display\"]['owoxId']))\n",
        "\n",
        "print('Пересечение пользователей в группах: ', 'disable_recommendations_display', 'enable_widget_and_page_display', len(intersect_ab2))"
      ],
      "execution_count": 203,
      "outputs": [
        {
          "output_type": "stream",
          "text": [
            "Пересечение пользователей в группах:  disable_recommendations_display enable_widget_and_page_display 952\n"
          ],
          "name": "stdout"
        }
      ]
    },
    {
      "cell_type": "code",
      "metadata": {
        "colab": {
          "base_uri": "https://localhost:8080/"
        },
        "id": "NykUXAt_D5BW",
        "outputId": "19e4f18a-24d1-4812-af32-faf422abdbdb"
      },
      "source": [
        "intersect_ab3 = set(df[df['expId'] == \"disable_recommendations_display\"]['owoxId'])\\\n",
        "    .intersection(set(df[df['expId'] == \"enable_widget_display\"]['owoxId']))\n",
        "\n",
        "print('Пересечение пользователей в группах: ', 'disable_recommendations_display', 'enable_widget_display', len(intersect_ab3))"
      ],
      "execution_count": 204,
      "outputs": [
        {
          "output_type": "stream",
          "text": [
            "Пересечение пользователей в группах:  disable_recommendations_display enable_widget_display 962\n"
          ],
          "name": "stdout"
        }
      ]
    },
    {
      "cell_type": "markdown",
      "metadata": {
        "id": "gouCQ-gvGYDm"
      },
      "source": [
        "Также мы видим пересечение пользователей в группах: я проверил только пересечение контрольной группы с каждой из тестовых. \n",
        "\n",
        "Так делать нельзя, этих пользователей нужно исключать из анализа, т.к. нахождение в обеих группах может сказаться на поведение пользователя.\n",
        "\n",
        "Аналогично недопускается нахождение пользователя в разных экспериментах - мы не можем гарантировать, что это не повлияет на поведение пользователя в экспрерименте."
      ]
    },
    {
      "cell_type": "code",
      "metadata": {
        "colab": {
          "base_uri": "https://localhost:8080/"
        },
        "id": "VNP7JzBkHlDF",
        "outputId": "2d5efe94-e5b9-4ddb-be43-bf365153cea8"
      },
      "source": [
        "intersect_b1b2 = set(df[df['expId'] == \"enable_null_page_display\"]['owoxId'])\\\n",
        "    .intersection(set(df[df['expId'] == \"enable_widget_and_page_display\"]['owoxId']))\n",
        "\n",
        "print('Пересечение пользователей в группах: ', 'enable_null_page_display', 'enable_widget_and_page_display', len(intersect_b1b2))\n",
        "\n",
        "intersect_b1b3 = set(df[df['expId'] == \"enable_null_page_display\"]['owoxId'])\\\n",
        "    .intersection(set(df[df['expId'] == \"enable_widget_display\"]['owoxId']))\n",
        "\n",
        "print('Пересечение пользователей в группах: ', 'enable_null_page_display', 'enable_widget_display', len(intersect_b1b3))\n",
        "\n",
        "intersect_b2b3 = set(df[df['expId'] == \"enable_widget_and_page_display\"]['owoxId'])\\\n",
        "    .intersection(set(df[df['expId'] == \"enable_widget_display\"]['owoxId']))\n",
        "\n",
        "print('Пересечение пользователей в группах: ', 'enable_widget_and_page_display', 'enable_widget_display', len(intersect_b2b3))\n"
      ],
      "execution_count": 205,
      "outputs": [
        {
          "output_type": "stream",
          "text": [
            "Пересечение пользователей в группах:  enable_null_page_display enable_widget_and_page_display 638\n",
            "Пересечение пользователей в группах:  enable_null_page_display enable_widget_display 588\n",
            "Пересечение пользователей в группах:  enable_widget_and_page_display enable_widget_display 1550\n"
          ],
          "name": "stdout"
        }
      ]
    },
    {
      "cell_type": "markdown",
      "metadata": {
        "id": "HO8YAMOlIayy"
      },
      "source": [
        "Количество уникальных пользователей:"
      ]
    },
    {
      "cell_type": "code",
      "metadata": {
        "colab": {
          "base_uri": "https://localhost:8080/"
        },
        "id": "z7_VTGT3IfJT",
        "outputId": "b6ed7daa-e6d1-45a2-d159-49a327fb51fd"
      },
      "source": [
        "df['owoxId'].nunique()"
      ],
      "execution_count": 206,
      "outputs": [
        {
          "output_type": "execute_result",
          "data": {
            "text/plain": [
              "73038"
            ]
          },
          "metadata": {
            "tags": []
          },
          "execution_count": 206
        }
      ]
    },
    {
      "cell_type": "markdown",
      "metadata": {
        "id": "W_H6h4i_HIvs"
      },
      "source": [
        "Исключим пересекающихся пользователей и в каждой группе оставим только уникальных:"
      ]
    },
    {
      "cell_type": "code",
      "metadata": {
        "id": "9poPXcHqleXT"
      },
      "source": [
        "df = df[~df['owoxId'].isin(intersect_ab1)]\n",
        "df = df[~df['owoxId'].isin(intersect_ab2)]\n",
        "df = df[~df['owoxId'].isin(intersect_ab3)]\n",
        "df = df[~df['owoxId'].isin(intersect_b1b2)]\n",
        "df = df[~df['owoxId'].isin(intersect_b1b3)]\n",
        "df = df[~df['owoxId'].isin(intersect_b2b3)]"
      ],
      "execution_count": 207,
      "outputs": []
    },
    {
      "cell_type": "markdown",
      "metadata": {
        "id": "bl4WmLjtInJk"
      },
      "source": [
        "Количество пользователей после чистки:"
      ]
    },
    {
      "cell_type": "code",
      "metadata": {
        "colab": {
          "base_uri": "https://localhost:8080/"
        },
        "id": "5ee5XKOzIlQI",
        "outputId": "b334940d-0d8a-44df-a676-217b06e98a60"
      },
      "source": [
        "df['owoxId'].nunique()"
      ],
      "execution_count": 208,
      "outputs": [
        {
          "output_type": "execute_result",
          "data": {
            "text/plain": [
              "68362"
            ]
          },
          "metadata": {
            "tags": []
          },
          "execution_count": 208
        }
      ]
    },
    {
      "cell_type": "markdown",
      "metadata": {
        "id": "CqOTQOH-JkTJ"
      },
      "source": [
        "Взглянем еще раз на наш датасет:"
      ]
    },
    {
      "cell_type": "code",
      "metadata": {
        "colab": {
          "base_uri": "https://localhost:8080/",
          "height": 204
        },
        "id": "gI_uDuLoJnbe",
        "outputId": "5d5d7a24-a8bc-47a9-b9ec-79dfad568c3f"
      },
      "source": [
        "groups = df.groupby('expId').agg({\n",
        "    'sessionId': lambda x: x.nunique(), \n",
        "    'owoxId': lambda x: x.nunique(), \n",
        "    'payingUser': 'count', \n",
        "    'transactionRevenue': 'sum', \n",
        "    'transactionCount': 'sum'})\n",
        "groups"
      ],
      "execution_count": 209,
      "outputs": [
        {
          "output_type": "execute_result",
          "data": {
            "text/html": [
              "<div>\n",
              "<style scoped>\n",
              "    .dataframe tbody tr th:only-of-type {\n",
              "        vertical-align: middle;\n",
              "    }\n",
              "\n",
              "    .dataframe tbody tr th {\n",
              "        vertical-align: top;\n",
              "    }\n",
              "\n",
              "    .dataframe thead th {\n",
              "        text-align: right;\n",
              "    }\n",
              "</style>\n",
              "<table border=\"1\" class=\"dataframe\">\n",
              "  <thead>\n",
              "    <tr style=\"text-align: right;\">\n",
              "      <th></th>\n",
              "      <th>sessionId</th>\n",
              "      <th>owoxId</th>\n",
              "      <th>payingUser</th>\n",
              "      <th>transactionRevenue</th>\n",
              "      <th>transactionCount</th>\n",
              "    </tr>\n",
              "    <tr>\n",
              "      <th>expId</th>\n",
              "      <th></th>\n",
              "      <th></th>\n",
              "      <th></th>\n",
              "      <th></th>\n",
              "      <th></th>\n",
              "    </tr>\n",
              "  </thead>\n",
              "  <tbody>\n",
              "    <tr>\n",
              "      <th>disable_recommendations_display</th>\n",
              "      <td>20865</td>\n",
              "      <td>16219</td>\n",
              "      <td>107</td>\n",
              "      <td>263026.0</td>\n",
              "      <td>158</td>\n",
              "    </tr>\n",
              "    <tr>\n",
              "      <th>enable_null_page_display</th>\n",
              "      <td>8516</td>\n",
              "      <td>6759</td>\n",
              "      <td>43</td>\n",
              "      <td>102691.0</td>\n",
              "      <td>51</td>\n",
              "    </tr>\n",
              "    <tr>\n",
              "      <th>enable_widget_and_page_display</th>\n",
              "      <td>29609</td>\n",
              "      <td>22678</td>\n",
              "      <td>160</td>\n",
              "      <td>385618.0</td>\n",
              "      <td>209</td>\n",
              "    </tr>\n",
              "    <tr>\n",
              "      <th>enable_widget_display</th>\n",
              "      <td>29675</td>\n",
              "      <td>22706</td>\n",
              "      <td>134</td>\n",
              "      <td>295754.0</td>\n",
              "      <td>200</td>\n",
              "    </tr>\n",
              "  </tbody>\n",
              "</table>\n",
              "</div>"
            ],
            "text/plain": [
              "                                 sessionId  ...  transactionCount\n",
              "expId                                       ...                  \n",
              "disable_recommendations_display      20865  ...               158\n",
              "enable_null_page_display              8516  ...                51\n",
              "enable_widget_and_page_display       29609  ...               209\n",
              "enable_widget_display                29675  ...               200\n",
              "\n",
              "[4 rows x 5 columns]"
            ]
          },
          "metadata": {
            "tags": []
          },
          "execution_count": 209
        }
      ]
    },
    {
      "cell_type": "markdown",
      "metadata": {
        "id": "ai4Sa6S3awSr"
      },
      "source": [
        "#### Расчет метрик"
      ]
    },
    {
      "cell_type": "markdown",
      "metadata": {
        "id": "h5I_IlRbJugr"
      },
      "source": [
        "Посчитаем следующие метрики для каждой группы:\n",
        "* ARPU\n",
        "* ARPPU\n",
        "* Transactions per User\n",
        "* Paying Share"
      ]
    },
    {
      "cell_type": "code",
      "metadata": {
        "colab": {
          "base_uri": "https://localhost:8080/",
          "height": 204
        },
        "id": "VFiQYl8AKNuq",
        "outputId": "8db815f6-1f41-4449-d9ac-8d4792ddfbe7"
      },
      "source": [
        "groups['ARPU'] = groups['transactionRevenue']/groups['owoxId']\n",
        "groups['ARPPU'] = groups['transactionRevenue']/groups['payingUser']\n",
        "groups['transactions_per_user'] = groups['transactionCount']/groups['payingUser']\n",
        "groups['paying_share_%'] = groups['payingUser']/groups['owoxId']*100\n",
        "\n",
        "users_count = groups['owoxId']\n",
        "\n",
        "groups = groups[['ARPU','ARPPU', 'transactions_per_user', 'paying_share_%']]\n",
        "groups"
      ],
      "execution_count": 210,
      "outputs": [
        {
          "output_type": "execute_result",
          "data": {
            "text/html": [
              "<div>\n",
              "<style scoped>\n",
              "    .dataframe tbody tr th:only-of-type {\n",
              "        vertical-align: middle;\n",
              "    }\n",
              "\n",
              "    .dataframe tbody tr th {\n",
              "        vertical-align: top;\n",
              "    }\n",
              "\n",
              "    .dataframe thead th {\n",
              "        text-align: right;\n",
              "    }\n",
              "</style>\n",
              "<table border=\"1\" class=\"dataframe\">\n",
              "  <thead>\n",
              "    <tr style=\"text-align: right;\">\n",
              "      <th></th>\n",
              "      <th>ARPU</th>\n",
              "      <th>ARPPU</th>\n",
              "      <th>transactions_per_user</th>\n",
              "      <th>paying_share_%</th>\n",
              "    </tr>\n",
              "    <tr>\n",
              "      <th>expId</th>\n",
              "      <th></th>\n",
              "      <th></th>\n",
              "      <th></th>\n",
              "      <th></th>\n",
              "    </tr>\n",
              "  </thead>\n",
              "  <tbody>\n",
              "    <tr>\n",
              "      <th>disable_recommendations_display</th>\n",
              "      <td>16.217153</td>\n",
              "      <td>2458.186916</td>\n",
              "      <td>1.476636</td>\n",
              "      <td>0.659720</td>\n",
              "    </tr>\n",
              "    <tr>\n",
              "      <th>enable_null_page_display</th>\n",
              "      <td>15.193224</td>\n",
              "      <td>2388.162791</td>\n",
              "      <td>1.186047</td>\n",
              "      <td>0.636189</td>\n",
              "    </tr>\n",
              "    <tr>\n",
              "      <th>enable_widget_and_page_display</th>\n",
              "      <td>17.004057</td>\n",
              "      <td>2410.112500</td>\n",
              "      <td>1.306250</td>\n",
              "      <td>0.705530</td>\n",
              "    </tr>\n",
              "    <tr>\n",
              "      <th>enable_widget_display</th>\n",
              "      <td>13.025368</td>\n",
              "      <td>2207.119403</td>\n",
              "      <td>1.492537</td>\n",
              "      <td>0.590152</td>\n",
              "    </tr>\n",
              "  </tbody>\n",
              "</table>\n",
              "</div>"
            ],
            "text/plain": [
              "                                      ARPU  ...  paying_share_%\n",
              "expId                                       ...                \n",
              "disable_recommendations_display  16.217153  ...        0.659720\n",
              "enable_null_page_display         15.193224  ...        0.636189\n",
              "enable_widget_and_page_display   17.004057  ...        0.705530\n",
              "enable_widget_display            13.025368  ...        0.590152\n",
              "\n",
              "[4 rows x 4 columns]"
            ]
          },
          "metadata": {
            "tags": []
          },
          "execution_count": 210
        }
      ]
    },
    {
      "cell_type": "markdown",
      "metadata": {
        "id": "fAj4acAJOpSR"
      },
      "source": [
        "#### Расчет статистической значимости наблюдаемых изменений\n",
        "Посчитаем разность между Paying Share тестовой и контрольными группами и посчитаем доверительный интервал для этой разности:"
      ]
    },
    {
      "cell_type": "markdown",
      "metadata": {
        "id": "Baac_fA2QpZw"
      },
      "source": [
        "Используем z-тест для проверки пропорций и посчитаем доверительный интервал разницы Paying Share (z-score возьмем 1.96 для альфа = 5%):"
      ]
    },
    {
      "cell_type": "code",
      "metadata": {
        "colab": {
          "base_uri": "https://localhost:8080/"
        },
        "id": "EOBYngGURPPl",
        "outputId": "9ef21ec1-638b-46d1-8b1b-64c36433be0c"
      },
      "source": [
        "\n",
        "users_count.head()"
      ],
      "execution_count": 168,
      "outputs": [
        {
          "output_type": "execute_result",
          "data": {
            "text/plain": [
              "expId\n",
              "disable_recommendations_display    16219\n",
              "enable_null_page_display            6759\n",
              "enable_widget_and_page_display     22678\n",
              "enable_widget_display              22706\n",
              "Name: owoxId, dtype: int64"
            ]
          },
          "metadata": {
            "tags": []
          },
          "execution_count": 168
        }
      ]
    },
    {
      "cell_type": "code",
      "metadata": {
        "id": "8Q2WLm09QpFO"
      },
      "source": [
        "# количество пользователей в группах\n",
        "n_control = 16219\n",
        "n_test1 = 6759\n",
        "n_test2 = 22678\n",
        "n_test3 = 22706"
      ],
      "execution_count": 169,
      "outputs": []
    },
    {
      "cell_type": "code",
      "metadata": {
        "colab": {
          "base_uri": "https://localhost:8080/"
        },
        "id": "gzJ5N8ybOo0G",
        "outputId": "43840cc1-6d93-4b9f-8e19-a7e7f70b158b"
      },
      "source": [
        "# значения для контрольной \"disable_recommendations_display\" и первой тестовых групп\n",
        "ps_control = 0.659720\n",
        "ps_test1 = 0.636189\n",
        "ps_test2 = 0.705530\n",
        "ps_test3 = 0.590152\n",
        "\n",
        "# границы доверительного интервала\n",
        "sqrt = (ps_test1 * (1 - ps_test1) / n_test1) + (ps_control * (1 - ps_control) / n_control)\n",
        "left = ps_test1 - (ps_control + 1.96 * sqrt ** 0.5)\n",
        "right = ps_test1 - (ps_control - 1.96 * sqrt ** 0.5)\n",
        "\n",
        "print('Разность в значении:', round((ps_test1 - ps_control) * 100, 2), '%')\n",
        "print('Доверительный интервал разности: [', round(left * 100, 2), '%,', round(right * 100, 2),'%]')"
      ],
      "execution_count": 156,
      "outputs": [
        {
          "output_type": "stream",
          "text": [
            "Разность в значении: -2.35 %\n",
            "Доверительный интервал разности: [ -3.71 %, -0.99 %]\n"
          ],
          "name": "stdout"
        }
      ]
    },
    {
      "cell_type": "markdown",
      "metadata": {
        "id": "g6YqIpcahg3O"
      },
      "source": [
        "Доверительный интервал находится только в отрицательной плоскости и не содержит нуля. \n",
        "\n",
        "Значит мы можем сказать, что наблюдаемые изменения не обусловлены случайностью. \n",
        "\n",
        "Тестовая версия \"enable_null_page_display\" получила коэффициент платящих пользователей ниже, чем в контрольной версии."
      ]
    },
    {
      "cell_type": "code",
      "metadata": {
        "colab": {
          "base_uri": "https://localhost:8080/"
        },
        "id": "TASDkGo4W9mm",
        "outputId": "97ac730e-e9af-4603-e15c-28897e453f28"
      },
      "source": [
        "# границы доверительного интервала\n",
        "sqrt = (ps_test2 * (1 - ps_test2) / n_test2) + (ps_control * (1 - ps_control) / n_control)\n",
        "left = ps_test2 - (ps_control + 1.96 * sqrt ** 0.5)\n",
        "right = ps_test2 - (ps_control - 1.96 * sqrt ** 0.5)\n",
        "\n",
        "print('Разность в значении:', round((ps_test2 - ps_control) * 100, 2), '%')\n",
        "print('Доверительный интервал разности: [', round(left * 100, 2), '%,', round(right * 100, 2),'%]')"
      ],
      "execution_count": 157,
      "outputs": [
        {
          "output_type": "stream",
          "text": [
            "Разность в значении: 4.58 %\n",
            "Доверительный интервал разности: [ 3.64 %, 5.52 %]\n"
          ],
          "name": "stdout"
        }
      ]
    },
    {
      "cell_type": "markdown",
      "metadata": {
        "id": "zdao2cG6h77v"
      },
      "source": [
        "Доверительный интервал находится только в положительной плоскости и не содержит нуля. \n",
        "\n",
        "Значит мы можем сказать, что наблюдаемые изменения не обусловлены случайностью. \n",
        "\n",
        "Тестовая версия \"enable_widget_and_page_display\" получила коэффициент платящих пользователей выше, чем в контрольной версии."
      ]
    },
    {
      "cell_type": "code",
      "metadata": {
        "colab": {
          "base_uri": "https://localhost:8080/"
        },
        "id": "viUjyA96ST7u",
        "outputId": "12e3c3cd-5966-44a6-dfe2-2064c9614902"
      },
      "source": [
        "# границы доверительного интервала\n",
        "sqrt = (ps_test3 * (1 - ps_test3) / n_test3) + (ps_control * (1 - ps_control) / n_control)\n",
        "left = ps_test3 - (ps_control + 1.96 * sqrt ** 0.5)\n",
        "right = ps_test3 - (ps_control - 1.96 * sqrt ** 0.5)\n",
        "\n",
        "print('Разность в значении:', round((ps_test3 - ps_control) * 100, 2), '%')\n",
        "print('Доверительный интервал разности: [', round(left * 100, 2), '%,', round(right * 100, 2),'%]')"
      ],
      "execution_count": 158,
      "outputs": [
        {
          "output_type": "stream",
          "text": [
            "Разность в значении: -6.96 %\n",
            "Доверительный интервал разности: [ -7.93 %, -5.99 %]\n"
          ],
          "name": "stdout"
        }
      ]
    },
    {
      "cell_type": "markdown",
      "metadata": {
        "id": "2aMGVDn1iFGf"
      },
      "source": [
        "Доверительный интервал находится только в отрицательной плоскости и не содержит нуля. \n",
        "\n",
        "Значит мы можем сказать, что наблюдаемые изменения не обусловлены случайностью. \n",
        "\n",
        "Тестовая версия \"enable_widget_display\" получила коэффициент платящих пользователей ниже, чем в контрольной версии."
      ]
    },
    {
      "cell_type": "markdown",
      "metadata": {
        "id": "z0hgXkasiNq-"
      },
      "source": [
        "Взглянем еще раз на таблицу:"
      ]
    },
    {
      "cell_type": "code",
      "metadata": {
        "colab": {
          "base_uri": "https://localhost:8080/",
          "height": 204
        },
        "id": "qcAPbfoeiSZe",
        "outputId": "8f98fa10-d7e4-4093-fea2-93843fc25d7a"
      },
      "source": [
        "groups.head()"
      ],
      "execution_count": 211,
      "outputs": [
        {
          "output_type": "execute_result",
          "data": {
            "text/html": [
              "<div>\n",
              "<style scoped>\n",
              "    .dataframe tbody tr th:only-of-type {\n",
              "        vertical-align: middle;\n",
              "    }\n",
              "\n",
              "    .dataframe tbody tr th {\n",
              "        vertical-align: top;\n",
              "    }\n",
              "\n",
              "    .dataframe thead th {\n",
              "        text-align: right;\n",
              "    }\n",
              "</style>\n",
              "<table border=\"1\" class=\"dataframe\">\n",
              "  <thead>\n",
              "    <tr style=\"text-align: right;\">\n",
              "      <th></th>\n",
              "      <th>ARPU</th>\n",
              "      <th>ARPPU</th>\n",
              "      <th>transactions_per_user</th>\n",
              "      <th>paying_share_%</th>\n",
              "    </tr>\n",
              "    <tr>\n",
              "      <th>expId</th>\n",
              "      <th></th>\n",
              "      <th></th>\n",
              "      <th></th>\n",
              "      <th></th>\n",
              "    </tr>\n",
              "  </thead>\n",
              "  <tbody>\n",
              "    <tr>\n",
              "      <th>disable_recommendations_display</th>\n",
              "      <td>16.217153</td>\n",
              "      <td>2458.186916</td>\n",
              "      <td>1.476636</td>\n",
              "      <td>0.659720</td>\n",
              "    </tr>\n",
              "    <tr>\n",
              "      <th>enable_null_page_display</th>\n",
              "      <td>15.193224</td>\n",
              "      <td>2388.162791</td>\n",
              "      <td>1.186047</td>\n",
              "      <td>0.636189</td>\n",
              "    </tr>\n",
              "    <tr>\n",
              "      <th>enable_widget_and_page_display</th>\n",
              "      <td>17.004057</td>\n",
              "      <td>2410.112500</td>\n",
              "      <td>1.306250</td>\n",
              "      <td>0.705530</td>\n",
              "    </tr>\n",
              "    <tr>\n",
              "      <th>enable_widget_display</th>\n",
              "      <td>13.025368</td>\n",
              "      <td>2207.119403</td>\n",
              "      <td>1.492537</td>\n",
              "      <td>0.590152</td>\n",
              "    </tr>\n",
              "  </tbody>\n",
              "</table>\n",
              "</div>"
            ],
            "text/plain": [
              "                                      ARPU  ...  paying_share_%\n",
              "expId                                       ...                \n",
              "disable_recommendations_display  16.217153  ...        0.659720\n",
              "enable_null_page_display         15.193224  ...        0.636189\n",
              "enable_widget_and_page_display   17.004057  ...        0.705530\n",
              "enable_widget_display            13.025368  ...        0.590152\n",
              "\n",
              "[4 rows x 4 columns]"
            ]
          },
          "metadata": {
            "tags": []
          },
          "execution_count": 211
        }
      ]
    },
    {
      "cell_type": "markdown",
      "metadata": {
        "id": "9xYzjK46jKZ2"
      },
      "source": [
        "#### Основные выводы\n",
        "\n",
        "Версия \"enable_widget_display\" статистически значимое ухудшение Paying Share. Также мы видим, что выручка на одного пользователя упала. Также упала выручка на одного платящего. Это значит, что меньше пользователей стали платить, однако количество транзакций на одного платящего выросло. Это можно объяснить тем, что средний чек мог упасть.\n",
        "\n",
        "Давайте расчитаем средний чек для каждой из групп:"
      ]
    },
    {
      "cell_type": "code",
      "metadata": {
        "colab": {
          "base_uri": "https://localhost:8080/",
          "height": 204
        },
        "id": "_4WYgyFNlqr3",
        "outputId": "bb97e1d4-aa53-4f36-f44f-1a1bff4358a4"
      },
      "source": [
        "df.head()"
      ],
      "execution_count": 212,
      "outputs": [
        {
          "output_type": "execute_result",
          "data": {
            "text/html": [
              "<div>\n",
              "<style scoped>\n",
              "    .dataframe tbody tr th:only-of-type {\n",
              "        vertical-align: middle;\n",
              "    }\n",
              "\n",
              "    .dataframe tbody tr th {\n",
              "        vertical-align: top;\n",
              "    }\n",
              "\n",
              "    .dataframe thead th {\n",
              "        text-align: right;\n",
              "    }\n",
              "</style>\n",
              "<table border=\"1\" class=\"dataframe\">\n",
              "  <thead>\n",
              "    <tr style=\"text-align: right;\">\n",
              "      <th></th>\n",
              "      <th>sessionId</th>\n",
              "      <th>owoxId</th>\n",
              "      <th>expId</th>\n",
              "      <th>transactionCount</th>\n",
              "      <th>transactionRevenue</th>\n",
              "      <th>payingUser</th>\n",
              "    </tr>\n",
              "  </thead>\n",
              "  <tbody>\n",
              "    <tr>\n",
              "      <th>0</th>\n",
              "      <td>1621728671.1613885756_1614607796320</td>\n",
              "      <td>1131951925_4063926243</td>\n",
              "      <td>enable_widget_display</td>\n",
              "      <td>1</td>\n",
              "      <td>1797.0</td>\n",
              "      <td>1131951925_4063926243</td>\n",
              "    </tr>\n",
              "    <tr>\n",
              "      <th>1</th>\n",
              "      <td>254454916.1614587660_1614588133437</td>\n",
              "      <td>1857974034_2584465228</td>\n",
              "      <td>enable_widget_display</td>\n",
              "      <td>0</td>\n",
              "      <td>NaN</td>\n",
              "      <td>NaN</td>\n",
              "    </tr>\n",
              "    <tr>\n",
              "      <th>2</th>\n",
              "      <td>999147858.1613730260_1614581947725</td>\n",
              "      <td>1872664312_1603374862</td>\n",
              "      <td>enable_widget_display</td>\n",
              "      <td>0</td>\n",
              "      <td>NaN</td>\n",
              "      <td>NaN</td>\n",
              "    </tr>\n",
              "    <tr>\n",
              "      <th>3</th>\n",
              "      <td>465317791.1602582468_1614604393055</td>\n",
              "      <td>1127560903_4128191112</td>\n",
              "      <td>enable_widget_display</td>\n",
              "      <td>0</td>\n",
              "      <td>NaN</td>\n",
              "      <td>NaN</td>\n",
              "    </tr>\n",
              "    <tr>\n",
              "      <th>4</th>\n",
              "      <td>1412883283.1597158346_1614557965684</td>\n",
              "      <td>3262629620_892196448</td>\n",
              "      <td>enable_widget_display</td>\n",
              "      <td>0</td>\n",
              "      <td>NaN</td>\n",
              "      <td>NaN</td>\n",
              "    </tr>\n",
              "  </tbody>\n",
              "</table>\n",
              "</div>"
            ],
            "text/plain": [
              "                             sessionId  ...             payingUser\n",
              "0  1621728671.1613885756_1614607796320  ...  1131951925_4063926243\n",
              "1   254454916.1614587660_1614588133437  ...                    NaN\n",
              "2   999147858.1613730260_1614581947725  ...                    NaN\n",
              "3   465317791.1602582468_1614604393055  ...                    NaN\n",
              "4  1412883283.1597158346_1614557965684  ...                    NaN\n",
              "\n",
              "[5 rows x 6 columns]"
            ]
          },
          "metadata": {
            "tags": []
          },
          "execution_count": 212
        }
      ]
    },
    {
      "cell_type": "code",
      "metadata": {
        "id": "D8xXFBpSll6T"
      },
      "source": [
        "df['average_check'] = df['transactionRevenue']/df['transactionCount']"
      ],
      "execution_count": 213,
      "outputs": []
    },
    {
      "cell_type": "code",
      "metadata": {
        "colab": {
          "base_uri": "https://localhost:8080/",
          "height": 306
        },
        "id": "Zhcj7-LNl4FK",
        "outputId": "4d98deba-b032-4e25-ddf5-c0e7c40433af"
      },
      "source": [
        "groups['average_check'] = df.groupby('expId').agg({'average_check': 'mean'})\n",
        "\n",
        "\n",
        "\n",
        "groups"
      ],
      "execution_count": 214,
      "outputs": [
        {
          "output_type": "stream",
          "text": [
            "/usr/local/lib/python3.7/dist-packages/ipykernel_launcher.py:1: SettingWithCopyWarning: \n",
            "A value is trying to be set on a copy of a slice from a DataFrame.\n",
            "Try using .loc[row_indexer,col_indexer] = value instead\n",
            "\n",
            "See the caveats in the documentation: https://pandas.pydata.org/pandas-docs/stable/user_guide/indexing.html#returning-a-view-versus-a-copy\n",
            "  \"\"\"Entry point for launching an IPython kernel.\n"
          ],
          "name": "stderr"
        },
        {
          "output_type": "execute_result",
          "data": {
            "text/html": [
              "<div>\n",
              "<style scoped>\n",
              "    .dataframe tbody tr th:only-of-type {\n",
              "        vertical-align: middle;\n",
              "    }\n",
              "\n",
              "    .dataframe tbody tr th {\n",
              "        vertical-align: top;\n",
              "    }\n",
              "\n",
              "    .dataframe thead th {\n",
              "        text-align: right;\n",
              "    }\n",
              "</style>\n",
              "<table border=\"1\" class=\"dataframe\">\n",
              "  <thead>\n",
              "    <tr style=\"text-align: right;\">\n",
              "      <th></th>\n",
              "      <th>ARPU</th>\n",
              "      <th>ARPPU</th>\n",
              "      <th>transactions_per_user</th>\n",
              "      <th>paying_share_%</th>\n",
              "      <th>average_check</th>\n",
              "    </tr>\n",
              "    <tr>\n",
              "      <th>expId</th>\n",
              "      <th></th>\n",
              "      <th></th>\n",
              "      <th></th>\n",
              "      <th></th>\n",
              "      <th></th>\n",
              "    </tr>\n",
              "  </thead>\n",
              "  <tbody>\n",
              "    <tr>\n",
              "      <th>disable_recommendations_display</th>\n",
              "      <td>16.217153</td>\n",
              "      <td>2458.186916</td>\n",
              "      <td>1.476636</td>\n",
              "      <td>0.659720</td>\n",
              "      <td>1908.007009</td>\n",
              "    </tr>\n",
              "    <tr>\n",
              "      <th>enable_null_page_display</th>\n",
              "      <td>15.193224</td>\n",
              "      <td>2388.162791</td>\n",
              "      <td>1.186047</td>\n",
              "      <td>0.636189</td>\n",
              "      <td>2302.598837</td>\n",
              "    </tr>\n",
              "    <tr>\n",
              "      <th>enable_widget_and_page_display</th>\n",
              "      <td>17.004057</td>\n",
              "      <td>2410.112500</td>\n",
              "      <td>1.306250</td>\n",
              "      <td>0.705530</td>\n",
              "      <td>2136.210417</td>\n",
              "    </tr>\n",
              "    <tr>\n",
              "      <th>enable_widget_display</th>\n",
              "      <td>13.025368</td>\n",
              "      <td>2207.119403</td>\n",
              "      <td>1.492537</td>\n",
              "      <td>0.590152</td>\n",
              "      <td>1833.193408</td>\n",
              "    </tr>\n",
              "  </tbody>\n",
              "</table>\n",
              "</div>"
            ],
            "text/plain": [
              "                                      ARPU  ...  average_check\n",
              "expId                                       ...               \n",
              "disable_recommendations_display  16.217153  ...    1908.007009\n",
              "enable_null_page_display         15.193224  ...    2302.598837\n",
              "enable_widget_and_page_display   17.004057  ...    2136.210417\n",
              "enable_widget_display            13.025368  ...    1833.193408\n",
              "\n",
              "[4 rows x 5 columns]"
            ]
          },
          "metadata": {
            "tags": []
          },
          "execution_count": 214
        }
      ]
    },
    {
      "cell_type": "markdown",
      "metadata": {
        "id": "La55JMs5p8lQ"
      },
      "source": [
        ""
      ]
    },
    {
      "cell_type": "markdown",
      "metadata": {
        "id": "HSvOZLy-mR4-"
      },
      "source": [
        "Как можно видеть из таблицы выше, действительно, средний чек для группы \"enable_widget_display\" упал.\n",
        "\n",
        "**Итог**: в группе \"enable_widget_display\" все метрики просели, катить версию не стоит. "
      ]
    },
    {
      "cell_type": "markdown",
      "metadata": {
        "id": "LF7GR5_XmeOq"
      },
      "source": [
        "Версия \"enable_null_page_display\" имеет статистически значимое ухудшение доли платящих пользователей. Также просела выручка с одного пользователя и выручка с одного платящего пользователя. Меньше количество транзаций на одного платящего пользователя, но средний чек больше.\n",
        "\n",
        "**Итог**: смысла катить эту версию нет, т.к. мы видим ухудшение по деньгам: даже увеличившийся средний чек не дает выигрыша - покупать стали меньше."
      ]
    },
    {
      "cell_type": "markdown",
      "metadata": {
        "id": "jZVLxYHxp9bX"
      },
      "source": [
        "Наконец, версия \"enable_widget_and_page_display\" в которой наблюдаются положительные изменения:\n",
        "1. доля платящих статистически значимо выросла\n",
        "2. вырос доход с одного пользователя\n",
        "3. вырос средний чек\n",
        "\n",
        "На основе вышеперечисленного растет выручка от пользователей находящихся в этой группе.\n",
        "\n",
        "**Итог**: несмотря на снижение выручки с одного платящего, что обусловлено снижением количества транзакций на одного платящего пользователя, имеет смысл раскатывать эту версию, т.к. увеличилась доля платящих и средний чек. Это хорошая тенденция.\n",
        " "
      ]
    },
    {
      "cell_type": "markdown",
      "metadata": {
        "id": "-UaQUXdKqzZr"
      },
      "source": [
        "#### На прод можно пускать версию для группы \"enable_widget_and_page_display\"\n",
        "\n",
        "Также нужно учесть, что мы закрыли глаза на описанные в самом начале недочеты.\n",
        "По-хорошему, нужно планировать эксперимент и при анализе четко понимать, какое изменение мы будем считать допустимым и значимым для нас.\n",
        "\n",
        "А пока в этой тестовой задаче, приходится делать выводы по факту.\n",
        "\n",
        "Если я не учел какие-то факторы и у руководства есть сомнения, можно оставить небольшой процент пользователей контрольной группы без изменений и понаблюдать за метриками спустя продолжительное время. "
      ]
    },
    {
      "cell_type": "markdown",
      "metadata": {
        "id": "ss9A0gh9rsoo"
      },
      "source": [
        "## Задание 5:\n",
        "\n",
        "На одном из утренних статусов продуктовой команды вы озвучили недавно найденный инсайт о том, что из всех покупателей, которые добавляют товар в корзину, - 95% оставляют её брошенной. Помимо разных отчетов для прояснения этой ситуации было решено посмотреть какое количество товаров обычно остается  в брошенной корзине.\n",
        "\n",
        "Необходимо:\n",
        "1. Отфильтровать столбец `productSKU` чтобы значения имели вид типа `GHS005876-1` \n",
        "2. Написать SQL запрос, который подсчитает какое количество товаров в среднем остается в брошенной корзине.\n",
        "\n",
        "Ремарка: если в процессе подсчетов будут только удаления из корзины и соответственно сумма будет отрицательной - можно эти значения привести к 0. Это особенность жизненного цикла корзины и в рамках выполнения тестового задания мы можем этим пренебречь.\n",
        "\n",
        "Описание полей:\n",
        "1. owoxId -- Id пользователя\n",
        "2. sessionId -- Id сессии\n",
        "3. time -- timestamp\n",
        "4. date -- дата\n",
        "5. productQuantity -- количество товаров\n",
        "6. productSKU -- sku товара\n",
        "7. action_type -- тип действия с товаром (add - добавление в корзину, remove - удаление из корзины, purchase - покупка)\n"
      ]
    },
    {
      "cell_type": "markdown",
      "metadata": {
        "id": "7v7nlUZpsbVW"
      },
      "source": [
        "Скопируем файл `cart_dataset.csv` с гугл диска в локальную папку проекта:"
      ]
    },
    {
      "cell_type": "markdown",
      "metadata": {
        "id": "vHH6GlHosbVX"
      },
      "source": [
        "https://drive.google.com/file/d/1YFrJ2-ptfYHq0isrmZhL4PagUVnhtSZt/view?usp=sharing"
      ]
    },
    {
      "cell_type": "markdown",
      "metadata": {
        "id": "jq_QHAkDMU3m"
      },
      "source": [
        ""
      ]
    },
    {
      "cell_type": "code",
      "metadata": {
        "colab": {
          "base_uri": "https://localhost:8080/"
        },
        "id": "cl1oWqPksbVX",
        "outputId": "63ff6511-f6a0-4668-d0ab-68e4b1359aea"
      },
      "source": [
        "file_id = \"1YFrJ2-ptfYHq0isrmZhL4PagUVnhtSZt\"\n",
        "!gdown https://drive.google.com/uc?id={file_id}"
      ],
      "execution_count": 6,
      "outputs": [
        {
          "output_type": "stream",
          "text": [
            "Downloading...\n",
            "From: https://drive.google.com/uc?id=1YFrJ2-ptfYHq0isrmZhL4PagUVnhtSZt\n",
            "To: /content/cart_dataset.csv\n",
            "\r0.00B [00:00, ?B/s]\r6.74MB [00:00, 106MB/s]\n"
          ],
          "name": "stdout"
        }
      ]
    },
    {
      "cell_type": "code",
      "metadata": {
        "colab": {
          "base_uri": "https://localhost:8080/",
          "height": 419
        },
        "id": "SLlozL_GsbVY",
        "outputId": "d93d2981-7ada-4925-d117-00a0b89b9978"
      },
      "source": [
        "df = pd.read_csv('/content/cart_dataset.csv',delimiter=',')\n",
        "df"
      ],
      "execution_count": 7,
      "outputs": [
        {
          "output_type": "execute_result",
          "data": {
            "text/html": [
              "<div>\n",
              "<style scoped>\n",
              "    .dataframe tbody tr th:only-of-type {\n",
              "        vertical-align: middle;\n",
              "    }\n",
              "\n",
              "    .dataframe tbody tr th {\n",
              "        vertical-align: top;\n",
              "    }\n",
              "\n",
              "    .dataframe thead th {\n",
              "        text-align: right;\n",
              "    }\n",
              "</style>\n",
              "<table border=\"1\" class=\"dataframe\">\n",
              "  <thead>\n",
              "    <tr style=\"text-align: right;\">\n",
              "      <th></th>\n",
              "      <th>owoxId</th>\n",
              "      <th>sessionId</th>\n",
              "      <th>time</th>\n",
              "      <th>date</th>\n",
              "      <th>productQuantity</th>\n",
              "      <th>productSKU</th>\n",
              "      <th>action_type</th>\n",
              "    </tr>\n",
              "  </thead>\n",
              "  <tbody>\n",
              "    <tr>\n",
              "      <th>0</th>\n",
              "      <td>2969641759_3457101921</td>\n",
              "      <td>2069530322.1618814254_1618952451856</td>\n",
              "      <td>1618952401510</td>\n",
              "      <td>2021-04-21</td>\n",
              "      <td>1.0</td>\n",
              "      <td>BKT007200-1</td>\n",
              "      <td>add</td>\n",
              "    </tr>\n",
              "    <tr>\n",
              "      <th>1</th>\n",
              "      <td>2969641759_3457101921</td>\n",
              "      <td>2069530322.1618814254_1618952451856</td>\n",
              "      <td>1618952401777</td>\n",
              "      <td>2021-04-21</td>\n",
              "      <td>1.0</td>\n",
              "      <td>4680085457249</td>\n",
              "      <td>add</td>\n",
              "    </tr>\n",
              "    <tr>\n",
              "      <th>2</th>\n",
              "      <td>2111582153_1891340223</td>\n",
              "      <td>1969826540.1618782157_1618954812345</td>\n",
              "      <td>1618952405157</td>\n",
              "      <td>2021-04-21</td>\n",
              "      <td>1.0</td>\n",
              "      <td>4680085505476</td>\n",
              "      <td>add</td>\n",
              "    </tr>\n",
              "    <tr>\n",
              "      <th>3</th>\n",
              "      <td>259231359_2423647656</td>\n",
              "      <td>960880892.1618901029_1618953629386</td>\n",
              "      <td>1618952405832</td>\n",
              "      <td>2021-04-21</td>\n",
              "      <td>1.0</td>\n",
              "      <td>GKT013322-1</td>\n",
              "      <td>add</td>\n",
              "    </tr>\n",
              "    <tr>\n",
              "      <th>4</th>\n",
              "      <td>259231359_2423647656</td>\n",
              "      <td>960880892.1618901029_1618953629386</td>\n",
              "      <td>1618952406368</td>\n",
              "      <td>2021-04-21</td>\n",
              "      <td>1.0</td>\n",
              "      <td>4680085842373</td>\n",
              "      <td>add</td>\n",
              "    </tr>\n",
              "    <tr>\n",
              "      <th>...</th>\n",
              "      <td>...</td>\n",
              "      <td>...</td>\n",
              "      <td>...</td>\n",
              "      <td>...</td>\n",
              "      <td>...</td>\n",
              "      <td>...</td>\n",
              "      <td>...</td>\n",
              "    </tr>\n",
              "    <tr>\n",
              "      <th>66206</th>\n",
              "      <td>3653188672_1070295443</td>\n",
              "      <td>1589623455.1619036819_1619037642089</td>\n",
              "      <td>1619174722782</td>\n",
              "      <td>2021-04-21</td>\n",
              "      <td>1.0</td>\n",
              "      <td>GAS009350-1</td>\n",
              "      <td>purchase</td>\n",
              "    </tr>\n",
              "    <tr>\n",
              "      <th>66207</th>\n",
              "      <td>249201606_1780490823</td>\n",
              "      <td>552900607.1617521465_1619029879114</td>\n",
              "      <td>1619176339245</td>\n",
              "      <td>2021-04-21</td>\n",
              "      <td>1.0</td>\n",
              "      <td>BAC009098-1</td>\n",
              "      <td>purchase</td>\n",
              "    </tr>\n",
              "    <tr>\n",
              "      <th>66208</th>\n",
              "      <td>249201606_1780490823</td>\n",
              "      <td>552900607.1617521465_1619029879114</td>\n",
              "      <td>1619176339245</td>\n",
              "      <td>2021-04-21</td>\n",
              "      <td>1.0</td>\n",
              "      <td>BAC009098-1</td>\n",
              "      <td>purchase</td>\n",
              "    </tr>\n",
              "    <tr>\n",
              "      <th>66209</th>\n",
              "      <td>249201606_1780490823</td>\n",
              "      <td>552900607.1617521465_1619029879114</td>\n",
              "      <td>1619176339245</td>\n",
              "      <td>2021-04-21</td>\n",
              "      <td>1.0</td>\n",
              "      <td>BPT002576-1</td>\n",
              "      <td>purchase</td>\n",
              "    </tr>\n",
              "    <tr>\n",
              "      <th>66210</th>\n",
              "      <td>249201606_1780490823</td>\n",
              "      <td>552900607.1617521465_1619029879114</td>\n",
              "      <td>1619176339245</td>\n",
              "      <td>2021-04-21</td>\n",
              "      <td>1.0</td>\n",
              "      <td>BAC008772-1</td>\n",
              "      <td>purchase</td>\n",
              "    </tr>\n",
              "  </tbody>\n",
              "</table>\n",
              "<p>66211 rows × 7 columns</p>\n",
              "</div>"
            ],
            "text/plain": [
              "                      owoxId  ... action_type\n",
              "0      2969641759_3457101921  ...         add\n",
              "1      2969641759_3457101921  ...         add\n",
              "2      2111582153_1891340223  ...         add\n",
              "3       259231359_2423647656  ...         add\n",
              "4       259231359_2423647656  ...         add\n",
              "...                      ...  ...         ...\n",
              "66206  3653188672_1070295443  ...    purchase\n",
              "66207   249201606_1780490823  ...    purchase\n",
              "66208   249201606_1780490823  ...    purchase\n",
              "66209   249201606_1780490823  ...    purchase\n",
              "66210   249201606_1780490823  ...    purchase\n",
              "\n",
              "[66211 rows x 7 columns]"
            ]
          },
          "metadata": {
            "tags": []
          },
          "execution_count": 7
        }
      ]
    },
    {
      "cell_type": "markdown",
      "metadata": {
        "id": "sfPKiv7atddh"
      },
      "source": [
        "### Задача 5.1 \n",
        "\n",
        "> Отфильтровать столбец productSKU чтобы значения имели вид типа GHS005876-1\n",
        "\n"
      ]
    },
    {
      "cell_type": "markdown",
      "metadata": {
        "id": "jQAUyiczwYC5"
      },
      "source": [
        "Фильтровать буду по regexp. Воспользуюсь сервисом и создам под необходимые условия: https://regex101.com/r/FhsP2N/1\n",
        "\n",
        "Отфильтруем с помощью полученного регулярного выражения все товары:"
      ]
    },
    {
      "cell_type": "code",
      "metadata": {
        "colab": {
          "base_uri": "https://localhost:8080/",
          "height": 204
        },
        "id": "rwDSb0s9taVd",
        "outputId": "2568760d-6d46-4e8e-9636-729d5d507a08"
      },
      "source": [
        "df = df[df['productSKU'].str.match('[A-Z]{3}[0-9]{6}-[0-9]{1}')]\n",
        "df.head(5)"
      ],
      "execution_count": 8,
      "outputs": [
        {
          "output_type": "execute_result",
          "data": {
            "text/html": [
              "<div>\n",
              "<style scoped>\n",
              "    .dataframe tbody tr th:only-of-type {\n",
              "        vertical-align: middle;\n",
              "    }\n",
              "\n",
              "    .dataframe tbody tr th {\n",
              "        vertical-align: top;\n",
              "    }\n",
              "\n",
              "    .dataframe thead th {\n",
              "        text-align: right;\n",
              "    }\n",
              "</style>\n",
              "<table border=\"1\" class=\"dataframe\">\n",
              "  <thead>\n",
              "    <tr style=\"text-align: right;\">\n",
              "      <th></th>\n",
              "      <th>owoxId</th>\n",
              "      <th>sessionId</th>\n",
              "      <th>time</th>\n",
              "      <th>date</th>\n",
              "      <th>productQuantity</th>\n",
              "      <th>productSKU</th>\n",
              "      <th>action_type</th>\n",
              "    </tr>\n",
              "  </thead>\n",
              "  <tbody>\n",
              "    <tr>\n",
              "      <th>0</th>\n",
              "      <td>2969641759_3457101921</td>\n",
              "      <td>2069530322.1618814254_1618952451856</td>\n",
              "      <td>1618952401510</td>\n",
              "      <td>2021-04-21</td>\n",
              "      <td>1.0</td>\n",
              "      <td>BKT007200-1</td>\n",
              "      <td>add</td>\n",
              "    </tr>\n",
              "    <tr>\n",
              "      <th>3</th>\n",
              "      <td>259231359_2423647656</td>\n",
              "      <td>960880892.1618901029_1618953629386</td>\n",
              "      <td>1618952405832</td>\n",
              "      <td>2021-04-21</td>\n",
              "      <td>1.0</td>\n",
              "      <td>GKT013322-1</td>\n",
              "      <td>add</td>\n",
              "    </tr>\n",
              "    <tr>\n",
              "      <th>7</th>\n",
              "      <td>981497265_818607250</td>\n",
              "      <td>967803973.1617960108_1618952657628</td>\n",
              "      <td>1618952413434</td>\n",
              "      <td>2021-04-21</td>\n",
              "      <td>1.0</td>\n",
              "      <td>BKT007398-1</td>\n",
              "      <td>add</td>\n",
              "    </tr>\n",
              "    <tr>\n",
              "      <th>9</th>\n",
              "      <td>3176790678_1950681636</td>\n",
              "      <td>135461810.1618926331_1618952529716</td>\n",
              "      <td>1618952420792</td>\n",
              "      <td>2021-04-21</td>\n",
              "      <td>1.0</td>\n",
              "      <td>BCV000330-1</td>\n",
              "      <td>add</td>\n",
              "    </tr>\n",
              "    <tr>\n",
              "      <th>12</th>\n",
              "      <td>567659707_1802547312</td>\n",
              "      <td>1391859193.1616305302_1618952950601</td>\n",
              "      <td>1618952422889</td>\n",
              "      <td>2021-04-21</td>\n",
              "      <td>1.0</td>\n",
              "      <td>GJN016797-1</td>\n",
              "      <td>add</td>\n",
              "    </tr>\n",
              "  </tbody>\n",
              "</table>\n",
              "</div>"
            ],
            "text/plain": [
              "                   owoxId  ... action_type\n",
              "0   2969641759_3457101921  ...         add\n",
              "3    259231359_2423647656  ...         add\n",
              "7     981497265_818607250  ...         add\n",
              "9   3176790678_1950681636  ...         add\n",
              "12   567659707_1802547312  ...         add\n",
              "\n",
              "[5 rows x 7 columns]"
            ]
          },
          "metadata": {
            "tags": []
          },
          "execution_count": 8
        }
      ]
    },
    {
      "cell_type": "markdown",
      "metadata": {
        "id": "aYoVuH9oud45"
      },
      "source": [
        "Отфильтрованный датасет положим в таблицу:"
      ]
    },
    {
      "cell_type": "code",
      "metadata": {
        "id": "yJKaD0n4udWN"
      },
      "source": [
        "df.to_sql('cart',con,index=False,if_exists='replace')"
      ],
      "execution_count": 9,
      "outputs": []
    },
    {
      "cell_type": "code",
      "metadata": {
        "id": "pCvBI4H5ukEv"
      },
      "source": [
        "sql = '''select t.* from cart t limit 5'''"
      ],
      "execution_count": 10,
      "outputs": []
    },
    {
      "cell_type": "code",
      "metadata": {
        "colab": {
          "base_uri": "https://localhost:8080/",
          "height": 204
        },
        "id": "Ok9dgTFfunvP",
        "outputId": "f6b36538-ca14-44f3-9826-0736b17dec0c"
      },
      "source": [
        "select(sql)"
      ],
      "execution_count": 11,
      "outputs": [
        {
          "output_type": "execute_result",
          "data": {
            "text/html": [
              "<div>\n",
              "<style scoped>\n",
              "    .dataframe tbody tr th:only-of-type {\n",
              "        vertical-align: middle;\n",
              "    }\n",
              "\n",
              "    .dataframe tbody tr th {\n",
              "        vertical-align: top;\n",
              "    }\n",
              "\n",
              "    .dataframe thead th {\n",
              "        text-align: right;\n",
              "    }\n",
              "</style>\n",
              "<table border=\"1\" class=\"dataframe\">\n",
              "  <thead>\n",
              "    <tr style=\"text-align: right;\">\n",
              "      <th></th>\n",
              "      <th>owoxId</th>\n",
              "      <th>sessionId</th>\n",
              "      <th>time</th>\n",
              "      <th>date</th>\n",
              "      <th>productQuantity</th>\n",
              "      <th>productSKU</th>\n",
              "      <th>action_type</th>\n",
              "    </tr>\n",
              "  </thead>\n",
              "  <tbody>\n",
              "    <tr>\n",
              "      <th>0</th>\n",
              "      <td>2969641759_3457101921</td>\n",
              "      <td>2069530322.1618814254_1618952451856</td>\n",
              "      <td>1618952401510</td>\n",
              "      <td>2021-04-21</td>\n",
              "      <td>1.0</td>\n",
              "      <td>BKT007200-1</td>\n",
              "      <td>add</td>\n",
              "    </tr>\n",
              "    <tr>\n",
              "      <th>1</th>\n",
              "      <td>259231359_2423647656</td>\n",
              "      <td>960880892.1618901029_1618953629386</td>\n",
              "      <td>1618952405832</td>\n",
              "      <td>2021-04-21</td>\n",
              "      <td>1.0</td>\n",
              "      <td>GKT013322-1</td>\n",
              "      <td>add</td>\n",
              "    </tr>\n",
              "    <tr>\n",
              "      <th>2</th>\n",
              "      <td>981497265_818607250</td>\n",
              "      <td>967803973.1617960108_1618952657628</td>\n",
              "      <td>1618952413434</td>\n",
              "      <td>2021-04-21</td>\n",
              "      <td>1.0</td>\n",
              "      <td>BKT007398-1</td>\n",
              "      <td>add</td>\n",
              "    </tr>\n",
              "    <tr>\n",
              "      <th>3</th>\n",
              "      <td>3176790678_1950681636</td>\n",
              "      <td>135461810.1618926331_1618952529716</td>\n",
              "      <td>1618952420792</td>\n",
              "      <td>2021-04-21</td>\n",
              "      <td>1.0</td>\n",
              "      <td>BCV000330-1</td>\n",
              "      <td>add</td>\n",
              "    </tr>\n",
              "    <tr>\n",
              "      <th>4</th>\n",
              "      <td>567659707_1802547312</td>\n",
              "      <td>1391859193.1616305302_1618952950601</td>\n",
              "      <td>1618952422889</td>\n",
              "      <td>2021-04-21</td>\n",
              "      <td>1.0</td>\n",
              "      <td>GJN016797-1</td>\n",
              "      <td>add</td>\n",
              "    </tr>\n",
              "  </tbody>\n",
              "</table>\n",
              "</div>"
            ],
            "text/plain": [
              "                  owoxId  ... action_type\n",
              "0  2969641759_3457101921  ...         add\n",
              "1   259231359_2423647656  ...         add\n",
              "2    981497265_818607250  ...         add\n",
              "3  3176790678_1950681636  ...         add\n",
              "4   567659707_1802547312  ...         add\n",
              "\n",
              "[5 rows x 7 columns]"
            ]
          },
          "metadata": {
            "tags": []
          },
          "execution_count": 11
        }
      ]
    },
    {
      "cell_type": "markdown",
      "metadata": {
        "id": "QZ-Fh6flu1Ks"
      },
      "source": [
        "### Задача 5.2\n",
        "\n",
        "> Написать SQL запрос, который подсчитает какое количество товаров в среднем остается в брошенной корзине."
      ]
    },
    {
      "cell_type": "markdown",
      "metadata": {
        "id": "ONhPpqaeuUok"
      },
      "source": [
        "Для начала надо определить, как определять брошенную корзину. Логичным определением будет такая корзина, которая будет иметь N > 0 товаров которые не купили на момент окончания сессии"
      ]
    },
    {
      "cell_type": "code",
      "metadata": {
        "colab": {
          "base_uri": "https://localhost:8080/",
          "height": 204
        },
        "id": "Fs39yLlg3MBY",
        "outputId": "620a6569-43d6-42e5-9d11-6138093856a9"
      },
      "source": [
        "sql = '''select t.* from cart t limit 5'''\n",
        "select(sql)"
      ],
      "execution_count": 12,
      "outputs": [
        {
          "output_type": "execute_result",
          "data": {
            "text/html": [
              "<div>\n",
              "<style scoped>\n",
              "    .dataframe tbody tr th:only-of-type {\n",
              "        vertical-align: middle;\n",
              "    }\n",
              "\n",
              "    .dataframe tbody tr th {\n",
              "        vertical-align: top;\n",
              "    }\n",
              "\n",
              "    .dataframe thead th {\n",
              "        text-align: right;\n",
              "    }\n",
              "</style>\n",
              "<table border=\"1\" class=\"dataframe\">\n",
              "  <thead>\n",
              "    <tr style=\"text-align: right;\">\n",
              "      <th></th>\n",
              "      <th>owoxId</th>\n",
              "      <th>sessionId</th>\n",
              "      <th>time</th>\n",
              "      <th>date</th>\n",
              "      <th>productQuantity</th>\n",
              "      <th>productSKU</th>\n",
              "      <th>action_type</th>\n",
              "    </tr>\n",
              "  </thead>\n",
              "  <tbody>\n",
              "    <tr>\n",
              "      <th>0</th>\n",
              "      <td>2969641759_3457101921</td>\n",
              "      <td>2069530322.1618814254_1618952451856</td>\n",
              "      <td>1618952401510</td>\n",
              "      <td>2021-04-21</td>\n",
              "      <td>1.0</td>\n",
              "      <td>BKT007200-1</td>\n",
              "      <td>add</td>\n",
              "    </tr>\n",
              "    <tr>\n",
              "      <th>1</th>\n",
              "      <td>259231359_2423647656</td>\n",
              "      <td>960880892.1618901029_1618953629386</td>\n",
              "      <td>1618952405832</td>\n",
              "      <td>2021-04-21</td>\n",
              "      <td>1.0</td>\n",
              "      <td>GKT013322-1</td>\n",
              "      <td>add</td>\n",
              "    </tr>\n",
              "    <tr>\n",
              "      <th>2</th>\n",
              "      <td>981497265_818607250</td>\n",
              "      <td>967803973.1617960108_1618952657628</td>\n",
              "      <td>1618952413434</td>\n",
              "      <td>2021-04-21</td>\n",
              "      <td>1.0</td>\n",
              "      <td>BKT007398-1</td>\n",
              "      <td>add</td>\n",
              "    </tr>\n",
              "    <tr>\n",
              "      <th>3</th>\n",
              "      <td>3176790678_1950681636</td>\n",
              "      <td>135461810.1618926331_1618952529716</td>\n",
              "      <td>1618952420792</td>\n",
              "      <td>2021-04-21</td>\n",
              "      <td>1.0</td>\n",
              "      <td>BCV000330-1</td>\n",
              "      <td>add</td>\n",
              "    </tr>\n",
              "    <tr>\n",
              "      <th>4</th>\n",
              "      <td>567659707_1802547312</td>\n",
              "      <td>1391859193.1616305302_1618952950601</td>\n",
              "      <td>1618952422889</td>\n",
              "      <td>2021-04-21</td>\n",
              "      <td>1.0</td>\n",
              "      <td>GJN016797-1</td>\n",
              "      <td>add</td>\n",
              "    </tr>\n",
              "  </tbody>\n",
              "</table>\n",
              "</div>"
            ],
            "text/plain": [
              "                  owoxId  ... action_type\n",
              "0  2969641759_3457101921  ...         add\n",
              "1   259231359_2423647656  ...         add\n",
              "2    981497265_818607250  ...         add\n",
              "3  3176790678_1950681636  ...         add\n",
              "4   567659707_1802547312  ...         add\n",
              "\n",
              "[5 rows x 7 columns]"
            ]
          },
          "metadata": {
            "tags": []
          },
          "execution_count": 12
        }
      ]
    },
    {
      "cell_type": "markdown",
      "metadata": {
        "id": "MncI6D-rGqw9"
      },
      "source": [
        "Посмотрим какие есть события:"
      ]
    },
    {
      "cell_type": "code",
      "metadata": {
        "id": "zAk_BlALGfCH"
      },
      "source": [
        "sql = '''select t.action_type\n",
        "from cart t\n",
        "group by 1'''"
      ],
      "execution_count": 13,
      "outputs": []
    },
    {
      "cell_type": "code",
      "metadata": {
        "colab": {
          "base_uri": "https://localhost:8080/",
          "height": 142
        },
        "id": "6JuzYye9Gm4b",
        "outputId": "332eba5e-996e-44e8-9acd-ab18819ca0ca"
      },
      "source": [
        "select(sql)"
      ],
      "execution_count": 14,
      "outputs": [
        {
          "output_type": "execute_result",
          "data": {
            "text/html": [
              "<div>\n",
              "<style scoped>\n",
              "    .dataframe tbody tr th:only-of-type {\n",
              "        vertical-align: middle;\n",
              "    }\n",
              "\n",
              "    .dataframe tbody tr th {\n",
              "        vertical-align: top;\n",
              "    }\n",
              "\n",
              "    .dataframe thead th {\n",
              "        text-align: right;\n",
              "    }\n",
              "</style>\n",
              "<table border=\"1\" class=\"dataframe\">\n",
              "  <thead>\n",
              "    <tr style=\"text-align: right;\">\n",
              "      <th></th>\n",
              "      <th>action_type</th>\n",
              "    </tr>\n",
              "  </thead>\n",
              "  <tbody>\n",
              "    <tr>\n",
              "      <th>0</th>\n",
              "      <td>add</td>\n",
              "    </tr>\n",
              "    <tr>\n",
              "      <th>1</th>\n",
              "      <td>purchase</td>\n",
              "    </tr>\n",
              "    <tr>\n",
              "      <th>2</th>\n",
              "      <td>remove</td>\n",
              "    </tr>\n",
              "  </tbody>\n",
              "</table>\n",
              "</div>"
            ],
            "text/plain": [
              "  action_type\n",
              "0         add\n",
              "1    purchase\n",
              "2      remove"
            ]
          },
          "metadata": {
            "tags": []
          },
          "execution_count": 14
        }
      ]
    },
    {
      "cell_type": "markdown",
      "metadata": {
        "id": "ss1cdxspBpfJ"
      },
      "source": [
        "Домножим на -1 количество товара, где пользователь удаляет товар из корзины или покупает"
      ]
    },
    {
      "cell_type": "code",
      "metadata": {
        "id": "xwGEJnW63sO0"
      },
      "source": [
        "sql = '''\n",
        "select \n",
        "t.*,\n",
        "case when t.action_type in ('remove','purchase') then t.productQuantity * -1 else t.productQuantity end as quantity_corrected\n",
        "from cart t'''"
      ],
      "execution_count": 15,
      "outputs": []
    },
    {
      "cell_type": "code",
      "metadata": {
        "colab": {
          "base_uri": "https://localhost:8080/",
          "height": 419
        },
        "id": "Hn1tPjP-4Ggi",
        "outputId": "ad3e87fb-3518-4b76-a777-a267598e3946"
      },
      "source": [
        "select(sql)"
      ],
      "execution_count": 16,
      "outputs": [
        {
          "output_type": "execute_result",
          "data": {
            "text/html": [
              "<div>\n",
              "<style scoped>\n",
              "    .dataframe tbody tr th:only-of-type {\n",
              "        vertical-align: middle;\n",
              "    }\n",
              "\n",
              "    .dataframe tbody tr th {\n",
              "        vertical-align: top;\n",
              "    }\n",
              "\n",
              "    .dataframe thead th {\n",
              "        text-align: right;\n",
              "    }\n",
              "</style>\n",
              "<table border=\"1\" class=\"dataframe\">\n",
              "  <thead>\n",
              "    <tr style=\"text-align: right;\">\n",
              "      <th></th>\n",
              "      <th>owoxId</th>\n",
              "      <th>sessionId</th>\n",
              "      <th>time</th>\n",
              "      <th>date</th>\n",
              "      <th>productQuantity</th>\n",
              "      <th>productSKU</th>\n",
              "      <th>action_type</th>\n",
              "      <th>quantity_corrected</th>\n",
              "    </tr>\n",
              "  </thead>\n",
              "  <tbody>\n",
              "    <tr>\n",
              "      <th>0</th>\n",
              "      <td>2969641759_3457101921</td>\n",
              "      <td>2069530322.1618814254_1618952451856</td>\n",
              "      <td>1618952401510</td>\n",
              "      <td>2021-04-21</td>\n",
              "      <td>1.0</td>\n",
              "      <td>BKT007200-1</td>\n",
              "      <td>add</td>\n",
              "      <td>1.0</td>\n",
              "    </tr>\n",
              "    <tr>\n",
              "      <th>1</th>\n",
              "      <td>259231359_2423647656</td>\n",
              "      <td>960880892.1618901029_1618953629386</td>\n",
              "      <td>1618952405832</td>\n",
              "      <td>2021-04-21</td>\n",
              "      <td>1.0</td>\n",
              "      <td>GKT013322-1</td>\n",
              "      <td>add</td>\n",
              "      <td>1.0</td>\n",
              "    </tr>\n",
              "    <tr>\n",
              "      <th>2</th>\n",
              "      <td>981497265_818607250</td>\n",
              "      <td>967803973.1617960108_1618952657628</td>\n",
              "      <td>1618952413434</td>\n",
              "      <td>2021-04-21</td>\n",
              "      <td>1.0</td>\n",
              "      <td>BKT007398-1</td>\n",
              "      <td>add</td>\n",
              "      <td>1.0</td>\n",
              "    </tr>\n",
              "    <tr>\n",
              "      <th>3</th>\n",
              "      <td>3176790678_1950681636</td>\n",
              "      <td>135461810.1618926331_1618952529716</td>\n",
              "      <td>1618952420792</td>\n",
              "      <td>2021-04-21</td>\n",
              "      <td>1.0</td>\n",
              "      <td>BCV000330-1</td>\n",
              "      <td>add</td>\n",
              "      <td>1.0</td>\n",
              "    </tr>\n",
              "    <tr>\n",
              "      <th>4</th>\n",
              "      <td>567659707_1802547312</td>\n",
              "      <td>1391859193.1616305302_1618952950601</td>\n",
              "      <td>1618952422889</td>\n",
              "      <td>2021-04-21</td>\n",
              "      <td>1.0</td>\n",
              "      <td>GJN016797-1</td>\n",
              "      <td>add</td>\n",
              "      <td>1.0</td>\n",
              "    </tr>\n",
              "    <tr>\n",
              "      <th>...</th>\n",
              "      <td>...</td>\n",
              "      <td>...</td>\n",
              "      <td>...</td>\n",
              "      <td>...</td>\n",
              "      <td>...</td>\n",
              "      <td>...</td>\n",
              "      <td>...</td>\n",
              "      <td>...</td>\n",
              "    </tr>\n",
              "    <tr>\n",
              "      <th>34665</th>\n",
              "      <td>3653188672_1070295443</td>\n",
              "      <td>1589623455.1619036819_1619037642089</td>\n",
              "      <td>1619174722782</td>\n",
              "      <td>2021-04-21</td>\n",
              "      <td>1.0</td>\n",
              "      <td>GAS009350-1</td>\n",
              "      <td>purchase</td>\n",
              "      <td>-1.0</td>\n",
              "    </tr>\n",
              "    <tr>\n",
              "      <th>34666</th>\n",
              "      <td>249201606_1780490823</td>\n",
              "      <td>552900607.1617521465_1619029879114</td>\n",
              "      <td>1619176339245</td>\n",
              "      <td>2021-04-21</td>\n",
              "      <td>1.0</td>\n",
              "      <td>BAC009098-1</td>\n",
              "      <td>purchase</td>\n",
              "      <td>-1.0</td>\n",
              "    </tr>\n",
              "    <tr>\n",
              "      <th>34667</th>\n",
              "      <td>249201606_1780490823</td>\n",
              "      <td>552900607.1617521465_1619029879114</td>\n",
              "      <td>1619176339245</td>\n",
              "      <td>2021-04-21</td>\n",
              "      <td>1.0</td>\n",
              "      <td>BAC009098-1</td>\n",
              "      <td>purchase</td>\n",
              "      <td>-1.0</td>\n",
              "    </tr>\n",
              "    <tr>\n",
              "      <th>34668</th>\n",
              "      <td>249201606_1780490823</td>\n",
              "      <td>552900607.1617521465_1619029879114</td>\n",
              "      <td>1619176339245</td>\n",
              "      <td>2021-04-21</td>\n",
              "      <td>1.0</td>\n",
              "      <td>BPT002576-1</td>\n",
              "      <td>purchase</td>\n",
              "      <td>-1.0</td>\n",
              "    </tr>\n",
              "    <tr>\n",
              "      <th>34669</th>\n",
              "      <td>249201606_1780490823</td>\n",
              "      <td>552900607.1617521465_1619029879114</td>\n",
              "      <td>1619176339245</td>\n",
              "      <td>2021-04-21</td>\n",
              "      <td>1.0</td>\n",
              "      <td>BAC008772-1</td>\n",
              "      <td>purchase</td>\n",
              "      <td>-1.0</td>\n",
              "    </tr>\n",
              "  </tbody>\n",
              "</table>\n",
              "<p>34670 rows × 8 columns</p>\n",
              "</div>"
            ],
            "text/plain": [
              "                      owoxId  ... quantity_corrected\n",
              "0      2969641759_3457101921  ...                1.0\n",
              "1       259231359_2423647656  ...                1.0\n",
              "2        981497265_818607250  ...                1.0\n",
              "3      3176790678_1950681636  ...                1.0\n",
              "4       567659707_1802547312  ...                1.0\n",
              "...                      ...  ...                ...\n",
              "34665  3653188672_1070295443  ...               -1.0\n",
              "34666   249201606_1780490823  ...               -1.0\n",
              "34667   249201606_1780490823  ...               -1.0\n",
              "34668   249201606_1780490823  ...               -1.0\n",
              "34669   249201606_1780490823  ...               -1.0\n",
              "\n",
              "[34670 rows x 8 columns]"
            ]
          },
          "metadata": {
            "tags": []
          },
          "execution_count": 16
        }
      ]
    },
    {
      "cell_type": "markdown",
      "metadata": {
        "id": "cidCJG3MBgQB"
      },
      "source": [
        "#### Расчет остатка товаров в корзине на конец сессии\n",
        "Посчитаем сколько товаров остается у пользователя в корзине на момент окончания сессии пользователя"
      ]
    },
    {
      "cell_type": "code",
      "metadata": {
        "id": "99fMbiuxBHPB"
      },
      "source": [
        "sql = '''\n",
        "with \n",
        "products_amount_corrected as (\n",
        "  select t.*,\n",
        "  case when t.action_type in ('remove','purchase') then t.productQuantity * -1 else t.productQuantity end as quantity_corrected\n",
        "  from cart t\n",
        ")\n",
        "\n",
        "select t.owoxId, t.sessionId, max(t.date) as last_date, max(t.time) as last_timestamp, sum(t.quantity_corrected) as product_total_count\n",
        "from products_amount_corrected t\n",
        "group by t.owoxId, t.sessionId\n",
        "'''"
      ],
      "execution_count": 17,
      "outputs": []
    },
    {
      "cell_type": "code",
      "metadata": {
        "colab": {
          "base_uri": "https://localhost:8080/",
          "height": 419
        },
        "id": "Uv8bkLxHBSPN",
        "outputId": "02d592b7-414d-4ebc-bb3a-26df9a7fe8ce"
      },
      "source": [
        "select(sql)"
      ],
      "execution_count": 18,
      "outputs": [
        {
          "output_type": "execute_result",
          "data": {
            "text/html": [
              "<div>\n",
              "<style scoped>\n",
              "    .dataframe tbody tr th:only-of-type {\n",
              "        vertical-align: middle;\n",
              "    }\n",
              "\n",
              "    .dataframe tbody tr th {\n",
              "        vertical-align: top;\n",
              "    }\n",
              "\n",
              "    .dataframe thead th {\n",
              "        text-align: right;\n",
              "    }\n",
              "</style>\n",
              "<table border=\"1\" class=\"dataframe\">\n",
              "  <thead>\n",
              "    <tr style=\"text-align: right;\">\n",
              "      <th></th>\n",
              "      <th>owoxId</th>\n",
              "      <th>sessionId</th>\n",
              "      <th>last_date</th>\n",
              "      <th>last_timestamp</th>\n",
              "      <th>product_total_count</th>\n",
              "    </tr>\n",
              "  </thead>\n",
              "  <tbody>\n",
              "    <tr>\n",
              "      <th>0</th>\n",
              "      <td>1000555049_3177394810</td>\n",
              "      <td>140743286.1618560364_1619023505412</td>\n",
              "      <td>2021-04-21</td>\n",
              "      <td>1619023472961</td>\n",
              "      <td>2.0</td>\n",
              "    </tr>\n",
              "    <tr>\n",
              "      <th>1</th>\n",
              "      <td>1000621507_485626986</td>\n",
              "      <td>1525207836.1618384813_1619006963441</td>\n",
              "      <td>2021-04-21</td>\n",
              "      <td>1619006872732</td>\n",
              "      <td>1.0</td>\n",
              "    </tr>\n",
              "    <tr>\n",
              "      <th>2</th>\n",
              "      <td>1001018989_3750522448</td>\n",
              "      <td>826531699.1618952439_1618953139213</td>\n",
              "      <td>2021-04-21</td>\n",
              "      <td>1618953066965</td>\n",
              "      <td>7.0</td>\n",
              "    </tr>\n",
              "    <tr>\n",
              "      <th>3</th>\n",
              "      <td>1001290140_2394405033</td>\n",
              "      <td>1275325123.1619026585_1619029463202</td>\n",
              "      <td>2021-04-21</td>\n",
              "      <td>1619029452461</td>\n",
              "      <td>2.0</td>\n",
              "    </tr>\n",
              "    <tr>\n",
              "      <th>4</th>\n",
              "      <td>1001643634_2074609849</td>\n",
              "      <td>570834026.1618882626_1618981547773</td>\n",
              "      <td>2021-04-21</td>\n",
              "      <td>1618981244273</td>\n",
              "      <td>1.0</td>\n",
              "    </tr>\n",
              "    <tr>\n",
              "      <th>...</th>\n",
              "      <td>...</td>\n",
              "      <td>...</td>\n",
              "      <td>...</td>\n",
              "      <td>...</td>\n",
              "      <td>...</td>\n",
              "    </tr>\n",
              "    <tr>\n",
              "      <th>9021</th>\n",
              "      <td>99861428_3560721249</td>\n",
              "      <td>546827615.1600682507_1618961444713</td>\n",
              "      <td>2021-04-21</td>\n",
              "      <td>1618961304467</td>\n",
              "      <td>0.0</td>\n",
              "    </tr>\n",
              "    <tr>\n",
              "      <th>9022</th>\n",
              "      <td>999224837_3736462757</td>\n",
              "      <td>403079463.1618887879_1619008456565</td>\n",
              "      <td>2021-04-21</td>\n",
              "      <td>1619007404732</td>\n",
              "      <td>-4.0</td>\n",
              "    </tr>\n",
              "    <tr>\n",
              "      <th>9023</th>\n",
              "      <td>999224837_3736462757</td>\n",
              "      <td>403079463.1618887879_1619012621672</td>\n",
              "      <td>2021-04-21</td>\n",
              "      <td>1619012533674</td>\n",
              "      <td>2.0</td>\n",
              "    </tr>\n",
              "    <tr>\n",
              "      <th>9024</th>\n",
              "      <td>999362683_4047270643</td>\n",
              "      <td>247013987.1598534724_1618996462068</td>\n",
              "      <td>2021-04-21</td>\n",
              "      <td>1618996400421</td>\n",
              "      <td>3.0</td>\n",
              "    </tr>\n",
              "    <tr>\n",
              "      <th>9025</th>\n",
              "      <td>999410641_4263482022</td>\n",
              "      <td>342436779.1599314730_1618994040069</td>\n",
              "      <td>2021-04-21</td>\n",
              "      <td>1618993657960</td>\n",
              "      <td>6.0</td>\n",
              "    </tr>\n",
              "  </tbody>\n",
              "</table>\n",
              "<p>9026 rows × 5 columns</p>\n",
              "</div>"
            ],
            "text/plain": [
              "                     owoxId  ... product_total_count\n",
              "0     1000555049_3177394810  ...                 2.0\n",
              "1      1000621507_485626986  ...                 1.0\n",
              "2     1001018989_3750522448  ...                 7.0\n",
              "3     1001290140_2394405033  ...                 2.0\n",
              "4     1001643634_2074609849  ...                 1.0\n",
              "...                     ...  ...                 ...\n",
              "9021    99861428_3560721249  ...                 0.0\n",
              "9022   999224837_3736462757  ...                -4.0\n",
              "9023   999224837_3736462757  ...                 2.0\n",
              "9024   999362683_4047270643  ...                 3.0\n",
              "9025   999410641_4263482022  ...                 6.0\n",
              "\n",
              "[9026 rows x 5 columns]"
            ]
          },
          "metadata": {
            "tags": []
          },
          "execution_count": 18
        }
      ]
    },
    {
      "cell_type": "markdown",
      "metadata": {
        "id": "0Ijir0Gms-dJ"
      },
      "source": [
        "Отсортируем в порядке убывания количества товаров"
      ]
    },
    {
      "cell_type": "code",
      "metadata": {
        "id": "sV8TW4CP-stI"
      },
      "source": [
        "sql = '''\n",
        "with \n",
        "products_amount_corrected as (\n",
        "  select t.*,\n",
        "  case when t.action_type in ('remove','purchase') then t.productQuantity * -1 else t.productQuantity end as quantity_corrected\n",
        "  from cart t\n",
        "),\n",
        "product_cum_sum as (\n",
        "  select \n",
        "    t.owoxId, \n",
        "    t.sessionId, \n",
        "    max(t.date) as last_date, \n",
        "    max(t.time) as last_timestamp, \n",
        "    sum(t.quantity_corrected) as product_total_count\n",
        "  from products_amount_corrected t\n",
        "  group by t.owoxId, t.sessionId\n",
        ")\n",
        "\n",
        "select t.*\n",
        "from product_cum_sum t\n",
        "order by product_total_count desc\n",
        "'''"
      ],
      "execution_count": 145,
      "outputs": []
    },
    {
      "cell_type": "code",
      "metadata": {
        "colab": {
          "base_uri": "https://localhost:8080/",
          "height": 419
        },
        "id": "UfpE8rRi_ce-",
        "outputId": "71c018b3-a9ed-420e-f1cd-f3194a0b5db4"
      },
      "source": [
        "select(sql)"
      ],
      "execution_count": 146,
      "outputs": [
        {
          "output_type": "execute_result",
          "data": {
            "text/html": [
              "<div>\n",
              "<style scoped>\n",
              "    .dataframe tbody tr th:only-of-type {\n",
              "        vertical-align: middle;\n",
              "    }\n",
              "\n",
              "    .dataframe tbody tr th {\n",
              "        vertical-align: top;\n",
              "    }\n",
              "\n",
              "    .dataframe thead th {\n",
              "        text-align: right;\n",
              "    }\n",
              "</style>\n",
              "<table border=\"1\" class=\"dataframe\">\n",
              "  <thead>\n",
              "    <tr style=\"text-align: right;\">\n",
              "      <th></th>\n",
              "      <th>owoxId</th>\n",
              "      <th>sessionId</th>\n",
              "      <th>last_date</th>\n",
              "      <th>last_timestamp</th>\n",
              "      <th>product_total_count</th>\n",
              "    </tr>\n",
              "  </thead>\n",
              "  <tbody>\n",
              "    <tr>\n",
              "      <th>0</th>\n",
              "      <td>3120686032_3307602039</td>\n",
              "      <td>507350143.1618497089_1618992488087</td>\n",
              "      <td>2021-04-21</td>\n",
              "      <td>1618992488087</td>\n",
              "      <td>88.0</td>\n",
              "    </tr>\n",
              "    <tr>\n",
              "      <th>1</th>\n",
              "      <td>4282468728_3080683603</td>\n",
              "      <td>1040338948.1618910177_1619033122042</td>\n",
              "      <td>2021-04-21</td>\n",
              "      <td>1619032977211</td>\n",
              "      <td>77.0</td>\n",
              "    </tr>\n",
              "    <tr>\n",
              "      <th>2</th>\n",
              "      <td>2714483113_70313540</td>\n",
              "      <td>139629180.1618915804_1619001603043</td>\n",
              "      <td>2021-04-21</td>\n",
              "      <td>1619001578380</td>\n",
              "      <td>41.0</td>\n",
              "    </tr>\n",
              "    <tr>\n",
              "      <th>3</th>\n",
              "      <td>1353293235_1659618592</td>\n",
              "      <td>227202044.1618966624_1618971297616</td>\n",
              "      <td>2021-04-21</td>\n",
              "      <td>1618971297616</td>\n",
              "      <td>31.0</td>\n",
              "    </tr>\n",
              "    <tr>\n",
              "      <th>4</th>\n",
              "      <td>3353968150_3338928609</td>\n",
              "      <td>977856490.1615971459_1618983613439</td>\n",
              "      <td>2021-04-21</td>\n",
              "      <td>1618983577324</td>\n",
              "      <td>28.0</td>\n",
              "    </tr>\n",
              "    <tr>\n",
              "      <th>...</th>\n",
              "      <td>...</td>\n",
              "      <td>...</td>\n",
              "      <td>...</td>\n",
              "      <td>...</td>\n",
              "      <td>...</td>\n",
              "    </tr>\n",
              "    <tr>\n",
              "      <th>9021</th>\n",
              "      <td>3613009518_4063926243</td>\n",
              "      <td>139629180.1618915804_1619035458604</td>\n",
              "      <td>2021-04-21</td>\n",
              "      <td>1619035506768</td>\n",
              "      <td>-51.0</td>\n",
              "    </tr>\n",
              "    <tr>\n",
              "      <th>9022</th>\n",
              "      <td>3221284636_3933267029</td>\n",
              "      <td>1155238490.1618977888_1619020985776</td>\n",
              "      <td>2021-04-21</td>\n",
              "      <td>1619020975081</td>\n",
              "      <td>-70.0</td>\n",
              "    </tr>\n",
              "    <tr>\n",
              "      <th>9023</th>\n",
              "      <td>1078468356_4117792893</td>\n",
              "      <td>916728784.1617633193_1619014922094</td>\n",
              "      <td>2021-04-21</td>\n",
              "      <td>1619014948759</td>\n",
              "      <td>-73.0</td>\n",
              "    </tr>\n",
              "    <tr>\n",
              "      <th>9024</th>\n",
              "      <td>1553795452_240762751</td>\n",
              "      <td>1330850463.1618537438_1619014099146</td>\n",
              "      <td>2021-04-21</td>\n",
              "      <td>1619013928126</td>\n",
              "      <td>-390.0</td>\n",
              "    </tr>\n",
              "    <tr>\n",
              "      <th>9025</th>\n",
              "      <td>3519578993_2952560718</td>\n",
              "      <td>514734633.1618998470_1619010553706</td>\n",
              "      <td>2021-04-21</td>\n",
              "      <td>1619010454818</td>\n",
              "      <td>-1064.0</td>\n",
              "    </tr>\n",
              "  </tbody>\n",
              "</table>\n",
              "<p>9026 rows × 5 columns</p>\n",
              "</div>"
            ],
            "text/plain": [
              "                     owoxId  ... product_total_count\n",
              "0     3120686032_3307602039  ...                88.0\n",
              "1     4282468728_3080683603  ...                77.0\n",
              "2       2714483113_70313540  ...                41.0\n",
              "3     1353293235_1659618592  ...                31.0\n",
              "4     3353968150_3338928609  ...                28.0\n",
              "...                     ...  ...                 ...\n",
              "9021  3613009518_4063926243  ...               -51.0\n",
              "9022  3221284636_3933267029  ...               -70.0\n",
              "9023  1078468356_4117792893  ...               -73.0\n",
              "9024   1553795452_240762751  ...              -390.0\n",
              "9025  3519578993_2952560718  ...             -1064.0\n",
              "\n",
              "[9026 rows x 5 columns]"
            ]
          },
          "metadata": {
            "tags": []
          },
          "execution_count": 146
        }
      ]
    },
    {
      "cell_type": "markdown",
      "metadata": {
        "id": "Cb7OIj-1J2Nk"
      },
      "source": [
        "Из таблицы выше наглядно видно, что есть пользователи с положительным остатком товаров в корзине на конец сессии, а есть с отрицательным, причем очень большим.\n",
        "\n",
        "Давайте посмотрим, как возможны такие значения"
      ]
    },
    {
      "cell_type": "markdown",
      "metadata": {
        "id": "SH0R3QuEL8FA"
      },
      "source": [
        "#### Аномалии"
      ]
    },
    {
      "cell_type": "code",
      "metadata": {
        "id": "zgxKIpiX_mSv"
      },
      "source": [
        "sql = '''\n",
        "select  t.action_type, sum(t.productQuantity)\n",
        "from cart t\n",
        "where t.owoxId = '1553795452_240762751'\n",
        "group by action_type\n",
        "'''"
      ],
      "execution_count": 162,
      "outputs": []
    },
    {
      "cell_type": "code",
      "metadata": {
        "colab": {
          "base_uri": "https://localhost:8080/",
          "height": 142
        },
        "id": "qyBIEcXk_r3l",
        "outputId": "30a249c9-d241-4910-a46f-73b12f6822b7"
      },
      "source": [
        "select(sql)"
      ],
      "execution_count": 163,
      "outputs": [
        {
          "output_type": "execute_result",
          "data": {
            "text/html": [
              "<div>\n",
              "<style scoped>\n",
              "    .dataframe tbody tr th:only-of-type {\n",
              "        vertical-align: middle;\n",
              "    }\n",
              "\n",
              "    .dataframe tbody tr th {\n",
              "        vertical-align: top;\n",
              "    }\n",
              "\n",
              "    .dataframe thead th {\n",
              "        text-align: right;\n",
              "    }\n",
              "</style>\n",
              "<table border=\"1\" class=\"dataframe\">\n",
              "  <thead>\n",
              "    <tr style=\"text-align: right;\">\n",
              "      <th></th>\n",
              "      <th>action_type</th>\n",
              "      <th>sum(t.productQuantity)</th>\n",
              "    </tr>\n",
              "  </thead>\n",
              "  <tbody>\n",
              "    <tr>\n",
              "      <th>0</th>\n",
              "      <td>add</td>\n",
              "      <td>318.0</td>\n",
              "    </tr>\n",
              "    <tr>\n",
              "      <th>1</th>\n",
              "      <td>purchase</td>\n",
              "      <td>378.0</td>\n",
              "    </tr>\n",
              "    <tr>\n",
              "      <th>2</th>\n",
              "      <td>remove</td>\n",
              "      <td>308.0</td>\n",
              "    </tr>\n",
              "  </tbody>\n",
              "</table>\n",
              "</div>"
            ],
            "text/plain": [
              "  action_type  sum(t.productQuantity)\n",
              "0         add                   318.0\n",
              "1    purchase                   378.0\n",
              "2      remove                   308.0"
            ]
          },
          "metadata": {
            "tags": []
          },
          "execution_count": 163
        }
      ]
    },
    {
      "cell_type": "markdown",
      "metadata": {
        "id": "L1pan6lCtKDB"
      },
      "source": [
        "Посмотрим все действия этого пользователя"
      ]
    },
    {
      "cell_type": "code",
      "metadata": {
        "id": "JYKWigARLRIw"
      },
      "source": [
        "sql = '''\n",
        "select  t.*\n",
        "from cart t\n",
        "where t.owoxId = '1553795452_240762751'\n",
        "'''"
      ],
      "execution_count": 171,
      "outputs": []
    },
    {
      "cell_type": "code",
      "metadata": {
        "colab": {
          "base_uri": "https://localhost:8080/",
          "height": 419
        },
        "id": "Rcvl58L1LRs-",
        "outputId": "dc909b94-2602-4459-8a87-4f9e234029ae"
      },
      "source": [
        "select(sql)"
      ],
      "execution_count": 172,
      "outputs": [
        {
          "output_type": "execute_result",
          "data": {
            "text/html": [
              "<div>\n",
              "<style scoped>\n",
              "    .dataframe tbody tr th:only-of-type {\n",
              "        vertical-align: middle;\n",
              "    }\n",
              "\n",
              "    .dataframe tbody tr th {\n",
              "        vertical-align: top;\n",
              "    }\n",
              "\n",
              "    .dataframe thead th {\n",
              "        text-align: right;\n",
              "    }\n",
              "</style>\n",
              "<table border=\"1\" class=\"dataframe\">\n",
              "  <thead>\n",
              "    <tr style=\"text-align: right;\">\n",
              "      <th></th>\n",
              "      <th>owoxId</th>\n",
              "      <th>sessionId</th>\n",
              "      <th>time</th>\n",
              "      <th>date</th>\n",
              "      <th>productQuantity</th>\n",
              "      <th>productSKU</th>\n",
              "      <th>action_type</th>\n",
              "    </tr>\n",
              "  </thead>\n",
              "  <tbody>\n",
              "    <tr>\n",
              "      <th>0</th>\n",
              "      <td>1553795452_240762751</td>\n",
              "      <td>1330850463.1618537438_1618963840494</td>\n",
              "      <td>1618962859465</td>\n",
              "      <td>2021-04-21</td>\n",
              "      <td>1.0</td>\n",
              "      <td>GDR023228-1</td>\n",
              "      <td>add</td>\n",
              "    </tr>\n",
              "    <tr>\n",
              "      <th>1</th>\n",
              "      <td>1553795452_240762751</td>\n",
              "      <td>1330850463.1618537438_1618963840494</td>\n",
              "      <td>1618962904846</td>\n",
              "      <td>2021-04-21</td>\n",
              "      <td>1.0</td>\n",
              "      <td>GAC014995-1</td>\n",
              "      <td>add</td>\n",
              "    </tr>\n",
              "    <tr>\n",
              "      <th>2</th>\n",
              "      <td>1553795452_240762751</td>\n",
              "      <td>1330850463.1618537438_1618963840494</td>\n",
              "      <td>1618962979660</td>\n",
              "      <td>2021-04-21</td>\n",
              "      <td>1.0</td>\n",
              "      <td>GAC014900-1</td>\n",
              "      <td>add</td>\n",
              "    </tr>\n",
              "    <tr>\n",
              "      <th>3</th>\n",
              "      <td>1553795452_240762751</td>\n",
              "      <td>1330850463.1618537438_1618963840494</td>\n",
              "      <td>1618963506477</td>\n",
              "      <td>2021-04-21</td>\n",
              "      <td>1.0</td>\n",
              "      <td>GDR023393-1</td>\n",
              "      <td>add</td>\n",
              "    </tr>\n",
              "    <tr>\n",
              "      <th>4</th>\n",
              "      <td>1553795452_240762751</td>\n",
              "      <td>1330850463.1618537438_1618963840494</td>\n",
              "      <td>1618963817019</td>\n",
              "      <td>2021-04-21</td>\n",
              "      <td>1.0</td>\n",
              "      <td>GDR023228-1</td>\n",
              "      <td>purchase</td>\n",
              "    </tr>\n",
              "    <tr>\n",
              "      <th>...</th>\n",
              "      <td>...</td>\n",
              "      <td>...</td>\n",
              "      <td>...</td>\n",
              "      <td>...</td>\n",
              "      <td>...</td>\n",
              "      <td>...</td>\n",
              "      <td>...</td>\n",
              "    </tr>\n",
              "    <tr>\n",
              "      <th>861</th>\n",
              "      <td>1553795452_240762751</td>\n",
              "      <td>1330850463.1618537438_1619038054455</td>\n",
              "      <td>1619033483825</td>\n",
              "      <td>2021-04-21</td>\n",
              "      <td>1.0</td>\n",
              "      <td>GKT013312-1</td>\n",
              "      <td>add</td>\n",
              "    </tr>\n",
              "    <tr>\n",
              "      <th>862</th>\n",
              "      <td>1553795452_240762751</td>\n",
              "      <td>1330850463.1618537438_1619038054455</td>\n",
              "      <td>1619033627182</td>\n",
              "      <td>2021-04-21</td>\n",
              "      <td>1.0</td>\n",
              "      <td>GPT007654-1</td>\n",
              "      <td>add</td>\n",
              "    </tr>\n",
              "    <tr>\n",
              "      <th>863</th>\n",
              "      <td>1553795452_240762751</td>\n",
              "      <td>1330850463.1618537438_1619038054455</td>\n",
              "      <td>1619034401462</td>\n",
              "      <td>2021-04-21</td>\n",
              "      <td>1.0</td>\n",
              "      <td>GUW005775-1</td>\n",
              "      <td>add</td>\n",
              "    </tr>\n",
              "    <tr>\n",
              "      <th>864</th>\n",
              "      <td>1553795452_240762751</td>\n",
              "      <td>1330850463.1618537438_1619038054455</td>\n",
              "      <td>1619037878289</td>\n",
              "      <td>2021-04-21</td>\n",
              "      <td>1.0</td>\n",
              "      <td>BUW002287-1</td>\n",
              "      <td>add</td>\n",
              "    </tr>\n",
              "    <tr>\n",
              "      <th>865</th>\n",
              "      <td>1553795452_240762751</td>\n",
              "      <td>1330850463.1618537438_1619038054455</td>\n",
              "      <td>1619037947578</td>\n",
              "      <td>2021-04-21</td>\n",
              "      <td>1.0</td>\n",
              "      <td>BAC008979-1</td>\n",
              "      <td>add</td>\n",
              "    </tr>\n",
              "  </tbody>\n",
              "</table>\n",
              "<p>866 rows × 7 columns</p>\n",
              "</div>"
            ],
            "text/plain": [
              "                   owoxId  ... action_type\n",
              "0    1553795452_240762751  ...         add\n",
              "1    1553795452_240762751  ...         add\n",
              "2    1553795452_240762751  ...         add\n",
              "3    1553795452_240762751  ...         add\n",
              "4    1553795452_240762751  ...    purchase\n",
              "..                    ...  ...         ...\n",
              "861  1553795452_240762751  ...         add\n",
              "862  1553795452_240762751  ...         add\n",
              "863  1553795452_240762751  ...         add\n",
              "864  1553795452_240762751  ...         add\n",
              "865  1553795452_240762751  ...         add\n",
              "\n",
              "[866 rows x 7 columns]"
            ]
          },
          "metadata": {
            "tags": []
          },
          "execution_count": 172
        }
      ]
    },
    {
      "cell_type": "markdown",
      "metadata": {
        "id": "KX1xU5tnLYs4"
      },
      "source": [
        "Как видно из двух таблиц выше, пользователь `1553795452_240762751` делал много действий, что не противоречит логике. Разницу по времени тут проверять не буду."
      ]
    },
    {
      "cell_type": "code",
      "metadata": {
        "id": "mYtJRNEsKw6N"
      },
      "source": [
        "sql = '''\n",
        "select  t.action_type, sum(t.productQuantity)\n",
        "from cart t\n",
        "where t.owoxId = '3519578993_2952560718'\n",
        "group by action_type\n",
        "'''"
      ],
      "execution_count": 165,
      "outputs": []
    },
    {
      "cell_type": "code",
      "metadata": {
        "colab": {
          "base_uri": "https://localhost:8080/",
          "height": 80
        },
        "id": "wInnVJFJKyT9",
        "outputId": "8ceaad37-9cc1-443b-b9f9-f789b756acca"
      },
      "source": [
        "select(sql)"
      ],
      "execution_count": 166,
      "outputs": [
        {
          "output_type": "execute_result",
          "data": {
            "text/html": [
              "<div>\n",
              "<style scoped>\n",
              "    .dataframe tbody tr th:only-of-type {\n",
              "        vertical-align: middle;\n",
              "    }\n",
              "\n",
              "    .dataframe tbody tr th {\n",
              "        vertical-align: top;\n",
              "    }\n",
              "\n",
              "    .dataframe thead th {\n",
              "        text-align: right;\n",
              "    }\n",
              "</style>\n",
              "<table border=\"1\" class=\"dataframe\">\n",
              "  <thead>\n",
              "    <tr style=\"text-align: right;\">\n",
              "      <th></th>\n",
              "      <th>action_type</th>\n",
              "      <th>sum(t.productQuantity)</th>\n",
              "    </tr>\n",
              "  </thead>\n",
              "  <tbody>\n",
              "    <tr>\n",
              "      <th>0</th>\n",
              "      <td>remove</td>\n",
              "      <td>1064.0</td>\n",
              "    </tr>\n",
              "  </tbody>\n",
              "</table>\n",
              "</div>"
            ],
            "text/plain": [
              "  action_type  sum(t.productQuantity)\n",
              "0      remove                  1064.0"
            ]
          },
          "metadata": {
            "tags": []
          },
          "execution_count": 166
        }
      ]
    },
    {
      "cell_type": "markdown",
      "metadata": {
        "id": "BMtB0umrtOG_"
      },
      "source": [
        "Тут интереснее: у одно действие на удаление, и очень большое. Посмотрим, все действия этого пользователя"
      ]
    },
    {
      "cell_type": "code",
      "metadata": {
        "id": "eeknVLIxK1JC"
      },
      "source": [
        "sql = '''\n",
        "select  t.*\n",
        "from cart t\n",
        "where t.owoxId = '3519578993_2952560718'\n",
        "'''"
      ],
      "execution_count": 168,
      "outputs": []
    },
    {
      "cell_type": "code",
      "metadata": {
        "colab": {
          "base_uri": "https://localhost:8080/",
          "height": 421
        },
        "id": "1SIdcK_SK4FJ",
        "outputId": "28478da5-5baf-4e13-d358-c41d11850cd1"
      },
      "source": [
        "select(sql)"
      ],
      "execution_count": 169,
      "outputs": [
        {
          "output_type": "execute_result",
          "data": {
            "text/html": [
              "<div>\n",
              "<style scoped>\n",
              "    .dataframe tbody tr th:only-of-type {\n",
              "        vertical-align: middle;\n",
              "    }\n",
              "\n",
              "    .dataframe tbody tr th {\n",
              "        vertical-align: top;\n",
              "    }\n",
              "\n",
              "    .dataframe thead th {\n",
              "        text-align: right;\n",
              "    }\n",
              "</style>\n",
              "<table border=\"1\" class=\"dataframe\">\n",
              "  <thead>\n",
              "    <tr style=\"text-align: right;\">\n",
              "      <th></th>\n",
              "      <th>owoxId</th>\n",
              "      <th>sessionId</th>\n",
              "      <th>time</th>\n",
              "      <th>date</th>\n",
              "      <th>productQuantity</th>\n",
              "      <th>productSKU</th>\n",
              "      <th>action_type</th>\n",
              "    </tr>\n",
              "  </thead>\n",
              "  <tbody>\n",
              "    <tr>\n",
              "      <th>0</th>\n",
              "      <td>3519578993_2952560718</td>\n",
              "      <td>514734633.1618998470_1619010553706</td>\n",
              "      <td>1619007964506</td>\n",
              "      <td>2021-04-21</td>\n",
              "      <td>6.0</td>\n",
              "      <td>GAC011914-1</td>\n",
              "      <td>remove</td>\n",
              "    </tr>\n",
              "    <tr>\n",
              "      <th>1</th>\n",
              "      <td>3519578993_2952560718</td>\n",
              "      <td>514734633.1618998470_1619010553706</td>\n",
              "      <td>1619008141611</td>\n",
              "      <td>2021-04-21</td>\n",
              "      <td>6.0</td>\n",
              "      <td>GAC011914-1</td>\n",
              "      <td>remove</td>\n",
              "    </tr>\n",
              "    <tr>\n",
              "      <th>2</th>\n",
              "      <td>3519578993_2952560718</td>\n",
              "      <td>514734633.1618998470_1619010553706</td>\n",
              "      <td>1619008169002</td>\n",
              "      <td>2021-04-21</td>\n",
              "      <td>6.0</td>\n",
              "      <td>GAC011914-1</td>\n",
              "      <td>remove</td>\n",
              "    </tr>\n",
              "    <tr>\n",
              "      <th>3</th>\n",
              "      <td>3519578993_2952560718</td>\n",
              "      <td>514734633.1618998470_1619010553706</td>\n",
              "      <td>1619008290146</td>\n",
              "      <td>2021-04-21</td>\n",
              "      <td>6.0</td>\n",
              "      <td>GAC011914-1</td>\n",
              "      <td>remove</td>\n",
              "    </tr>\n",
              "    <tr>\n",
              "      <th>4</th>\n",
              "      <td>3519578993_2952560718</td>\n",
              "      <td>514734633.1618998470_1619010553706</td>\n",
              "      <td>1619008311464</td>\n",
              "      <td>2021-04-21</td>\n",
              "      <td>6.0</td>\n",
              "      <td>GAC011914-1</td>\n",
              "      <td>remove</td>\n",
              "    </tr>\n",
              "    <tr>\n",
              "      <th>5</th>\n",
              "      <td>3519578993_2952560718</td>\n",
              "      <td>514734633.1618998470_1619010553706</td>\n",
              "      <td>1619008333593</td>\n",
              "      <td>2021-04-21</td>\n",
              "      <td>6.0</td>\n",
              "      <td>GAC011914-1</td>\n",
              "      <td>remove</td>\n",
              "    </tr>\n",
              "    <tr>\n",
              "      <th>6</th>\n",
              "      <td>3519578993_2952560718</td>\n",
              "      <td>514734633.1618998470_1619010553706</td>\n",
              "      <td>1619008388682</td>\n",
              "      <td>2021-04-21</td>\n",
              "      <td>1.0</td>\n",
              "      <td>GAC011914-1</td>\n",
              "      <td>remove</td>\n",
              "    </tr>\n",
              "    <tr>\n",
              "      <th>7</th>\n",
              "      <td>3519578993_2952560718</td>\n",
              "      <td>514734633.1618998470_1619010553706</td>\n",
              "      <td>1619008497221</td>\n",
              "      <td>2021-04-21</td>\n",
              "      <td>6.0</td>\n",
              "      <td>GAC011914-1</td>\n",
              "      <td>remove</td>\n",
              "    </tr>\n",
              "    <tr>\n",
              "      <th>8</th>\n",
              "      <td>3519578993_2952560718</td>\n",
              "      <td>514734633.1618998470_1619010553706</td>\n",
              "      <td>1619008629255</td>\n",
              "      <td>2021-04-21</td>\n",
              "      <td>6.0</td>\n",
              "      <td>GAC011914-1</td>\n",
              "      <td>remove</td>\n",
              "    </tr>\n",
              "    <tr>\n",
              "      <th>9</th>\n",
              "      <td>3519578993_2952560718</td>\n",
              "      <td>514734633.1618998470_1619010553706</td>\n",
              "      <td>1619008630614</td>\n",
              "      <td>2021-04-21</td>\n",
              "      <td>902.0</td>\n",
              "      <td>BPT002230-1</td>\n",
              "      <td>remove</td>\n",
              "    </tr>\n",
              "    <tr>\n",
              "      <th>10</th>\n",
              "      <td>3519578993_2952560718</td>\n",
              "      <td>514734633.1618998470_1619010553706</td>\n",
              "      <td>1619008631815</td>\n",
              "      <td>2021-04-21</td>\n",
              "      <td>111.0</td>\n",
              "      <td>BPT002230-1</td>\n",
              "      <td>remove</td>\n",
              "    </tr>\n",
              "    <tr>\n",
              "      <th>11</th>\n",
              "      <td>3519578993_2952560718</td>\n",
              "      <td>514734633.1618998470_1619010553706</td>\n",
              "      <td>1619010454818</td>\n",
              "      <td>2021-04-21</td>\n",
              "      <td>2.0</td>\n",
              "      <td>GKT007859-1</td>\n",
              "      <td>remove</td>\n",
              "    </tr>\n",
              "  </tbody>\n",
              "</table>\n",
              "</div>"
            ],
            "text/plain": [
              "                   owoxId  ... action_type\n",
              "0   3519578993_2952560718  ...      remove\n",
              "1   3519578993_2952560718  ...      remove\n",
              "2   3519578993_2952560718  ...      remove\n",
              "3   3519578993_2952560718  ...      remove\n",
              "4   3519578993_2952560718  ...      remove\n",
              "5   3519578993_2952560718  ...      remove\n",
              "6   3519578993_2952560718  ...      remove\n",
              "7   3519578993_2952560718  ...      remove\n",
              "8   3519578993_2952560718  ...      remove\n",
              "9   3519578993_2952560718  ...      remove\n",
              "10  3519578993_2952560718  ...      remove\n",
              "11  3519578993_2952560718  ...      remove\n",
              "\n",
              "[12 rows x 7 columns]"
            ]
          },
          "metadata": {
            "tags": []
          },
          "execution_count": 169
        }
      ]
    },
    {
      "cell_type": "markdown",
      "metadata": {
        "id": "9o3Qce-BK5_U"
      },
      "source": [
        "Вероятно, что удалить за раз 100 и более товаров невозможно, т.к. товары должны отображаться постранично. Может, это запрос через API. Но я бы заострил на этом внимание и предложил разобраться, как такое может быть."
      ]
    },
    {
      "cell_type": "markdown",
      "metadata": {
        "id": "2TCBYgWlL-90"
      },
      "source": [
        "#### Расчет среднего количества товаров на конец сессии"
      ]
    },
    {
      "cell_type": "code",
      "metadata": {
        "id": "zbKn2XpBMeIX"
      },
      "source": [
        "sql = '''\n",
        "with \n",
        "products_amount_corrected as (\n",
        "  select t.*,\n",
        "  case when t.action_type in ('remove','purchase') then t.productQuantity * -1 else t.productQuantity end as quantity_corrected\n",
        "  from cart t\n",
        "),\n",
        "product_cum_sum as (\n",
        "  select \n",
        "    t.owoxId, \n",
        "    t.sessionId, \n",
        "    max(t.date) as last_date, \n",
        "    max(t.time) as last_timestamp, \n",
        "    sum(t.quantity_corrected) as product_total_count\n",
        "  from products_amount_corrected t\n",
        "  group by t.owoxId, t.sessionId\n",
        ")\n",
        "\n",
        "select t.*\n",
        "from product_cum_sum t\n",
        "where t.product_total_count > 0\n",
        "order by t.product_total_count desc\n",
        "'''"
      ],
      "execution_count": 173,
      "outputs": []
    },
    {
      "cell_type": "code",
      "metadata": {
        "colab": {
          "base_uri": "https://localhost:8080/",
          "height": 419
        },
        "id": "k0lNk4smMprA",
        "outputId": "f9db412e-a42b-43f4-f17c-8e0a37317b16"
      },
      "source": [
        "select(sql)"
      ],
      "execution_count": 175,
      "outputs": [
        {
          "output_type": "execute_result",
          "data": {
            "text/html": [
              "<div>\n",
              "<style scoped>\n",
              "    .dataframe tbody tr th:only-of-type {\n",
              "        vertical-align: middle;\n",
              "    }\n",
              "\n",
              "    .dataframe tbody tr th {\n",
              "        vertical-align: top;\n",
              "    }\n",
              "\n",
              "    .dataframe thead th {\n",
              "        text-align: right;\n",
              "    }\n",
              "</style>\n",
              "<table border=\"1\" class=\"dataframe\">\n",
              "  <thead>\n",
              "    <tr style=\"text-align: right;\">\n",
              "      <th></th>\n",
              "      <th>owoxId</th>\n",
              "      <th>sessionId</th>\n",
              "      <th>last_date</th>\n",
              "      <th>last_timestamp</th>\n",
              "      <th>product_total_count</th>\n",
              "    </tr>\n",
              "  </thead>\n",
              "  <tbody>\n",
              "    <tr>\n",
              "      <th>0</th>\n",
              "      <td>3120686032_3307602039</td>\n",
              "      <td>507350143.1618497089_1618992488087</td>\n",
              "      <td>2021-04-21</td>\n",
              "      <td>1618992488087</td>\n",
              "      <td>88.0</td>\n",
              "    </tr>\n",
              "    <tr>\n",
              "      <th>1</th>\n",
              "      <td>4282468728_3080683603</td>\n",
              "      <td>1040338948.1618910177_1619033122042</td>\n",
              "      <td>2021-04-21</td>\n",
              "      <td>1619032977211</td>\n",
              "      <td>77.0</td>\n",
              "    </tr>\n",
              "    <tr>\n",
              "      <th>2</th>\n",
              "      <td>2714483113_70313540</td>\n",
              "      <td>139629180.1618915804_1619001603043</td>\n",
              "      <td>2021-04-21</td>\n",
              "      <td>1619001578380</td>\n",
              "      <td>41.0</td>\n",
              "    </tr>\n",
              "    <tr>\n",
              "      <th>3</th>\n",
              "      <td>1353293235_1659618592</td>\n",
              "      <td>227202044.1618966624_1618971297616</td>\n",
              "      <td>2021-04-21</td>\n",
              "      <td>1618971297616</td>\n",
              "      <td>31.0</td>\n",
              "    </tr>\n",
              "    <tr>\n",
              "      <th>4</th>\n",
              "      <td>3353968150_3338928609</td>\n",
              "      <td>977856490.1615971459_1618983613439</td>\n",
              "      <td>2021-04-21</td>\n",
              "      <td>1618983577324</td>\n",
              "      <td>28.0</td>\n",
              "    </tr>\n",
              "    <tr>\n",
              "      <th>...</th>\n",
              "      <td>...</td>\n",
              "      <td>...</td>\n",
              "      <td>...</td>\n",
              "      <td>...</td>\n",
              "      <td>...</td>\n",
              "    </tr>\n",
              "    <tr>\n",
              "      <th>6101</th>\n",
              "      <td>99432836_3351057908</td>\n",
              "      <td>967689284.1617955501_1618987721664</td>\n",
              "      <td>2021-04-21</td>\n",
              "      <td>1618987638583</td>\n",
              "      <td>1.0</td>\n",
              "    </tr>\n",
              "    <tr>\n",
              "      <th>6102</th>\n",
              "      <td>994484470_2512314844</td>\n",
              "      <td>1067864513.1619032177_1619034272707</td>\n",
              "      <td>2021-04-21</td>\n",
              "      <td>1619034236719</td>\n",
              "      <td>1.0</td>\n",
              "    </tr>\n",
              "    <tr>\n",
              "      <th>6103</th>\n",
              "      <td>997131845_432474066</td>\n",
              "      <td>599200744.1619029756_1619030335126</td>\n",
              "      <td>2021-04-21</td>\n",
              "      <td>1619029644212</td>\n",
              "      <td>1.0</td>\n",
              "    </tr>\n",
              "    <tr>\n",
              "      <th>6104</th>\n",
              "      <td>997275602_2363525930</td>\n",
              "      <td>830838004.1601998249_1618954641394</td>\n",
              "      <td>2021-04-21</td>\n",
              "      <td>1618954529385</td>\n",
              "      <td>1.0</td>\n",
              "    </tr>\n",
              "    <tr>\n",
              "      <th>6105</th>\n",
              "      <td>997492484_3203348844</td>\n",
              "      <td>1350883152.1619020236_1619031342843</td>\n",
              "      <td>2021-04-21</td>\n",
              "      <td>1619030819390</td>\n",
              "      <td>1.0</td>\n",
              "    </tr>\n",
              "  </tbody>\n",
              "</table>\n",
              "<p>6106 rows × 5 columns</p>\n",
              "</div>"
            ],
            "text/plain": [
              "                     owoxId  ... product_total_count\n",
              "0     3120686032_3307602039  ...                88.0\n",
              "1     4282468728_3080683603  ...                77.0\n",
              "2       2714483113_70313540  ...                41.0\n",
              "3     1353293235_1659618592  ...                31.0\n",
              "4     3353968150_3338928609  ...                28.0\n",
              "...                     ...  ...                 ...\n",
              "6101    99432836_3351057908  ...                 1.0\n",
              "6102   994484470_2512314844  ...                 1.0\n",
              "6103    997131845_432474066  ...                 1.0\n",
              "6104   997275602_2363525930  ...                 1.0\n",
              "6105   997492484_3203348844  ...                 1.0\n",
              "\n",
              "[6106 rows x 5 columns]"
            ]
          },
          "metadata": {
            "tags": []
          },
          "execution_count": 175
        }
      ]
    },
    {
      "cell_type": "markdown",
      "metadata": {
        "id": "jfYAYffCMvsU"
      },
      "source": [
        "Имеем 6106 пользователей, у которых в корзине остались товары.\n",
        "\n",
        "Посмотрим на распределение количества пользоваталей по количеству товаров в корзине:"
      ]
    },
    {
      "cell_type": "code",
      "metadata": {
        "id": "34UI4nNDM7WQ"
      },
      "source": [
        "sql = '''\n",
        "with \n",
        "products_amount_corrected as (\n",
        "  select t.*,\n",
        "  case when t.action_type in ('remove','purchase') then t.productQuantity * -1 else t.productQuantity end as quantity_corrected\n",
        "  from cart t\n",
        "),\n",
        "product_cum_sum as (\n",
        "  select \n",
        "    t.owoxId, \n",
        "    t.sessionId, \n",
        "    max(t.date) as last_date, \n",
        "    max(t.time) as last_timestamp, \n",
        "    sum(t.quantity_corrected) as product_total_count\n",
        "  from products_amount_corrected t\n",
        "  group by t.owoxId, t.sessionId\n",
        "),\n",
        "products_amount_on_exit as (\n",
        "  select t.*\n",
        "  from product_cum_sum t\n",
        "  where t.product_total_count > 0\n",
        "  order by t.product_total_count desc\n",
        ")\n",
        "\n",
        "select t.product_total_count, count(*) from products_amount_on_exit t\n",
        "group by t.product_total_count\n",
        "'''"
      ],
      "execution_count": 182,
      "outputs": []
    },
    {
      "cell_type": "code",
      "metadata": {
        "colab": {
          "base_uri": "https://localhost:8080/",
          "height": 979
        },
        "id": "HM47oMW3NXcA",
        "outputId": "c7280458-c6d3-48c8-a2a1-fb05ac4a98df"
      },
      "source": [
        "select(sql)"
      ],
      "execution_count": 183,
      "outputs": [
        {
          "output_type": "execute_result",
          "data": {
            "text/html": [
              "<div>\n",
              "<style scoped>\n",
              "    .dataframe tbody tr th:only-of-type {\n",
              "        vertical-align: middle;\n",
              "    }\n",
              "\n",
              "    .dataframe tbody tr th {\n",
              "        vertical-align: top;\n",
              "    }\n",
              "\n",
              "    .dataframe thead th {\n",
              "        text-align: right;\n",
              "    }\n",
              "</style>\n",
              "<table border=\"1\" class=\"dataframe\">\n",
              "  <thead>\n",
              "    <tr style=\"text-align: right;\">\n",
              "      <th></th>\n",
              "      <th>product_total_count</th>\n",
              "      <th>count(*)</th>\n",
              "    </tr>\n",
              "  </thead>\n",
              "  <tbody>\n",
              "    <tr>\n",
              "      <th>0</th>\n",
              "      <td>1.0</td>\n",
              "      <td>3460</td>\n",
              "    </tr>\n",
              "    <tr>\n",
              "      <th>1</th>\n",
              "      <td>2.0</td>\n",
              "      <td>1190</td>\n",
              "    </tr>\n",
              "    <tr>\n",
              "      <th>2</th>\n",
              "      <td>3.0</td>\n",
              "      <td>566</td>\n",
              "    </tr>\n",
              "    <tr>\n",
              "      <th>3</th>\n",
              "      <td>4.0</td>\n",
              "      <td>336</td>\n",
              "    </tr>\n",
              "    <tr>\n",
              "      <th>4</th>\n",
              "      <td>5.0</td>\n",
              "      <td>177</td>\n",
              "    </tr>\n",
              "    <tr>\n",
              "      <th>5</th>\n",
              "      <td>6.0</td>\n",
              "      <td>130</td>\n",
              "    </tr>\n",
              "    <tr>\n",
              "      <th>6</th>\n",
              "      <td>7.0</td>\n",
              "      <td>75</td>\n",
              "    </tr>\n",
              "    <tr>\n",
              "      <th>7</th>\n",
              "      <td>8.0</td>\n",
              "      <td>50</td>\n",
              "    </tr>\n",
              "    <tr>\n",
              "      <th>8</th>\n",
              "      <td>9.0</td>\n",
              "      <td>25</td>\n",
              "    </tr>\n",
              "    <tr>\n",
              "      <th>9</th>\n",
              "      <td>10.0</td>\n",
              "      <td>23</td>\n",
              "    </tr>\n",
              "    <tr>\n",
              "      <th>10</th>\n",
              "      <td>11.0</td>\n",
              "      <td>14</td>\n",
              "    </tr>\n",
              "    <tr>\n",
              "      <th>11</th>\n",
              "      <td>12.0</td>\n",
              "      <td>9</td>\n",
              "    </tr>\n",
              "    <tr>\n",
              "      <th>12</th>\n",
              "      <td>13.0</td>\n",
              "      <td>10</td>\n",
              "    </tr>\n",
              "    <tr>\n",
              "      <th>13</th>\n",
              "      <td>14.0</td>\n",
              "      <td>9</td>\n",
              "    </tr>\n",
              "    <tr>\n",
              "      <th>14</th>\n",
              "      <td>15.0</td>\n",
              "      <td>6</td>\n",
              "    </tr>\n",
              "    <tr>\n",
              "      <th>15</th>\n",
              "      <td>16.0</td>\n",
              "      <td>6</td>\n",
              "    </tr>\n",
              "    <tr>\n",
              "      <th>16</th>\n",
              "      <td>17.0</td>\n",
              "      <td>3</td>\n",
              "    </tr>\n",
              "    <tr>\n",
              "      <th>17</th>\n",
              "      <td>18.0</td>\n",
              "      <td>1</td>\n",
              "    </tr>\n",
              "    <tr>\n",
              "      <th>18</th>\n",
              "      <td>20.0</td>\n",
              "      <td>2</td>\n",
              "    </tr>\n",
              "    <tr>\n",
              "      <th>19</th>\n",
              "      <td>21.0</td>\n",
              "      <td>1</td>\n",
              "    </tr>\n",
              "    <tr>\n",
              "      <th>20</th>\n",
              "      <td>22.0</td>\n",
              "      <td>2</td>\n",
              "    </tr>\n",
              "    <tr>\n",
              "      <th>21</th>\n",
              "      <td>23.0</td>\n",
              "      <td>2</td>\n",
              "    </tr>\n",
              "    <tr>\n",
              "      <th>22</th>\n",
              "      <td>24.0</td>\n",
              "      <td>1</td>\n",
              "    </tr>\n",
              "    <tr>\n",
              "      <th>23</th>\n",
              "      <td>26.0</td>\n",
              "      <td>1</td>\n",
              "    </tr>\n",
              "    <tr>\n",
              "      <th>24</th>\n",
              "      <td>27.0</td>\n",
              "      <td>1</td>\n",
              "    </tr>\n",
              "    <tr>\n",
              "      <th>25</th>\n",
              "      <td>28.0</td>\n",
              "      <td>2</td>\n",
              "    </tr>\n",
              "    <tr>\n",
              "      <th>26</th>\n",
              "      <td>31.0</td>\n",
              "      <td>1</td>\n",
              "    </tr>\n",
              "    <tr>\n",
              "      <th>27</th>\n",
              "      <td>41.0</td>\n",
              "      <td>1</td>\n",
              "    </tr>\n",
              "    <tr>\n",
              "      <th>28</th>\n",
              "      <td>77.0</td>\n",
              "      <td>1</td>\n",
              "    </tr>\n",
              "    <tr>\n",
              "      <th>29</th>\n",
              "      <td>88.0</td>\n",
              "      <td>1</td>\n",
              "    </tr>\n",
              "  </tbody>\n",
              "</table>\n",
              "</div>"
            ],
            "text/plain": [
              "    product_total_count  count(*)\n",
              "0                   1.0      3460\n",
              "1                   2.0      1190\n",
              "2                   3.0       566\n",
              "3                   4.0       336\n",
              "4                   5.0       177\n",
              "5                   6.0       130\n",
              "6                   7.0        75\n",
              "7                   8.0        50\n",
              "8                   9.0        25\n",
              "9                  10.0        23\n",
              "10                 11.0        14\n",
              "11                 12.0         9\n",
              "12                 13.0        10\n",
              "13                 14.0         9\n",
              "14                 15.0         6\n",
              "15                 16.0         6\n",
              "16                 17.0         3\n",
              "17                 18.0         1\n",
              "18                 20.0         2\n",
              "19                 21.0         1\n",
              "20                 22.0         2\n",
              "21                 23.0         2\n",
              "22                 24.0         1\n",
              "23                 26.0         1\n",
              "24                 27.0         1\n",
              "25                 28.0         2\n",
              "26                 31.0         1\n",
              "27                 41.0         1\n",
              "28                 77.0         1\n",
              "29                 88.0         1"
            ]
          },
          "metadata": {
            "tags": []
          },
          "execution_count": 183
        }
      ]
    },
    {
      "cell_type": "code",
      "metadata": {
        "colab": {
          "base_uri": "https://localhost:8080/"
        },
        "id": "eiFbzgAlOax5",
        "outputId": "726a0bf1-2d5b-472f-d12c-e763d1966ea2"
      },
      "source": [
        "(3460 + 1190 + 566 +\t336) / 6106 * 100 "
      ],
      "execution_count": 185,
      "outputs": [
        {
          "output_type": "execute_result",
          "data": {
            "text/plain": [
              "90.92695709138552"
            ]
          },
          "metadata": {
            "tags": []
          },
          "execution_count": 185
        }
      ]
    },
    {
      "cell_type": "code",
      "metadata": {
        "colab": {
          "base_uri": "https://localhost:8080/"
        },
        "id": "5vsboNFeO29W",
        "outputId": "f1012891-9990-4777-fe2e-e2df652f3e8e"
      },
      "source": [
        "3460/6106 * 100"
      ],
      "execution_count": 186,
      "outputs": [
        {
          "output_type": "execute_result",
          "data": {
            "text/plain": [
              "56.66557484441533"
            ]
          },
          "metadata": {
            "tags": []
          },
          "execution_count": 186
        }
      ]
    },
    {
      "cell_type": "markdown",
      "metadata": {
        "id": "xgynq5fHPSHc"
      },
      "source": [
        "#### Выводы"
      ]
    },
    {
      "cell_type": "markdown",
      "metadata": {
        "id": "xuIu07d6OR4s"
      },
      "source": [
        "Как можно заметить из таблицы выше, подавляющее большинство пользователей ~91% оставляют в корзине от 1 до 4 товаров.\n",
        "\n",
        " ~57% брошенных корзин пользователей содержат 1 товар.\n",
        "\n",
        " Т.к. распределение не равномерное, считать среднее значение будет некорректно, нужно посчитать медиану."
      ]
    },
    {
      "cell_type": "markdown",
      "metadata": {
        "id": "_VoQesYvx1WH"
      },
      "source": [
        "Медиана:"
      ]
    },
    {
      "cell_type": "code",
      "metadata": {
        "id": "rtZgitMYuYNY"
      },
      "source": [
        "sql = '''\n",
        "with \n",
        "products_amount_corrected as (\n",
        "  select t.*,\n",
        "  case when t.action_type in ('remove','purchase') then t.productQuantity * -1 else t.productQuantity end as quantity_corrected\n",
        "  from cart t\n",
        "),\n",
        "product_cum_sum as (\n",
        "  select \n",
        "    t.owoxId, \n",
        "    t.sessionId, \n",
        "    max(t.date) as last_date, \n",
        "    max(t.time) as last_timestamp, \n",
        "    sum(t.quantity_corrected) as product_total_count\n",
        "  from products_amount_corrected t\n",
        "  group by t.owoxId, t.sessionId\n",
        "),\n",
        "cart_products_distribution as (\n",
        "  select t.*\n",
        "  from product_cum_sum t\n",
        "  where t.product_total_count > 0\n",
        "  order by t.product_total_count desc\n",
        ")\n",
        "\n",
        "select avg(t.product_total_count) as median\n",
        "from (\n",
        "    select t.product_total_count\n",
        "    from cart_products_distribution t\n",
        "    order by 1\n",
        "    limit 2 - (select count(*) from cart_products_distribution) % 2\n",
        "    offset (\n",
        "      select (count(*) - 1) / 2 from cart_products_distribution\n",
        "    )\n",
        "  ) t\n",
        "'''"
      ],
      "execution_count": 48,
      "outputs": []
    },
    {
      "cell_type": "code",
      "metadata": {
        "colab": {
          "base_uri": "https://localhost:8080/",
          "height": 80
        },
        "id": "wBOlRSIvvB2Z",
        "outputId": "5053c93a-0132-46d1-c292-5250aa857d66"
      },
      "source": [
        "select(sql)"
      ],
      "execution_count": 49,
      "outputs": [
        {
          "output_type": "execute_result",
          "data": {
            "text/html": [
              "<div>\n",
              "<style scoped>\n",
              "    .dataframe tbody tr th:only-of-type {\n",
              "        vertical-align: middle;\n",
              "    }\n",
              "\n",
              "    .dataframe tbody tr th {\n",
              "        vertical-align: top;\n",
              "    }\n",
              "\n",
              "    .dataframe thead th {\n",
              "        text-align: right;\n",
              "    }\n",
              "</style>\n",
              "<table border=\"1\" class=\"dataframe\">\n",
              "  <thead>\n",
              "    <tr style=\"text-align: right;\">\n",
              "      <th></th>\n",
              "      <th>median</th>\n",
              "    </tr>\n",
              "  </thead>\n",
              "  <tbody>\n",
              "    <tr>\n",
              "      <th>0</th>\n",
              "      <td>1.0</td>\n",
              "    </tr>\n",
              "  </tbody>\n",
              "</table>\n",
              "</div>"
            ],
            "text/plain": [
              "   median\n",
              "0     1.0"
            ]
          },
          "metadata": {
            "tags": []
          },
          "execution_count": 49
        }
      ]
    },
    {
      "cell_type": "markdown",
      "metadata": {
        "id": "qFQXArLLx3kN"
      },
      "source": [
        "Среднее:"
      ]
    },
    {
      "cell_type": "code",
      "metadata": {
        "id": "mMEK86uFx5CW"
      },
      "source": [
        "sql = '''\n",
        "with \n",
        "products_amount_corrected as (\n",
        "  select t.*,\n",
        "  case when t.action_type in ('remove','purchase') then t.productQuantity * -1 else t.productQuantity end as quantity_corrected\n",
        "  from cart t\n",
        "),\n",
        "product_cum_sum as (\n",
        "  select \n",
        "    t.owoxId, \n",
        "    t.sessionId, \n",
        "    max(t.date) as last_date, \n",
        "    max(t.time) as last_timestamp, \n",
        "    sum(t.quantity_corrected) as product_total_count\n",
        "  from products_amount_corrected t\n",
        "  group by t.owoxId, t.sessionId\n",
        "),\n",
        "cart_products_distribution as (\n",
        "  select t.*\n",
        "  from product_cum_sum t\n",
        "  where t.product_total_count > 0\n",
        "  order by t.product_total_count desc\n",
        ")\n",
        "\n",
        "select avg(t.product_total_count) as average\n",
        "from cart_products_distribution t\n",
        "'''"
      ],
      "execution_count": 60,
      "outputs": []
    },
    {
      "cell_type": "code",
      "metadata": {
        "colab": {
          "base_uri": "https://localhost:8080/",
          "height": 80
        },
        "id": "rEkiEOg2x-N1",
        "outputId": "5584f575-5f2b-4e2d-f9a2-1e526d1a6200"
      },
      "source": [
        "select(sql)"
      ],
      "execution_count": 61,
      "outputs": [
        {
          "output_type": "execute_result",
          "data": {
            "text/html": [
              "<div>\n",
              "<style scoped>\n",
              "    .dataframe tbody tr th:only-of-type {\n",
              "        vertical-align: middle;\n",
              "    }\n",
              "\n",
              "    .dataframe tbody tr th {\n",
              "        vertical-align: top;\n",
              "    }\n",
              "\n",
              "    .dataframe thead th {\n",
              "        text-align: right;\n",
              "    }\n",
              "</style>\n",
              "<table border=\"1\" class=\"dataframe\">\n",
              "  <thead>\n",
              "    <tr style=\"text-align: right;\">\n",
              "      <th></th>\n",
              "      <th>average</th>\n",
              "    </tr>\n",
              "  </thead>\n",
              "  <tbody>\n",
              "    <tr>\n",
              "      <th>0</th>\n",
              "      <td>2.165247</td>\n",
              "    </tr>\n",
              "  </tbody>\n",
              "</table>\n",
              "</div>"
            ],
            "text/plain": [
              "    average\n",
              "0  2.165247"
            ]
          },
          "metadata": {
            "tags": []
          },
          "execution_count": 61
        }
      ]
    },
    {
      "cell_type": "markdown",
      "metadata": {
        "id": "dNyDAMmaymal"
      },
      "source": [
        "Проверим, все ли правильно посчитано с помощью python:"
      ]
    },
    {
      "cell_type": "code",
      "metadata": {
        "id": "YFu9AQciyq4e"
      },
      "source": [
        "sql = '''\n",
        "with \n",
        "products_amount_corrected as (\n",
        "  select t.*,\n",
        "  case when t.action_type in ('remove','purchase') then t.productQuantity * -1 else t.productQuantity end as quantity_corrected\n",
        "  from cart t\n",
        "),\n",
        "product_cum_sum as (\n",
        "  select \n",
        "    t.owoxId, \n",
        "    t.sessionId, \n",
        "    max(t.date) as last_date, \n",
        "    max(t.time) as last_timestamp, \n",
        "    sum(t.quantity_corrected) as product_total_count\n",
        "  from products_amount_corrected t\n",
        "  group by t.owoxId, t.sessionId\n",
        ")\n",
        "\n",
        "select t.product_total_count\n",
        "from product_cum_sum t\n",
        "where t.product_total_count > 0\n",
        "order by t.product_total_count desc\n",
        "'''\n",
        "\n",
        "df1 = select(sql)"
      ],
      "execution_count": 69,
      "outputs": []
    },
    {
      "cell_type": "code",
      "metadata": {
        "colab": {
          "base_uri": "https://localhost:8080/"
        },
        "id": "XiLatyjcwMFr",
        "outputId": "7dcf7897-0ce4-4db7-e4f4-6353a81c517b"
      },
      "source": [
        "df1.mean()"
      ],
      "execution_count": 70,
      "outputs": [
        {
          "output_type": "execute_result",
          "data": {
            "text/plain": [
              "product_total_count    2.165247\n",
              "dtype: float64"
            ]
          },
          "metadata": {
            "tags": []
          },
          "execution_count": 70
        }
      ]
    },
    {
      "cell_type": "code",
      "metadata": {
        "colab": {
          "base_uri": "https://localhost:8080/"
        },
        "id": "TDfxy_GPwye1",
        "outputId": "7d43154a-cde9-4f90-eaf9-8edabcbaa5bc"
      },
      "source": [
        "df1.median()"
      ],
      "execution_count": 71,
      "outputs": [
        {
          "output_type": "execute_result",
          "data": {
            "text/plain": [
              "product_total_count    1.0\n",
              "dtype: float64"
            ]
          },
          "metadata": {
            "tags": []
          },
          "execution_count": 71
        }
      ]
    },
    {
      "cell_type": "markdown",
      "metadata": {
        "id": "r8J_VR0UPiow"
      },
      "source": [
        "#### Найдем наиболее \"непопулярные товары\" - товары, которые остаются в корзине:"
      ]
    },
    {
      "cell_type": "code",
      "metadata": {
        "id": "VPnv9xKrPPsL"
      },
      "source": [
        "sql = '''\n",
        "with \n",
        "products_amount_corrected as (\n",
        "  select t.*,\n",
        "  case when t.action_type in ('remove','purchase') then t.productQuantity * -1 else t.productQuantity end as quantity_corrected\n",
        "  from cart t\n",
        "),\n",
        "product_cum_sum as (\n",
        "  select \n",
        "    t.owoxId, \n",
        "    t.sessionId, \n",
        "    max(t.date) as last_date, \n",
        "    max(t.time) as last_timestamp, \n",
        "    sum(t.quantity_corrected) as product_total_count\n",
        "  from products_amount_corrected t\n",
        "  group by t.owoxId, t.sessionId\n",
        "),\n",
        "products_amount_on_exit as (\n",
        "  select t.*\n",
        "  from product_cum_sum t\n",
        "  where t.product_total_count > 0\n",
        "  order by t.product_total_count desc\n",
        ")\n",
        "\n",
        "select t.owoxId from products_amount_on_exit t\n",
        "where t.product_total_count = 1\n",
        "'''"
      ],
      "execution_count": 187,
      "outputs": []
    },
    {
      "cell_type": "code",
      "metadata": {
        "colab": {
          "base_uri": "https://localhost:8080/",
          "height": 419
        },
        "id": "IyUryGyMPfXC",
        "outputId": "c8cbee4a-10fc-4520-da51-f39040c8c2ff"
      },
      "source": [
        "select(sql)"
      ],
      "execution_count": 188,
      "outputs": [
        {
          "output_type": "execute_result",
          "data": {
            "text/html": [
              "<div>\n",
              "<style scoped>\n",
              "    .dataframe tbody tr th:only-of-type {\n",
              "        vertical-align: middle;\n",
              "    }\n",
              "\n",
              "    .dataframe tbody tr th {\n",
              "        vertical-align: top;\n",
              "    }\n",
              "\n",
              "    .dataframe thead th {\n",
              "        text-align: right;\n",
              "    }\n",
              "</style>\n",
              "<table border=\"1\" class=\"dataframe\">\n",
              "  <thead>\n",
              "    <tr style=\"text-align: right;\">\n",
              "      <th></th>\n",
              "      <th>owoxId</th>\n",
              "    </tr>\n",
              "  </thead>\n",
              "  <tbody>\n",
              "    <tr>\n",
              "      <th>0</th>\n",
              "      <td>1000621507_485626986</td>\n",
              "    </tr>\n",
              "    <tr>\n",
              "      <th>1</th>\n",
              "      <td>1001643634_2074609849</td>\n",
              "    </tr>\n",
              "    <tr>\n",
              "      <th>2</th>\n",
              "      <td>1001973821_781682403</td>\n",
              "    </tr>\n",
              "    <tr>\n",
              "      <th>3</th>\n",
              "      <td>1002017410_3678598022</td>\n",
              "    </tr>\n",
              "    <tr>\n",
              "      <th>4</th>\n",
              "      <td>1002025702_1751800127</td>\n",
              "    </tr>\n",
              "    <tr>\n",
              "      <th>...</th>\n",
              "      <td>...</td>\n",
              "    </tr>\n",
              "    <tr>\n",
              "      <th>3455</th>\n",
              "      <td>99432836_3351057908</td>\n",
              "    </tr>\n",
              "    <tr>\n",
              "      <th>3456</th>\n",
              "      <td>994484470_2512314844</td>\n",
              "    </tr>\n",
              "    <tr>\n",
              "      <th>3457</th>\n",
              "      <td>997131845_432474066</td>\n",
              "    </tr>\n",
              "    <tr>\n",
              "      <th>3458</th>\n",
              "      <td>997275602_2363525930</td>\n",
              "    </tr>\n",
              "    <tr>\n",
              "      <th>3459</th>\n",
              "      <td>997492484_3203348844</td>\n",
              "    </tr>\n",
              "  </tbody>\n",
              "</table>\n",
              "<p>3460 rows × 1 columns</p>\n",
              "</div>"
            ],
            "text/plain": [
              "                     owoxId\n",
              "0      1000621507_485626986\n",
              "1     1001643634_2074609849\n",
              "2      1001973821_781682403\n",
              "3     1002017410_3678598022\n",
              "4     1002025702_1751800127\n",
              "...                     ...\n",
              "3455    99432836_3351057908\n",
              "3456   994484470_2512314844\n",
              "3457    997131845_432474066\n",
              "3458   997275602_2363525930\n",
              "3459   997492484_3203348844\n",
              "\n",
              "[3460 rows x 1 columns]"
            ]
          },
          "metadata": {
            "tags": []
          },
          "execution_count": 188
        }
      ]
    },
    {
      "cell_type": "markdown",
      "metadata": {
        "id": "1Rr2aiaVQ0dd"
      },
      "source": [
        "Достанем id пользователей, у которых в корзине от 1 до 4 товаров осталось (91% всех пользователей, бросивших корзины) и найдем самые непопулярные товары:"
      ]
    },
    {
      "cell_type": "code",
      "metadata": {
        "id": "PbVzFbynPouP"
      },
      "source": [
        "sql = '''\n",
        "with \n",
        "products_amount_corrected as (\n",
        "  select t.*,\n",
        "  case when t.action_type in ('remove','purchase') then t.productQuantity * -1 else t.productQuantity end as quantity_corrected\n",
        "  from cart t\n",
        "),\n",
        "product_cum_sum as (\n",
        "  select \n",
        "    t.owoxId, \n",
        "    t.sessionId, \n",
        "    max(t.date) as last_date, \n",
        "    max(t.time) as last_timestamp, \n",
        "    sum(t.quantity_corrected) as product_total_count\n",
        "  from products_amount_corrected t\n",
        "  group by t.owoxId, t.sessionId\n",
        "),\n",
        "products_amount_on_exit as (\n",
        "  select t.*\n",
        "  from product_cum_sum t\n",
        "  where t.product_total_count > 0\n",
        "  order by t.product_total_count desc\n",
        "),\n",
        "users_ids as (\n",
        "  select t.owoxId from products_amount_on_exit t\n",
        "  where t.product_total_count in (1,2,3,4)\n",
        ")\n",
        "\n",
        "select t.productSKU, count(t.productSKU) from cart t\n",
        "where t.action_type = 'add' and t.owoxId in (select * from users_ids)\n",
        "group by 1\n",
        "order by 2 desc\n",
        "\n",
        "limit 100\n",
        "'''"
      ],
      "execution_count": 205,
      "outputs": []
    },
    {
      "cell_type": "code",
      "metadata": {
        "colab": {
          "base_uri": "https://localhost:8080/",
          "height": 419
        },
        "id": "ncsldCm-QFDI",
        "outputId": "3a10604f-22c5-4544-d94e-58a56d34104c"
      },
      "source": [
        "select(sql)"
      ],
      "execution_count": 206,
      "outputs": [
        {
          "output_type": "execute_result",
          "data": {
            "text/html": [
              "<div>\n",
              "<style scoped>\n",
              "    .dataframe tbody tr th:only-of-type {\n",
              "        vertical-align: middle;\n",
              "    }\n",
              "\n",
              "    .dataframe tbody tr th {\n",
              "        vertical-align: top;\n",
              "    }\n",
              "\n",
              "    .dataframe thead th {\n",
              "        text-align: right;\n",
              "    }\n",
              "</style>\n",
              "<table border=\"1\" class=\"dataframe\">\n",
              "  <thead>\n",
              "    <tr style=\"text-align: right;\">\n",
              "      <th></th>\n",
              "      <th>productSKU</th>\n",
              "      <th>count(t.productSKU)</th>\n",
              "    </tr>\n",
              "  </thead>\n",
              "  <tbody>\n",
              "    <tr>\n",
              "      <th>0</th>\n",
              "      <td>GSE000742-1</td>\n",
              "      <td>44</td>\n",
              "    </tr>\n",
              "    <tr>\n",
              "      <th>1</th>\n",
              "      <td>GSH007677-1</td>\n",
              "      <td>43</td>\n",
              "    </tr>\n",
              "    <tr>\n",
              "      <th>2</th>\n",
              "      <td>GUW005178-1</td>\n",
              "      <td>39</td>\n",
              "    </tr>\n",
              "    <tr>\n",
              "      <th>3</th>\n",
              "      <td>GAC015202-1</td>\n",
              "      <td>39</td>\n",
              "    </tr>\n",
              "    <tr>\n",
              "      <th>4</th>\n",
              "      <td>GJN020940-1</td>\n",
              "      <td>36</td>\n",
              "    </tr>\n",
              "    <tr>\n",
              "      <th>...</th>\n",
              "      <td>...</td>\n",
              "      <td>...</td>\n",
              "    </tr>\n",
              "    <tr>\n",
              "      <th>95</th>\n",
              "      <td>GUW005637-1</td>\n",
              "      <td>14</td>\n",
              "    </tr>\n",
              "    <tr>\n",
              "      <th>96</th>\n",
              "      <td>GKT012672-1</td>\n",
              "      <td>14</td>\n",
              "    </tr>\n",
              "    <tr>\n",
              "      <th>97</th>\n",
              "      <td>GJN020581-1</td>\n",
              "      <td>14</td>\n",
              "    </tr>\n",
              "    <tr>\n",
              "      <th>98</th>\n",
              "      <td>GJN020045-1</td>\n",
              "      <td>14</td>\n",
              "    </tr>\n",
              "    <tr>\n",
              "      <th>99</th>\n",
              "      <td>GJN016161-1</td>\n",
              "      <td>14</td>\n",
              "    </tr>\n",
              "  </tbody>\n",
              "</table>\n",
              "<p>100 rows × 2 columns</p>\n",
              "</div>"
            ],
            "text/plain": [
              "     productSKU  count(t.productSKU)\n",
              "0   GSE000742-1                   44\n",
              "1   GSH007677-1                   43\n",
              "2   GUW005178-1                   39\n",
              "3   GAC015202-1                   39\n",
              "4   GJN020940-1                   36\n",
              "..          ...                  ...\n",
              "95  GUW005637-1                   14\n",
              "96  GKT012672-1                   14\n",
              "97  GJN020581-1                   14\n",
              "98  GJN020045-1                   14\n",
              "99  GJN016161-1                   14\n",
              "\n",
              "[100 rows x 2 columns]"
            ]
          },
          "metadata": {
            "tags": []
          },
          "execution_count": 206
        }
      ]
    },
    {
      "cell_type": "markdown",
      "metadata": {
        "id": "6jVmD-hURIwU"
      },
      "source": [
        "#### Самые непопулярные товары\n",
        "В таблице выше находятся самые непопулярные по каким-то причинам товары.\n",
        "Можно заняться дальнейшим исследованием постараться понять:\n",
        "1. покупают ли их вообще, что это за товар.\n",
        "2. посмотреть отзывы на товары, вдруг есть негатив (поставщик путает товар: цвет, размер, или товар плохо упакован и разбит и тп). Может быть товар вскрывают на пункте получения, сдают и после этот вскрытый товар уже никто не берет. \n",
        "3. провести проблемное интервью с пользователями, которые\n",
        "  * купили и остались довольны\n",
        "  * купили и остались недовольны\n",
        "  * не купили, узнать почему\n",
        "\n",
        "Это выходит за рамки тестового задания, поэтому ограничуюсь на этом."
      ]
    },
    {
      "cell_type": "markdown",
      "metadata": {
        "id": "90oXZJmZzoVP"
      },
      "source": [
        "# Спасибо за интересное задание!"
      ]
    }
  ]
}