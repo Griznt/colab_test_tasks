{
  "nbformat": 4,
  "nbformat_minor": 0,
  "metadata": {
    "colab": {
      "name": "alphabank-test-task.ipynb",
      "provenance": [],
      "collapsed_sections": [],
      "toc_visible": true,
      "authorship_tag": "ABX9TyOo5HIv6YkEmr1Oona78Jsf",
      "include_colab_link": true
    },
    "kernelspec": {
      "name": "python3",
      "display_name": "Python 3"
    },
    "language_info": {
      "name": "python"
    }
  },
  "cells": [
    {
      "cell_type": "markdown",
      "metadata": {
        "id": "view-in-github",
        "colab_type": "text"
      },
      "source": [
        "<a href=\"https://colab.research.google.com/github/Griznt/colab_test_tasks/blob/main/alphabank_test_task.ipynb\" target=\"_parent\"><img src=\"https://colab.research.google.com/assets/colab-badge.svg\" alt=\"Open In Colab\"/></a>"
      ]
    },
    {
      "cell_type": "markdown",
      "metadata": {
        "id": "dNBlGAJ5U6Ld"
      },
      "source": [
        "#Задание 1\n",
        "Приведите в качестве решения скриншот с результатом, скрипт, а также свои комментарии относительно предложенного решения (с указанием среды, в которой решали задания).\n"
      ]
    },
    {
      "cell_type": "markdown",
      "metadata": {
        "id": "7HLUcOWIVBOG"
      },
      "source": [
        "##SQL1\n",
        "Отобрать клиентов по г. Москва с суммарными остатками по клиенту от 20 000 на последнюю дату.\n"
      ]
    },
    {
      "cell_type": "markdown",
      "metadata": {
        "id": "xcuhjrrKYZxd"
      },
      "source": [
        "Обновим версию SQLite3 до более новой, с поддержкой оконных функций \n",
        "(будет перезапуск session)"
      ]
    },
    {
      "cell_type": "code",
      "metadata": {
        "colab": {
          "base_uri": "https://localhost:8080/"
        },
        "id": "AFY15qcgYgMQ",
        "outputId": "4800b7f9-4c85-4703-b9a3-ff09b8170191"
      },
      "source": [
        "!gdown --id 1BSHIKQ7rFw5BpTq5nw1UZfjPK_7Mpnbi\n",
        "!mv _sqlite3.cpython-37m-x86_64-linux-gnu.so /usr/lib/python3.7/lib-dynload/\n",
        "import os\n",
        "os.kill(os.getpid(), 9)"
      ],
      "execution_count": null,
      "outputs": [
        {
          "output_type": "stream",
          "text": [
            "Downloading...\n",
            "From: https://drive.google.com/uc?id=1BSHIKQ7rFw5BpTq5nw1UZfjPK_7Mpnbi\n",
            "To: /content/_sqlite3.cpython-37m-x86_64-linux-gnu.so\n",
            "\r0.00B [00:00, ?B/s]\r4.72MB [00:00, 36.7MB/s]\r6.23MB [00:00, 37.5MB/s]\n"
          ],
          "name": "stdout"
        }
      ]
    },
    {
      "cell_type": "code",
      "metadata": {
        "id": "O-XIMlBvZP3H"
      },
      "source": [
        "import sqlite3\n",
        "import pandas as pd"
      ],
      "execution_count": null,
      "outputs": []
    },
    {
      "cell_type": "code",
      "metadata": {
        "colab": {
          "base_uri": "https://localhost:8080/",
          "height": 35
        },
        "id": "zW3g2H0wYvzk",
        "outputId": "93a272e4-1b1e-4de5-d0ae-61bcc5787a0a"
      },
      "source": [
        "sqlite3.sqlite_version"
      ],
      "execution_count": null,
      "outputs": [
        {
          "output_type": "execute_result",
          "data": {
            "application/vnd.google.colaboratory.intrinsic+json": {
              "type": "string"
            },
            "text/plain": [
              "'3.34.1'"
            ]
          },
          "metadata": {
            "tags": []
          },
          "execution_count": 2
        }
      ]
    },
    {
      "cell_type": "code",
      "metadata": {
        "id": "E18KBRb7ZY2G"
      },
      "source": [
        "con = sqlite3.connect('db')"
      ],
      "execution_count": null,
      "outputs": []
    },
    {
      "cell_type": "code",
      "metadata": {
        "id": "h4lhtYi5b0z4"
      },
      "source": [
        "def select(sql):\n",
        "  return pd.read_sql(sql, con)"
      ],
      "execution_count": null,
      "outputs": []
    },
    {
      "cell_type": "markdown",
      "metadata": {
        "id": "1WyPvwn3XxNj"
      },
      "source": [
        "Заполним БД тестовыми данными."
      ]
    },
    {
      "cell_type": "code",
      "metadata": {
        "id": "wI_THJISSetH"
      },
      "source": [
        "cur = con.cursor()"
      ],
      "execution_count": null,
      "outputs": []
    },
    {
      "cell_type": "code",
      "metadata": {
        "id": "l9eqMpJySr8H"
      },
      "source": [
        "sql = '''\n",
        "drop table if exists clients;\n",
        "\n",
        "create table clients (client_id varchar(1), fio varchar (255) , region varchar(50), account_num int);\n",
        "\n",
        "insert into clients values  \n",
        "('A','Иванов','Москва',111), \n",
        "('A','Иванов','Москва',222), \n",
        "('B','Петров','Иваново',333), \n",
        "('C','Сидоров','Москва',444) \n",
        "\n",
        "'''"
      ],
      "execution_count": null,
      "outputs": []
    },
    {
      "cell_type": "code",
      "metadata": {
        "colab": {
          "base_uri": "https://localhost:8080/"
        },
        "id": "CeABqLPBSwhZ",
        "outputId": "14a349da-7684-4f99-a679-14a403b64b2b"
      },
      "source": [
        "cur.executescript(sql)"
      ],
      "execution_count": null,
      "outputs": [
        {
          "output_type": "execute_result",
          "data": {
            "text/plain": [
              "<pysqlite3.dbapi2.Cursor at 0x7fee147e6d50>"
            ]
          },
          "metadata": {
            "tags": []
          },
          "execution_count": 7
        }
      ]
    },
    {
      "cell_type": "code",
      "metadata": {
        "id": "9hFdqnsxTRqD"
      },
      "source": [
        "sql = '''select t.* from clients t'''"
      ],
      "execution_count": null,
      "outputs": []
    },
    {
      "cell_type": "code",
      "metadata": {
        "colab": {
          "base_uri": "https://localhost:8080/",
          "height": 173
        },
        "id": "QIjqj12VTYAj",
        "outputId": "bc28f548-7a29-4085-f846-9afe7560111b"
      },
      "source": [
        "select(sql)"
      ],
      "execution_count": null,
      "outputs": [
        {
          "output_type": "execute_result",
          "data": {
            "text/html": [
              "<div>\n",
              "<style scoped>\n",
              "    .dataframe tbody tr th:only-of-type {\n",
              "        vertical-align: middle;\n",
              "    }\n",
              "\n",
              "    .dataframe tbody tr th {\n",
              "        vertical-align: top;\n",
              "    }\n",
              "\n",
              "    .dataframe thead th {\n",
              "        text-align: right;\n",
              "    }\n",
              "</style>\n",
              "<table border=\"1\" class=\"dataframe\">\n",
              "  <thead>\n",
              "    <tr style=\"text-align: right;\">\n",
              "      <th></th>\n",
              "      <th>client_id</th>\n",
              "      <th>fio</th>\n",
              "      <th>region</th>\n",
              "      <th>account_num</th>\n",
              "    </tr>\n",
              "  </thead>\n",
              "  <tbody>\n",
              "    <tr>\n",
              "      <th>0</th>\n",
              "      <td>A</td>\n",
              "      <td>Иванов</td>\n",
              "      <td>Москва</td>\n",
              "      <td>111</td>\n",
              "    </tr>\n",
              "    <tr>\n",
              "      <th>1</th>\n",
              "      <td>A</td>\n",
              "      <td>Иванов</td>\n",
              "      <td>Москва</td>\n",
              "      <td>222</td>\n",
              "    </tr>\n",
              "    <tr>\n",
              "      <th>2</th>\n",
              "      <td>B</td>\n",
              "      <td>Петров</td>\n",
              "      <td>Иваново</td>\n",
              "      <td>333</td>\n",
              "    </tr>\n",
              "    <tr>\n",
              "      <th>3</th>\n",
              "      <td>C</td>\n",
              "      <td>Сидоров</td>\n",
              "      <td>Москва</td>\n",
              "      <td>444</td>\n",
              "    </tr>\n",
              "  </tbody>\n",
              "</table>\n",
              "</div>"
            ],
            "text/plain": [
              "  client_id      fio   region  account_num\n",
              "0         A   Иванов   Москва          111\n",
              "1         A   Иванов   Москва          222\n",
              "2         B   Петров  Иваново          333\n",
              "3         C  Сидоров   Москва          444"
            ]
          },
          "metadata": {
            "tags": []
          },
          "execution_count": 9
        }
      ]
    },
    {
      "cell_type": "code",
      "metadata": {
        "id": "hswmjHRhTajG"
      },
      "source": [
        "sql = '''\n",
        "drop table if exists accounts;\n",
        "\n",
        "create table accounts ([date] date, summa_usd money, account_num int);\n",
        "\n",
        "insert into accounts values \n",
        "('2012-01-01',15000,111), \n",
        "('2012-02-01',10000,111), \n",
        "('2012-02-01',5000,222), \n",
        "('2012-03-01',30000,333), \n",
        "('2012-04-01',20000,444)\n",
        "\n",
        "'''"
      ],
      "execution_count": null,
      "outputs": []
    },
    {
      "cell_type": "code",
      "metadata": {
        "colab": {
          "base_uri": "https://localhost:8080/"
        },
        "id": "YluXMbRDTtjr",
        "outputId": "e7e6ae2d-f73c-4575-c05b-007e0d9d8e35"
      },
      "source": [
        "cur.executescript(sql)"
      ],
      "execution_count": null,
      "outputs": [
        {
          "output_type": "execute_result",
          "data": {
            "text/plain": [
              "<pysqlite3.dbapi2.Cursor at 0x7fee147e6d50>"
            ]
          },
          "metadata": {
            "tags": []
          },
          "execution_count": 11
        }
      ]
    },
    {
      "cell_type": "code",
      "metadata": {
        "id": "jLR5UTx7T0zg"
      },
      "source": [
        "sql = '''select t.* from accounts t'''"
      ],
      "execution_count": null,
      "outputs": []
    },
    {
      "cell_type": "code",
      "metadata": {
        "colab": {
          "base_uri": "https://localhost:8080/",
          "height": 204
        },
        "id": "-5ramMtAT4NC",
        "outputId": "991a4045-1733-42ac-b5a0-6e8c45177afc"
      },
      "source": [
        "select(sql)"
      ],
      "execution_count": null,
      "outputs": [
        {
          "output_type": "execute_result",
          "data": {
            "text/html": [
              "<div>\n",
              "<style scoped>\n",
              "    .dataframe tbody tr th:only-of-type {\n",
              "        vertical-align: middle;\n",
              "    }\n",
              "\n",
              "    .dataframe tbody tr th {\n",
              "        vertical-align: top;\n",
              "    }\n",
              "\n",
              "    .dataframe thead th {\n",
              "        text-align: right;\n",
              "    }\n",
              "</style>\n",
              "<table border=\"1\" class=\"dataframe\">\n",
              "  <thead>\n",
              "    <tr style=\"text-align: right;\">\n",
              "      <th></th>\n",
              "      <th>date</th>\n",
              "      <th>summa_usd</th>\n",
              "      <th>account_num</th>\n",
              "    </tr>\n",
              "  </thead>\n",
              "  <tbody>\n",
              "    <tr>\n",
              "      <th>0</th>\n",
              "      <td>2012-01-01</td>\n",
              "      <td>15000</td>\n",
              "      <td>111</td>\n",
              "    </tr>\n",
              "    <tr>\n",
              "      <th>1</th>\n",
              "      <td>2012-02-01</td>\n",
              "      <td>10000</td>\n",
              "      <td>111</td>\n",
              "    </tr>\n",
              "    <tr>\n",
              "      <th>2</th>\n",
              "      <td>2012-02-01</td>\n",
              "      <td>5000</td>\n",
              "      <td>222</td>\n",
              "    </tr>\n",
              "    <tr>\n",
              "      <th>3</th>\n",
              "      <td>2012-03-01</td>\n",
              "      <td>30000</td>\n",
              "      <td>333</td>\n",
              "    </tr>\n",
              "    <tr>\n",
              "      <th>4</th>\n",
              "      <td>2012-04-01</td>\n",
              "      <td>20000</td>\n",
              "      <td>444</td>\n",
              "    </tr>\n",
              "  </tbody>\n",
              "</table>\n",
              "</div>"
            ],
            "text/plain": [
              "         date  summa_usd  account_num\n",
              "0  2012-01-01      15000          111\n",
              "1  2012-02-01      10000          111\n",
              "2  2012-02-01       5000          222\n",
              "3  2012-03-01      30000          333\n",
              "4  2012-04-01      20000          444"
            ]
          },
          "metadata": {
            "tags": []
          },
          "execution_count": 13
        }
      ]
    },
    {
      "cell_type": "markdown",
      "metadata": {
        "id": "AzWVRmC4U4Gc"
      },
      "source": [
        "Начнем анализ, в соотствествии с заданием:\n",
        "> Отобрать клиентов по г. Москва с суммарными остатками по клиенту от 20 000 на последнюю дату. \n",
        "\n",
        "Фраза \"на последнюю дату\" немного вводит в ступор. В текущем решении буду учесть для каждого клиента его денежные средства на последнюю дату для этого клиента по текущему счету\n"
      ]
    },
    {
      "cell_type": "code",
      "metadata": {
        "id": "mox4Pc-nFxgn"
      },
      "source": [
        "sql = '''select * from accounts'''"
      ],
      "execution_count": null,
      "outputs": []
    },
    {
      "cell_type": "code",
      "metadata": {
        "colab": {
          "base_uri": "https://localhost:8080/",
          "height": 204
        },
        "id": "wt9xeM7iF22x",
        "outputId": "77247817-bab5-4a35-b336-8bf8837653e0"
      },
      "source": [
        "select(sql)"
      ],
      "execution_count": null,
      "outputs": [
        {
          "output_type": "execute_result",
          "data": {
            "text/html": [
              "<div>\n",
              "<style scoped>\n",
              "    .dataframe tbody tr th:only-of-type {\n",
              "        vertical-align: middle;\n",
              "    }\n",
              "\n",
              "    .dataframe tbody tr th {\n",
              "        vertical-align: top;\n",
              "    }\n",
              "\n",
              "    .dataframe thead th {\n",
              "        text-align: right;\n",
              "    }\n",
              "</style>\n",
              "<table border=\"1\" class=\"dataframe\">\n",
              "  <thead>\n",
              "    <tr style=\"text-align: right;\">\n",
              "      <th></th>\n",
              "      <th>date</th>\n",
              "      <th>summa_usd</th>\n",
              "      <th>account_num</th>\n",
              "    </tr>\n",
              "  </thead>\n",
              "  <tbody>\n",
              "    <tr>\n",
              "      <th>0</th>\n",
              "      <td>2012-01-01</td>\n",
              "      <td>15000</td>\n",
              "      <td>111</td>\n",
              "    </tr>\n",
              "    <tr>\n",
              "      <th>1</th>\n",
              "      <td>2012-02-01</td>\n",
              "      <td>10000</td>\n",
              "      <td>111</td>\n",
              "    </tr>\n",
              "    <tr>\n",
              "      <th>2</th>\n",
              "      <td>2012-02-01</td>\n",
              "      <td>5000</td>\n",
              "      <td>222</td>\n",
              "    </tr>\n",
              "    <tr>\n",
              "      <th>3</th>\n",
              "      <td>2012-03-01</td>\n",
              "      <td>30000</td>\n",
              "      <td>333</td>\n",
              "    </tr>\n",
              "    <tr>\n",
              "      <th>4</th>\n",
              "      <td>2012-04-01</td>\n",
              "      <td>20000</td>\n",
              "      <td>444</td>\n",
              "    </tr>\n",
              "  </tbody>\n",
              "</table>\n",
              "</div>"
            ],
            "text/plain": [
              "         date  summa_usd  account_num\n",
              "0  2012-01-01      15000          111\n",
              "1  2012-02-01      10000          111\n",
              "2  2012-02-01       5000          222\n",
              "3  2012-03-01      30000          333\n",
              "4  2012-04-01      20000          444"
            ]
          },
          "metadata": {
            "tags": []
          },
          "execution_count": 15
        }
      ]
    },
    {
      "cell_type": "markdown",
      "metadata": {
        "id": "5QoN-CA99SNC"
      },
      "source": [
        "Найдем максимальную дату для каждого аккаунта (account_num)"
      ]
    },
    {
      "cell_type": "code",
      "metadata": {
        "id": "gq_c4L_3Ftxj"
      },
      "source": [
        "sql = '''\n",
        "select \n",
        "  a.account_num,\n",
        "  max(a.date) as max_date\n",
        "from accounts a\n",
        "group by 1\n",
        "'''"
      ],
      "execution_count": null,
      "outputs": []
    },
    {
      "cell_type": "code",
      "metadata": {
        "colab": {
          "base_uri": "https://localhost:8080/",
          "height": 173
        },
        "id": "raCY907S6qRD",
        "outputId": "a44e1e48-b7b8-4b81-e736-e3f2442e328a"
      },
      "source": [
        "select(sql)"
      ],
      "execution_count": null,
      "outputs": [
        {
          "output_type": "execute_result",
          "data": {
            "text/html": [
              "<div>\n",
              "<style scoped>\n",
              "    .dataframe tbody tr th:only-of-type {\n",
              "        vertical-align: middle;\n",
              "    }\n",
              "\n",
              "    .dataframe tbody tr th {\n",
              "        vertical-align: top;\n",
              "    }\n",
              "\n",
              "    .dataframe thead th {\n",
              "        text-align: right;\n",
              "    }\n",
              "</style>\n",
              "<table border=\"1\" class=\"dataframe\">\n",
              "  <thead>\n",
              "    <tr style=\"text-align: right;\">\n",
              "      <th></th>\n",
              "      <th>account_num</th>\n",
              "      <th>max_date</th>\n",
              "    </tr>\n",
              "  </thead>\n",
              "  <tbody>\n",
              "    <tr>\n",
              "      <th>0</th>\n",
              "      <td>111</td>\n",
              "      <td>2012-02-01</td>\n",
              "    </tr>\n",
              "    <tr>\n",
              "      <th>1</th>\n",
              "      <td>222</td>\n",
              "      <td>2012-02-01</td>\n",
              "    </tr>\n",
              "    <tr>\n",
              "      <th>2</th>\n",
              "      <td>333</td>\n",
              "      <td>2012-03-01</td>\n",
              "    </tr>\n",
              "    <tr>\n",
              "      <th>3</th>\n",
              "      <td>444</td>\n",
              "      <td>2012-04-01</td>\n",
              "    </tr>\n",
              "  </tbody>\n",
              "</table>\n",
              "</div>"
            ],
            "text/plain": [
              "   account_num    max_date\n",
              "0          111  2012-02-01\n",
              "1          222  2012-02-01\n",
              "2          333  2012-03-01\n",
              "3          444  2012-04-01"
            ]
          },
          "metadata": {
            "tags": []
          },
          "execution_count": 19
        }
      ]
    },
    {
      "cell_type": "markdown",
      "metadata": {
        "id": "KdscRiG99Zsc"
      },
      "source": [
        "Получили последнюю дату для каждого account_num.\n",
        "\n",
        "Сейчас отфильтруем данные в таблице accounts по полученным данным с max_date"
      ]
    },
    {
      "cell_type": "code",
      "metadata": {
        "id": "Op9lSZPHZPdy"
      },
      "source": [
        "sql = '''\n",
        "with account_max_date as (\n",
        "  select \n",
        "    a.account_num,\n",
        "    max(a.date) as max_date\n",
        "  from accounts a\n",
        "  group by 1\n",
        ")\n",
        "\n",
        "\n",
        "select a.* from accounts a\n",
        "  inner join account_max_date ald \n",
        "    on a.account_num = ald.account_num\n",
        "    and a.date = ald.max_date \n",
        "'''"
      ],
      "execution_count": null,
      "outputs": []
    },
    {
      "cell_type": "code",
      "metadata": {
        "colab": {
          "base_uri": "https://localhost:8080/",
          "height": 173
        },
        "id": "UenaPHVMZSdE",
        "outputId": "f91524e3-ce26-4dd0-df8e-057aa4ab27b2"
      },
      "source": [
        "select(sql)"
      ],
      "execution_count": null,
      "outputs": [
        {
          "output_type": "execute_result",
          "data": {
            "text/html": [
              "<div>\n",
              "<style scoped>\n",
              "    .dataframe tbody tr th:only-of-type {\n",
              "        vertical-align: middle;\n",
              "    }\n",
              "\n",
              "    .dataframe tbody tr th {\n",
              "        vertical-align: top;\n",
              "    }\n",
              "\n",
              "    .dataframe thead th {\n",
              "        text-align: right;\n",
              "    }\n",
              "</style>\n",
              "<table border=\"1\" class=\"dataframe\">\n",
              "  <thead>\n",
              "    <tr style=\"text-align: right;\">\n",
              "      <th></th>\n",
              "      <th>date</th>\n",
              "      <th>summa_usd</th>\n",
              "      <th>account_num</th>\n",
              "    </tr>\n",
              "  </thead>\n",
              "  <tbody>\n",
              "    <tr>\n",
              "      <th>0</th>\n",
              "      <td>2012-02-01</td>\n",
              "      <td>10000</td>\n",
              "      <td>111</td>\n",
              "    </tr>\n",
              "    <tr>\n",
              "      <th>1</th>\n",
              "      <td>2012-02-01</td>\n",
              "      <td>5000</td>\n",
              "      <td>222</td>\n",
              "    </tr>\n",
              "    <tr>\n",
              "      <th>2</th>\n",
              "      <td>2012-03-01</td>\n",
              "      <td>30000</td>\n",
              "      <td>333</td>\n",
              "    </tr>\n",
              "    <tr>\n",
              "      <th>3</th>\n",
              "      <td>2012-04-01</td>\n",
              "      <td>20000</td>\n",
              "      <td>444</td>\n",
              "    </tr>\n",
              "  </tbody>\n",
              "</table>\n",
              "</div>"
            ],
            "text/plain": [
              "         date  summa_usd  account_num\n",
              "0  2012-02-01      10000          111\n",
              "1  2012-02-01       5000          222\n",
              "2  2012-03-01      30000          333\n",
              "3  2012-04-01      20000          444"
            ]
          },
          "metadata": {
            "tags": []
          },
          "execution_count": 21
        }
      ]
    },
    {
      "cell_type": "markdown",
      "metadata": {
        "id": "gG7K2ThsZNo6"
      },
      "source": [
        "Далее, с помощью `inner join` отфильтруем и оставим только такие записи, где для каждого account_num возьмем максимальную дату."
      ]
    },
    {
      "cell_type": "code",
      "metadata": {
        "id": "5HIwX3kU9gNj"
      },
      "source": [
        "sql = '''\n",
        "with account_max_date as (\n",
        "  select \n",
        "    a.account_num,\n",
        "    max(a.date) as max_date\n",
        "  from accounts a\n",
        "  group by 1\n",
        "),\n",
        "\n",
        "accounts_filtered as (\n",
        "  select a.* from accounts a\n",
        "    inner join account_max_date ald \n",
        "      on a.account_num = ald.account_num\n",
        "      and a.date = ald.max_date \n",
        ")\n",
        "\n",
        "select \n",
        "  c.client_id,\n",
        "  c.fio,\n",
        "  c.region,\n",
        "  af.date,\n",
        "  sum(af.summa_usd) as total_sum\n",
        "from clients c\n",
        "  left join accounts_filtered af on c.account_num = af.account_num\n",
        "group by 1\n",
        "having c.region = 'Москва'\n",
        "  and  total_sum >= 20000\n",
        "'''"
      ],
      "execution_count": null,
      "outputs": []
    },
    {
      "cell_type": "code",
      "metadata": {
        "colab": {
          "base_uri": "https://localhost:8080/",
          "height": 80
        },
        "id": "6i00mcPS-5mC",
        "outputId": "f919f656-0821-4c57-b8ba-566d7a2aca3b"
      },
      "source": [
        "select(sql)"
      ],
      "execution_count": null,
      "outputs": [
        {
          "output_type": "execute_result",
          "data": {
            "text/html": [
              "<div>\n",
              "<style scoped>\n",
              "    .dataframe tbody tr th:only-of-type {\n",
              "        vertical-align: middle;\n",
              "    }\n",
              "\n",
              "    .dataframe tbody tr th {\n",
              "        vertical-align: top;\n",
              "    }\n",
              "\n",
              "    .dataframe thead th {\n",
              "        text-align: right;\n",
              "    }\n",
              "</style>\n",
              "<table border=\"1\" class=\"dataframe\">\n",
              "  <thead>\n",
              "    <tr style=\"text-align: right;\">\n",
              "      <th></th>\n",
              "      <th>client_id</th>\n",
              "      <th>fio</th>\n",
              "      <th>region</th>\n",
              "      <th>date</th>\n",
              "      <th>total_sum</th>\n",
              "    </tr>\n",
              "  </thead>\n",
              "  <tbody>\n",
              "    <tr>\n",
              "      <th>0</th>\n",
              "      <td>C</td>\n",
              "      <td>Сидоров</td>\n",
              "      <td>Москва</td>\n",
              "      <td>2012-04-01</td>\n",
              "      <td>20000</td>\n",
              "    </tr>\n",
              "  </tbody>\n",
              "</table>\n",
              "</div>"
            ],
            "text/plain": [
              "  client_id      fio  region        date  total_sum\n",
              "0         C  Сидоров  Москва  2012-04-01      20000"
            ]
          },
          "metadata": {
            "tags": []
          },
          "execution_count": 23
        }
      ]
    },
    {
      "cell_type": "markdown",
      "metadata": {
        "id": "Bw4X_tdLDASf"
      },
      "source": [
        "Отлично! \n",
        "\n",
        "### Ответ\n",
        "Сидоров"
      ]
    },
    {
      "cell_type": "markdown",
      "metadata": {
        "id": "U0ysp5MvFPac"
      },
      "source": [
        "##SQL2\n",
        "\n",
        "Таблица #oper хранит информацию о количестве произведенных операций на каждую календарную дату.  \n",
        "Вывести на каждую дату количества операций, совершенное с начала месяца по указанную дату включительно накопительным итогом.\n"
      ]
    },
    {
      "cell_type": "markdown",
      "metadata": {
        "id": "uVrDhg_AFpqK"
      },
      "source": [
        "Создадим таблицу.\n",
        "\n",
        "Не понятно, какой формат даты, укажем явно: `'%Y-%m-%d`"
      ]
    },
    {
      "cell_type": "code",
      "metadata": {
        "id": "wPnGJd3HFbCI"
      },
      "source": [
        "sql = '''\n",
        "drop table if exists oper;\n",
        "\n",
        "create table oper (date date, cnt integer);\n",
        "\n",
        "insert into oper values \n",
        "(strftime('%Y-%m-%d', '2019-06-02'),     1985), \n",
        "(strftime('%Y-%m-%d', '2019-06-03'),     1577), \n",
        "(strftime('%Y-%m-%d', '2019-06-04'),     1597), \n",
        "(strftime('%Y-%m-%d', '2019-06-05'),     1468), \n",
        "(strftime('%Y-%m-%d', '2019-07-06'),     82), \n",
        "(strftime('%Y-%m-%d', '2019-07-08'),    1689), \n",
        "(strftime('%Y-%m-%d', '2019-07-09'),     1556), \n",
        "(strftime('%Y-%m-%d', '2019-07-10'),     1480), \n",
        "(strftime('%Y-%m-%d', '2019-07-11'),     1405), \n",
        "(strftime('%Y-%m-%d', '2019-07-12'),     1502) \n",
        "'''\n"
      ],
      "execution_count": null,
      "outputs": []
    },
    {
      "cell_type": "code",
      "metadata": {
        "colab": {
          "base_uri": "https://localhost:8080/"
        },
        "id": "uDtWtiARFr5l",
        "outputId": "d5608296-9863-4686-ec0e-3d913479bc5f"
      },
      "source": [
        "cur.executescript(sql)"
      ],
      "execution_count": null,
      "outputs": [
        {
          "output_type": "execute_result",
          "data": {
            "text/plain": [
              "<pysqlite3.dbapi2.Cursor at 0x7fee147e6d50>"
            ]
          },
          "metadata": {
            "tags": []
          },
          "execution_count": 25
        }
      ]
    },
    {
      "cell_type": "code",
      "metadata": {
        "id": "csAA-bERGI6C"
      },
      "source": [
        "sql = '''select t.* from oper t  '''"
      ],
      "execution_count": null,
      "outputs": []
    },
    {
      "cell_type": "code",
      "metadata": {
        "colab": {
          "base_uri": "https://localhost:8080/",
          "height": 359
        },
        "id": "V6zxgutgGQIN",
        "outputId": "0e27d9aa-e413-4237-ae84-e7d729165b68"
      },
      "source": [
        "select(sql)"
      ],
      "execution_count": null,
      "outputs": [
        {
          "output_type": "execute_result",
          "data": {
            "text/html": [
              "<div>\n",
              "<style scoped>\n",
              "    .dataframe tbody tr th:only-of-type {\n",
              "        vertical-align: middle;\n",
              "    }\n",
              "\n",
              "    .dataframe tbody tr th {\n",
              "        vertical-align: top;\n",
              "    }\n",
              "\n",
              "    .dataframe thead th {\n",
              "        text-align: right;\n",
              "    }\n",
              "</style>\n",
              "<table border=\"1\" class=\"dataframe\">\n",
              "  <thead>\n",
              "    <tr style=\"text-align: right;\">\n",
              "      <th></th>\n",
              "      <th>date</th>\n",
              "      <th>cnt</th>\n",
              "    </tr>\n",
              "  </thead>\n",
              "  <tbody>\n",
              "    <tr>\n",
              "      <th>0</th>\n",
              "      <td>2019-06-02</td>\n",
              "      <td>1985</td>\n",
              "    </tr>\n",
              "    <tr>\n",
              "      <th>1</th>\n",
              "      <td>2019-06-03</td>\n",
              "      <td>1577</td>\n",
              "    </tr>\n",
              "    <tr>\n",
              "      <th>2</th>\n",
              "      <td>2019-06-04</td>\n",
              "      <td>1597</td>\n",
              "    </tr>\n",
              "    <tr>\n",
              "      <th>3</th>\n",
              "      <td>2019-06-05</td>\n",
              "      <td>1468</td>\n",
              "    </tr>\n",
              "    <tr>\n",
              "      <th>4</th>\n",
              "      <td>2019-07-06</td>\n",
              "      <td>82</td>\n",
              "    </tr>\n",
              "    <tr>\n",
              "      <th>5</th>\n",
              "      <td>2019-07-08</td>\n",
              "      <td>1689</td>\n",
              "    </tr>\n",
              "    <tr>\n",
              "      <th>6</th>\n",
              "      <td>2019-07-09</td>\n",
              "      <td>1556</td>\n",
              "    </tr>\n",
              "    <tr>\n",
              "      <th>7</th>\n",
              "      <td>2019-07-10</td>\n",
              "      <td>1480</td>\n",
              "    </tr>\n",
              "    <tr>\n",
              "      <th>8</th>\n",
              "      <td>2019-07-11</td>\n",
              "      <td>1405</td>\n",
              "    </tr>\n",
              "    <tr>\n",
              "      <th>9</th>\n",
              "      <td>2019-07-12</td>\n",
              "      <td>1502</td>\n",
              "    </tr>\n",
              "  </tbody>\n",
              "</table>\n",
              "</div>"
            ],
            "text/plain": [
              "         date   cnt\n",
              "0  2019-06-02  1985\n",
              "1  2019-06-03  1577\n",
              "2  2019-06-04  1597\n",
              "3  2019-06-05  1468\n",
              "4  2019-07-06    82\n",
              "5  2019-07-08  1689\n",
              "6  2019-07-09  1556\n",
              "7  2019-07-10  1480\n",
              "8  2019-07-11  1405\n",
              "9  2019-07-12  1502"
            ]
          },
          "metadata": {
            "tags": []
          },
          "execution_count": 27
        }
      ]
    },
    {
      "cell_type": "markdown",
      "metadata": {
        "id": "fIF4CSIyGYpx"
      },
      "source": [
        "Такую задачу можно решить с помощью join таблицы саму на себя, без оконных функций:"
      ]
    },
    {
      "cell_type": "code",
      "metadata": {
        "id": "A7Sjrc7eGflc"
      },
      "source": [
        "sql = '''\n",
        "select o.date, o.cnt, sum(o2.cnt) as cumulative_sum\n",
        "  from oper o\n",
        "   join oper o2 on o2.date <= o.date\n",
        "group by o.date\n",
        "  '''"
      ],
      "execution_count": null,
      "outputs": []
    },
    {
      "cell_type": "code",
      "metadata": {
        "colab": {
          "base_uri": "https://localhost:8080/",
          "height": 359
        },
        "id": "D4Hp9m4kRYFJ",
        "outputId": "9aad687e-5a57-4d40-b025-0e5d288428a7"
      },
      "source": [
        "select(sql)"
      ],
      "execution_count": null,
      "outputs": [
        {
          "output_type": "execute_result",
          "data": {
            "text/html": [
              "<div>\n",
              "<style scoped>\n",
              "    .dataframe tbody tr th:only-of-type {\n",
              "        vertical-align: middle;\n",
              "    }\n",
              "\n",
              "    .dataframe tbody tr th {\n",
              "        vertical-align: top;\n",
              "    }\n",
              "\n",
              "    .dataframe thead th {\n",
              "        text-align: right;\n",
              "    }\n",
              "</style>\n",
              "<table border=\"1\" class=\"dataframe\">\n",
              "  <thead>\n",
              "    <tr style=\"text-align: right;\">\n",
              "      <th></th>\n",
              "      <th>date</th>\n",
              "      <th>cnt</th>\n",
              "      <th>cumulative_sum</th>\n",
              "    </tr>\n",
              "  </thead>\n",
              "  <tbody>\n",
              "    <tr>\n",
              "      <th>0</th>\n",
              "      <td>2019-06-02</td>\n",
              "      <td>1985</td>\n",
              "      <td>1985</td>\n",
              "    </tr>\n",
              "    <tr>\n",
              "      <th>1</th>\n",
              "      <td>2019-06-03</td>\n",
              "      <td>1577</td>\n",
              "      <td>3562</td>\n",
              "    </tr>\n",
              "    <tr>\n",
              "      <th>2</th>\n",
              "      <td>2019-06-04</td>\n",
              "      <td>1597</td>\n",
              "      <td>5159</td>\n",
              "    </tr>\n",
              "    <tr>\n",
              "      <th>3</th>\n",
              "      <td>2019-06-05</td>\n",
              "      <td>1468</td>\n",
              "      <td>6627</td>\n",
              "    </tr>\n",
              "    <tr>\n",
              "      <th>4</th>\n",
              "      <td>2019-07-06</td>\n",
              "      <td>82</td>\n",
              "      <td>6709</td>\n",
              "    </tr>\n",
              "    <tr>\n",
              "      <th>5</th>\n",
              "      <td>2019-07-08</td>\n",
              "      <td>1689</td>\n",
              "      <td>8398</td>\n",
              "    </tr>\n",
              "    <tr>\n",
              "      <th>6</th>\n",
              "      <td>2019-07-09</td>\n",
              "      <td>1556</td>\n",
              "      <td>9954</td>\n",
              "    </tr>\n",
              "    <tr>\n",
              "      <th>7</th>\n",
              "      <td>2019-07-10</td>\n",
              "      <td>1480</td>\n",
              "      <td>11434</td>\n",
              "    </tr>\n",
              "    <tr>\n",
              "      <th>8</th>\n",
              "      <td>2019-07-11</td>\n",
              "      <td>1405</td>\n",
              "      <td>12839</td>\n",
              "    </tr>\n",
              "    <tr>\n",
              "      <th>9</th>\n",
              "      <td>2019-07-12</td>\n",
              "      <td>1502</td>\n",
              "      <td>14341</td>\n",
              "    </tr>\n",
              "  </tbody>\n",
              "</table>\n",
              "</div>"
            ],
            "text/plain": [
              "         date   cnt  cumulative_sum\n",
              "0  2019-06-02  1985            1985\n",
              "1  2019-06-03  1577            3562\n",
              "2  2019-06-04  1597            5159\n",
              "3  2019-06-05  1468            6627\n",
              "4  2019-07-06    82            6709\n",
              "5  2019-07-08  1689            8398\n",
              "6  2019-07-09  1556            9954\n",
              "7  2019-07-10  1480           11434\n",
              "8  2019-07-11  1405           12839\n",
              "9  2019-07-12  1502           14341"
            ]
          },
          "metadata": {
            "tags": []
          },
          "execution_count": 29
        }
      ]
    },
    {
      "cell_type": "markdown",
      "metadata": {
        "id": "M-qsUbNcmOmB"
      },
      "source": [
        "Проверим вручную"
      ]
    },
    {
      "cell_type": "code",
      "metadata": {
        "colab": {
          "base_uri": "https://localhost:8080/"
        },
        "id": "JOL-S_m4W8yt",
        "outputId": "e65fd68b-615f-49a5-f618-61fb77a7fa5c"
      },
      "source": [
        "1577 + 1985"
      ],
      "execution_count": null,
      "outputs": [
        {
          "output_type": "execute_result",
          "data": {
            "text/plain": [
              "3562"
            ]
          },
          "metadata": {
            "tags": []
          },
          "execution_count": 30
        }
      ]
    },
    {
      "cell_type": "markdown",
      "metadata": {
        "id": "wvD55cCaewJd"
      },
      "source": [
        "###Другой формат даты\n",
        "Рассмотрим другой вариант, если мы даты укажем в другом формате"
      ]
    },
    {
      "cell_type": "code",
      "metadata": {
        "id": "w-LkiyEuPjlF"
      },
      "source": [
        "sql = '''\n",
        "drop table if exists oper;\n",
        "\n",
        "create table oper (date date, cnt int);\n",
        "\n",
        "insert into oper values \n",
        "(strftime('%Y-%d-%m', '2019-06-02'),     1985), \n",
        "(strftime('%Y-%d-%m', '2019-06-03'),     1577), \n",
        "(strftime('%Y-%d-%m', '2019-06-04'),     1597), \n",
        "(strftime('%Y-%d-%m', '2019-06-05'),     1468), \n",
        "(strftime('%Y-%d-%m', '2019-07-06'),     82), \n",
        "(strftime('%Y-%d-%m', '2019-07-08'),    1689), \n",
        "(strftime('%Y-%d-%m', '2019-07-09'),     1556), \n",
        "(strftime('%Y-%d-%m', '2019-07-10'),     1480), \n",
        "(strftime('%Y-%d-%m', '2019-07-11'),     1405), \n",
        "(strftime('%Y-%d-%m', '2019-07-12'),     1502) \n",
        "'''\n"
      ],
      "execution_count": null,
      "outputs": []
    },
    {
      "cell_type": "code",
      "metadata": {
        "id": "AC7GY-mkQw5z"
      },
      "source": [
        "sql = '''\n",
        "select o.date, o.cnt from oper o\n",
        "order by o.date\n",
        "'''"
      ],
      "execution_count": null,
      "outputs": []
    },
    {
      "cell_type": "code",
      "metadata": {
        "colab": {
          "base_uri": "https://localhost:8080/",
          "height": 359
        },
        "id": "V07NwXwmHO-z",
        "outputId": "4c38fcb1-1058-4be3-8b5b-5af89f592b29"
      },
      "source": [
        "select(sql)"
      ],
      "execution_count": null,
      "outputs": [
        {
          "output_type": "execute_result",
          "data": {
            "text/html": [
              "<div>\n",
              "<style scoped>\n",
              "    .dataframe tbody tr th:only-of-type {\n",
              "        vertical-align: middle;\n",
              "    }\n",
              "\n",
              "    .dataframe tbody tr th {\n",
              "        vertical-align: top;\n",
              "    }\n",
              "\n",
              "    .dataframe thead th {\n",
              "        text-align: right;\n",
              "    }\n",
              "</style>\n",
              "<table border=\"1\" class=\"dataframe\">\n",
              "  <thead>\n",
              "    <tr style=\"text-align: right;\">\n",
              "      <th></th>\n",
              "      <th>date</th>\n",
              "      <th>cnt</th>\n",
              "    </tr>\n",
              "  </thead>\n",
              "  <tbody>\n",
              "    <tr>\n",
              "      <th>0</th>\n",
              "      <td>2019-06-02</td>\n",
              "      <td>1985</td>\n",
              "    </tr>\n",
              "    <tr>\n",
              "      <th>1</th>\n",
              "      <td>2019-06-03</td>\n",
              "      <td>1577</td>\n",
              "    </tr>\n",
              "    <tr>\n",
              "      <th>2</th>\n",
              "      <td>2019-06-04</td>\n",
              "      <td>1597</td>\n",
              "    </tr>\n",
              "    <tr>\n",
              "      <th>3</th>\n",
              "      <td>2019-06-05</td>\n",
              "      <td>1468</td>\n",
              "    </tr>\n",
              "    <tr>\n",
              "      <th>4</th>\n",
              "      <td>2019-07-06</td>\n",
              "      <td>82</td>\n",
              "    </tr>\n",
              "    <tr>\n",
              "      <th>5</th>\n",
              "      <td>2019-07-08</td>\n",
              "      <td>1689</td>\n",
              "    </tr>\n",
              "    <tr>\n",
              "      <th>6</th>\n",
              "      <td>2019-07-09</td>\n",
              "      <td>1556</td>\n",
              "    </tr>\n",
              "    <tr>\n",
              "      <th>7</th>\n",
              "      <td>2019-07-10</td>\n",
              "      <td>1480</td>\n",
              "    </tr>\n",
              "    <tr>\n",
              "      <th>8</th>\n",
              "      <td>2019-07-11</td>\n",
              "      <td>1405</td>\n",
              "    </tr>\n",
              "    <tr>\n",
              "      <th>9</th>\n",
              "      <td>2019-07-12</td>\n",
              "      <td>1502</td>\n",
              "    </tr>\n",
              "  </tbody>\n",
              "</table>\n",
              "</div>"
            ],
            "text/plain": [
              "         date   cnt\n",
              "0  2019-06-02  1985\n",
              "1  2019-06-03  1577\n",
              "2  2019-06-04  1597\n",
              "3  2019-06-05  1468\n",
              "4  2019-07-06    82\n",
              "5  2019-07-08  1689\n",
              "6  2019-07-09  1556\n",
              "7  2019-07-10  1480\n",
              "8  2019-07-11  1405\n",
              "9  2019-07-12  1502"
            ]
          },
          "metadata": {
            "tags": []
          },
          "execution_count": 34
        }
      ]
    },
    {
      "cell_type": "markdown",
      "metadata": {
        "id": "eSdfrxmMfA6H"
      },
      "source": [
        "В принципе, как мы видим, порядок сохраняется, значит результат отличаться не будет"
      ]
    },
    {
      "cell_type": "code",
      "metadata": {
        "id": "bTzRgSbvfOXl"
      },
      "source": [
        "sql = '''\n",
        "select o.date, o.cnt, sum(o2.cnt) as cumulative_sum\n",
        "  from oper o\n",
        "   join oper o2 on o2.date <= o.date\n",
        "group by o.date\n",
        "  '''"
      ],
      "execution_count": null,
      "outputs": []
    },
    {
      "cell_type": "code",
      "metadata": {
        "colab": {
          "base_uri": "https://localhost:8080/",
          "height": 359
        },
        "id": "Tg-Nm1HhfPPY",
        "outputId": "0e63044b-4f8d-4d78-8ecd-ea7ec588fa73"
      },
      "source": [
        "select(sql)"
      ],
      "execution_count": null,
      "outputs": [
        {
          "output_type": "execute_result",
          "data": {
            "text/html": [
              "<div>\n",
              "<style scoped>\n",
              "    .dataframe tbody tr th:only-of-type {\n",
              "        vertical-align: middle;\n",
              "    }\n",
              "\n",
              "    .dataframe tbody tr th {\n",
              "        vertical-align: top;\n",
              "    }\n",
              "\n",
              "    .dataframe thead th {\n",
              "        text-align: right;\n",
              "    }\n",
              "</style>\n",
              "<table border=\"1\" class=\"dataframe\">\n",
              "  <thead>\n",
              "    <tr style=\"text-align: right;\">\n",
              "      <th></th>\n",
              "      <th>date</th>\n",
              "      <th>cnt</th>\n",
              "      <th>cumulative_sum</th>\n",
              "    </tr>\n",
              "  </thead>\n",
              "  <tbody>\n",
              "    <tr>\n",
              "      <th>0</th>\n",
              "      <td>2019-06-02</td>\n",
              "      <td>1985</td>\n",
              "      <td>1985</td>\n",
              "    </tr>\n",
              "    <tr>\n",
              "      <th>1</th>\n",
              "      <td>2019-06-03</td>\n",
              "      <td>1577</td>\n",
              "      <td>3562</td>\n",
              "    </tr>\n",
              "    <tr>\n",
              "      <th>2</th>\n",
              "      <td>2019-06-04</td>\n",
              "      <td>1597</td>\n",
              "      <td>5159</td>\n",
              "    </tr>\n",
              "    <tr>\n",
              "      <th>3</th>\n",
              "      <td>2019-06-05</td>\n",
              "      <td>1468</td>\n",
              "      <td>6627</td>\n",
              "    </tr>\n",
              "    <tr>\n",
              "      <th>4</th>\n",
              "      <td>2019-07-06</td>\n",
              "      <td>82</td>\n",
              "      <td>6709</td>\n",
              "    </tr>\n",
              "    <tr>\n",
              "      <th>5</th>\n",
              "      <td>2019-07-08</td>\n",
              "      <td>1689</td>\n",
              "      <td>8398</td>\n",
              "    </tr>\n",
              "    <tr>\n",
              "      <th>6</th>\n",
              "      <td>2019-07-09</td>\n",
              "      <td>1556</td>\n",
              "      <td>9954</td>\n",
              "    </tr>\n",
              "    <tr>\n",
              "      <th>7</th>\n",
              "      <td>2019-07-10</td>\n",
              "      <td>1480</td>\n",
              "      <td>11434</td>\n",
              "    </tr>\n",
              "    <tr>\n",
              "      <th>8</th>\n",
              "      <td>2019-07-11</td>\n",
              "      <td>1405</td>\n",
              "      <td>12839</td>\n",
              "    </tr>\n",
              "    <tr>\n",
              "      <th>9</th>\n",
              "      <td>2019-07-12</td>\n",
              "      <td>1502</td>\n",
              "      <td>14341</td>\n",
              "    </tr>\n",
              "  </tbody>\n",
              "</table>\n",
              "</div>"
            ],
            "text/plain": [
              "         date   cnt  cumulative_sum\n",
              "0  2019-06-02  1985            1985\n",
              "1  2019-06-03  1577            3562\n",
              "2  2019-06-04  1597            5159\n",
              "3  2019-06-05  1468            6627\n",
              "4  2019-07-06    82            6709\n",
              "5  2019-07-08  1689            8398\n",
              "6  2019-07-09  1556            9954\n",
              "7  2019-07-10  1480           11434\n",
              "8  2019-07-11  1405           12839\n",
              "9  2019-07-12  1502           14341"
            ]
          },
          "metadata": {
            "tags": []
          },
          "execution_count": 36
        }
      ]
    },
    {
      "cell_type": "markdown",
      "metadata": {
        "id": "hVoPFA9AieBr"
      },
      "source": [
        "###Вариант с оконными функциями\n",
        "Эту задачу можно решить с помощью оконных функций"
      ]
    },
    {
      "cell_type": "code",
      "metadata": {
        "id": "Kf83lxvajUG2"
      },
      "source": [
        "sql = '''select o.* from oper o'''"
      ],
      "execution_count": null,
      "outputs": []
    },
    {
      "cell_type": "code",
      "metadata": {
        "colab": {
          "base_uri": "https://localhost:8080/",
          "height": 359
        },
        "id": "1UdHmnm0jaEr",
        "outputId": "86a4addd-6b2e-458a-fad0-34e36c515f2b"
      },
      "source": [
        "select(sql)"
      ],
      "execution_count": null,
      "outputs": [
        {
          "output_type": "execute_result",
          "data": {
            "text/html": [
              "<div>\n",
              "<style scoped>\n",
              "    .dataframe tbody tr th:only-of-type {\n",
              "        vertical-align: middle;\n",
              "    }\n",
              "\n",
              "    .dataframe tbody tr th {\n",
              "        vertical-align: top;\n",
              "    }\n",
              "\n",
              "    .dataframe thead th {\n",
              "        text-align: right;\n",
              "    }\n",
              "</style>\n",
              "<table border=\"1\" class=\"dataframe\">\n",
              "  <thead>\n",
              "    <tr style=\"text-align: right;\">\n",
              "      <th></th>\n",
              "      <th>date</th>\n",
              "      <th>cnt</th>\n",
              "    </tr>\n",
              "  </thead>\n",
              "  <tbody>\n",
              "    <tr>\n",
              "      <th>0</th>\n",
              "      <td>2019-06-02</td>\n",
              "      <td>1985</td>\n",
              "    </tr>\n",
              "    <tr>\n",
              "      <th>1</th>\n",
              "      <td>2019-06-03</td>\n",
              "      <td>1577</td>\n",
              "    </tr>\n",
              "    <tr>\n",
              "      <th>2</th>\n",
              "      <td>2019-06-04</td>\n",
              "      <td>1597</td>\n",
              "    </tr>\n",
              "    <tr>\n",
              "      <th>3</th>\n",
              "      <td>2019-06-05</td>\n",
              "      <td>1468</td>\n",
              "    </tr>\n",
              "    <tr>\n",
              "      <th>4</th>\n",
              "      <td>2019-07-06</td>\n",
              "      <td>82</td>\n",
              "    </tr>\n",
              "    <tr>\n",
              "      <th>5</th>\n",
              "      <td>2019-07-08</td>\n",
              "      <td>1689</td>\n",
              "    </tr>\n",
              "    <tr>\n",
              "      <th>6</th>\n",
              "      <td>2019-07-09</td>\n",
              "      <td>1556</td>\n",
              "    </tr>\n",
              "    <tr>\n",
              "      <th>7</th>\n",
              "      <td>2019-07-10</td>\n",
              "      <td>1480</td>\n",
              "    </tr>\n",
              "    <tr>\n",
              "      <th>8</th>\n",
              "      <td>2019-07-11</td>\n",
              "      <td>1405</td>\n",
              "    </tr>\n",
              "    <tr>\n",
              "      <th>9</th>\n",
              "      <td>2019-07-12</td>\n",
              "      <td>1502</td>\n",
              "    </tr>\n",
              "  </tbody>\n",
              "</table>\n",
              "</div>"
            ],
            "text/plain": [
              "         date   cnt\n",
              "0  2019-06-02  1985\n",
              "1  2019-06-03  1577\n",
              "2  2019-06-04  1597\n",
              "3  2019-06-05  1468\n",
              "4  2019-07-06    82\n",
              "5  2019-07-08  1689\n",
              "6  2019-07-09  1556\n",
              "7  2019-07-10  1480\n",
              "8  2019-07-11  1405\n",
              "9  2019-07-12  1502"
            ]
          },
          "metadata": {
            "tags": []
          },
          "execution_count": 38
        }
      ]
    },
    {
      "cell_type": "code",
      "metadata": {
        "id": "TyGwFM6bjdpZ"
      },
      "source": [
        "sql = '''\n",
        "select\n",
        "  o.date,\n",
        "  o.cnt,\n",
        "  sum(o.cnt) over (order by date)\n",
        "from oper o\n",
        "'''"
      ],
      "execution_count": null,
      "outputs": []
    },
    {
      "cell_type": "code",
      "metadata": {
        "colab": {
          "base_uri": "https://localhost:8080/",
          "height": 359
        },
        "id": "HxeK7mVij83p",
        "outputId": "51fa3372-5424-406f-90b1-9fd81a1de05c"
      },
      "source": [
        "select(sql)"
      ],
      "execution_count": null,
      "outputs": [
        {
          "output_type": "execute_result",
          "data": {
            "text/html": [
              "<div>\n",
              "<style scoped>\n",
              "    .dataframe tbody tr th:only-of-type {\n",
              "        vertical-align: middle;\n",
              "    }\n",
              "\n",
              "    .dataframe tbody tr th {\n",
              "        vertical-align: top;\n",
              "    }\n",
              "\n",
              "    .dataframe thead th {\n",
              "        text-align: right;\n",
              "    }\n",
              "</style>\n",
              "<table border=\"1\" class=\"dataframe\">\n",
              "  <thead>\n",
              "    <tr style=\"text-align: right;\">\n",
              "      <th></th>\n",
              "      <th>date</th>\n",
              "      <th>cnt</th>\n",
              "      <th>sum(o.cnt) over (order by date)</th>\n",
              "    </tr>\n",
              "  </thead>\n",
              "  <tbody>\n",
              "    <tr>\n",
              "      <th>0</th>\n",
              "      <td>2019-06-02</td>\n",
              "      <td>1985</td>\n",
              "      <td>1985</td>\n",
              "    </tr>\n",
              "    <tr>\n",
              "      <th>1</th>\n",
              "      <td>2019-06-03</td>\n",
              "      <td>1577</td>\n",
              "      <td>3562</td>\n",
              "    </tr>\n",
              "    <tr>\n",
              "      <th>2</th>\n",
              "      <td>2019-06-04</td>\n",
              "      <td>1597</td>\n",
              "      <td>5159</td>\n",
              "    </tr>\n",
              "    <tr>\n",
              "      <th>3</th>\n",
              "      <td>2019-06-05</td>\n",
              "      <td>1468</td>\n",
              "      <td>6627</td>\n",
              "    </tr>\n",
              "    <tr>\n",
              "      <th>4</th>\n",
              "      <td>2019-07-06</td>\n",
              "      <td>82</td>\n",
              "      <td>6709</td>\n",
              "    </tr>\n",
              "    <tr>\n",
              "      <th>5</th>\n",
              "      <td>2019-07-08</td>\n",
              "      <td>1689</td>\n",
              "      <td>8398</td>\n",
              "    </tr>\n",
              "    <tr>\n",
              "      <th>6</th>\n",
              "      <td>2019-07-09</td>\n",
              "      <td>1556</td>\n",
              "      <td>9954</td>\n",
              "    </tr>\n",
              "    <tr>\n",
              "      <th>7</th>\n",
              "      <td>2019-07-10</td>\n",
              "      <td>1480</td>\n",
              "      <td>11434</td>\n",
              "    </tr>\n",
              "    <tr>\n",
              "      <th>8</th>\n",
              "      <td>2019-07-11</td>\n",
              "      <td>1405</td>\n",
              "      <td>12839</td>\n",
              "    </tr>\n",
              "    <tr>\n",
              "      <th>9</th>\n",
              "      <td>2019-07-12</td>\n",
              "      <td>1502</td>\n",
              "      <td>14341</td>\n",
              "    </tr>\n",
              "  </tbody>\n",
              "</table>\n",
              "</div>"
            ],
            "text/plain": [
              "         date   cnt  sum(o.cnt) over (order by date)\n",
              "0  2019-06-02  1985                             1985\n",
              "1  2019-06-03  1577                             3562\n",
              "2  2019-06-04  1597                             5159\n",
              "3  2019-06-05  1468                             6627\n",
              "4  2019-07-06    82                             6709\n",
              "5  2019-07-08  1689                             8398\n",
              "6  2019-07-09  1556                             9954\n",
              "7  2019-07-10  1480                            11434\n",
              "8  2019-07-11  1405                            12839\n",
              "9  2019-07-12  1502                            14341"
            ]
          },
          "metadata": {
            "tags": []
          },
          "execution_count": 40
        }
      ]
    },
    {
      "cell_type": "markdown",
      "metadata": {
        "id": "vVGR7G5gfZcj"
      },
      "source": [
        "###Ответ\n",
        "\n",
        "Работает. Результат получился тот же."
      ]
    },
    {
      "cell_type": "markdown",
      "metadata": {
        "id": "KHYDd8S9fcmV"
      },
      "source": [
        "##SQL3"
      ]
    },
    {
      "cell_type": "markdown",
      "metadata": {
        "id": "uitXJTsNff4u"
      },
      "source": [
        "Даны месячные срезы сегментов клиентов, нужно получить по каждому клиенту периоды действия каждого сегмента. "
      ]
    },
    {
      "cell_type": "markdown",
      "metadata": {
        "id": "TPgcAc2Yfjbi"
      },
      "source": [
        "Заполним таблицу:"
      ]
    },
    {
      "cell_type": "code",
      "metadata": {
        "id": "LQmyhuTUfl_M"
      },
      "source": [
        "sql = '''\n",
        "drop table if exists segment;\n",
        "\n",
        "create table segment ([date] date, client_id varchar(6), segment_id int); \n",
        "\n",
        "insert into segment values  \n",
        "('2018-01-31' ,'A11111', 2), \n",
        "('2018-02-28' ,'A11111', 2), \n",
        "('2018-03-31' ,'A11111', 1), \n",
        "('2018-04-30' ,'A11111', 1), \n",
        "('2017-11-30' ,'B22222', 1), \n",
        "('2017-10-31' ,'B22222', 1), \n",
        "('2017-09-30' ,'B22222', 3), \n",
        "('2017-09-30' ,'C33333', 1), \n",
        "('2017-10-31' ,'C33333', 1) \n",
        "'''"
      ],
      "execution_count": null,
      "outputs": []
    },
    {
      "cell_type": "code",
      "metadata": {
        "colab": {
          "base_uri": "https://localhost:8080/"
        },
        "id": "0Kz30I4If2_b",
        "outputId": "7bc478db-4248-416e-bb38-b2db0d7b510f"
      },
      "source": [
        "cur.executescript(sql)"
      ],
      "execution_count": null,
      "outputs": [
        {
          "output_type": "execute_result",
          "data": {
            "text/plain": [
              "<pysqlite3.dbapi2.Cursor at 0x7fccd191ee30>"
            ]
          },
          "metadata": {
            "tags": []
          },
          "execution_count": 120
        }
      ]
    },
    {
      "cell_type": "code",
      "metadata": {
        "id": "zlogbV4Mf83R"
      },
      "source": [
        "sql = ''' select s.* from segment s order by s.client_id, s.segment_id, s.date'''"
      ],
      "execution_count": null,
      "outputs": []
    },
    {
      "cell_type": "code",
      "metadata": {
        "colab": {
          "base_uri": "https://localhost:8080/",
          "height": 328
        },
        "id": "vaK3Mflwf6kV",
        "outputId": "5299493f-3620-4604-bf7e-44608bca7c83"
      },
      "source": [
        "select(sql)"
      ],
      "execution_count": null,
      "outputs": [
        {
          "output_type": "execute_result",
          "data": {
            "text/html": [
              "<div>\n",
              "<style scoped>\n",
              "    .dataframe tbody tr th:only-of-type {\n",
              "        vertical-align: middle;\n",
              "    }\n",
              "\n",
              "    .dataframe tbody tr th {\n",
              "        vertical-align: top;\n",
              "    }\n",
              "\n",
              "    .dataframe thead th {\n",
              "        text-align: right;\n",
              "    }\n",
              "</style>\n",
              "<table border=\"1\" class=\"dataframe\">\n",
              "  <thead>\n",
              "    <tr style=\"text-align: right;\">\n",
              "      <th></th>\n",
              "      <th>date</th>\n",
              "      <th>client_id</th>\n",
              "      <th>segment_id</th>\n",
              "    </tr>\n",
              "  </thead>\n",
              "  <tbody>\n",
              "    <tr>\n",
              "      <th>0</th>\n",
              "      <td>2018-03-31</td>\n",
              "      <td>A11111</td>\n",
              "      <td>1</td>\n",
              "    </tr>\n",
              "    <tr>\n",
              "      <th>1</th>\n",
              "      <td>2018-04-30</td>\n",
              "      <td>A11111</td>\n",
              "      <td>1</td>\n",
              "    </tr>\n",
              "    <tr>\n",
              "      <th>2</th>\n",
              "      <td>2018-01-31</td>\n",
              "      <td>A11111</td>\n",
              "      <td>2</td>\n",
              "    </tr>\n",
              "    <tr>\n",
              "      <th>3</th>\n",
              "      <td>2018-02-28</td>\n",
              "      <td>A11111</td>\n",
              "      <td>2</td>\n",
              "    </tr>\n",
              "    <tr>\n",
              "      <th>4</th>\n",
              "      <td>2017-10-31</td>\n",
              "      <td>B22222</td>\n",
              "      <td>1</td>\n",
              "    </tr>\n",
              "    <tr>\n",
              "      <th>5</th>\n",
              "      <td>2017-11-30</td>\n",
              "      <td>B22222</td>\n",
              "      <td>1</td>\n",
              "    </tr>\n",
              "    <tr>\n",
              "      <th>6</th>\n",
              "      <td>2017-09-30</td>\n",
              "      <td>B22222</td>\n",
              "      <td>3</td>\n",
              "    </tr>\n",
              "    <tr>\n",
              "      <th>7</th>\n",
              "      <td>2017-09-30</td>\n",
              "      <td>C33333</td>\n",
              "      <td>1</td>\n",
              "    </tr>\n",
              "    <tr>\n",
              "      <th>8</th>\n",
              "      <td>2017-10-31</td>\n",
              "      <td>C33333</td>\n",
              "      <td>1</td>\n",
              "    </tr>\n",
              "  </tbody>\n",
              "</table>\n",
              "</div>"
            ],
            "text/plain": [
              "         date client_id  segment_id\n",
              "0  2018-03-31    A11111           1\n",
              "1  2018-04-30    A11111           1\n",
              "2  2018-01-31    A11111           2\n",
              "3  2018-02-28    A11111           2\n",
              "4  2017-10-31    B22222           1\n",
              "5  2017-11-30    B22222           1\n",
              "6  2017-09-30    B22222           3\n",
              "7  2017-09-30    C33333           1\n",
              "8  2017-10-31    C33333           1"
            ]
          },
          "metadata": {
            "tags": []
          },
          "execution_count": 148
        }
      ]
    },
    {
      "cell_type": "markdown",
      "metadata": {
        "id": "Pk_mboK1mJtq"
      },
      "source": [
        "Раз нужно указать периоды действия, а мы имеем даты окончания сегмента, нужно для каждой даты найти начало месяца"
      ]
    },
    {
      "cell_type": "code",
      "metadata": {
        "id": "URz2B9ZjmWr8"
      },
      "source": [
        "sql = '''select \n",
        "  s.*, \n",
        "  date(s.date, 'start of month') as start_date\n",
        "from segment s\n",
        "order by s.client_id, s.segment_id, s.date'''"
      ],
      "execution_count": null,
      "outputs": []
    },
    {
      "cell_type": "code",
      "metadata": {
        "colab": {
          "base_uri": "https://localhost:8080/",
          "height": 328
        },
        "id": "VI6rS-zSmldw",
        "outputId": "f069e35a-3ce7-4adf-a390-68325a8f628f"
      },
      "source": [
        "select(sql)"
      ],
      "execution_count": null,
      "outputs": [
        {
          "output_type": "execute_result",
          "data": {
            "text/html": [
              "<div>\n",
              "<style scoped>\n",
              "    .dataframe tbody tr th:only-of-type {\n",
              "        vertical-align: middle;\n",
              "    }\n",
              "\n",
              "    .dataframe tbody tr th {\n",
              "        vertical-align: top;\n",
              "    }\n",
              "\n",
              "    .dataframe thead th {\n",
              "        text-align: right;\n",
              "    }\n",
              "</style>\n",
              "<table border=\"1\" class=\"dataframe\">\n",
              "  <thead>\n",
              "    <tr style=\"text-align: right;\">\n",
              "      <th></th>\n",
              "      <th>date</th>\n",
              "      <th>client_id</th>\n",
              "      <th>segment_id</th>\n",
              "      <th>start_date</th>\n",
              "    </tr>\n",
              "  </thead>\n",
              "  <tbody>\n",
              "    <tr>\n",
              "      <th>0</th>\n",
              "      <td>2018-03-31</td>\n",
              "      <td>A11111</td>\n",
              "      <td>1</td>\n",
              "      <td>2018-03-01</td>\n",
              "    </tr>\n",
              "    <tr>\n",
              "      <th>1</th>\n",
              "      <td>2018-04-30</td>\n",
              "      <td>A11111</td>\n",
              "      <td>1</td>\n",
              "      <td>2018-04-01</td>\n",
              "    </tr>\n",
              "    <tr>\n",
              "      <th>2</th>\n",
              "      <td>2018-01-31</td>\n",
              "      <td>A11111</td>\n",
              "      <td>2</td>\n",
              "      <td>2018-01-01</td>\n",
              "    </tr>\n",
              "    <tr>\n",
              "      <th>3</th>\n",
              "      <td>2018-02-28</td>\n",
              "      <td>A11111</td>\n",
              "      <td>2</td>\n",
              "      <td>2018-02-01</td>\n",
              "    </tr>\n",
              "    <tr>\n",
              "      <th>4</th>\n",
              "      <td>2017-10-31</td>\n",
              "      <td>B22222</td>\n",
              "      <td>1</td>\n",
              "      <td>2017-10-01</td>\n",
              "    </tr>\n",
              "    <tr>\n",
              "      <th>5</th>\n",
              "      <td>2017-11-30</td>\n",
              "      <td>B22222</td>\n",
              "      <td>1</td>\n",
              "      <td>2017-11-01</td>\n",
              "    </tr>\n",
              "    <tr>\n",
              "      <th>6</th>\n",
              "      <td>2017-09-30</td>\n",
              "      <td>B22222</td>\n",
              "      <td>3</td>\n",
              "      <td>2017-09-01</td>\n",
              "    </tr>\n",
              "    <tr>\n",
              "      <th>7</th>\n",
              "      <td>2017-09-30</td>\n",
              "      <td>C33333</td>\n",
              "      <td>1</td>\n",
              "      <td>2017-09-01</td>\n",
              "    </tr>\n",
              "    <tr>\n",
              "      <th>8</th>\n",
              "      <td>2017-10-31</td>\n",
              "      <td>C33333</td>\n",
              "      <td>1</td>\n",
              "      <td>2017-10-01</td>\n",
              "    </tr>\n",
              "  </tbody>\n",
              "</table>\n",
              "</div>"
            ],
            "text/plain": [
              "         date client_id  segment_id  start_date\n",
              "0  2018-03-31    A11111           1  2018-03-01\n",
              "1  2018-04-30    A11111           1  2018-04-01\n",
              "2  2018-01-31    A11111           2  2018-01-01\n",
              "3  2018-02-28    A11111           2  2018-02-01\n",
              "4  2017-10-31    B22222           1  2017-10-01\n",
              "5  2017-11-30    B22222           1  2017-11-01\n",
              "6  2017-09-30    B22222           3  2017-09-01\n",
              "7  2017-09-30    C33333           1  2017-09-01\n",
              "8  2017-10-31    C33333           1  2017-10-01"
            ]
          },
          "metadata": {
            "tags": []
          },
          "execution_count": 155
        }
      ]
    },
    {
      "cell_type": "code",
      "metadata": {
        "id": "gOF36isIm44g"
      },
      "source": [
        "sql = '''\n",
        "select \n",
        "  s.client_id,\n",
        "  s.segment_id,\n",
        "  min(date(s.date,'start of month')) as start_date,\n",
        "  max(s.date) as end_date\n",
        "from segment s\n",
        "group by s.client_id, s.segment_id'''"
      ],
      "execution_count": null,
      "outputs": []
    },
    {
      "cell_type": "code",
      "metadata": {
        "colab": {
          "base_uri": "https://localhost:8080/",
          "height": 204
        },
        "id": "D5fYcFL8nJ9M",
        "outputId": "05bb1d33-62e2-4e96-b7a9-3b81db097f8f"
      },
      "source": [
        "select(sql)"
      ],
      "execution_count": null,
      "outputs": [
        {
          "output_type": "execute_result",
          "data": {
            "text/html": [
              "<div>\n",
              "<style scoped>\n",
              "    .dataframe tbody tr th:only-of-type {\n",
              "        vertical-align: middle;\n",
              "    }\n",
              "\n",
              "    .dataframe tbody tr th {\n",
              "        vertical-align: top;\n",
              "    }\n",
              "\n",
              "    .dataframe thead th {\n",
              "        text-align: right;\n",
              "    }\n",
              "</style>\n",
              "<table border=\"1\" class=\"dataframe\">\n",
              "  <thead>\n",
              "    <tr style=\"text-align: right;\">\n",
              "      <th></th>\n",
              "      <th>client_id</th>\n",
              "      <th>segment_id</th>\n",
              "      <th>start_date</th>\n",
              "      <th>end_date</th>\n",
              "    </tr>\n",
              "  </thead>\n",
              "  <tbody>\n",
              "    <tr>\n",
              "      <th>0</th>\n",
              "      <td>A11111</td>\n",
              "      <td>1</td>\n",
              "      <td>2018-03-01</td>\n",
              "      <td>2018-04-30</td>\n",
              "    </tr>\n",
              "    <tr>\n",
              "      <th>1</th>\n",
              "      <td>A11111</td>\n",
              "      <td>2</td>\n",
              "      <td>2018-01-01</td>\n",
              "      <td>2018-02-28</td>\n",
              "    </tr>\n",
              "    <tr>\n",
              "      <th>2</th>\n",
              "      <td>B22222</td>\n",
              "      <td>1</td>\n",
              "      <td>2017-10-01</td>\n",
              "      <td>2017-11-30</td>\n",
              "    </tr>\n",
              "    <tr>\n",
              "      <th>3</th>\n",
              "      <td>B22222</td>\n",
              "      <td>3</td>\n",
              "      <td>2017-09-01</td>\n",
              "      <td>2017-09-30</td>\n",
              "    </tr>\n",
              "    <tr>\n",
              "      <th>4</th>\n",
              "      <td>C33333</td>\n",
              "      <td>1</td>\n",
              "      <td>2017-09-01</td>\n",
              "      <td>2017-10-31</td>\n",
              "    </tr>\n",
              "  </tbody>\n",
              "</table>\n",
              "</div>"
            ],
            "text/plain": [
              "  client_id  segment_id  start_date    end_date\n",
              "0    A11111           1  2018-03-01  2018-04-30\n",
              "1    A11111           2  2018-01-01  2018-02-28\n",
              "2    B22222           1  2017-10-01  2017-11-30\n",
              "3    B22222           3  2017-09-01  2017-09-30\n",
              "4    C33333           1  2017-09-01  2017-10-31"
            ]
          },
          "metadata": {
            "tags": []
          },
          "execution_count": 164
        }
      ]
    },
    {
      "cell_type": "markdown",
      "metadata": {
        "id": "l4TMT5Win0_t"
      },
      "source": [
        "Проверим:"
      ]
    },
    {
      "cell_type": "code",
      "metadata": {
        "id": "Bh7cpSsFn2X4"
      },
      "source": [
        "sql = '''select s.* from segment s'''"
      ],
      "execution_count": null,
      "outputs": []
    },
    {
      "cell_type": "code",
      "metadata": {
        "colab": {
          "base_uri": "https://localhost:8080/",
          "height": 328
        },
        "id": "dr8F0xNFn5sc",
        "outputId": "6c9d5fe2-1d16-4a1a-c08d-d429cc5c9a25"
      },
      "source": [
        "select(sql)"
      ],
      "execution_count": null,
      "outputs": [
        {
          "output_type": "execute_result",
          "data": {
            "text/html": [
              "<div>\n",
              "<style scoped>\n",
              "    .dataframe tbody tr th:only-of-type {\n",
              "        vertical-align: middle;\n",
              "    }\n",
              "\n",
              "    .dataframe tbody tr th {\n",
              "        vertical-align: top;\n",
              "    }\n",
              "\n",
              "    .dataframe thead th {\n",
              "        text-align: right;\n",
              "    }\n",
              "</style>\n",
              "<table border=\"1\" class=\"dataframe\">\n",
              "  <thead>\n",
              "    <tr style=\"text-align: right;\">\n",
              "      <th></th>\n",
              "      <th>date</th>\n",
              "      <th>client_id</th>\n",
              "      <th>segment_id</th>\n",
              "    </tr>\n",
              "  </thead>\n",
              "  <tbody>\n",
              "    <tr>\n",
              "      <th>0</th>\n",
              "      <td>2018-01-31</td>\n",
              "      <td>A11111</td>\n",
              "      <td>2</td>\n",
              "    </tr>\n",
              "    <tr>\n",
              "      <th>1</th>\n",
              "      <td>2018-02-28</td>\n",
              "      <td>A11111</td>\n",
              "      <td>2</td>\n",
              "    </tr>\n",
              "    <tr>\n",
              "      <th>2</th>\n",
              "      <td>2018-03-31</td>\n",
              "      <td>A11111</td>\n",
              "      <td>1</td>\n",
              "    </tr>\n",
              "    <tr>\n",
              "      <th>3</th>\n",
              "      <td>2018-04-30</td>\n",
              "      <td>A11111</td>\n",
              "      <td>1</td>\n",
              "    </tr>\n",
              "    <tr>\n",
              "      <th>4</th>\n",
              "      <td>2017-11-30</td>\n",
              "      <td>B22222</td>\n",
              "      <td>1</td>\n",
              "    </tr>\n",
              "    <tr>\n",
              "      <th>5</th>\n",
              "      <td>2017-10-31</td>\n",
              "      <td>B22222</td>\n",
              "      <td>1</td>\n",
              "    </tr>\n",
              "    <tr>\n",
              "      <th>6</th>\n",
              "      <td>2017-09-30</td>\n",
              "      <td>B22222</td>\n",
              "      <td>3</td>\n",
              "    </tr>\n",
              "    <tr>\n",
              "      <th>7</th>\n",
              "      <td>2017-09-30</td>\n",
              "      <td>C33333</td>\n",
              "      <td>1</td>\n",
              "    </tr>\n",
              "    <tr>\n",
              "      <th>8</th>\n",
              "      <td>2017-10-31</td>\n",
              "      <td>C33333</td>\n",
              "      <td>1</td>\n",
              "    </tr>\n",
              "  </tbody>\n",
              "</table>\n",
              "</div>"
            ],
            "text/plain": [
              "         date client_id  segment_id\n",
              "0  2018-01-31    A11111           2\n",
              "1  2018-02-28    A11111           2\n",
              "2  2018-03-31    A11111           1\n",
              "3  2018-04-30    A11111           1\n",
              "4  2017-11-30    B22222           1\n",
              "5  2017-10-31    B22222           1\n",
              "6  2017-09-30    B22222           3\n",
              "7  2017-09-30    C33333           1\n",
              "8  2017-10-31    C33333           1"
            ]
          },
          "metadata": {
            "tags": []
          },
          "execution_count": 166
        }
      ]
    },
    {
      "cell_type": "markdown",
      "metadata": {
        "id": "F-7xlOQzoGco"
      },
      "source": [
        "###Ответ\n",
        "Все верно, ответ получен"
      ]
    }
  ]
}